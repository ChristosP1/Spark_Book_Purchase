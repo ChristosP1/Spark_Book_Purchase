{
  "nbformat": 4,
  "nbformat_minor": 0,
  "metadata": {
    "colab": {
      "provenance": []
    },
    "kernelspec": {
      "name": "python3",
      "display_name": "Python 3"
    },
    "language_info": {
      "name": "python"
    }
  },
  "cells": [
    {
      "cell_type": "code",
      "execution_count": 1,
      "metadata": {
        "colab": {
          "base_uri": "https://localhost:8080/"
        },
        "id": "m7WzeNpiSZog",
        "outputId": "1d561a80-5b75-4ab5-8552-9a5e3c5bb251"
      },
      "outputs": [
        {
          "output_type": "stream",
          "name": "stdout",
          "text": [
            "Requirement already satisfied: pyspark in /usr/local/lib/python3.10/dist-packages (3.5.1)\n",
            "Requirement already satisfied: py4j==0.10.9.7 in /usr/local/lib/python3.10/dist-packages (from pyspark) (0.10.9.7)\n",
            "openjdk-8-jdk-headless is already the newest version (8u412-ga-1~22.04.1).\n",
            "0 upgraded, 0 newly installed, 0 to remove and 45 not upgraded.\n",
            "Requirement already satisfied: kneed in /usr/local/lib/python3.10/dist-packages (0.8.5)\n",
            "Requirement already satisfied: numpy>=1.14.2 in /usr/local/lib/python3.10/dist-packages (from kneed) (1.25.2)\n",
            "Requirement already satisfied: scipy>=1.0.0 in /usr/local/lib/python3.10/dist-packages (from kneed) (1.11.4)\n"
          ]
        }
      ],
      "source": [
        "!pip install pyspark\n",
        "!pip install -U -q PyDrive\n",
        "!apt install openjdk-8-jdk-headless -qq\n",
        "!pip install kneed\n",
        "\n",
        "# Set Environment Variables\n",
        "import os\n",
        "os.environ[\"JAVA_HOME\"] = \"/usr/lib/jvm/java-8-openjdk-amd64\""
      ]
    },
    {
      "cell_type": "code",
      "source": [
        "import pyspark\n",
        "from pyspark import SparkConf\n",
        "from pyspark.sql import SparkSession, Row, types as T\n",
        "from pyspark.sql.functions import col, split, regexp_replace, collect_list, hash as spark_hash, concat_ws, when, abs, explode, desc, size\n",
        "from pyspark.sql.types import ArrayType, StructType, StructField, StringType, LongType, DoubleType, IntegerType\n",
        "from pyspark.sql.functions import udf\n",
        "import numpy as np\n",
        "from collections import Counter\n",
        "from random import shuffle\n",
        "from pyspark.ml.linalg import Vectors\n",
        "from pyspark.ml.feature import MinHashLSH\n",
        "import pandas as pd\n",
        "from pyspark.sql import functions as F\n",
        "from pyspark.sql.window import Window"
      ],
      "metadata": {
        "id": "BjIeDM0_Sb0L"
      },
      "execution_count": 2,
      "outputs": []
    },
    {
      "cell_type": "code",
      "source": [
        "def create_session():\n",
        "    # create the session\n",
        "    conf = SparkConf()\n",
        "    conf.setAppName(\"DIS-lab-1\")    # Sets name of the Spark Application\n",
        "    conf.setMaster(\"local[16]\")    # Master URL. In this case local[*] uses all the available cores in the machine\n",
        "    conf.set(\"spark.driver.memory\", \"10G\")   # Memory allocated to driver process\n",
        "    conf.set(\"spark.driver.maxResultSize\", \"6G\")    # Maximum size of results that can be returned to driver\n",
        "    conf.set(\"spark.executor.instances\", \"4\")\n",
        "    conf.set(\"spark.executor.cores\", \"4\")\n",
        "    conf.set(\"spark.executor.memory\", \"4G\")    # Memory allocated to each executor\n",
        "    conf.set(\"spark.network.timeout\", \"600s\")  # Increase network timeout\n",
        "    conf.set(\"spark.executor.heartbeatInterval\", \"60s\")  # Increase heartbeat interval\n",
        "    conf.set(\"spark.rpc.message.maxSize\", \"512\")  # Increase max message size\n",
        "    conf.set(\"spark.driver.maxResultSize\", \"4G\")  # Increase driver max result size\n",
        "    conf.set(\"spark.sql.broadcastTimeout\", \"600\")  # Increase broadcast timeout\n",
        "    conf.set(\"spark.sql.shuffle.partitions\", \"200\")  # Increase the number of shuffle partitions\n",
        "    conf.set(\"spark.yarn.executor.memoryOverhead\", \"2048\")  # Increase memory overhead\n",
        "    conf.set(\"spark.memory.offHeap.enabled\",\"true\")\n",
        "    conf.set(\"spark.memory.offHeap.size\",\"10g\")\n",
        "    conf.set(\"spark.jars.packages\", \"graphframes:graphframes:0.8.2-spark3.0-s_2.12\")  # Add GraphFrames to the spark configuration\n",
        "    conf.set(\"spark.hadoop.fs.file.impl\", \"org.apache.hadoop.fs.LocalFileSystem\")  # Ensure local file system is used for checkpointing\n",
        "\n",
        "    sc = pyspark.SparkContext(conf=conf)    # Initializes the Spark context with this specific configuration\n",
        "    spark = SparkSession.builder.config(conf=sc.getConf()).getOrCreate()    # Creates Spark session\n",
        "\n",
        "    # Set checkpoint directory\n",
        "    sc.setCheckpointDir(\"checkpoints\")\n",
        "\n",
        "    return sc, spark\n",
        "\n",
        "try:\n",
        "    if 'sc' in globals() and sc is not None:\n",
        "        sc.stop()\n",
        "        print(\"--Stopped existing SparkContext\")\n",
        "    if 'spark' in globals() and isinstance(spark, SparkSession):\n",
        "        spark.stop()\n",
        "        print(\"--Stopped existing SparkSession\")\n",
        "except Exception as e:\n",
        "    print(f\"Error stopping existing Spark session or context: {e}\")\n",
        "\n",
        "# Create a new Spark session\n",
        "sc, spark = create_session()\n",
        "print(\"Spark session created successfully!\")\n",
        "spark"
      ],
      "metadata": {
        "colab": {
          "base_uri": "https://localhost:8080/",
          "height": 237
        },
        "id": "nxUPOJ_rSgeV",
        "outputId": "83918cf3-63bb-454d-f51d-c79a47907136"
      },
      "execution_count": 3,
      "outputs": [
        {
          "output_type": "stream",
          "name": "stdout",
          "text": [
            "Spark session created successfully!\n"
          ]
        },
        {
          "output_type": "execute_result",
          "data": {
            "text/plain": [
              "<pyspark.sql.session.SparkSession at 0x7bc90af8bdf0>"
            ],
            "text/html": [
              "\n",
              "            <div>\n",
              "                <p><b>SparkSession - in-memory</b></p>\n",
              "                \n",
              "        <div>\n",
              "            <p><b>SparkContext</b></p>\n",
              "\n",
              "            <p><a href=\"http://dfba5f13f71d:4040\">Spark UI</a></p>\n",
              "\n",
              "            <dl>\n",
              "              <dt>Version</dt>\n",
              "                <dd><code>v3.5.1</code></dd>\n",
              "              <dt>Master</dt>\n",
              "                <dd><code>local[16]</code></dd>\n",
              "              <dt>AppName</dt>\n",
              "                <dd><code>DIS-lab-1</code></dd>\n",
              "            </dl>\n",
              "        </div>\n",
              "        \n",
              "            </div>\n",
              "        "
            ]
          },
          "metadata": {},
          "execution_count": 3
        }
      ]
    },
    {
      "cell_type": "code",
      "source": [
        "logs = spark.read.csv('kept_users.csv', header=True, inferSchema=True)\n",
        "logs = logs.dropDuplicates(['process_id'])\n",
        "logs = logs.drop(*['to_servers', 'actions'])"
      ],
      "metadata": {
        "id": "FQ87-30FSl4M"
      },
      "execution_count": 4,
      "outputs": []
    },
    {
      "cell_type": "code",
      "source": [
        "logs.limit(5).show(truncate=False)"
      ],
      "metadata": {
        "colab": {
          "base_uri": "https://localhost:8080/"
        },
        "id": "TAvLF3kSTrK1",
        "outputId": "16c0c148-c046-4dfb-a00e-794538fb263c"
      },
      "execution_count": 5,
      "outputs": [
        {
          "output_type": "stream",
          "name": "stdout",
          "text": [
            "+----------+--------------------------------------------------------------------------------------------------------------------------------------------------------------------------------------------------------------------------------------------------------------------------------------------------------------------------------------------------------------------------------------------------------------------------------------------------------------------------------------------------------------------------------------------------------------------------------------------------------------------------------------------------------------------------+-----------------------------------------------------------------------------------------------------------------+\n",
            "|process_id|from_servers                                                                                                                                                                                                                                                                                                                                                                                                                                                                                                                                                                                                                                                              |times                                                                                                            |\n",
            "+----------+--------------------------------------------------------------------------------------------------------------------------------------------------------------------------------------------------------------------------------------------------------------------------------------------------------------------------------------------------------------------------------------------------------------------------------------------------------------------------------------------------------------------------------------------------------------------------------------------------------------------------------------------------------------------------+-----------------------------------------------------------------------------------------------------------------+\n",
            "|1         |[ad_server_1,automatic_response_server_4,book_availability_server_3,bundle_offer_server_2,card_check_server_7,currency_conversion_server_3,customer_support_server_9,discount_server_1,express_delivery_server_1,external_inventory_server_2,fraud_check_visa_server_1,gift_wrap_server_1,inventory_update_server_16,limit_check_visa_server_4,purchase_book_server_5,review_analysis_server_2,review_server_3,review_verification_server_1,seasonal_adjustments_server_1,second_hand_market_server_2,shipping_insurance_server_1,shipping_options_server_1,supplier_notification_server_2,ui_server_2,user,user_credentials_server_3,user_history_server_2,visa_server_4]|[674,661,407,445,462,523,694,389,537,411,520,391,562,510,383,653,626,635,602,438,531,527,576,375,372,448,456,480]|\n",
            "|6         |[book_availability_server_2,card_check_server_5,currency_conversion_server_2,inventory_update_server_1,mastercard_server_2,purchase_book_server_2,review_server_4,seasonal_adjustments_server_2,shipping_options_server_1,ui_server_8,user,user_credentials_server_3]                                                                                                                                                                                                                                                                                                                                                                                                     |[143,154,172,209,169,130,260,239,180,126,120,145]                                                                |\n",
            "|8         |[book_availability_server_4,card_check_server_10,currency_conversion_server_2,fraud_check_mastercard_server_4,inventory_update_server_12,mastercard_server_3,purchase_book_server_1,review_server_4,shipping_options_server_1,ui_server_7,user,user_credentials_server_7]                                                                                                                                                                                                                                                                                                                                                                                                 |[756,768,796,795,823,786,739,849,800,731,726,758]                                                                |\n",
            "|9         |[book_availability_server_6,card_check_server_9,currency_conversion_server_1,inventory_update_server_8,mastercard_server_3,purchase_book_server_7,review_server_1,shipping_options_server_2,ui_server_11,user,user_credentials_server_7]                                                                                                                                                                                                                                                                                                                                                                                                                                  |[688,699,717,753,714,670,779,721,662,658,691]                                                                    |\n",
            "|11        |[book_availability_server_8,bundle_offer_server_1,card_check_server_8,currency_conversion_server_3,discount_server_1,external_inventory_server_1,fraud_check_visa_server_3,gift_wrap_server_1,inventory_update_server_5,limit_check_visa_server_13,purchase_book_server_10,review_server_2,second_hand_market_server_2,shipping_options_server_2,ui_server_15,user,user_credentials_server_6,user_history_server_3,visa_server_1]                                                                                                                                                                                                                                         |[949,982,1001,1050,931,957,1049,932,1077,1040,924,1098,977,1056,917,910,986,992,1014]                            |\n",
            "+----------+--------------------------------------------------------------------------------------------------------------------------------------------------------------------------------------------------------------------------------------------------------------------------------------------------------------------------------------------------------------------------------------------------------------------------------------------------------------------------------------------------------------------------------------------------------------------------------------------------------------------------------------------------------------------------+-----------------------------------------------------------------------------------------------------------------+\n",
            "\n"
          ]
        }
      ]
    },
    {
      "cell_type": "code",
      "source": [
        "# Remove brackets\n",
        "logs = logs.withColumn('times', F.regexp_replace('times', r'[\\[\\]]', ''))\n",
        "\n",
        "# Split the times column, convert to integer\n",
        "logs = logs.withColumn('times_list',\n",
        "    F.expr(\"transform(split(times, ','), x -> int(trim(x)))\")\n",
        ")\n",
        "\n",
        "# Get total time taken\n",
        "logs = logs.withColumn('sum_times', F.expr(\"aggregate(times_list, 0, (acc, x) -> acc + x)\"))\n",
        "\n",
        "# Get average time taken for each server\n",
        "logs = logs.withColumn('avg_times', F.expr(\"sum_times / size(times_list)\"))\n",
        "\n",
        "logs = logs.drop(*['times', 'times_list'])"
      ],
      "metadata": {
        "id": "hEQT0VAYYYkQ"
      },
      "execution_count": 6,
      "outputs": []
    },
    {
      "cell_type": "code",
      "source": [
        "logs.limit(5).show(truncate=False)"
      ],
      "metadata": {
        "colab": {
          "base_uri": "https://localhost:8080/"
        },
        "id": "pvBvXzALcLVu",
        "outputId": "2be1d372-cc20-4e54-a264-94cefb84a8c8"
      },
      "execution_count": 7,
      "outputs": [
        {
          "output_type": "stream",
          "name": "stdout",
          "text": [
            "+----------+--------------------------------------------------------------------------------------------------------------------------------------------------------------------------------------------------------------------------------------------------------------------------------------------------------------------------------------------------------------------------------------------------------------------------------------------------------------------------------------------------------------------------------------------------------------------------------------------------------------------------------------------------------------------------+---------+------------------+\n",
            "|process_id|from_servers                                                                                                                                                                                                                                                                                                                                                                                                                                                                                                                                                                                                                                                              |sum_times|avg_times         |\n",
            "+----------+--------------------------------------------------------------------------------------------------------------------------------------------------------------------------------------------------------------------------------------------------------------------------------------------------------------------------------------------------------------------------------------------------------------------------------------------------------------------------------------------------------------------------------------------------------------------------------------------------------------------------------------------------------------------------+---------+------------------+\n",
            "|1         |[ad_server_1,automatic_response_server_4,book_availability_server_3,bundle_offer_server_2,card_check_server_7,currency_conversion_server_3,customer_support_server_9,discount_server_1,express_delivery_server_1,external_inventory_server_2,fraud_check_visa_server_1,gift_wrap_server_1,inventory_update_server_16,limit_check_visa_server_4,purchase_book_server_5,review_analysis_server_2,review_server_3,review_verification_server_1,seasonal_adjustments_server_1,second_hand_market_server_2,shipping_insurance_server_1,shipping_options_server_1,supplier_notification_server_2,ui_server_2,user,user_credentials_server_3,user_history_server_2,visa_server_4]|14288    |510.2857142857143 |\n",
            "|6         |[book_availability_server_2,card_check_server_5,currency_conversion_server_2,inventory_update_server_1,mastercard_server_2,purchase_book_server_2,review_server_4,seasonal_adjustments_server_2,shipping_options_server_1,ui_server_8,user,user_credentials_server_3]                                                                                                                                                                                                                                                                                                                                                                                                     |2047     |170.58333333333334|\n",
            "|8         |[book_availability_server_4,card_check_server_10,currency_conversion_server_2,fraud_check_mastercard_server_4,inventory_update_server_12,mastercard_server_3,purchase_book_server_1,review_server_4,shipping_options_server_1,ui_server_7,user,user_credentials_server_7]                                                                                                                                                                                                                                                                                                                                                                                                 |9327     |777.25            |\n",
            "|9         |[book_availability_server_6,card_check_server_9,currency_conversion_server_1,inventory_update_server_8,mastercard_server_3,purchase_book_server_7,review_server_1,shipping_options_server_2,ui_server_11,user,user_credentials_server_7]                                                                                                                                                                                                                                                                                                                                                                                                                                  |7752     |704.7272727272727 |\n",
            "|11        |[book_availability_server_8,bundle_offer_server_1,card_check_server_8,currency_conversion_server_3,discount_server_1,external_inventory_server_1,fraud_check_visa_server_3,gift_wrap_server_1,inventory_update_server_5,limit_check_visa_server_13,purchase_book_server_10,review_server_2,second_hand_market_server_2,shipping_options_server_2,ui_server_15,user,user_credentials_server_6,user_history_server_3,visa_server_1]                                                                                                                                                                                                                                         |18842    |991.6842105263158 |\n",
            "+----------+--------------------------------------------------------------------------------------------------------------------------------------------------------------------------------------------------------------------------------------------------------------------------------------------------------------------------------------------------------------------------------------------------------------------------------------------------------------------------------------------------------------------------------------------------------------------------------------------------------------------------------------------------------------------------+---------+------------------+\n",
            "\n"
          ]
        }
      ]
    },
    {
      "cell_type": "code",
      "source": [
        "# Remove brackets, split the from_servers string by comma and trim spaces\n",
        "logs = logs.withColumn('from_servers', F.regexp_replace('from_servers', r'[\\[\\]]', ''))\n",
        "logs = logs.withColumn('servers_list', F.split(F.trim(F.col('from_servers')), ',\\s*'))\n",
        "logs = logs.drop('from_servers')\n",
        "\n",
        "# Get server hops\n",
        "logs = logs.withColumn('server_hops', F.size(F.col('servers_list')))\n",
        "\n",
        "\"\"\"\n",
        "# Get unique server names\n",
        "unique_servers = logs.select(F.explode('servers_list').alias('server')).distinct()\n",
        "\n",
        "# Pivot to create one-hot encoded columns for servers\n",
        "logs = logs.join(unique_servers, F.array_contains(logs['servers_list'], unique_servers['server']), 'left_outer') \\\n",
        "           .groupBy(logs.columns) \\\n",
        "           .pivot('server') \\\n",
        "           .agg(F.lit(1).alias('dummy')) \\\n",
        "           .na.fill(0)\n",
        "\"\"\"\n",
        "\n",
        "# Remove numbers to get base server names, filter out base servers that are also in servers_list\n",
        "logs = logs.withColumn('base_servers_list', F.expr(\"transform(servers_list, x -> regexp_replace(x, '[0-9]+', ''))\"))\n",
        "logs = logs.withColumn('base_servers_list', F.array_except('base_servers_list', 'servers_list'))\n",
        "logs = logs.drop('servers_list')\n",
        "\n",
        "# Get unique base server names\n",
        "unique_base_servers = logs.select(F.explode('base_servers_list').alias('base_server')).distinct()\n",
        "\n",
        "# Pivot to create one-hot encoded columns for base servers\n",
        "logs = logs.join(unique_base_servers, F.array_contains(logs['base_servers_list'], unique_base_servers['base_server']), 'left_outer') \\\n",
        "           .groupBy(logs.columns) \\\n",
        "           .pivot('base_server') \\\n",
        "           .agg(F.lit(1).alias('dummy')) \\\n",
        "           .na.fill(0)\n",
        "\n",
        "logs = logs.drop('base_servers_list')"
      ],
      "metadata": {
        "id": "enX8h6XBakCU"
      },
      "execution_count": 8,
      "outputs": []
    },
    {
      "cell_type": "code",
      "source": [
        "logs.show(truncate=False)"
      ],
      "metadata": {
        "colab": {
          "base_uri": "https://localhost:8080/"
        },
        "id": "bf_hqkNzBd_5",
        "outputId": "44b822b9-84a7-4dfe-ba3c-b14add796b3e"
      },
      "execution_count": 9,
      "outputs": [
        {
          "output_type": "stream",
          "name": "stdout",
          "text": [
            "+----------+---------+------------------+-----------+----------+--------------------------+-------------------------+--------------------+------------------+---------------------------+-------------------------------+------------------------+----------------+------------------------+--------------------------+------------------------------+------------------------+-----------------+------------------------+------------------------------+------------------------+------------------+---------------------+-----------------------+--------------+---------------------------+----------------------------+--------------------------+--------------------------+------------------------+-----------------------------+----------+------------------------+--------------------+------------+\n",
            "|process_id|sum_times|avg_times         |server_hops|ad_server_|automatic_response_server_|book_availability_server_|bundle_offer_server_|card_check_server_|currency_conversion_server_|customer_history_access_server_|customer_support_server_|discount_server_|express_delivery_server_|external_inventory_server_|fraud_check_mastercard_server_|fraud_check_visa_server_|gift_wrap_server_|inventory_update_server_|limit_check_mastercard_server_|limit_check_visa_server_|mastercard_server_|purchase_book_server_|review_analysis_server_|review_server_|review_verification_server_|seasonal_adjustments_server_|second_hand_market_server_|shipping_insurance_server_|shipping_options_server_|supplier_notification_server_|ui_server_|user_credentials_server_|user_history_server_|visa_server_|\n",
            "+----------+---------+------------------+-----------+----------+--------------------------+-------------------------+--------------------+------------------+---------------------------+-------------------------------+------------------------+----------------+------------------------+--------------------------+------------------------------+------------------------+-----------------+------------------------+------------------------------+------------------------+------------------+---------------------+-----------------------+--------------+---------------------------+----------------------------+--------------------------+--------------------------+------------------------+-----------------------------+----------+------------------------+--------------------+------------+\n",
            "|1         |14288    |510.2857142857143 |28         |1         |1                         |1                        |1                   |1                 |1                          |0                              |1                       |1               |1                       |1                         |0                             |1                       |1                |1                       |0                             |1                       |0                 |1                    |1                      |1             |1                          |1                           |1                         |1                         |1                       |1                            |1         |1                       |1                   |1           |\n",
            "|6         |2047     |170.58333333333334|12         |0         |0                         |1                        |0                   |1                 |1                          |0                              |0                       |0               |0                       |0                         |0                             |0                       |0                |1                       |0                             |0                       |1                 |1                    |0                      |1             |0                          |1                           |0                         |0                         |1                       |0                            |1         |1                       |0                   |0           |\n",
            "|8         |9327     |777.25            |12         |0         |0                         |1                        |0                   |1                 |1                          |0                              |0                       |0               |0                       |0                         |1                             |0                       |0                |1                       |0                             |0                       |1                 |1                    |0                      |1             |0                          |0                           |0                         |0                         |1                       |0                            |1         |1                       |0                   |0           |\n",
            "|9         |7752     |704.7272727272727 |11         |0         |0                         |1                        |0                   |1                 |1                          |0                              |0                       |0               |0                       |0                         |0                             |0                       |0                |1                       |0                             |0                       |1                 |1                    |0                      |1             |0                          |0                           |0                         |0                         |1                       |0                            |1         |1                       |0                   |0           |\n",
            "|11        |18842    |991.6842105263158 |19         |0         |0                         |1                        |1                   |1                 |1                          |0                              |0                       |1               |0                       |1                         |0                             |1                       |1                |1                       |0                             |1                       |0                 |1                    |0                      |1             |0                          |0                           |1                         |0                         |1                       |0                            |1         |1                       |1                   |1           |\n",
            "|12        |5655     |282.75            |20         |0         |0                         |1                        |1                   |1                 |1                          |0                              |0                       |1               |0                       |1                         |0                             |1                       |1                |1                       |0                             |1                       |0                 |1                    |0                      |1             |0                          |1                           |1                         |0                         |1                       |0                            |1         |1                       |1                   |1           |\n",
            "|13        |4640     |232.0             |20         |0         |1                         |1                        |1                   |1                 |1                          |0                              |0                       |1               |0                       |1                         |0                             |1                       |1                |1                       |0                             |1                       |0                 |1                    |0                      |1             |0                          |0                           |1                         |0                         |1                       |0                            |1         |1                       |1                   |1           |\n",
            "|15        |15016    |790.3157894736842 |19         |0         |0                         |1                        |1                   |1                 |1                          |0                              |0                       |1               |0                       |1                         |0                             |1                       |1                |1                       |0                             |1                       |0                 |1                    |0                      |1             |0                          |0                           |1                         |0                         |1                       |0                            |1         |1                       |1                   |1           |\n",
            "|16        |10353    |450.1304347826087 |23         |1         |1                         |1                        |0                   |1                 |1                          |1                              |1                       |0               |1                       |0                         |1                             |0                       |0                |1                       |1                             |0                       |1                 |1                    |1                      |1             |1                          |1                           |0                         |1                         |1                       |1                            |1         |1                       |0                   |0           |\n",
            "+----------+---------+------------------+-----------+----------+--------------------------+-------------------------+--------------------+------------------+---------------------------+-------------------------------+------------------------+----------------+------------------------+--------------------------+------------------------------+------------------------+-----------------+------------------------+------------------------------+------------------------+------------------+---------------------+-----------------------+--------------+---------------------------+----------------------------+--------------------------+--------------------------+------------------------+-----------------------------+----------+------------------------+--------------------+------------+\n",
            "\n"
          ]
        }
      ]
    },
    {
      "cell_type": "code",
      "source": [
        "from pyspark.ml.feature import VectorAssembler, MinMaxScaler#, StandardScaler, RobustScaler\n",
        "\n",
        "# Scale features\n",
        "assembler = VectorAssembler(inputCols=['sum_times', 'avg_times', 'server_hops'], outputCol='features_to_scale')\n",
        "feature_logs = assembler.transform(logs)\n",
        "scaler = MinMaxScaler(inputCol='features_to_scale', outputCol='scaled_features')\n",
        "scaler_model = scaler.fit(feature_logs)\n",
        "feature_logs = scaler_model.transform(feature_logs)\n",
        "\"\"\"\n",
        "scaler = StandardScaler(inputCol='features_to_scale', outputCol='scaled_features', withMean=True, withStd=True)\n",
        "scaler_model = scaler.fit(feature_logs)\n",
        "feature_logs = scaler_model.transform(feature_logs)\n",
        "scaler = RobustScaler(inputCol='features_to_scale', outputCol='scaled_features')\n",
        "scaler_model = scaler.fit(feature_logs)\n",
        "feature_logs = scaler_model.transform(feature_logs)\n",
        "\"\"\"\n",
        "feature_logs = feature_logs.drop(*['sum_times', 'avg_times', 'server_hops', 'features_to_scale'])\n",
        "\n",
        "# Assemble features into a single vector column\n",
        "assembler = VectorAssembler(inputCols=[col for col in feature_logs.columns if col != 'process_id'], outputCol='features')\n",
        "feature_logs = assembler.transform(feature_logs)"
      ],
      "metadata": {
        "id": "420x15Hs0WzP"
      },
      "execution_count": 10,
      "outputs": []
    },
    {
      "cell_type": "code",
      "source": [
        "feature_logs.show(truncate=False)"
      ],
      "metadata": {
        "colab": {
          "base_uri": "https://localhost:8080/"
        },
        "id": "1jEHn8Dz1N3B",
        "outputId": "d2d2800d-dba7-4d9a-91ea-71014f26b825"
      },
      "execution_count": 11,
      "outputs": [
        {
          "output_type": "stream",
          "name": "stdout",
          "text": [
            "+----------+----------+--------------------------+-------------------------+--------------------+------------------+---------------------------+-------------------------------+------------------------+----------------+------------------------+--------------------------+------------------------------+------------------------+-----------------+------------------------+------------------------------+------------------------+------------------+---------------------+-----------------------+--------------+---------------------------+----------------------------+--------------------------+--------------------------+------------------------+-----------------------------+----------+------------------------+--------------------+------------+------------------------------------------------------------+---------------------------------------------------------------------------------------------------------------------------------------------------------------------------------------------------+\n",
            "|process_id|ad_server_|automatic_response_server_|book_availability_server_|bundle_offer_server_|card_check_server_|currency_conversion_server_|customer_history_access_server_|customer_support_server_|discount_server_|express_delivery_server_|external_inventory_server_|fraud_check_mastercard_server_|fraud_check_visa_server_|gift_wrap_server_|inventory_update_server_|limit_check_mastercard_server_|limit_check_visa_server_|mastercard_server_|purchase_book_server_|review_analysis_server_|review_server_|review_verification_server_|seasonal_adjustments_server_|second_hand_market_server_|shipping_insurance_server_|shipping_options_server_|supplier_notification_server_|ui_server_|user_credentials_server_|user_history_server_|visa_server_|scaled_features                                             |features                                                                                                                                                                                           |\n",
            "+----------+----------+--------------------------+-------------------------+--------------------+------------------+---------------------------+-------------------------------+------------------------+----------------+------------------------+--------------------------+------------------------------+------------------------+-----------------+------------------------+------------------------------+------------------------+------------------+---------------------+-----------------------+--------------+---------------------------+----------------------------+--------------------------+--------------------------+------------------------+-----------------------------+----------+------------------------+--------------------+------------+------------------------------------------------------------+---------------------------------------------------------------------------------------------------------------------------------------------------------------------------------------------------+\n",
            "|1         |1         |1                         |1                        |1                   |1                 |1                          |0                              |1                       |1               |1                       |1                         |0                             |1                       |1                |1                       |0                             |1                       |0                 |1                    |1                      |1             |1                          |1                           |1                         |1                         |1                       |1                            |1         |1                       |1                   |1           |[0.7288478713902947,0.4137157691436019,1.0]                 |[1.0,1.0,1.0,1.0,1.0,1.0,0.0,1.0,1.0,1.0,1.0,0.0,1.0,1.0,1.0,0.0,1.0,0.0,1.0,1.0,1.0,1.0,1.0,1.0,1.0,1.0,1.0,1.0,1.0,1.0,1.0,0.7288478713902947,0.4137157691436019,1.0]                            |\n",
            "|6         |0         |0                         |1                        |0                   |1                 |1                          |0                              |0                       |0               |0                       |0                         |0                             |0                       |0                |1                       |0                             |0                       |1                 |1                    |0                      |1             |0                          |1                           |0                         |0                         |1                       |0                            |1         |1                       |0                   |0           |[0.0,0.0,0.058823529411764705]                              |(34,[2,4,5,14,17,18,20,22,25,27,28,33],[1.0,1.0,1.0,1.0,1.0,1.0,1.0,1.0,1.0,1.0,1.0,0.058823529411764705])                                                                                         |\n",
            "|8         |0         |0                         |1                        |0                   |1                 |1                          |0                              |0                       |0               |0                       |0                         |1                             |0                       |0                |1                       |0                             |0                       |1                 |1                    |0                      |1             |0                          |0                           |0                         |0                         |1                       |0                            |1         |1                       |0                   |0           |[0.4334623399821375,0.7388454738236535,0.058823529411764705]|(34,[2,4,5,11,14,17,18,20,25,27,28,31,32,33],[1.0,1.0,1.0,1.0,1.0,1.0,1.0,1.0,1.0,1.0,1.0,0.4334623399821375,0.7388454738236535,0.058823529411764705])                                             |\n",
            "|9         |0         |0                         |1                        |0                   |1                 |1                          |0                              |0                       |0               |0                       |0                         |0                             |0                       |0                |1                       |0                             |0                       |1                 |1                    |0                      |1             |0                          |0                           |0                         |0                         |1                       |0                            |1         |1                       |0                   |0           |[0.33968442988984815,0.6505217010849692,0.0]                |(34,[2,4,5,14,17,18,20,25,27,28,31,32],[1.0,1.0,1.0,1.0,1.0,1.0,1.0,1.0,1.0,1.0,0.33968442988984815,0.6505217010849692])                                                                           |\n",
            "|11        |0         |0                         |1                        |1                   |1                 |1                          |0                              |0                       |1               |0                       |1                         |0                             |1                       |1                |1                       |0                             |1                       |0                 |1                    |0                      |1             |0                          |0                           |1                         |0                         |1                       |0                            |1         |1                       |1                   |1           |[1.0,1.0,0.47058823529411764]                               |(34,[2,3,4,5,8,10,12,13,14,16,18,20,23,25,27,28,29,30,31,32,33],[1.0,1.0,1.0,1.0,1.0,1.0,1.0,1.0,1.0,1.0,1.0,1.0,1.0,1.0,1.0,1.0,1.0,1.0,1.0,1.0,0.47058823529411764])                             |\n",
            "|12        |0         |0                         |1                        |1                   |1                 |1                          |0                              |0                       |1               |0                       |1                         |0                             |1                       |1                |1                       |0                             |1                       |0                 |1                    |0                      |1             |0                          |1                           |1                         |0                         |1                       |0                            |1         |1                       |1                   |1           |[0.2148258410241143,0.1366052208470656,0.5294117647058824]  |[0.0,0.0,1.0,1.0,1.0,1.0,0.0,0.0,1.0,0.0,1.0,0.0,1.0,1.0,1.0,0.0,1.0,0.0,1.0,0.0,1.0,0.0,1.0,1.0,0.0,1.0,0.0,1.0,1.0,1.0,1.0,0.2148258410241143,0.1366052208470656,0.5294117647058824]             |\n",
            "|13        |0         |1                         |1                        |1                   |1                 |1                          |0                              |0                       |1               |0                       |1                         |0                             |1                       |1                |1                       |0                             |1                       |0                 |1                    |0                      |1             |0                          |0                           |1                         |0                         |1                       |0                            |1         |1                       |1                   |1           |[0.15439118785352784,0.07479795524835613,0.5294117647058824]|[0.0,1.0,1.0,1.0,1.0,1.0,0.0,0.0,1.0,0.0,1.0,0.0,1.0,1.0,1.0,0.0,1.0,0.0,1.0,0.0,1.0,0.0,0.0,1.0,0.0,1.0,0.0,1.0,1.0,1.0,1.0,0.15439118785352784,0.07479795524835613,0.5294117647058824]           |\n",
            "|15        |0         |0                         |1                        |1                   |1                 |1                          |0                              |0                       |1               |0                       |1                         |0                             |1                       |1                |1                       |0                             |1                       |0                 |1                    |0                      |1             |0                          |0                           |1                         |0                         |1                       |0                            |1         |1                       |1                   |1           |[0.7721941053885085,0.754758000331177,0.47058823529411764]  |(34,[2,3,4,5,8,10,12,13,14,16,18,20,23,25,27,28,29,30,31,32,33],[1.0,1.0,1.0,1.0,1.0,1.0,1.0,1.0,1.0,1.0,1.0,1.0,1.0,1.0,1.0,1.0,1.0,1.0,0.7721941053885085,0.754758000331177,0.47058823529411764])|\n",
            "|16        |1         |1                         |1                        |0                   |1                 |1                          |1                              |1                       |0               |1                       |0                         |1                             |0                       |0                |1                       |1                             |0                       |1                 |1                    |1                      |1             |1                          |1                           |0                         |1                         |1                       |1                            |1         |1                       |0                   |0           |[0.4945519499851146,0.3404540285049211,0.7058823529411764]  |[1.0,1.0,1.0,0.0,1.0,1.0,1.0,1.0,0.0,1.0,0.0,1.0,0.0,0.0,1.0,1.0,0.0,1.0,1.0,1.0,1.0,1.0,1.0,0.0,1.0,1.0,1.0,1.0,1.0,0.0,0.0,0.4945519499851146,0.3404540285049211,0.7058823529411764]             |\n",
            "+----------+----------+--------------------------+-------------------------+--------------------+------------------+---------------------------+-------------------------------+------------------------+----------------+------------------------+--------------------------+------------------------------+------------------------+-----------------+------------------------+------------------------------+------------------------+------------------+---------------------+-----------------------+--------------+---------------------------+----------------------------+--------------------------+--------------------------+------------------------+-----------------------------+----------+------------------------+--------------------+------------+------------------------------------------------------------+---------------------------------------------------------------------------------------------------------------------------------------------------------------------------------------------------+\n",
            "\n"
          ]
        }
      ]
    },
    {
      "cell_type": "code",
      "source": [
        "from pyspark.ml.clustering import BisectingKMeans\n",
        "import matplotlib.pyplot as plt\n",
        "import numpy as np\n",
        "from kneed import KneeLocator\n",
        "\n",
        "# Define the range of k values to test\n",
        "batch_size = 10\n",
        "min_k = 2\n",
        "max_k = logs.count()\n",
        "# Ensure batch size of k for correct elbow method results\n",
        "k_values = list(range(min_k, max(max_k + 1, min_k + batch_size)))\n",
        "print(f'Search for k: {k_values}')\n",
        "wssse_values = []\n",
        "\n",
        "# Function to run the clustering in batches\n",
        "def run_batches(k_values, batch_size):\n",
        "    previous_optimal_k = None\n",
        "    while k_values:\n",
        "        batch_k = k_values[:batch_size]\n",
        "        k_values = k_values[batch_size:]\n",
        "\n",
        "        for k in batch_k:\n",
        "            kmeans = BisectingKMeans(k=k, seed=50)\n",
        "            model = kmeans.fit(feature_logs)\n",
        "            wssse = model.summary.trainingCost\n",
        "            wssse_values.append((k, wssse))\n",
        "\n",
        "        # Extract K and WSSSE values\n",
        "        k_vals, wssse_vals = zip(*wssse_values)\n",
        "\n",
        "        # Use the Kneedle algorithm to find the elbow point\n",
        "        kneedle = KneeLocator(k_vals, wssse_vals, curve='convex', direction='decreasing')\n",
        "        optimal_k = kneedle.knee\n",
        "\n",
        "        if optimal_k == previous_optimal_k:\n",
        "            break\n",
        "        previous_optimal_k = optimal_k\n",
        "\n",
        "    return optimal_k, k_vals, wssse_vals\n",
        "\n",
        "# Run the clustering in batches\n",
        "optimal_k, k_vals, wssse_vals = run_batches(k_values, batch_size)\n",
        "print(f'The optimal number of clusters is: {optimal_k}')\n",
        "\n",
        "# Plot the WSSSE values against the k values\n",
        "plt.figure(figsize=(8, 6))\n",
        "plt.plot(k_vals, wssse_vals, 'bx-')\n",
        "plt.xlabel('Number of clusters (k)')\n",
        "plt.xticks(k_vals)\n",
        "plt.ylabel('WSSSE')\n",
        "plt.title('Elbow Method For Optimal k')\n",
        "plt.show()"
      ],
      "metadata": {
        "colab": {
          "base_uri": "https://localhost:8080/",
          "height": 599
        },
        "id": "mESoZA8dD8B2",
        "outputId": "7007ca26-3460-4b3f-e491-92781706bdc4"
      },
      "execution_count": 12,
      "outputs": [
        {
          "output_type": "stream",
          "name": "stdout",
          "text": [
            "Search for k: [2, 3, 4, 5, 6, 7, 8, 9, 10, 11]\n",
            "The optimal number of clusters is: 4\n"
          ]
        },
        {
          "output_type": "display_data",
          "data": {
            "text/plain": [
              "<Figure size 800x600 with 1 Axes>"
            ],
            "image/png": "[encoded data removed]"
          },
          "metadata": {}
        }
      ]
    },
    {
      "cell_type": "code",
      "source": [
        "# Train the final model using the optimal k\n",
        "kmeans = BisectingKMeans(k=optimal_k, seed=123)\n",
        "model = kmeans.fit(feature_logs)\n",
        "\n",
        "# Make predictions\n",
        "predictions = model.transform(feature_logs)\n",
        "\n",
        "# Show cluster centers\n",
        "\"\"\"\n",
        "print(\"Cluster Centers:\")\n",
        "centers = model.clusterCenters()\n",
        "for idx, center in enumerate(centers):\n",
        "    print(f\"Cluster {idx}: {center}\")\n",
        "\"\"\"\n",
        "\n",
        "# Show predictions\n",
        "predictions.select(\"process_id\", \"prediction\").show()"
      ],
      "metadata": {
        "colab": {
          "base_uri": "https://localhost:8080/"
        },
        "id": "Z1lQgp0GEFvN",
        "outputId": "97d7c454-1cf3-4f8d-c2ed-5bbdf6e0f1da"
      },
      "execution_count": 13,
      "outputs": [
        {
          "output_type": "stream",
          "name": "stdout",
          "text": [
            "+----------+----------+\n",
            "|process_id|prediction|\n",
            "+----------+----------+\n",
            "|         1|         3|\n",
            "|         6|         0|\n",
            "|         8|         0|\n",
            "|         9|         0|\n",
            "|        11|         2|\n",
            "|        12|         2|\n",
            "|        13|         2|\n",
            "|        15|         2|\n",
            "|        16|         1|\n",
            "+----------+----------+\n",
            "\n"
          ]
        }
      ]
    }
  ]
}