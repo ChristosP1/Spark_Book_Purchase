{
 "cells": [
  {
   "cell_type": "markdown",
   "metadata": {},
   "source": [
    "# Spark Application"
   ]
  },
  {
   "cell_type": "markdown",
   "metadata": {},
   "source": [
    "## Imports and environment initialization"
   ]
  },
  {
   "cell_type": "code",
   "execution_count": 1,
   "metadata": {},
   "outputs": [],
   "source": [
    "import os\n",
    "# Set environment variables\n",
    "os.environ[\"JAVA_HOME\"] = \"C:/Program Files/Java/jdk-22\"\n",
    "os.environ[\"SPARK_HOME\"] = \"C:/Spark/spark-3.5.1-bin-hadoop3\"\n",
    "os.environ[\"HADOOP_HOME\"] = \"C:/Hadoop\"\n",
    "os.environ[\"PYSPARK_PYTHON\"] = \"C:/Users/chris/AppData/Local/Programs/Python/Python311/python.exe\" \n",
    "os.environ[\"PATH\"] = (\n",
    "    os.path.join(os.environ[\"JAVA_HOME\"], \"bin\") + os.pathsep +\n",
    "    os.path.join(os.environ[\"SPARK_HOME\"], \"bin\") + os.pathsep +\n",
    "    os.path.join(os.environ[\"HADOOP_HOME\"], \"bin\") + os.pathsep +\n",
    "    os.path.join(os.environ[\"PYSPARK_PYTHON\"]) + os.pathsep +\n",
    "    os.environ[\"PATH\"]\n",
    ")\n",
    "\n",
    "import pyspark\n",
    "from pyspark import SparkContext, SparkConf\n",
    "from pyspark.sql import SparkSession"
   ]
  },
  {
   "cell_type": "markdown",
   "metadata": {},
   "source": [
    "## Create & Configure Session"
   ]
  },
  {
   "cell_type": "code",
   "execution_count": 3,
   "metadata": {},
   "outputs": [],
   "source": [
    "def create_session():\n",
    "    # create the session\n",
    "    conf = SparkConf()\n",
    "    conf.setAppName(\"DIS-lab-1\")    # Sets name of the Spark Application\n",
    "    conf.setMaster(\"local[*]\")    # Master URL. In this case local[*] uses all the available cores in the machine\n",
    "    conf.set(\"spark.driver.memory\", \"2G\")   # Memory allocated to driver process\n",
    "    conf.set(\"spark.driver.maxResultSize\", \"2g\")    # Maximum size of results that can be returned to driver\n",
    "    conf.set(\"spark.executor.memory\", \"1G\")    # Memory allocated to each executor     \n",
    "    sc = pyspark.SparkContext(conf=conf)    # Initializes tha Spark context with this specific configuration\n",
    "    spark = SparkSession.builder.getOrCreate()    # Creates Spark session\n",
    "    \n",
    "    return sc, spark"
   ]
  },
  {
   "cell_type": "code",
   "execution_count": 4,
   "metadata": {},
   "outputs": [
    {
     "name": "stdout",
     "output_type": "stream",
     "text": [
      "--Stopped existing SparkContext\n",
      "--Stopped existing SparkSession\n",
      "Spark session created successfully!\n"
     ]
    },
    {
     "data": {
      "text/html": [
       "\n",
       "            <div>\n",
       "                <p><b>SparkSession - in-memory</b></p>\n",
       "                \n",
       "        <div>\n",
       "            <p><b>SparkContext</b></p>\n",
       "\n",
       "            <p><a href=\"http://Belmont.home:4040\">Spark UI</a></p>\n",
       "\n",
       "            <dl>\n",
       "              <dt>Version</dt>\n",
       "                <dd><code>v3.5.1</code></dd>\n",
       "              <dt>Master</dt>\n",
       "                <dd><code>local[*]</code></dd>\n",
       "              <dt>AppName</dt>\n",
       "                <dd><code>DIS-lab-1</code></dd>\n",
       "            </dl>\n",
       "        </div>\n",
       "        \n",
       "            </div>\n",
       "        "
      ],
      "text/plain": [
       "<pyspark.sql.session.SparkSession at 0x2ac5aba3f50>"
      ]
     },
     "execution_count": 4,
     "metadata": {},
     "output_type": "execute_result"
    }
   ],
   "source": [
    "try:\n",
    "    if 'sc' in globals() and sc is not None:\n",
    "        sc.stop()\n",
    "        print(\"--Stopped existing SparkContext\")\n",
    "    if 'spark' in globals() and isinstance(spark, SparkSession):\n",
    "        spark.stop()\n",
    "        print(\"--Stopped existing SparkSession\")\n",
    "except Exception as e:\n",
    "    print(f\"Error stopping existing Spark session or context: {e}\")\n",
    "\n",
    "# Create a new Spark session\n",
    "sc, spark = create_session()\n",
    "print(\"Spark session created successfully!\")\n",
    "spark"
   ]
  },
  {
   "cell_type": "code",
   "execution_count": 5,
   "metadata": {},
   "outputs": [
    {
     "name": "stdout",
     "output_type": "stream",
     "text": [
      "spark.driver.port: 60536\n",
      "spark.driver.extraJavaOptions: -Djava.net.preferIPv6Addresses=false -XX:+IgnoreUnrecognizedVMOptions --add-opens=java.base/java.lang=ALL-UNNAMED --add-opens=java.base/java.lang.invoke=ALL-UNNAMED --add-opens=java.base/java.lang.reflect=ALL-UNNAMED --add-opens=java.base/java.io=ALL-UNNAMED --add-opens=java.base/java.net=ALL-UNNAMED --add-opens=java.base/java.nio=ALL-UNNAMED --add-opens=java.base/java.util=ALL-UNNAMED --add-opens=java.base/java.util.concurrent=ALL-UNNAMED --add-opens=java.base/java.util.concurrent.atomic=ALL-UNNAMED --add-opens=java.base/jdk.internal.ref=ALL-UNNAMED --add-opens=java.base/sun.nio.ch=ALL-UNNAMED --add-opens=java.base/sun.nio.cs=ALL-UNNAMED --add-opens=java.base/sun.security.action=ALL-UNNAMED --add-opens=java.base/sun.util.calendar=ALL-UNNAMED --add-opens=java.security.jgss/sun.security.krb5=ALL-UNNAMED -Djdk.reflect.useDirectMethodHandle=false\n",
      "spark.driver.memory: 2G\n",
      "spark.app.startTime: 1715814630947\n",
      "spark.driver.host: Belmont.home\n",
      "spark.executor.id: driver\n",
      "spark.sql.warehouse.dir: file:/C:/Users/chris/OneDrive/Υπολογιστής/DIS%20Project/spark-warehouse\n",
      "spark.executor.memory: 1G\n",
      "spark.app.id: local-1715814631004\n",
      "spark.rdd.compress: True\n",
      "spark.executor.extraJavaOptions: -Djava.net.preferIPv6Addresses=false -XX:+IgnoreUnrecognizedVMOptions --add-opens=java.base/java.lang=ALL-UNNAMED --add-opens=java.base/java.lang.invoke=ALL-UNNAMED --add-opens=java.base/java.lang.reflect=ALL-UNNAMED --add-opens=java.base/java.io=ALL-UNNAMED --add-opens=java.base/java.net=ALL-UNNAMED --add-opens=java.base/java.nio=ALL-UNNAMED --add-opens=java.base/java.util=ALL-UNNAMED --add-opens=java.base/java.util.concurrent=ALL-UNNAMED --add-opens=java.base/java.util.concurrent.atomic=ALL-UNNAMED --add-opens=java.base/jdk.internal.ref=ALL-UNNAMED --add-opens=java.base/sun.nio.ch=ALL-UNNAMED --add-opens=java.base/sun.nio.cs=ALL-UNNAMED --add-opens=java.base/sun.security.action=ALL-UNNAMED --add-opens=java.base/sun.util.calendar=ALL-UNNAMED --add-opens=java.security.jgss/sun.security.krb5=ALL-UNNAMED -Djdk.reflect.useDirectMethodHandle=false\n",
      "spark.app.submitTime: 1715814615442\n",
      "spark.driver.maxResultSize: 2g\n",
      "spark.serializer.objectStreamReset: 100\n",
      "spark.master: local[*]\n",
      "spark.submit.pyFiles: \n",
      "spark.submit.deployMode: client\n",
      "spark.ui.showConsoleProgress: true\n",
      "spark.app.name: DIS-lab-1\n"
     ]
    }
   ],
   "source": [
    "# Get the SparkConf object\n",
    "conf = spark.sparkContext.getConf()    # Retrieves the current Spark configuration.\n",
    "\n",
    "# Print the configuration\n",
    "for key, value in conf.getAll():\n",
    "    print(f\"{key}: {value}\")"
   ]
  },
  {
   "cell_type": "markdown",
   "metadata": {},
   "source": [
    "### Example"
   ]
  },
  {
   "cell_type": "markdown",
   "metadata": {},
   "source": [
    "#### Parallelize a Collection"
   ]
  },
  {
   "cell_type": "code",
   "execution_count": 6,
   "metadata": {},
   "outputs": [
    {
     "name": "stdout",
     "output_type": "stream",
     "text": [
      "<class 'pyspark.rdd.RDD'>\n"
     ]
    }
   ],
   "source": [
    "# Parallelize a collection\n",
    "data = [\n",
    "    (\"Vahid\", 26, \"Phd-1234\"), (\"Yannis\", 41, \"Prof-2314\"),\n",
    "    (\"Enas\", 35, \"Phd-2356\"), (\"Duygu\", 27, \"Phd-3517\"),\n",
    "    (\"Tom\", 25, \"Phd-2359\"), (\"Ioana\", 35, \"Prof-1246\"),\n",
    "    (\"Timo\", 45, \"Msc-5431\"), (\"John\", 33, \"Msc-7194\"),\n",
    "    (\"Linda\", 30, \"Phd-7890\"), (\"Mike\", 29, \"Msc-2468\"),\n",
    "    (\"Sara\", 38, \"Prof-9753\"), (\"Emma\", 31, \"Phd-1478\"),\n",
    "    (\"Alex\", 36, \"Prof-3698\"), (\"Sophia\", 32, \"Msc-8521\"),\n",
    "    (\"Daniel\", 28, \"Phd-6397\"), (\"Olivia\", 34, \"Prof-4268\"),\n",
    "    (\"Robert\", 42, \"Phd-5192\"), (\"Emily\", 27, \"Msc-6152\"),\n",
    "    (\"Max\", 29, \"Msc-9472\"), (\"Ava\", 31, \"Prof-2468\"),\n",
    "    (\"William\", 33, \"Phd-1382\"), (\"Mia\", 35, \"Prof-7634\"),\n",
    "    (\"James\", 40, \"Msc-9573\"), (\"Charlotte\", 28, \"Phd-4297\"),\n",
    "    (\"Benjamin\", 37, \"Prof-7641\"),(\"Jack\", 29, \"Phd-7641\")\n",
    "    ]\n",
    "\n",
    "rdd = sc.parallelize(data)\n",
    "print(type(rdd))"
   ]
  },
  {
   "cell_type": "markdown",
   "metadata": {},
   "source": [
    "#### Task 1: Get count of people above 30 and their average ages"
   ]
  },
  {
   "cell_type": "code",
   "execution_count": 7,
   "metadata": {},
   "outputs": [
    {
     "name": "stdout",
     "output_type": "stream",
     "text": [
      "Filtered RDD for people above 30 created successfully.\n",
      "Filtered RDD: [('Yannis', 41, 'Prof-2314'), ('Enas', 35, 'Phd-2356'), ('Ioana', 35, 'Prof-1246'), ('Timo', 45, 'Msc-5431'), ('John', 33, 'Msc-7194'), ('Sara', 38, 'Prof-9753'), ('Emma', 31, 'Phd-1478'), ('Alex', 36, 'Prof-3698'), ('Sophia', 32, 'Msc-8521'), ('Olivia', 34, 'Prof-4268'), ('Robert', 42, 'Phd-5192'), ('Ava', 31, 'Prof-2468'), ('William', 33, 'Phd-1382'), ('Mia', 35, 'Prof-7634'), ('James', 40, 'Msc-9573'), ('Benjamin', 37, 'Prof-7641')]\n",
      "Count of people above 30: 16\n",
      "Total age of people above 30: 578\n",
      "Average age of people above 30: 36.12\n"
     ]
    }
   ],
   "source": [
    "try:\n",
    "    # Filter the RDD to get people above 30\n",
    "    above_30_RDD = rdd.filter(lambda x: x[1] > 30)\n",
    "    print(\"Filtered RDD for people above 30 created successfully.\")\n",
    "    print(f\"Filtered RDD: {above_30_RDD.collect()}\")\n",
    "\n",
    "    # Count the number of people above 30\n",
    "    count_above_30 = above_30_RDD.count()\n",
    "    print(f\"Count of people above 30: {count_above_30}\")\n",
    "\n",
    "    # Calculate the total age of people above 30\n",
    "    total_age_above_30 = above_30_RDD.map(lambda x: x[1]).sum()\n",
    "    print(f\"Total age of people above 30: {total_age_above_30}\")\n",
    "\n",
    "    # Calculate the average age of people above 30\n",
    "    avg_age_above_30 = total_age_above_30 / count_above_30\n",
    "    print(f\"Average age of people above 30: {avg_age_above_30:.2f}\")\n",
    "except Exception as e:\n",
    "    print(f\"Error in Task 1: {e}\")"
   ]
  },
  {
   "cell_type": "code",
   "execution_count": null,
   "metadata": {},
   "outputs": [],
   "source": []
  },
  {
   "cell_type": "code",
   "execution_count": null,
   "metadata": {},
   "outputs": [],
   "source": []
  }
 ],
 "metadata": {
  "kernelspec": {
   "display_name": "Python 3",
   "language": "python",
   "name": "python3"
  },
  "language_info": {
   "codemirror_mode": {
    "name": "ipython",
    "version": 3
   },
   "file_extension": ".py",
   "mimetype": "text/x-python",
   "name": "python",
   "nbconvert_exporter": "python",
   "pygments_lexer": "ipython3",
   "version": "3.11.0"
  }
 },
 "nbformat": 4,
 "nbformat_minor": 2
}
