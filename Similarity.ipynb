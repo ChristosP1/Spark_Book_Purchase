{
  "cells": [
    {
      "cell_type": "markdown",
      "metadata": {
        "id": "eaUdski5BxWl"
      },
      "source": [
        "# Spark Tasks"
      ]
    },
    {
      "cell_type": "markdown",
      "metadata": {
        "id": "fEiemrqpBxWn"
      },
      "source": [
        "## Imports and environment initialization"
      ]
    },
    {
      "cell_type": "code",
      "execution_count": 1,
      "metadata": {
        "colab": {
          "base_uri": "https://localhost:8080/"
        },
        "id": "nYTp1JYjBxWo",
        "outputId": "42d7efe5-3d86-40b9-ad5d-d0be125091eb"
      },
      "outputs": [
        {
          "output_type": "stream",
          "name": "stdout",
          "text": [
            "Requirement already satisfied: pyspark in /usr/local/lib/python3.10/dist-packages (3.5.1)\n",
            "Requirement already satisfied: py4j==0.10.9.7 in /usr/local/lib/python3.10/dist-packages (from pyspark) (0.10.9.7)\n",
            "openjdk-8-jdk-headless is already the newest version (8u412-ga-1~22.04.1).\n",
            "0 upgraded, 0 newly installed, 0 to remove and 45 not upgraded.\n",
            "Requirement already satisfied: graphframes in /usr/local/lib/python3.10/dist-packages (0.6)\n",
            "Requirement already satisfied: numpy in /usr/local/lib/python3.10/dist-packages (from graphframes) (1.25.2)\n",
            "Requirement already satisfied: nose in /usr/local/lib/python3.10/dist-packages (from graphframes) (1.3.7)\n"
          ]
        }
      ],
      "source": [
        "!pip install pyspark\n",
        "!pip install -U -q PyDrive\n",
        "!apt install openjdk-8-jdk-headless -qq\n",
        "!pip install graphframes\n",
        "\n",
        "# Set Environment Variables\n",
        "import os\n",
        "os.environ[\"JAVA_HOME\"] = \"/usr/lib/jvm/java-8-openjdk-amd64\""
      ]
    },
    {
      "cell_type": "code",
      "execution_count": 2,
      "metadata": {
        "id": "Nfzx14riBxWn"
      },
      "outputs": [],
      "source": [
        "import os\n",
        "import pyspark\n",
        "from pyspark import SparkConf, SparkContext\n",
        "from pyspark.sql import SparkSession, Row, types as T\n",
        "from pyspark.sql.functions import col, rank, row_number, split, regexp_replace, collect_list, hash as spark_hash, concat_ws, concat, lit, when, abs, explode, desc, size\n",
        "from pyspark.sql.types import ArrayType, StructType, StructField, StringType, LongType, DoubleType, IntegerType\n",
        "from pyspark.sql.functions import udf\n",
        "import numpy as np\n",
        "from collections import Counter\n",
        "from random import shuffle\n",
        "from pyspark.ml.linalg import Vectors, VectorUDT\n",
        "from pyspark.ml.feature import MinHashLSH\n",
        "import pandas as pd\n",
        "from pyspark.sql import functions as F\n",
        "from pyspark.sql.window import Window\n",
        "from graphframes import GraphFrame\n",
        "import networkx as nx\n",
        "import matplotlib.pyplot as plt\n",
        "from itertools import chain"
      ]
    },
    {
      "cell_type": "markdown",
      "metadata": {
        "id": "tT48Bz-NBxWp"
      },
      "source": [
        "## Create & Configure Session"
      ]
    },
    {
      "cell_type": "code",
      "execution_count": 3,
      "metadata": {
        "colab": {
          "base_uri": "https://localhost:8080/",
          "height": 237
        },
        "id": "ip1w21gRBxWp",
        "outputId": "f78fa402-7c68-4074-ec25-449bdccf08f3"
      },
      "outputs": [
        {
          "output_type": "stream",
          "name": "stdout",
          "text": [
            "Spark session created successfully!\n"
          ]
        },
        {
          "output_type": "execute_result",
          "data": {
            "text/plain": [
              "<pyspark.sql.session.SparkSession at 0x7965cc99f7c0>"
            ],
            "text/html": [
              "\n",
              "            <div>\n",
              "                <p><b>SparkSession - in-memory</b></p>\n",
              "                \n",
              "        <div>\n",
              "            <p><b>SparkContext</b></p>\n",
              "\n",
              "            <p><a href=\"http://95d95e7b4d4f:4040\">Spark UI</a></p>\n",
              "\n",
              "            <dl>\n",
              "              <dt>Version</dt>\n",
              "                <dd><code>v3.5.1</code></dd>\n",
              "              <dt>Master</dt>\n",
              "                <dd><code>local[16]</code></dd>\n",
              "              <dt>AppName</dt>\n",
              "                <dd><code>DIS-lab-1</code></dd>\n",
              "            </dl>\n",
              "        </div>\n",
              "        \n",
              "            </div>\n",
              "        "
            ]
          },
          "metadata": {},
          "execution_count": 3
        }
      ],
      "source": [
        "def create_session():\n",
        "    # create the session\n",
        "    conf = SparkConf()\n",
        "    conf.setAppName(\"DIS-lab-1\")    # Sets name of the Spark Application\n",
        "    conf.setMaster(\"local[16]\")    # Master URL. In this case local[*] uses all the available cores in the machine\n",
        "    conf.set(\"spark.driver.memory\", \"10G\")   # Memory allocated to driver process\n",
        "    conf.set(\"spark.driver.maxResultSize\", \"6G\")    # Maximum size of results that can be returned to driver\n",
        "    conf.set(\"spark.executor.instances\", \"4\")\n",
        "    conf.set(\"spark.executor.cores\", \"4\")\n",
        "    conf.set(\"spark.executor.memory\", \"4G\")    # Memory allocated to each executor\n",
        "    conf.set(\"spark.network.timeout\", \"600s\")  # Increase network timeout\n",
        "    conf.set(\"spark.executor.heartbeatInterval\", \"60s\")  # Increase heartbeat interval\n",
        "    conf.set(\"spark.rpc.message.maxSize\", \"512\")  # Increase max message size\n",
        "    conf.set(\"spark.driver.maxResultSize\", \"4G\")  # Increase driver max result size\n",
        "    conf.set(\"spark.sql.broadcastTimeout\", \"600\")  # Increase broadcast timeout\n",
        "    conf.set(\"spark.sql.shuffle.partitions\", \"200\")  # Increase the number of shuffle partitions\n",
        "    conf.set(\"spark.yarn.executor.memoryOverhead\", \"2048\")  # Increase memory overhead\n",
        "    conf.set(\"spark.memory.offHeap.enabled\",\"true\")\n",
        "    conf.set(\"spark.memory.offHeap.size\",\"10g\")\n",
        "    conf.set(\"spark.jars.packages\", \"graphframes:graphframes:0.8.2-spark3.0-s_2.12\")  # Add GraphFrames to the spark configuration\n",
        "    conf.set(\"spark.hadoop.fs.file.impl\", \"org.apache.hadoop.fs.LocalFileSystem\")  # Ensure local file system is used for checkpointing\n",
        "\n",
        "    sc = pyspark.SparkContext(conf=conf)    # Initializes the Spark context with this specific configuration\n",
        "    spark = SparkSession.builder.config(conf=sc.getConf()).getOrCreate()    # Creates Spark session\n",
        "\n",
        "    # Set checkpoint directory\n",
        "    sc.setCheckpointDir(\"checkpoints\")\n",
        "\n",
        "    return sc, spark\n",
        "\n",
        "try:\n",
        "    if 'sc' in globals() and sc is not None:\n",
        "        sc.stop()\n",
        "        print(\"--Stopped existing SparkContext\")\n",
        "    if 'spark' in globals() and isinstance(spark, SparkSession):\n",
        "        spark.stop()\n",
        "        print(\"--Stopped existing SparkSession\")\n",
        "except Exception as e:\n",
        "    print(f\"Error stopping existing Spark session or context: {e}\")\n",
        "\n",
        "# Create a new Spark session\n",
        "sc, spark = create_session()\n",
        "print(\"Spark session created successfully!\")\n",
        "spark"
      ]
    },
    {
      "cell_type": "markdown",
      "metadata": {
        "id": "5bEQ3ID-BxWq"
      },
      "source": [
        "## Load and Split Data"
      ]
    },
    {
      "cell_type": "markdown",
      "metadata": {
        "id": "khtRtikaBxWr"
      },
      "source": [
        "### Load the data from the CSVs"
      ]
    },
    {
      "cell_type": "code",
      "execution_count": 4,
      "metadata": {
        "id": "r8KCxiEOBxWr"
      },
      "outputs": [],
      "source": [
        "logs = spark.read.csv('merged_users.csv', header=True, inferSchema=True)"
      ]
    },
    {
      "cell_type": "markdown",
      "metadata": {
        "id": "a6UDhMxuBxWs"
      },
      "source": [
        "### Split the data into 5 separate columns"
      ]
    },
    {
      "cell_type": "code",
      "execution_count": 5,
      "metadata": {
        "id": "KSrihLbHBxWs"
      },
      "outputs": [],
      "source": [
        "logs_splitted = logs \\\n",
        "    .withColumn(\"from_server\", regexp_replace(split(col(\"Logs\"), \", \").getItem(0), \"[<>]\", \"\")) \\\n",
        "    .withColumn(\"to_server\", split(col(\"Logs\"), \", \").getItem(1)) \\\n",
        "    .withColumn(\"time\", split(col(\"Logs\"), \", \").getItem(2)) \\\n",
        "    .withColumn(\"action\", split(col(\"Logs\"), \", \").getItem(3)) \\\n",
        "    .withColumn(\"process_id\", regexp_replace(split(col(\"Logs\"), \", \").getItem(4), \"[<>]\", \"\")) \\\n",
        "    .drop(\"Logs\")\n",
        "\n",
        "# Cast the \"time\" and \"process_id\" columns to integers\n",
        "logs_casted = logs_splitted \\\n",
        "    .withColumn(\"time\", col(\"time\").cast(\"integer\")) \\\n",
        "    .withColumn(\"process_id\", col(\"process_id\").cast(\"integer\"))"
      ]
    },
    {
      "cell_type": "code",
      "source": [
        "logs_splitted.show(1, truncate=False)"
      ],
      "metadata": {
        "colab": {
          "base_uri": "https://localhost:8080/"
        },
        "id": "xUGLoA_8JDv9",
        "outputId": "6dbb03b7-343b-449d-935d-e1d5951043d3"
      },
      "execution_count": 6,
      "outputs": [
        {
          "output_type": "stream",
          "name": "stdout",
          "text": [
            "+-----------+-----------+----+-------+----------+\n",
            "|from_server|to_server  |time|action |process_id|\n",
            "+-----------+-----------+----+-------+----------+\n",
            "|user       |ui_server_2|372 |Request|0000000001|\n",
            "+-----------+-----------+----+-------+----------+\n",
            "only showing top 1 row\n",
            "\n"
          ]
        }
      ]
    },
    {
      "cell_type": "markdown",
      "metadata": {
        "id": "6CYhr81mBxWs"
      },
      "source": [
        "## Group data"
      ]
    },
    {
      "cell_type": "markdown",
      "metadata": {
        "id": "1wmZXjbJBxWs"
      },
      "source": [
        "### Group by process_id"
      ]
    },
    {
      "cell_type": "code",
      "execution_count": 7,
      "metadata": {
        "id": "rFPSRoCDBxWt"
      },
      "outputs": [],
      "source": [
        "logs_grouped = logs_casted.groupBy(\"process_id\").agg(\n",
        "    collect_list(\"from_server\").alias(\"from_servers\"),\n",
        "    collect_list(\"to_server\").alias(\"to_servers\"),\n",
        "    collect_list(\"time\").alias(\"times\"),\n",
        "    collect_list(\"action\").alias(\"actions\")\n",
        ")"
      ]
    },
    {
      "cell_type": "code",
      "source": [
        "logs_grouped.show(6, truncate=False)"
      ],
      "metadata": {
        "colab": {
          "base_uri": "https://localhost:8080/"
        },
        "id": "YuE0f8IVJKPK",
        "outputId": "c0d55f78-ff3c-49d6-d7e6-dad3e5db6de0"
      },
      "execution_count": 8,
      "outputs": [
        {
          "output_type": "stream",
          "name": "stdout",
          "text": [
            "+----------+-----------------------------------------------------------------------------------------------------------------------------------------------------------------------------------------------------------------------------------------------------------------------------------------------------------------------------------------------------------------------------------------------------------------------------------------------------------------------------------------------------------------------------------------------------------------------------------------------------------------------------------------------------------------------------------------------------------------------------------------------------------------------------------------------------------------------------------------------------------------------------------------------------------------------------------------------------------------------------------------------------------------------------------------------------------------------------------------------------------------------------------------------------------------------------------------------------------------------------------------------------------------------------------------------------------------------------------------------------------------------------------------------------------------------------------------------------------------------------------------------------+-------------------------------------------------------------------------------------------------------------------------------------------------------------------------------------------------------------------------------------------------------------------------------------------------------------------------------------------------------------------------------------------------------------------------------------------------------------------------------------------------------------------------------------------------------------------------------------------------------------------------------------------------------------------------------------------------------------------------------------------------------------------------------------------------------------------------------------------------------------------------------------------------------------------------------------------------------------------------------------------------------------------------------------------------------------------------------------------------------------------------------------------------------------------------------------------------------------------------------------------------------------------------------------------------------------------------------------------------------------------------------------------------------------------------------------------------------------------------------------------------------------+------------------------------------------------------------------------------------------------------------------------------------------------------------------------------------------------------------------------------------------------------------------------------------------------------------------+-------------------------------------------------------------------------------------------------------------------------------------------------------------------------------------------------------------------------------------------------------------------------------------------------------------------------------------------------------------------------------------------------------------------------------------------------------------------------------------------------------------------------------------------------------------+\n",
            "|process_id|from_servers                                                                                                                                                                                                                                                                                                                                                                                                                                                                                                                                                                                                                                                                                                                                                                                                                                                                                                                                                                                                                                                                                                                                                                                                                                                                                                                                                                                                                                                                                         |to_servers                                                                                                                                                                                                                                                                                                                                                                                                                                                                                                                                                                                                                                                                                                                                                                                                                                                                                                                                                                                                                                                                                                                                                                                                                                                                                                                                                                                                                                                                                                   |times                                                                                                                                                                                                                                                                                                             |actions                                                                                                                                                                                                                                                                                                                                                                                                                                                                                                                                                      |\n",
            "+----------+-----------------------------------------------------------------------------------------------------------------------------------------------------------------------------------------------------------------------------------------------------------------------------------------------------------------------------------------------------------------------------------------------------------------------------------------------------------------------------------------------------------------------------------------------------------------------------------------------------------------------------------------------------------------------------------------------------------------------------------------------------------------------------------------------------------------------------------------------------------------------------------------------------------------------------------------------------------------------------------------------------------------------------------------------------------------------------------------------------------------------------------------------------------------------------------------------------------------------------------------------------------------------------------------------------------------------------------------------------------------------------------------------------------------------------------------------------------------------------------------------------+-------------------------------------------------------------------------------------------------------------------------------------------------------------------------------------------------------------------------------------------------------------------------------------------------------------------------------------------------------------------------------------------------------------------------------------------------------------------------------------------------------------------------------------------------------------------------------------------------------------------------------------------------------------------------------------------------------------------------------------------------------------------------------------------------------------------------------------------------------------------------------------------------------------------------------------------------------------------------------------------------------------------------------------------------------------------------------------------------------------------------------------------------------------------------------------------------------------------------------------------------------------------------------------------------------------------------------------------------------------------------------------------------------------------------------------------------------------------------------------------------------------+------------------------------------------------------------------------------------------------------------------------------------------------------------------------------------------------------------------------------------------------------------------------------------------------------------------+-------------------------------------------------------------------------------------------------------------------------------------------------------------------------------------------------------------------------------------------------------------------------------------------------------------------------------------------------------------------------------------------------------------------------------------------------------------------------------------------------------------------------------------------------------------+\n",
            "|12        |[user, ui_server_1, purchase_book_server_1, discount_server_3, gift_wrap_server_1, book_availability_server_1, external_inventory_server_1, second_hand_market_server_1, bundle_offer_server_1, user_credentials_server_4, user_history_server_2, card_check_server_7, visa_server_1, limit_check_visa_server_4, fraud_check_visa_server_5, currency_conversion_server_1, shipping_options_server_1, inventory_update_server_16, seasonal_adjustments_server_1, review_server_4, ad_server_5, customer_support_server_8, ad_server_5, review_server_4, seasonal_adjustments_server_1, inventory_update_server_16, shipping_options_server_1, currency_conversion_server_1, fraud_check_visa_server_5, limit_check_visa_server_4, visa_server_1, card_check_server_7, user_history_server_2, user_credentials_server_4, bundle_offer_server_1, second_hand_market_server_1, external_inventory_server_1, book_availability_server_1, gift_wrap_server_1, discount_server_3, purchase_book_server_1]                                                                                                                                                                                                                                                                                                                                                                                                                                                                                                   |[ui_server_1, purchase_book_server_1, discount_server_3, gift_wrap_server_1, book_availability_server_1, external_inventory_server_1, second_hand_market_server_1, bundle_offer_server_1, user_credentials_server_4, user_history_server_2, card_check_server_7, visa_server_1, limit_check_visa_server_4, fraud_check_visa_server_5, currency_conversion_server_1, shipping_options_server_1, inventory_update_server_16, seasonal_adjustments_server_1, review_server_4, ad_server_5, customer_support_server_8, ad_server_5, review_server_4, seasonal_adjustments_server_1, inventory_update_server_16, shipping_options_server_1, currency_conversion_server_1, fraud_check_visa_server_5, limit_check_visa_server_4, visa_server_1, card_check_server_7, user_history_server_2, user_credentials_server_4, bundle_offer_server_1, second_hand_market_server_1, external_inventory_server_1, book_availability_server_1, gift_wrap_server_1, discount_server_3, purchase_book_server_1, ui_server_1]                                                                                                                                                                                                                                                                                                                                                                                                                                                                                                    |[202, 203, 209, 214, 215, 224, 232, 251, 258, 261, 268, 278, 295, 321, 336, 338, 346, 377, 400, 427, 445, 483, 501, 528, 551, 582, 590, 592, 607, 633, 650, 660, 667, 670, 677, 696, 704, 713, 714, 719, 725]                                                                                                     |[Request, Request, Request, Request, Request, Request, Request, Request, Request, Request, Request, Request, Request, Request, Request, Request, Request, Request, Request, Request, Request, Response, Response, Response, Response, Response, Response, Response, Response, Response, Response, Response, Response, Response, Response, Response, Response, Response, Response, Response, Response]                                                                                                                                                        |\n",
            "|1         |[user, ui_server_2, purchase_book_server_5, discount_server_1, gift_wrap_server_1, book_availability_server_3, external_inventory_server_2, second_hand_market_server_2, bundle_offer_server_2, user_credentials_server_3, user_history_server_2, card_check_server_7, visa_server_4, limit_check_visa_server_4, fraud_check_visa_server_1, currency_conversion_server_3, shipping_options_server_1, shipping_insurance_server_1, express_delivery_server_1, inventory_update_server_16, supplier_notification_server_2, seasonal_adjustments_server_1, review_server_3, review_verification_server_1, review_analysis_server_2, automatic_response_server_4, ad_server_1, customer_support_server_9, customer_history_access_server_1, premium_customer_check_server_1, customer_history_access_server_1, customer_support_server_9, ad_server_1, automatic_response_server_4, review_analysis_server_2, review_verification_server_1, review_server_3, seasonal_adjustments_server_1, supplier_notification_server_2, inventory_update_server_16, express_delivery_server_1, shipping_insurance_server_1, shipping_options_server_1, currency_conversion_server_3, fraud_check_visa_server_1, limit_check_visa_server_4, visa_server_4, card_check_server_7, user_history_server_2, user_credentials_server_3, bundle_offer_server_2, second_hand_market_server_2, external_inventory_server_2, book_availability_server_3, gift_wrap_server_1, discount_server_1, purchase_book_server_5]         |[ui_server_2, purchase_book_server_5, discount_server_1, gift_wrap_server_1, book_availability_server_3, external_inventory_server_2, second_hand_market_server_2, bundle_offer_server_2, user_credentials_server_3, user_history_server_2, card_check_server_7, visa_server_4, limit_check_visa_server_4, fraud_check_visa_server_1, currency_conversion_server_3, shipping_options_server_1, shipping_insurance_server_1, express_delivery_server_1, inventory_update_server_16, supplier_notification_server_2, seasonal_adjustments_server_1, review_server_3, review_verification_server_1, review_analysis_server_2, automatic_response_server_4, ad_server_1, customer_support_server_9, customer_history_access_server_1, premium_customer_check_server_1, customer_history_access_server_1, customer_support_server_9, ad_server_1, automatic_response_server_4, review_analysis_server_2, review_verification_server_1, review_server_3, seasonal_adjustments_server_1, supplier_notification_server_2, inventory_update_server_16, express_delivery_server_1, shipping_insurance_server_1, shipping_options_server_1, currency_conversion_server_3, fraud_check_visa_server_1, limit_check_visa_server_4, visa_server_4, card_check_server_7, user_history_server_2, user_credentials_server_3, bundle_offer_server_2, second_hand_market_server_2, external_inventory_server_2, book_availability_server_3, gift_wrap_server_1, discount_server_1, purchase_book_server_5, ui_server_2]          |[372, 375, 383, 389, 391, 407, 411, 438, 445, 448, 456, 462, 480, 510, 520, 523, 527, 531, 537, 562, 576, 602, 626, 635, 653, 661, 674, 694, 712, 732, 750, 770, 783, 791, 809, 818, 842, 868, 882, 907, 913, 917, 921, 924, 934, 964, 982, 988, 996, 999, 1006, 1033, 1037, 1053, 1055, 1061, 1069]              |[Request, Request, Request, Request, Request, Request, Request, Request, Request, Request, Request, Request, Request, Request, Request, Request, Request, Request, Request, Request, Request, Request, Request, Request, Request, Request, Request, Request, Request, Response, Response, Response, Response, Response, Response, Response, Response, Response, Response, Response, Response, Response, Response, Response, Response, Response, Response, Response, Response, Response, Response, Response, Response, Response, Response, Response, Response]|\n",
            "|13        |[user, ui_server_11, purchase_book_server_8, discount_server_2, gift_wrap_server_1, book_availability_server_4, external_inventory_server_1, second_hand_market_server_1, bundle_offer_server_2, user_credentials_server_3, user_history_server_1, card_check_server_1, visa_server_1, limit_check_visa_server_1, fraud_check_visa_server_1, currency_conversion_server_3, shipping_options_server_1, inventory_update_server_11, review_server_4, automatic_response_server_5, ad_server_3, customer_support_server_5, ad_server_3, automatic_response_server_5, review_server_4, inventory_update_server_11, shipping_options_server_1, currency_conversion_server_3, fraud_check_visa_server_1, limit_check_visa_server_1, visa_server_1, card_check_server_1, user_history_server_1, user_credentials_server_3, bundle_offer_server_2, second_hand_market_server_1, external_inventory_server_1, book_availability_server_4, gift_wrap_server_1, discount_server_2, purchase_book_server_8]                                                                                                                                                                                                                                                                                                                                                                                                                                                                                                      |[ui_server_11, purchase_book_server_8, discount_server_2, gift_wrap_server_1, book_availability_server_4, external_inventory_server_1, second_hand_market_server_1, bundle_offer_server_2, user_credentials_server_3, user_history_server_1, card_check_server_1, visa_server_1, limit_check_visa_server_1, fraud_check_visa_server_1, currency_conversion_server_3, shipping_options_server_1, inventory_update_server_11, review_server_4, automatic_response_server_5, ad_server_3, customer_support_server_5, ad_server_3, automatic_response_server_5, review_server_4, inventory_update_server_11, shipping_options_server_1, currency_conversion_server_3, fraud_check_visa_server_1, limit_check_visa_server_1, visa_server_1, card_check_server_1, user_history_server_1, user_credentials_server_3, bundle_offer_server_2, second_hand_market_server_1, external_inventory_server_1, book_availability_server_4, gift_wrap_server_1, discount_server_2, purchase_book_server_8, ui_server_11]                                                                                                                                                                                                                                                                                                                                                                                                                                                                                                      |[138, 143, 155, 163, 164, 183, 190, 212, 217, 218, 223, 231, 249, 271, 282, 285, 292, 321, 348, 355, 373, 397, 415, 422, 449, 478, 485, 488, 499, 521, 539, 547, 552, 553, 558, 580, 587, 606, 607, 615, 627]                                                                                                     |[Request, Request, Request, Request, Request, Request, Request, Request, Request, Request, Request, Request, Request, Request, Request, Request, Request, Request, Request, Request, Request, Response, Response, Response, Response, Response, Response, Response, Response, Response, Response, Response, Response, Response, Response, Response, Response, Response, Response, Response, Response]                                                                                                                                                        |\n",
            "|6         |[user, ui_server_8, purchase_book_server_2, book_availability_server_2, user_credentials_server_3, card_check_server_5, mastercard_server_2, currency_conversion_server_2, shipping_options_server_1, inventory_update_server_1, seasonal_adjustments_server_2, review_server_4, ad_server_6, customer_support_server_9, ad_server_6, review_server_4, seasonal_adjustments_server_2, inventory_update_server_1, shipping_options_server_1, currency_conversion_server_2, mastercard_server_2, card_check_server_5, user_credentials_server_3, book_availability_server_2, purchase_book_server_2]                                                                                                                                                                                                                                                                                                                                                                                                                                                                                                                                                                                                                                                                                                                                                                                                                                                                                                   |[ui_server_8, purchase_book_server_2, book_availability_server_2, user_credentials_server_3, card_check_server_5, mastercard_server_2, currency_conversion_server_2, shipping_options_server_1, inventory_update_server_1, seasonal_adjustments_server_2, review_server_4, ad_server_6, customer_support_server_9, ad_server_6, review_server_4, seasonal_adjustments_server_2, inventory_update_server_1, shipping_options_server_1, currency_conversion_server_2, mastercard_server_2, card_check_server_5, user_credentials_server_3, book_availability_server_2, purchase_book_server_2, ui_server_8]                                                                                                                                                                                                                                                                                                                                                                                                                                                                                                                                                                                                                                                                                                                                                                                                                                                                                                    |[120, 126, 130, 143, 145, 154, 169, 172, 180, 209, 239, 260, 271, 305, 316, 337, 367, 396, 404, 407, 422, 431, 433, 446, 450]                                                                                                                                                                                     |[Request, Request, Request, Request, Request, Request, Request, Request, Request, Request, Request, Request, Request, Response, Response, Response, Response, Response, Response, Response, Response, Response, Response, Response, Response]                                                                                                                                                                                                                                                                                                                |\n",
            "|16        |[user, ui_server_20, purchase_book_server_7, book_availability_server_7, user_credentials_server_3, card_check_server_5, mastercard_server_5, limit_check_mastercard_server_13, fraud_check_mastercard_server_1, currency_conversion_server_2, shipping_options_server_2, shipping_insurance_server_1, express_delivery_server_1, inventory_update_server_14, supplier_notification_server_2, seasonal_adjustments_server_2, review_server_2, review_verification_server_2, review_analysis_server_4, automatic_response_server_5, ad_server_7, customer_support_server_5, customer_history_access_server_2, premium_customer_check_server_1, ai_chatbot_server_7, premium_customer_check_server_1, customer_history_access_server_2, customer_support_server_5, ad_server_7, automatic_response_server_5, review_analysis_server_4, review_verification_server_2, review_server_2, seasonal_adjustments_server_2, supplier_notification_server_2, inventory_update_server_14, express_delivery_server_1, shipping_insurance_server_1, shipping_options_server_2, currency_conversion_server_2, fraud_check_mastercard_server_1, limit_check_mastercard_server_13, mastercard_server_5, card_check_server_5, user_credentials_server_3, book_availability_server_7, purchase_book_server_7]                                                                                                                                                                                                          |[ui_server_20, purchase_book_server_7, book_availability_server_7, user_credentials_server_3, card_check_server_5, mastercard_server_5, limit_check_mastercard_server_13, fraud_check_mastercard_server_1, currency_conversion_server_2, shipping_options_server_2, shipping_insurance_server_1, express_delivery_server_1, inventory_update_server_14, supplier_notification_server_2, seasonal_adjustments_server_2, review_server_2, review_verification_server_2, review_analysis_server_4, automatic_response_server_5, ad_server_7, customer_support_server_5, customer_history_access_server_2, premium_customer_check_server_1, ai_chatbot_server_7, premium_customer_check_server_1, customer_history_access_server_2, customer_support_server_5, ad_server_7, automatic_response_server_5, review_analysis_server_4, review_verification_server_2, review_server_2, seasonal_adjustments_server_2, supplier_notification_server_2, inventory_update_server_14, express_delivery_server_1, shipping_insurance_server_1, shipping_options_server_2, currency_conversion_server_2, fraud_check_mastercard_server_1, limit_check_mastercard_server_13, mastercard_server_5, card_check_server_5, user_credentials_server_3, book_availability_server_7, purchase_book_server_7, ui_server_20]                                                                                                                                                                                                          |[324, 337, 342, 356, 357, 366, 379, 411, 417, 418, 423, 428, 433, 462, 472, 496, 526, 538, 548, 557, 576, 588, 599, 609, 625, 635, 646, 658, 677, 686, 696, 708, 738, 762, 772, 801, 806, 811, 816, 817, 823, 855, 868, 877, 878, 892, 897]                                                                       |[Request, Request, Request, Request, Request, Request, Request, Request, Request, Request, Request, Request, Request, Request, Request, Request, Request, Request, Request, Request, Request, Request, Request, Request, Response, Response, Response, Response, Response, Response, Response, Response, Response, Response, Response, Response, Response, Response, Response, Response, Response, Response, Response, Response, Response, Response, Response]                                                                                               |\n",
            "|3         |[user, ui_server_12, purchase_book_server_3, discount_server_2, gift_wrap_server_1, book_availability_server_5, external_inventory_server_1, second_hand_market_server_2, bundle_offer_server_1, user_credentials_server_4, card_check_server_3, visa_server_4, limit_check_visa_server_2, fraud_check_visa_server_1, currency_conversion_server_2, shipping_options_server_2, shipping_insurance_server_1, express_delivery_server_1, inventory_update_server_20, supplier_notification_server_2, seasonal_adjustments_server_2, review_server_1, review_verification_server_2, review_analysis_server_4, automatic_response_server_6, ad_server_6, customer_support_server_4, customer_history_access_server_2, premium_customer_check_server_1, ai_chatbot_server_7, premium_customer_check_server_1, customer_history_access_server_2, customer_support_server_4, ad_server_6, automatic_response_server_6, review_analysis_server_4, review_verification_server_2, review_server_1, seasonal_adjustments_server_2, supplier_notification_server_2, inventory_update_server_20, express_delivery_server_1, shipping_insurance_server_1, shipping_options_server_2, currency_conversion_server_2, fraud_check_visa_server_1, limit_check_visa_server_2, visa_server_4, card_check_server_3, user_credentials_server_4, bundle_offer_server_1, second_hand_market_server_2, external_inventory_server_1, book_availability_server_5, gift_wrap_server_1, discount_server_2, purchase_book_server_3]|[ui_server_12, purchase_book_server_3, discount_server_2, gift_wrap_server_1, book_availability_server_5, external_inventory_server_1, second_hand_market_server_2, bundle_offer_server_1, user_credentials_server_4, card_check_server_3, visa_server_4, limit_check_visa_server_2, fraud_check_visa_server_1, currency_conversion_server_2, shipping_options_server_2, shipping_insurance_server_1, express_delivery_server_1, inventory_update_server_20, supplier_notification_server_2, seasonal_adjustments_server_2, review_server_1, review_verification_server_2, review_analysis_server_4, automatic_response_server_6, ad_server_6, customer_support_server_4, customer_history_access_server_2, premium_customer_check_server_1, ai_chatbot_server_7, premium_customer_check_server_1, customer_history_access_server_2, customer_support_server_4, ad_server_6, automatic_response_server_6, review_analysis_server_4, review_verification_server_2, review_server_1, seasonal_adjustments_server_2, supplier_notification_server_2, inventory_update_server_20, express_delivery_server_1, shipping_insurance_server_1, shipping_options_server_2, currency_conversion_server_2, fraud_check_visa_server_1, limit_check_visa_server_2, visa_server_4, card_check_server_3, user_credentials_server_4, bundle_offer_server_1, second_hand_market_server_2, external_inventory_server_1, book_availability_server_5, gift_wrap_server_1, discount_server_2, purchase_book_server_3, ui_server_12]|[560, 565, 569, 577, 578, 588, 595, 617, 625, 628, 632, 646, 675, 689, 691, 695, 701, 708, 736, 753, 780, 808, 821, 839, 846, 858, 873, 889, 901, 917, 929, 945, 960, 972, 979, 997, 1010, 1038, 1065, 1082, 1110, 1117, 1123, 1127, 1129, 1143, 1172, 1186, 1190, 1193, 1201, 1223, 1230, 1240, 1241, 1249, 1253]|[Request, Request, Request, Request, Request, Request, Request, Request, Request, Request, Request, Request, Request, Request, Request, Request, Request, Request, Request, Request, Request, Request, Request, Request, Request, Request, Request, Request, Request, Response, Response, Response, Response, Response, Response, Response, Response, Response, Response, Response, Response, Response, Response, Response, Response, Response, Response, Response, Response, Response, Response, Response, Response, Response, Response, Response, Response]|\n",
            "+----------+-----------------------------------------------------------------------------------------------------------------------------------------------------------------------------------------------------------------------------------------------------------------------------------------------------------------------------------------------------------------------------------------------------------------------------------------------------------------------------------------------------------------------------------------------------------------------------------------------------------------------------------------------------------------------------------------------------------------------------------------------------------------------------------------------------------------------------------------------------------------------------------------------------------------------------------------------------------------------------------------------------------------------------------------------------------------------------------------------------------------------------------------------------------------------------------------------------------------------------------------------------------------------------------------------------------------------------------------------------------------------------------------------------------------------------------------------------------------------------------------------------+-------------------------------------------------------------------------------------------------------------------------------------------------------------------------------------------------------------------------------------------------------------------------------------------------------------------------------------------------------------------------------------------------------------------------------------------------------------------------------------------------------------------------------------------------------------------------------------------------------------------------------------------------------------------------------------------------------------------------------------------------------------------------------------------------------------------------------------------------------------------------------------------------------------------------------------------------------------------------------------------------------------------------------------------------------------------------------------------------------------------------------------------------------------------------------------------------------------------------------------------------------------------------------------------------------------------------------------------------------------------------------------------------------------------------------------------------------------------------------------------------------------+------------------------------------------------------------------------------------------------------------------------------------------------------------------------------------------------------------------------------------------------------------------------------------------------------------------+-------------------------------------------------------------------------------------------------------------------------------------------------------------------------------------------------------------------------------------------------------------------------------------------------------------------------------------------------------------------------------------------------------------------------------------------------------------------------------------------------------------------------------------------------------------+\n",
            "only showing top 6 rows\n",
            "\n"
          ]
        }
      ]
    },
    {
      "cell_type": "markdown",
      "metadata": {
        "id": "O8SiZdCrBxWt"
      },
      "source": [
        "### Sort all the column items based on 'from_server' so the sub-processes are in the right order"
      ]
    },
    {
      "cell_type": "code",
      "execution_count": 9,
      "metadata": {
        "id": "AJaqqqzSBxWt"
      },
      "outputs": [],
      "source": [
        "def sort_lists_time(times, from_servers, to_servers, actions):\n",
        "    combined = list(zip(times, from_servers, to_servers, actions))\n",
        "    sorted_combined = sorted(combined, key=lambda x: x[0])\n",
        "\n",
        "    # Remove the second half of each list since it contains duplicte names\n",
        "    half_length = len(sorted_combined) // 2\n",
        "    truncated_combined = sorted_combined[:half_length]\n",
        "\n",
        "    times_sorted, from_servers_sorted, to_servers_sorted, actions_sorted = zip(*truncated_combined)\n",
        "    return list(times_sorted), list(from_servers_sorted), list(to_servers_sorted), list(actions_sorted)\n",
        "\n",
        "def sort_lists_from_server(times, from_servers, to_servers, actions):\n",
        "    # First sort by time\n",
        "    combined = list(zip(times, from_servers, to_servers, actions))\n",
        "    sorted_combined = sorted(combined, key=lambda x: x[0])  # Sort by times (x[0])\n",
        "\n",
        "    # Remove the second half of each list since it contains duplicte names\n",
        "    half_length = len(sorted_combined) // 2\n",
        "    truncated_combined = sorted_combined[:half_length]\n",
        "\n",
        "    times_sorted, from_servers_sorted, to_servers_sorted, actions_sorted = zip(*truncated_combined)\n",
        "\n",
        "    combined = list(zip(times_sorted, from_servers_sorted, to_servers_sorted, actions_sorted))\n",
        "    sorted_combined = sorted(combined, key=lambda x: x[1])\n",
        "    times_sorted, from_servers_sorted, to_servers_sorted, actions_sorted = zip(*sorted_combined)\n",
        "    return list(times_sorted), list(from_servers_sorted), list(to_servers_sorted), list(actions_sorted)\n",
        "\n",
        "# Define the schema for the sorted columns\n",
        "sorted_lists_schema = StructType([\n",
        "    StructField(\"times\", ArrayType(LongType()), nullable=True),\n",
        "    StructField(\"from_servers\", ArrayType(StringType()), nullable=True),\n",
        "    StructField(\"to_servers\", ArrayType(StringType()), nullable=True),\n",
        "    StructField(\"actions\", ArrayType(StringType()), nullable=True)\n",
        "])\n",
        "\n",
        "# Register the function as a UDF\n",
        "sort_lists_udf = udf(sort_lists_from_server, sorted_lists_schema)\n",
        "\n",
        "# Apply the UDF to sort the lists based on the \"times\" column\n",
        "logs_grouped = logs_grouped.withColumn(\"sorted_lists\", sort_lists_udf(\"times\", \"from_servers\", \"to_servers\", \"actions\"))\n",
        "\n",
        "# Split the sorted lists into separate columns\n",
        "logs_grouped = logs_grouped.withColumn(\"times\", col(\"sorted_lists.times\")) \\\n",
        "                           .withColumn(\"from_servers\", col(\"sorted_lists.from_servers\")) \\\n",
        "                           .withColumn(\"to_servers\", col(\"sorted_lists.to_servers\")) \\\n",
        "                           .withColumn(\"actions\", col(\"sorted_lists.actions\")) \\\n",
        "                           .drop(\"sorted_lists\")"
      ]
    },
    {
      "cell_type": "markdown",
      "metadata": {
        "id": "SylZDcJZBxWt"
      },
      "source": [
        "### Create 'process_string' column with a string of all the 'from_servers'"
      ]
    },
    {
      "cell_type": "code",
      "execution_count": 10,
      "metadata": {
        "id": "oTNqHom-BxWt"
      },
      "outputs": [],
      "source": [
        "'''\n",
        "Using the withColumn method to create a new column \"process_string\".\n",
        "The concat_ws function concatenates multiple column values into a single string, separated by a comma.\n",
        "col(\"from_servers\"): Selects the column \"from_servers\".\n",
        "col(\"to_servers\"): Selects the column \"to_servers\".\n",
        "col(\"times\"): Selects the column \"times\".\n",
        "col(\"actions\"): Selects the column \"actions\".\n",
        "The concatenated string is stored in the new column \"process_string\".\n",
        "'''\n",
        "\n",
        "logs_grouped = logs_grouped.withColumn(\n",
        "    \"process_string\",\n",
        "    concat_ws(\",\", col(\"from_servers\"))\n",
        ")"
      ]
    },
    {
      "cell_type": "markdown",
      "metadata": {
        "id": "jCPqIDm1BxWu"
      },
      "source": [
        "# LSH and Connected Components Approach"
      ]
    },
    {
      "cell_type": "markdown",
      "metadata": {
        "id": "aCcyD7F3BxWu"
      },
      "source": [
        "## 1. Create shingles"
      ]
    },
    {
      "cell_type": "markdown",
      "metadata": {
        "id": "K4wKnb0yBxWu"
      },
      "source": [
        "### 1.1. Pre-processing before shingles"
      ]
    },
    {
      "cell_type": "markdown",
      "metadata": {
        "id": "C3ZhuZlQBxWu"
      },
      "source": [
        "#### Find common sub-string"
      ]
    },
    {
      "cell_type": "code",
      "execution_count": 11,
      "metadata": {
        "id": "W2r6dsB-BxWu"
      },
      "outputs": [],
      "source": [
        "def get_all_substrings(string, min_length):\n",
        "    length = len(string)\n",
        "    return [string[i:j] for i in range(length) for j in range(i + min_length, length + 1)]\n",
        "\n",
        "\n",
        "def find_common_substring(server_names, min_length=3, min_occurrences_ratio=0.6):\n",
        "    substr_counter = Counter()\n",
        "    total_names = len(server_names)\n",
        "    min_occurrences = int(total_names * min_occurrences_ratio)\n",
        "\n",
        "    for name in server_names:\n",
        "        substrings = get_all_substrings(name, min_length)\n",
        "        substr_counter.update(substrings)\n",
        "\n",
        "    # Filter substrings that occur at least min_occurrences times\n",
        "    common_substrings = [substr for substr, count in substr_counter.items() if count >= min_occurrences]\n",
        "\n",
        "    if not common_substrings:\n",
        "        return \"\"\n",
        "\n",
        "    # Return the longest common substring\n",
        "    return max(common_substrings, key=len)\n",
        "\n",
        "\n",
        "def remove_common_substring(strings, common_substring):\n",
        "    return [string.replace(common_substring, \"\") for string in strings]"
      ]
    },
    {
      "cell_type": "code",
      "execution_count": 12,
      "metadata": {
        "colab": {
          "base_uri": "https://localhost:8080/"
        },
        "id": "lC5ysGS9BxWu",
        "outputId": "70cbb2c4-151f-46a9-d5ff-03980dd323f4"
      },
      "outputs": [
        {
          "output_type": "stream",
          "name": "stdout",
          "text": [
            "Most Common Substring: _server_\n"
          ]
        }
      ],
      "source": [
        "# Sample 5 rows from the data\n",
        "sample_rows = logs_grouped.select(\"from_servers\").take(3)\n",
        "\n",
        "# Extract the \"from_servers\" lists from the sample rows\n",
        "sample_from_servers = [row[\"from_servers\"] for row in sample_rows]\n",
        "\n",
        "# Flatten the list of lists to a single list of server names\n",
        "flattened_server_names = [server for sublist in sample_from_servers for server in sublist]\n",
        "\n",
        "# Get unique server names\n",
        "unique_server_names = list(set(flattened_server_names))\n",
        "\n",
        "# Use the function on the unique server names\n",
        "common_substring = find_common_substring(unique_server_names, min_length=3, min_occurrences_ratio=0.70)\n",
        "\n",
        "print(\"Most Common Substring:\", common_substring)"
      ]
    },
    {
      "cell_type": "markdown",
      "metadata": {
        "id": "q464I4cGBxWv"
      },
      "source": [
        "#### Remove common sub-string + special characters + spaces"
      ]
    },
    {
      "cell_type": "code",
      "execution_count": 13,
      "metadata": {
        "colab": {
          "base_uri": "https://localhost:8080/"
        },
        "id": "oC5bXXTwBxWv",
        "outputId": "d2bba5e1-5998-4bab-9dcc-8aeee8437fb9"
      },
      "outputs": [
        {
          "output_type": "stream",
          "name": "stdout",
          "text": [
            "+--------------------------------------------------------------------------------------------------------------------------------------------------------------------------------------------------------------------------------------------------------------+\n",
            "|process_string_cleaned                                                                                                                                                                                                                                        |\n",
            "+--------------------------------------------------------------------------------------------------------------------------------------------------------------------------------------------------------------------------------------------------------------+\n",
            "|bookavailability1bundleoffer1cardcheck7currencyconversion1discount3externalinventory1fraudcheckvisa5giftwrap1inventoryupdate16limitcheckvisa4purchasebook1review4seasonaladjustments1secondhandmarket1shippingoptions1ui1userusercredentials4userhistory2visa1|\n",
            "+--------------------------------------------------------------------------------------------------------------------------------------------------------------------------------------------------------------------------------------------------------------+\n",
            "\n"
          ]
        }
      ],
      "source": [
        "# Create a new DataFrame with the common substring removed from the process_string\n",
        "logs_grouped_cleaned = logs_grouped.withColumn(\n",
        "    \"process_string_clean_common\",\n",
        "    regexp_replace(col(\"process_string\"), common_substring, \"\"),\n",
        ")\n",
        "\n",
        "logs_grouped_cleaned = logs_grouped_cleaned.withColumn(\n",
        "    \"process_string_cleaned\",\n",
        "    regexp_replace(col(\"process_string_clean_common\"), \"[^a-zA-Z0-9\\s]\", \"\")\n",
        ")\n",
        "\n",
        "# Show the cleaned DataFrame\n",
        "logs_grouped_cleaned.select(\"process_string_cleaned\").limit(1).show(truncate=False)"
      ]
    },
    {
      "cell_type": "markdown",
      "metadata": {
        "id": "EEAV8pGFBxWv"
      },
      "source": [
        "### 1.2. Define the shingles of each function"
      ]
    },
    {
      "cell_type": "code",
      "execution_count": 14,
      "metadata": {
        "colab": {
          "base_uri": "https://localhost:8080/"
        },
        "id": "rXrJBNF2BxWv",
        "outputId": "b22098e3-a233-47b6-91ac-8be93d152860"
      },
      "outputs": [
        {
          "output_type": "stream",
          "name": "stdout",
          "text": [
            "Average length of server names: 14.310679611650485\n",
            "Determined shingle length: 5\n"
          ]
        }
      ],
      "source": [
        "# Define the shingling function for process strings\n",
        "def shingle_process_string(process_string, k):\n",
        "    shingle_set = set()\n",
        "    for i in range(len(process_string) - k + 1):\n",
        "        shingle = process_string[i:i + k]\n",
        "        shingle_set.add(shingle)\n",
        "    return list(shingle_set)\n",
        "\n",
        "# Define the shingle length based on the average length of the servers of the first 5 rows\n",
        "first_rows = logs_grouped_cleaned.take(5)\n",
        "average_length = 0\n",
        "\n",
        "# Calculate the average length of server names\n",
        "total_length = 0\n",
        "total_servers = 0\n",
        "\n",
        "# For each row in the sample rows sum the length of the names and the number of servers\n",
        "for row in first_rows:\n",
        "    servers = row[\"process_string_clean_common\"]\n",
        "    server_names = servers.split(',')\n",
        "    total_length += sum([len(server) for server in server_names])\n",
        "    total_servers += len(server_names)\n",
        "\n",
        "# Find the average server name length\n",
        "average_server_name_length = total_length / total_servers\n",
        "\n",
        "# Devine ths shingle length as the 30% of the average server name (or 2 if the names are too short)\n",
        "shingle_length_percentage = 0.3\n",
        "shingle_length = max(2, int(np.ceil(average_server_name_length *shingle_length_percentage)))\n",
        "\n",
        "print(f'Average length of server names: {average_server_name_length}')\n",
        "print(f'Determined shingle length: {shingle_length}')\n",
        "\n",
        "# Register the UDF for shingling\n",
        "shingle_udf = udf(lambda process_string: shingle_process_string(process_string, shingle_length), ArrayType(StringType()))\n",
        "\n",
        "# Apply the UDF to create shingles from process strings\n",
        "logs_grouped_cleaned_with_shingles = logs_grouped_cleaned.withColumn(\"shingles\", shingle_udf(col(\"process_string_cleaned\")))\n",
        "\n",
        "# Show the resulting DataFrame with shingles\n",
        "# logs_grouped_cleaned_with_shingles.select(\"process_id\", \"process_string_cleaned\", \"shingles\").limit(1).show(truncate=False)"
      ]
    },
    {
      "cell_type": "markdown",
      "metadata": {
        "id": "uQUcAWsqBxWw"
      },
      "source": [
        "### 1.3. Create Vocabulary from shingles"
      ]
    },
    {
      "cell_type": "markdown",
      "metadata": {
        "id": "44SUu8ZyBxWw"
      },
      "source": [
        "#### Keep all unique shingles"
      ]
    },
    {
      "cell_type": "code",
      "execution_count": 15,
      "metadata": {
        "colab": {
          "base_uri": "https://localhost:8080/"
        },
        "id": "3T3YnNwGBxWw",
        "outputId": "03f884e1-0f4e-4e5b-d64f-c3b4fc65956d"
      },
      "outputs": [
        {
          "output_type": "stream",
          "name": "stdout",
          "text": [
            "Vocabulary: ['heckv', 'djust', 'dhand', 'asebo', 's1ui1', 'ials4', 'ory2v', 'seboo', 'on1di', 'k7cur' . . . ]\n",
            "Length: 984\n"
          ]
        }
      ],
      "source": [
        "# Collect all shingles from the DataFrame into a single list\n",
        "all_unique_shingles = logs_grouped_cleaned_with_shingles.select(\"shingles\").rdd.flatMap(lambda row: row.shingles).distinct().collect()\n",
        "\n",
        "# Create a vocabulary dictionary where each shingle is assigned a unique index\n",
        "vocab = {shingle: idx for idx, shingle in enumerate(all_unique_shingles)}\n",
        "# Print the vocabulary to verify\n",
        "print(f'Vocabulary: {str(list(vocab)[:10])[:-1]} . . . ]')\n",
        "print(f'Length: {len(vocab)}')"
      ]
    },
    {
      "cell_type": "markdown",
      "metadata": {
        "id": "y0I21nVjBxWw"
      },
      "source": [
        "#### Create the sparse vector of shingle occurence for each process"
      ]
    },
    {
      "cell_type": "code",
      "execution_count": 16,
      "metadata": {
        "colab": {
          "base_uri": "https://localhost:8080/"
        },
        "id": "2GHSY2xWBxWw",
        "outputId": "9b2832ec-d829-42c6-ae7a-a8de19b18ec2"
      },
      "outputs": [
        {
          "output_type": "stream",
          "name": "stdout",
          "text": [
            "+----------+---------------------------------------------------------------------------------------------------------------------------------------------------------------------------------------------------------------------------------------------------------------------------------------------------------------------------------------------------------------------------------------------------------------------------------------------------------------------------------------------------------------------------------------------------------------------------------------------------------------------------------------------------------------------------------------------------------------------------------------------------------------------------------------------------------------------------------------------------------------------------------------------------------------------------------------------------------------------------------------------------------------------------------------------------------------------------------------------------------------------------------------------------------------------------------------------------------------------------------------------------------------------------------------------------------------------------------------------------------------------------------------------------------------------------------------------------------------------------------------------------------------------------------------------------------------------------------------------------------------------------------------------------------------------------------------------------------------------------------------------------------------------------------------------------------------------------------------------------------------------------+\n",
            "|process_id|features                                                                                                                                                                                                                                                                                                                                                                                                                                                                                                                                                                                                                                                                                                                                                                                                                                                                                                                                                                                                                                                                                                                                                                                                                                                                                                                                                                                                                                                                                                                                                                                                                                                                                                                                                                                                                                                                   |\n",
            "+----------+---------------------------------------------------------------------------------------------------------------------------------------------------------------------------------------------------------------------------------------------------------------------------------------------------------------------------------------------------------------------------------------------------------------------------------------------------------------------------------------------------------------------------------------------------------------------------------------------------------------------------------------------------------------------------------------------------------------------------------------------------------------------------------------------------------------------------------------------------------------------------------------------------------------------------------------------------------------------------------------------------------------------------------------------------------------------------------------------------------------------------------------------------------------------------------------------------------------------------------------------------------------------------------------------------------------------------------------------------------------------------------------------------------------------------------------------------------------------------------------------------------------------------------------------------------------------------------------------------------------------------------------------------------------------------------------------------------------------------------------------------------------------------------------------------------------------------------------------------------------------------+\n",
            "|12        |(984,[0,1,2,3,4,5,6,7,8,9,10,11,12,13,14,15,16,17,18,19,20,21,22,23,24,25,26,27,28,29,30,31,32,33,34,35,36,37,38,39,40,41,42,43,44,45,46,47,48,49,50,51,52,53,54,55,56,57,58,59,60,61,62,63,64,65,66,67,68,69,70,71,72,73,74,75,76,77,78,79,80,81,82,83,84,85,86,87,88,89,90,91,92,93,94,95,96,97,98,99,100,101,102,103,104,105,106,107,108,109,110,111,112,113,114,115,116,117,118,119,120,121,122,123,124,125,126,127,128,129,130,131,132,133,134,135,136,137,138,139,140,141,142,143,144,145,146,147,148,149,150,151,152,153,154,155,156,157,158,159,160,161,162,163,164,165,166,167,168,169,170,171,172,173,174,175,176,177,178,179,180,181,182,183,184,185,186,187,188,189,190,191,192,193,194,195,196,197,198,199,200,201,202,203,204,205,206,207,208,209,210,211,212,213,214,215,216,217,218,219,220,221,222,223,224,225,226,227,228,229,230,231,232,233,234,235,236,237],[1.0,1.0,1.0,1.0,1.0,1.0,1.0,1.0,1.0,1.0,1.0,1.0,1.0,1.0,1.0,1.0,1.0,1.0,1.0,1.0,1.0,1.0,1.0,1.0,1.0,1.0,1.0,1.0,1.0,1.0,1.0,1.0,1.0,1.0,1.0,1.0,1.0,1.0,1.0,1.0,1.0,1.0,1.0,1.0,1.0,1.0,1.0,1.0,1.0,1.0,1.0,1.0,1.0,1.0,1.0,1.0,1.0,1.0,1.0,1.0,1.0,1.0,1.0,1.0,1.0,1.0,1.0,1.0,1.0,1.0,1.0,1.0,1.0,1.0,1.0,1.0,1.0,1.0,1.0,1.0,1.0,1.0,1.0,1.0,1.0,1.0,1.0,1.0,1.0,1.0,1.0,1.0,1.0,1.0,1.0,1.0,1.0,1.0,1.0,1.0,1.0,1.0,1.0,1.0,1.0,1.0,1.0,1.0,1.0,1.0,1.0,1.0,1.0,1.0,1.0,1.0,1.0,1.0,1.0,1.0,1.0,1.0,1.0,1.0,1.0,1.0,1.0,1.0,1.0,1.0,1.0,1.0,1.0,1.0,1.0,1.0,1.0,1.0,1.0,1.0,1.0,1.0,1.0,1.0,1.0,1.0,1.0,1.0,1.0,1.0,1.0,1.0,1.0,1.0,1.0,1.0,1.0,1.0,1.0,1.0,1.0,1.0,1.0,1.0,1.0,1.0,1.0,1.0,1.0,1.0,1.0,1.0,1.0,1.0,1.0,1.0,1.0,1.0,1.0,1.0,1.0,1.0,1.0,1.0,1.0,1.0,1.0,1.0,1.0,1.0,1.0,1.0,1.0,1.0,1.0,1.0,1.0,1.0,1.0,1.0,1.0,1.0,1.0,1.0,1.0,1.0,1.0,1.0,1.0,1.0,1.0,1.0,1.0,1.0,1.0,1.0,1.0,1.0,1.0,1.0,1.0,1.0,1.0,1.0,1.0,1.0,1.0,1.0,1.0,1.0,1.0,1.0,1.0,1.0,1.0,1.0,1.0,1.0])|\n",
            "+----------+---------------------------------------------------------------------------------------------------------------------------------------------------------------------------------------------------------------------------------------------------------------------------------------------------------------------------------------------------------------------------------------------------------------------------------------------------------------------------------------------------------------------------------------------------------------------------------------------------------------------------------------------------------------------------------------------------------------------------------------------------------------------------------------------------------------------------------------------------------------------------------------------------------------------------------------------------------------------------------------------------------------------------------------------------------------------------------------------------------------------------------------------------------------------------------------------------------------------------------------------------------------------------------------------------------------------------------------------------------------------------------------------------------------------------------------------------------------------------------------------------------------------------------------------------------------------------------------------------------------------------------------------------------------------------------------------------------------------------------------------------------------------------------------------------------------------------------------------------------------------------+\n",
            "\n"
          ]
        }
      ],
      "source": [
        "# Define a function to create sparse vectors based on the vocabulary\n",
        "def create_sparse_vector_for_lsh(shingles, vocab):\n",
        "    indices = []\n",
        "    for shingle in shingles:\n",
        "        if shingle in vocab:\n",
        "            idx = vocab[shingle]\n",
        "            indices.append(idx)\n",
        "\n",
        "    indices = sorted(indices)  # Sort indices\n",
        "    values = [1.0] * len(indices)\n",
        "    return Vectors.sparse(len(vocab), indices, values)\n",
        "\n",
        "# Register the UDF to create sparse vectors for LSH\n",
        "sparse_vector_for_lsh_udf = udf(lambda shingles: create_sparse_vector_for_lsh(shingles, vocab), VectorUDT())\n",
        "\n",
        "# Apply the UDF to create sparse vectors directly suitable for MinHashLSH\n",
        "logs_sparse_vectors = logs_grouped_cleaned_with_shingles.withColumn(\"features\", sparse_vector_for_lsh_udf(col(\"shingles\")))\n",
        "\n",
        "# Show the resulting DataFrame with sparse vectors\n",
        "logs_sparse_vectors.select(\"process_id\", \"features\").limit(1).show(truncate=False)"
      ]
    },
    {
      "cell_type": "markdown",
      "metadata": {
        "id": "5yE937uXBxWx"
      },
      "source": [
        "## 2. Perform MinHash and LSH using the pyspark function MinHashLSH"
      ]
    },
    {
      "cell_type": "markdown",
      "metadata": {
        "id": "KBhmKuIJBxWx"
      },
      "source": [
        "### 2.1. Create MinHashLSH model and fit it with the 'features' column of the 'logs_sparse_vectors' dataframe"
      ]
    },
    {
      "cell_type": "code",
      "execution_count": 17,
      "metadata": {
        "colab": {
          "base_uri": "https://localhost:8080/"
        },
        "id": "gVfgolfSBxWx",
        "outputId": "e81277be-a7c2-4e3b-b63f-4b9b59188aaf"
      },
      "outputs": [
        {
          "output_type": "stream",
          "name": "stdout",
          "text": [
            "+----------+------------------------------------------------------------------------------------------------------------------------------------------------------------------------------------------------------------------------------------------------------------------------------------------------------------------------------------------------------------------------------------------------------------+\n",
            "|process_id|hashes                                                                                                                                                                                                                                                                                                                                                                                                      |\n",
            "+----------+------------------------------------------------------------------------------------------------------------------------------------------------------------------------------------------------------------------------------------------------------------------------------------------------------------------------------------------------------------------------------------------------------------+\n",
            "|12        |[[973116.0], [3758271.0], [2348276.0], [7263313.0], [1179714.0], [8642351.0], [3089106.0], [628949.0], [6335436.0], [6136671.0], [5871152.0], [5905042.0], [2987192.0], [7670403.0], [892431.0], [2.8302717E7], [5942853.0], [5366464.0], [774503.0], [4572659.0], [2197154.0], [6154017.0], [4198620.0], [2.9649119E7], [4635654.0], [2131854.0], [9669115.0], [2.2891114E7], [1.0015956E7], [1.5521283E7]]|\n",
            "+----------+------------------------------------------------------------------------------------------------------------------------------------------------------------------------------------------------------------------------------------------------------------------------------------------------------------------------------------------------------------------------------------------------------------+\n",
            "\n"
          ]
        }
      ],
      "source": [
        "# Initialize MinHashLSH\n",
        "'''\n",
        ":inputCol: The column of our dataframe that is going to be used for hashing\n",
        ":outputCol: The new solumn that will be created that includes the hashes\n",
        ":numHashTables: Number of MinHash functions\n",
        ":seed: Seed for reproducibility\n",
        "\n",
        "'''\n",
        "mh = MinHashLSH(inputCol=\"features\", outputCol=\"hashes\", numHashTables=30, seed=12345)\n",
        "\n",
        "# Fit the model\n",
        "model = mh.fit(logs_sparse_vectors)\n",
        "\n",
        "# Transform the data to include the hashes\n",
        "transformed_df = model.transform(logs_sparse_vectors)\n",
        "\n",
        "# Show the resulting DataFrame with hashes\n",
        "transformed_df.select(\"process_id\", \"hashes\").limit(1).show(truncate=False)"
      ]
    },
    {
      "cell_type": "markdown",
      "metadata": {
        "id": "SlRniUKaBxWx"
      },
      "source": [
        "### 2.2. Find the pairs that have Jaccard distance less than 'max_distance_threshold'"
      ]
    },
    {
      "cell_type": "code",
      "execution_count": 18,
      "metadata": {
        "id": "46Uj0cQzBxWx"
      },
      "outputs": [],
      "source": [
        "# Find similar pairs with Jaccard similarity above a threshold\n",
        "max_distance_threshold = 0.425\n",
        "similar_pairs_df = model.approxSimilarityJoin(transformed_df, transformed_df, max_distance_threshold, distCol=\"JaccardDistance\") \\\n",
        "    .select(col(\"datasetA.process_id\").alias(\"process_id_1\"),\n",
        "            col(\"datasetB.process_id\").alias(\"process_id_2\"),\n",
        "            col(\"JaccardDistance\"))\n",
        "\n",
        "# Filter out rows where process_id_1 is equal to process_id_2\n",
        "filtered_pairs_df = similar_pairs_df.filter(col(\"process_id_1\") != col(\"process_id_2\"))"
      ]
    },
    {
      "cell_type": "code",
      "source": [
        "filtered_pairs_df.select(\"JaccardDistance\").describe().show()"
      ],
      "metadata": {
        "colab": {
          "base_uri": "https://localhost:8080/"
        },
        "id": "u6-491EmQvPR",
        "outputId": "a9d8221f-85bf-4c71-db2c-04ea3a675d45"
      },
      "execution_count": 19,
      "outputs": [
        {
          "output_type": "stream",
          "name": "stdout",
          "text": [
            "+-------+-------------------+\n",
            "|summary|    JaccardDistance|\n",
            "+-------+-------------------+\n",
            "|  count|                 20|\n",
            "|   mean| 0.3615054154201295|\n",
            "| stddev|0.06497234737922798|\n",
            "|    min| 0.2550143266475645|\n",
            "|    max|0.42494226327944573|\n",
            "+-------+-------------------+\n",
            "\n"
          ]
        }
      ]
    },
    {
      "cell_type": "code",
      "source": [
        "filtered_pairs_df.show()"
      ],
      "metadata": {
        "colab": {
          "base_uri": "https://localhost:8080/"
        },
        "id": "OgUNgleOr8g-",
        "outputId": "fdad141a-3252-4a6e-f648-51e7601090d4"
      },
      "execution_count": 20,
      "outputs": [
        {
          "output_type": "stream",
          "name": "stdout",
          "text": [
            "+------------+------------+-------------------+\n",
            "|process_id_1|process_id_2|    JaccardDistance|\n",
            "+------------+------------+-------------------+\n",
            "|          16|          19| 0.2550143266475645|\n",
            "|          19|          17|0.40731070496083555|\n",
            "|           2|           1|0.42494226327944573|\n",
            "|           3|           5| 0.3878504672897196|\n",
            "|           1|           2|0.42494226327944573|\n",
            "|          16|          18| 0.4083333333333333|\n",
            "|          16|          17| 0.4162303664921466|\n",
            "|           5|           3| 0.3878504672897196|\n",
            "|          12|          14| 0.3161764705882353|\n",
            "|          17|          16| 0.4162303664921466|\n",
            "|          19|          16| 0.2550143266475645|\n",
            "|          18|          16| 0.4083333333333333|\n",
            "|          10|           9| 0.2635135135135135|\n",
            "|           9|          10| 0.2635135135135135|\n",
            "|          20|          17| 0.4179487179487179|\n",
            "|          17|          19|0.40731070496083555|\n",
            "|           1|           5|0.31773399014778325|\n",
            "|          17|          20| 0.4179487179487179|\n",
            "|           5|           1|0.31773399014778325|\n",
            "|          14|          12| 0.3161764705882353|\n",
            "+------------+------------+-------------------+\n",
            "\n"
          ]
        }
      ]
    },
    {
      "cell_type": "markdown",
      "source": [
        "## 3. Group similar processes with connected components in graph and update dataset"
      ],
      "metadata": {
        "id": "paIsZEippLTI"
      }
    },
    {
      "cell_type": "markdown",
      "source": [
        "### 3.1. Construct graph using similarities between nodes as edges and find connected components"
      ],
      "metadata": {
        "id": "XpDb_PWen4Y3"
      }
    },
    {
      "cell_type": "code",
      "source": [
        "# Create GraphFrame\n",
        "edges = filtered_pairs_df.select(col(\"process_id_1\").alias(\"src\"),\n",
        "                                col(\"process_id_2\").alias(\"dst\"),\n",
        "                                col(\"JaccardDistance\").alias(\"weight\"))\n",
        "vertices = edges.selectExpr(\"src as id\").union(edges.selectExpr(\"dst as id\")).distinct()\n",
        "graph = GraphFrame(vertices, edges)\n",
        "\n",
        "# Find Connected Components\n",
        "connected_components = graph.connectedComponents()"
      ],
      "metadata": {
        "id": "z7yy7xiesmMg",
        "colab": {
          "base_uri": "https://localhost:8080/"
        },
        "outputId": "d397d45f-bea4-4d19-80d9-66d2cb2a5e7d"
      },
      "execution_count": 21,
      "outputs": [
        {
          "output_type": "stream",
          "name": "stderr",
          "text": [
            "/usr/local/lib/python3.10/dist-packages/pyspark/sql/dataframe.py:168: UserWarning: DataFrame.sql_ctx is an internal property, and will be removed in future releases. Use DataFrame.sparkSession instead.\n",
            "  warnings.warn(\n",
            "/usr/local/lib/python3.10/dist-packages/pyspark/sql/dataframe.py:147: UserWarning: DataFrame constructor is internal. Do not directly use it.\n",
            "  warnings.warn(\"DataFrame constructor is internal. Do not directly use it.\")\n"
          ]
        }
      ]
    },
    {
      "cell_type": "code",
      "source": [
        "# Construct NetworkX graph\n",
        "nx_graph = nx.Graph()\n",
        "for row in graph.edges.collect():\n",
        "    nx_graph.add_edge(row['src'], row['dst'])\n",
        "\n",
        "# Visualize using matplotlib\n",
        "pos = nx.spring_layout(nx_graph)\n",
        "nx.draw(nx_graph, pos, with_labels=True, node_color='skyblue', node_size=500,\n",
        "        edge_color='#909090', width=0.5, font_size=8, font_color='#7c7c7c',\n",
        "        font_weight='bold')\n",
        "plt.show()\n",
        "\n",
        "print()\n",
        "\n",
        "pos = nx.fruchterman_reingold_layout(nx_graph)\n",
        "nx.draw(nx_graph, pos, with_labels=True, node_color='skyblue', node_size=500,\n",
        "        edge_color='#909090', width=0.5, font_size=8, font_color='#7c7c7c',\n",
        "        font_weight='bold')\n",
        "plt.show()"
      ],
      "metadata": {
        "colab": {
          "base_uri": "https://localhost:8080/",
          "height": 1000
        },
        "id": "EjnBIBCsx_yc",
        "outputId": "4a518214-5b8d-4e8e-ccdc-f8724b8f6a8e"
      },
      "execution_count": 31,
      "outputs": [
        {
          "output_type": "display_data",
          "data": {
            "text/plain": [
              "<Figure size 640x480 with 1 Axes>"
            ],
            "image/png": "[encoded data removed]"
          },
          "metadata": {}
        },
        {
          "output_type": "stream",
          "name": "stdout",
          "text": [
            "\n"
          ]
        },
        {
          "output_type": "display_data",
          "data": {
            "text/plain": [
              "<Figure size 640x480 with 1 Axes>"
            ],
            "image/png": "[encoded data removed]"
          },
          "metadata": {}
        }
      ]
    },
    {
      "cell_type": "markdown",
      "source": [
        "### 3.2. Keep only one out of each group of similar processes and create the final filtered dateset"
      ],
      "metadata": {
        "id": "OwmZdQiPnjok"
      }
    },
    {
      "cell_type": "code",
      "source": [
        "# Define the window specification for collecting members\n",
        "window_spec_collect = Window.partitionBy(\"component\")\n",
        "\n",
        "# Define the window specification for ordering by id\n",
        "window_spec_representative = Window.partitionBy(\"component\").orderBy(\"id\")\n",
        "\n",
        "# Use row_number to get the representative\n",
        "representatives_with_row_num = connected_components \\\n",
        "    .withColumn(\"row_num\", row_number().over(window_spec_representative))\n",
        "\n",
        "# Collect all ids of the connected components into a list, excluding the representative\n",
        "connected_components_with_list = representatives_with_row_num \\\n",
        "    .withColumn(\"members\", collect_list(\n",
        "        when(col(\"row_num\") != 1, col(\"id\"))\n",
        "    ).over(window_spec_collect))\n",
        "\n",
        "# Filter for the representative and select the required columns\n",
        "groups_with_members = connected_components_with_list \\\n",
        "    .where(col(\"row_num\") == 1) \\\n",
        "    .select(\"id\", \"members\")"
      ],
      "metadata": {
        "id": "9VsWiEgyt69g"
      },
      "execution_count": 23,
      "outputs": []
    },
    {
      "cell_type": "code",
      "source": [
        "groups_with_members.show()"
      ],
      "metadata": {
        "colab": {
          "base_uri": "https://localhost:8080/"
        },
        "id": "eqiY1ECWwkZP",
        "outputId": "53331a2c-15aa-42ab-c276-407aa2fd4012"
      },
      "execution_count": 24,
      "outputs": [
        {
          "output_type": "stream",
          "name": "stdout",
          "text": [
            "+---+----------------+\n",
            "| id|         members|\n",
            "+---+----------------+\n",
            "|  1|       [2, 3, 5]|\n",
            "|  9|            [10]|\n",
            "| 12|            [14]|\n",
            "| 16|[17, 18, 19, 20]|\n",
            "+---+----------------+\n",
            "\n"
          ]
        }
      ]
    },
    {
      "cell_type": "code",
      "source": [
        "# Collect all the member lists into a single list\n",
        "member_lists = groups_with_members.select(\"members\").rdd.flatMap(lambda x: x).collect()\n",
        "\n",
        "# Flatten the list of lists into a single list\n",
        "ids_to_drop = list(chain.from_iterable(member_lists))\n",
        "\n",
        "print(ids_to_drop)"
      ],
      "metadata": {
        "colab": {
          "base_uri": "https://localhost:8080/"
        },
        "id": "-uRAdqCskcVL",
        "outputId": "1adde64f-c2f8-4c90-e39c-9d955a9cd02c"
      },
      "execution_count": 25,
      "outputs": [
        {
          "output_type": "stream",
          "name": "stdout",
          "text": [
            "[2, 3, 5, 10, 14, 17, 18, 19, 20]\n"
          ]
        }
      ]
    },
    {
      "cell_type": "code",
      "source": [
        "# Delete grouped processes\n",
        "filtered_df = logs_grouped.filter(~col(\"process_id\").isin(ids_to_drop))\n",
        "\n",
        "print(f'The original dataset had: {logs_grouped.count()} processes and we kept: {filtered_df.count()}')"
      ],
      "metadata": {
        "colab": {
          "base_uri": "https://localhost:8080/"
        },
        "id": "VMcP452LlHHM",
        "outputId": "711231c5-dffb-4848-d97d-c80c66fca1f6"
      },
      "execution_count": 26,
      "outputs": [
        {
          "output_type": "stream",
          "name": "stdout",
          "text": [
            "The original dataset had: 20 processes and we kept: 11\n"
          ]
        }
      ]
    },
    {
      "cell_type": "code",
      "source": [
        "filtered_df_strings = filtered_df.select(\n",
        "    col(\"process_id\"),\n",
        "    concat(lit(\"[\"), concat_ws(\",\", col(\"from_servers\")), lit(\"]\")).alias(\"from_servers\"),\n",
        "    concat(lit(\"[\"), concat_ws(\",\", col(\"to_servers\")), lit(\"]\")).alias(\"to_servers\"),\n",
        "    concat(lit(\"[\"), concat_ws(\",\", col(\"times\")), lit(\"]\")).alias(\"times\"),\n",
        "    concat(lit(\"[\"), concat_ws(\",\", col(\"actions\")), lit(\"]\")).alias(\"actions\")\n",
        ")"
      ],
      "metadata": {
        "id": "tYAcSYqJXF0t"
      },
      "execution_count": 27,
      "outputs": []
    },
    {
      "cell_type": "code",
      "source": [
        "filtered_df_strings.show(1, truncate=False)"
      ],
      "metadata": {
        "colab": {
          "base_uri": "https://localhost:8080/"
        },
        "id": "LP_oKxhOXk-t",
        "outputId": "8e6bb848-7f22-460a-8a2f-29277a1ed441"
      },
      "execution_count": 28,
      "outputs": [
        {
          "output_type": "stream",
          "name": "stdout",
          "text": [
            "+----------+-------------------------------------------------------------------------------------------------------------------------------------------------------------------------------------------------------------------------------------------------------------------------------------------------------------------------------------------------------------------------------------------------------------------------------------------------------------+--------------------------------------------------------------------------------------------------------------------------------------------------------------------------------------------------------------------------------------------------------------------------------------------------------------------------------------------------------------------------------------------------------------------------------------------------------------------+---------------------------------------------------------------------------------+-----------------------------------------------------------------------------------------------------------------------------------------------------------------+\n",
            "|process_id|from_servers                                                                                                                                                                                                                                                                                                                                                                                                                                                 |to_servers                                                                                                                                                                                                                                                                                                                                                                                                                                                          |times                                                                            |actions                                                                                                                                                          |\n",
            "+----------+-------------------------------------------------------------------------------------------------------------------------------------------------------------------------------------------------------------------------------------------------------------------------------------------------------------------------------------------------------------------------------------------------------------------------------------------------------------+--------------------------------------------------------------------------------------------------------------------------------------------------------------------------------------------------------------------------------------------------------------------------------------------------------------------------------------------------------------------------------------------------------------------------------------------------------------------+---------------------------------------------------------------------------------+-----------------------------------------------------------------------------------------------------------------------------------------------------------------+\n",
            "|12        |[book_availability_server_1,bundle_offer_server_1,card_check_server_7,currency_conversion_server_1,discount_server_3,external_inventory_server_1,fraud_check_visa_server_5,gift_wrap_server_1,inventory_update_server_16,limit_check_visa_server_4,purchase_book_server_1,review_server_4,seasonal_adjustments_server_1,second_hand_market_server_1,shipping_options_server_1,ui_server_1,user,user_credentials_server_4,user_history_server_2,visa_server_1]|[external_inventory_server_1,user_credentials_server_4,visa_server_1,shipping_options_server_1,gift_wrap_server_1,second_hand_market_server_1,currency_conversion_server_1,book_availability_server_1,seasonal_adjustments_server_1,fraud_check_visa_server_5,discount_server_3,ad_server_5,review_server_4,bundle_offer_server_1,inventory_update_server_16,purchase_book_server_1,ui_server_1,user_history_server_2,card_check_server_7,limit_check_visa_server_4]|[224,258,278,338,214,232,336,215,377,321,209,427,400,251,346,203,202,261,268,295]|[Request,Request,Request,Request,Request,Request,Request,Request,Request,Request,Request,Request,Request,Request,Request,Request,Request,Request,Request,Request]|\n",
            "+----------+-------------------------------------------------------------------------------------------------------------------------------------------------------------------------------------------------------------------------------------------------------------------------------------------------------------------------------------------------------------------------------------------------------------------------------------------------------------+--------------------------------------------------------------------------------------------------------------------------------------------------------------------------------------------------------------------------------------------------------------------------------------------------------------------------------------------------------------------------------------------------------------------------------------------------------------------+---------------------------------------------------------------------------------+-----------------------------------------------------------------------------------------------------------------------------------------------------------------+\n",
            "only showing top 1 row\n",
            "\n"
          ]
        }
      ]
    },
    {
      "cell_type": "code",
      "source": [
        "filtered_df_strings.write.csv('results.csv', header=True, mode='overwrite')\n"
      ],
      "metadata": {
        "id": "B7o-CqvgW3La"
      },
      "execution_count": 29,
      "outputs": []
    }
  ],
  "metadata": {
    "kernelspec": {
      "display_name": "Python 3",
      "language": "python",
      "name": "python3"
    },
    "language_info": {
      "codemirror_mode": {
        "name": "ipython",
        "version": 3
      },
      "file_extension": ".py",
      "mimetype": "text/x-python",
      "name": "python",
      "nbconvert_exporter": "python",
      "pygments_lexer": "ipython3",
      "version": "3.11.0"
    },
    "colab": {
      "provenance": []
    }
  },
  "nbformat": 4,
  "nbformat_minor": 0
}