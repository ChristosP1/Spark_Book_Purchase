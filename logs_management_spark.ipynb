{
 "cells": [
  {
   "cell_type": "markdown",
   "metadata": {},
   "source": [
    "# Spark Tasks"
   ]
  },
  {
   "cell_type": "markdown",
   "metadata": {},
   "source": [
    "## Imports and environment initialization"
   ]
  },
  {
   "cell_type": "code",
   "execution_count": 48,
   "metadata": {},
   "outputs": [],
   "source": [
    "import os\n",
    "import pyspark\n",
    "from pyspark import SparkConf\n",
    "from pyspark.sql.functions import col, split, regexp_replace\n",
    "from pyspark.sql import SparkSession\n",
    "import numpy as np\n",
    "from pyspark.ml.feature import VectorAssembler\n",
    "from pyspark.ml.clustering import KMeans\n",
    "\n",
    "\n",
    "\n",
    "# Set environment variables\n",
    "os.environ[\"JAVA_HOME\"] = \"C:/Program Files/Java/jdk-22\"\n",
    "os.environ[\"SPARK_HOME\"] = \"C:/Spark/spark-3.5.1-bin-hadoop3\"\n",
    "os.environ[\"HADOOP_HOME\"] = \"C:/Hadoop\"\n",
    "os.environ[\"PYSPARK_PYTHON\"] = \"C:/Users/chris/AppData/Local/Programs/Python/Python311/python.exe\" \n",
    "os.environ[\"PATH\"] = (\n",
    "    os.path.join(os.environ[\"JAVA_HOME\"], \"bin\") + os.pathsep +\n",
    "    os.path.join(os.environ[\"SPARK_HOME\"], \"bin\") + os.pathsep +\n",
    "    os.path.join(os.environ[\"HADOOP_HOME\"], \"bin\") + os.pathsep +\n",
    "    os.path.join(os.environ[\"PYSPARK_PYTHON\"]) + os.pathsep +\n",
    "    os.environ[\"PATH\"]\n",
    ")"
   ]
  },
  {
   "cell_type": "markdown",
   "metadata": {},
   "source": [
    "## Create & Configure Session"
   ]
  },
  {
   "cell_type": "code",
   "execution_count": 40,
   "metadata": {},
   "outputs": [],
   "source": [
    "def create_session():\n",
    "    # create the session\n",
    "    conf = SparkConf()\n",
    "    conf.setAppName(\"DIS-lab-1\")    # Sets name of the Spark Application\n",
    "    conf.setMaster(\"local[*]\")    # Master URL. In this case local[*] uses all the available cores in the machine\n",
    "    conf.set(\"spark.driver.memory\", \"2G\")   # Memory allocated to driver process\n",
    "    conf.set(\"spark.driver.maxResultSize\", \"2G\")    # Maximum size of results that can be returned to driver\n",
    "    conf.set(\"spark.executor.memory\", \"1G\")    # Memory allocated to each executor     \n",
    "    sc = pyspark.SparkContext(conf=conf)    # Initializes tha Spark context with this specific configuration\n",
    "    spark = SparkSession.builder.getOrCreate()    # Creates Spark session\n",
    "    \n",
    "    return sc, spark"
   ]
  },
  {
   "cell_type": "code",
   "execution_count": 41,
   "metadata": {},
   "outputs": [
    {
     "name": "stdout",
     "output_type": "stream",
     "text": [
      "--Stopped existing SparkContext\n",
      "--Stopped existing SparkSession\n",
      "Spark session created successfully!\n"
     ]
    },
    {
     "data": {
      "text/html": [
       "\n",
       "            <div>\n",
       "                <p><b>SparkSession - in-memory</b></p>\n",
       "                \n",
       "        <div>\n",
       "            <p><b>SparkContext</b></p>\n",
       "\n",
       "            <p><a href=\"http://Belmont.home:4040\">Spark UI</a></p>\n",
       "\n",
       "            <dl>\n",
       "              <dt>Version</dt>\n",
       "                <dd><code>v3.5.1</code></dd>\n",
       "              <dt>Master</dt>\n",
       "                <dd><code>local[*]</code></dd>\n",
       "              <dt>AppName</dt>\n",
       "                <dd><code>DIS-lab-1</code></dd>\n",
       "            </dl>\n",
       "        </div>\n",
       "        \n",
       "            </div>\n",
       "        "
      ],
      "text/plain": [
       "<pyspark.sql.session.SparkSession at 0x26259293550>"
      ]
     },
     "execution_count": 41,
     "metadata": {},
     "output_type": "execute_result"
    }
   ],
   "source": [
    "try:\n",
    "    if 'sc' in globals() and sc is not None:\n",
    "        sc.stop()\n",
    "        print(\"--Stopped existing SparkContext\")\n",
    "    if 'spark' in globals() and isinstance(spark, SparkSession):\n",
    "        spark.stop()\n",
    "        print(\"--Stopped existing SparkSession\")\n",
    "except Exception as e:\n",
    "    print(f\"Error stopping existing Spark session or context: {e}\")\n",
    "\n",
    "# Create a new Spark session\n",
    "sc, spark = create_session()\n",
    "print(\"Spark session created successfully!\")\n",
    "spark"
   ]
  },
  {
   "cell_type": "markdown",
   "metadata": {},
   "source": [
    "## Load and Split Data"
   ]
  },
  {
   "cell_type": "markdown",
   "metadata": {},
   "source": [
    "### Load the data from the CSVs"
   ]
  },
  {
   "cell_type": "code",
   "execution_count": 42,
   "metadata": {},
   "outputs": [
    {
     "name": "stdout",
     "output_type": "stream",
     "text": [
      "+--------------------+\n",
      "|                Logs|\n",
      "+--------------------+\n",
      "|<user, ui_server_...|\n",
      "|<user, ui_server_...|\n",
      "|<user, ui_server_...|\n",
      "|<user, ui_server_...|\n",
      "|<user, ui_server_...|\n",
      "+--------------------+\n",
      "only showing top 5 rows\n",
      "\n"
     ]
    }
   ],
   "source": [
    "logs = spark.read.csv('datasets/dataset_1.csv', header=True, inferSchema=True)\n",
    "logs.show(5)"
   ]
  },
  {
   "cell_type": "markdown",
   "metadata": {},
   "source": [
    "### Split the data into 5 separate columns"
   ]
  },
  {
   "cell_type": "code",
   "execution_count": 45,
   "metadata": {},
   "outputs": [
    {
     "name": "stdout",
     "output_type": "stream",
     "text": [
      "+-----------+------------+----+-------+----------+\n",
      "|from_server|   to_server|time| action|process_id|\n",
      "+-----------+------------+----+-------+----------+\n",
      "|       user|ui_server_16|   0|Request|0000000931|\n",
      "|       user| ui_server_5|   2|Request|0000000237|\n",
      "|       user|ui_server_17|   3|Request|0000000782|\n",
      "|       user| ui_server_3|   3|Request|0000000992|\n",
      "|       user|ui_server_17|   4|Request|0000000074|\n",
      "+-----------+------------+----+-------+----------+\n",
      "only showing top 5 rows\n",
      "\n"
     ]
    }
   ],
   "source": [
    "logs_splitted = logs \\\n",
    "    .withColumn(\"from_server\", regexp_replace(split(col(\"Logs\"), \", \").getItem(0), \"[<>]\", \"\")) \\\n",
    "    .withColumn(\"to_server\", split(col(\"Logs\"), \", \").getItem(1)) \\\n",
    "    .withColumn(\"time\", split(col(\"Logs\"), \", \").getItem(2)) \\\n",
    "    .withColumn(\"action\", split(col(\"Logs\"), \", \").getItem(3)) \\\n",
    "    .withColumn(\"process_id\", regexp_replace(split(col(\"Logs\"), \", \").getItem(4), \"[<>]\", \"\")) \\\n",
    "    .drop(\"Logs\")\n",
    "\n",
    "logs_splitted.show(5)"
   ]
  },
  {
   "cell_type": "markdown",
   "metadata": {},
   "source": [
    "### Cast the \"time\" and \"process_id\" columns to integers"
   ]
  },
  {
   "cell_type": "code",
   "execution_count": 55,
   "metadata": {},
   "outputs": [
    {
     "name": "stdout",
     "output_type": "stream",
     "text": [
      "+------------+--------------------+----+--------+----------+\n",
      "| from_server|           to_server|time|  action|process_id|\n",
      "+------------+--------------------+----+--------+----------+\n",
      "|        user|        ui_server_16|   0| Request|       931|\n",
      "|        user|         ui_server_5|   2| Request|       237|\n",
      "|        user|        ui_server_17|   3| Request|       782|\n",
      "|        user|         ui_server_3|   3| Request|       992|\n",
      "|        user|        ui_server_17|   4| Request|        74|\n",
      "|        user|        ui_server_19|   4| Request|       346|\n",
      "|        user|         ui_server_6|   5| Request|       384|\n",
      "|        user|         ui_server_3|  10| Request|       613|\n",
      "|        user|        ui_server_20|  10| Request|       440|\n",
      "| ui_server_3|                user|  11|Response|       992|\n",
      "| ui_server_6|                user|  11|Response|       384|\n",
      "| ui_server_6|purchase_book_ser...|  12| Request|       384|\n",
      "|ui_server_16|                user|  12|Response|       931|\n",
      "|ui_server_19|                user|  12|Response|       346|\n",
      "| ui_server_3|purchase_book_ser...|  12| Request|       992|\n",
      "|ui_server_19|purchase_book_ser...|  13| Request|       346|\n",
      "|        user|        ui_server_10|  13| Request|       777|\n",
      "|ui_server_16|purchase_book_ser...|  13| Request|       931|\n",
      "| ui_server_5|                user|  13|Response|       237|\n",
      "|ui_server_17|                user|  14|Response|       782|\n",
      "+------------+--------------------+----+--------+----------+\n",
      "only showing top 20 rows\n",
      "\n"
     ]
    }
   ],
   "source": [
    "logs_casted = logs_splitted \\\n",
    "    .withColumn(\"time\", col(\"time\").cast(\"integer\")) \\\n",
    "    .withColumn(\"process_id\", col(\"process_id\").cast(\"integer\"))\n",
    "\n",
    "logs_casted.show(20)"
   ]
  },
  {
   "cell_type": "markdown",
   "metadata": {},
   "source": [
    "## Clustering"
   ]
  },
  {
   "cell_type": "markdown",
   "metadata": {},
   "source": [
    "### Prepare data using VectorAssembler"
   ]
  },
  {
   "cell_type": "code",
   "execution_count": 54,
   "metadata": {},
   "outputs": [
    {
     "name": "stdout",
     "output_type": "stream",
     "text": [
      "+------------+--------------------+----+--------+----------+------------+\n",
      "| from_server|           to_server|time|  action|process_id|    features|\n",
      "+------------+--------------------+----+--------+----------+------------+\n",
      "|        user|        ui_server_16|   0| Request|       931| [0.0,931.0]|\n",
      "|        user|         ui_server_5|   2| Request|       237| [2.0,237.0]|\n",
      "|        user|        ui_server_17|   3| Request|       782| [3.0,782.0]|\n",
      "|        user|         ui_server_3|   3| Request|       992| [3.0,992.0]|\n",
      "|        user|        ui_server_17|   4| Request|        74|  [4.0,74.0]|\n",
      "|        user|        ui_server_19|   4| Request|       346| [4.0,346.0]|\n",
      "|        user|         ui_server_6|   5| Request|       384| [5.0,384.0]|\n",
      "|        user|         ui_server_3|  10| Request|       613|[10.0,613.0]|\n",
      "|        user|        ui_server_20|  10| Request|       440|[10.0,440.0]|\n",
      "| ui_server_3|                user|  11|Response|       992|[11.0,992.0]|\n",
      "| ui_server_6|                user|  11|Response|       384|[11.0,384.0]|\n",
      "| ui_server_6|purchase_book_ser...|  12| Request|       384|[12.0,384.0]|\n",
      "|ui_server_16|                user|  12|Response|       931|[12.0,931.0]|\n",
      "|ui_server_19|                user|  12|Response|       346|[12.0,346.0]|\n",
      "| ui_server_3|purchase_book_ser...|  12| Request|       992|[12.0,992.0]|\n",
      "|ui_server_19|purchase_book_ser...|  13| Request|       346|[13.0,346.0]|\n",
      "|        user|        ui_server_10|  13| Request|       777|[13.0,777.0]|\n",
      "|ui_server_16|purchase_book_ser...|  13| Request|       931|[13.0,931.0]|\n",
      "| ui_server_5|                user|  13|Response|       237|[13.0,237.0]|\n",
      "|ui_server_17|                user|  14|Response|       782|[14.0,782.0]|\n",
      "+------------+--------------------+----+--------+----------+------------+\n",
      "only showing top 20 rows\n",
      "\n"
     ]
    }
   ],
   "source": [
    "# List all the columns to include in the clustering\n",
    "feature_columns = ['time', 'process_id']  \n",
    "\n",
    "# Assemble these columns into a single feature vector\n",
    "assembler = VectorAssembler(inputCols=feature_columns, outputCol=\"features\")\n",
    "logs_with_features = assembler.transform(logs_casted)\n",
    "\n",
    "logs_with_features.show(20)"
   ]
  },
  {
   "cell_type": "markdown",
   "metadata": {},
   "source": [
    "### Clustering with K-means"
   ]
  },
  {
   "cell_type": "code",
   "execution_count": 53,
   "metadata": {},
   "outputs": [
    {
     "name": "stdout",
     "output_type": "stream",
     "text": [
      "+----------+-----------+----------+\n",
      "|process_id|   features|prediction|\n",
      "+----------+-----------+----------+\n",
      "|       931|[0.0,931.0]|         1|\n",
      "|       237|[2.0,237.0]|         2|\n",
      "|       782|[3.0,782.0]|         1|\n",
      "|       992|[3.0,992.0]|         1|\n",
      "|        74| [4.0,74.0]|         2|\n",
      "+----------+-----------+----------+\n",
      "only showing top 5 rows\n",
      "\n"
     ]
    }
   ],
   "source": [
    "# KMeans algorithm setup\n",
    "kmeans = KMeans().setK(10).setSeed(1).setFeaturesCol(\"features\")\n",
    "model = kmeans.fit(logs_with_features)\n",
    "\n",
    "# Apply model to data to categorize each row into a cluster\n",
    "predictions = model.transform(logs_with_features)\n",
    "\n",
    "# Show a few results\n",
    "predictions.select(\"process_id\", \"features\", \"prediction\").show(5)"
   ]
  },
  {
   "cell_type": "code",
   "execution_count": null,
   "metadata": {},
   "outputs": [],
   "source": []
  },
  {
   "cell_type": "code",
   "execution_count": null,
   "metadata": {},
   "outputs": [],
   "source": []
  },
  {
   "cell_type": "code",
   "execution_count": null,
   "metadata": {},
   "outputs": [],
   "source": []
  },
  {
   "cell_type": "code",
   "execution_count": null,
   "metadata": {},
   "outputs": [],
   "source": []
  }
 ],
 "metadata": {
  "kernelspec": {
   "display_name": "Python 3",
   "language": "python",
   "name": "python3"
  },
  "language_info": {
   "codemirror_mode": {
    "name": "ipython",
    "version": 3
   },
   "file_extension": ".py",
   "mimetype": "text/x-python",
   "name": "python",
   "nbconvert_exporter": "python",
   "pygments_lexer": "ipython3",
   "version": "3.11.0"
  }
 },
 "nbformat": 4,
 "nbformat_minor": 2
}
