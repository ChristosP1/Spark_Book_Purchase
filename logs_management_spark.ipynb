{
 "cells": [
  {
   "cell_type": "markdown",
   "metadata": {},
   "source": [
    "# Spark Tasks"
   ]
  },
  {
   "cell_type": "markdown",
   "metadata": {},
   "source": [
    "## Imports and environment initialization"
   ]
  },
  {
   "cell_type": "code",
   "execution_count": 48,
   "metadata": {},
   "outputs": [],
   "source": [
    "import os\n",
    "import pyspark\n",
    "from pyspark import SparkConf\n",
    "from pyspark.sql import SparkSession, Row, types as T\n",
    "from pyspark.sql.functions import col, split, regexp_replace, collect_list, hash as spark_hash, concat_ws, when, abs, explode, desc, size\n",
    "from pyspark.sql.types import ArrayType, StructType, StructField, StringType, LongType, DoubleType, IntegerType\n",
    "from pyspark.sql.functions import udf\n",
    "import numpy as np\n",
    "from collections import Counter\n",
    "from random import shuffle\n",
    "from pyspark.ml.linalg import Vectors\n",
    "from pyspark.ml.feature import MinHashLSH\n",
    "import pandas as pd\n",
    "from pyspark.sql import functions as F\n",
    "from pyspark.sql.window import Window\n"
   ]
  },
  {
   "cell_type": "code",
   "execution_count": 19,
   "metadata": {},
   "outputs": [],
   "source": [
    "# Set environment variables\n",
    "os.environ[\"JAVA_HOME\"] = \"C:/Program Files/Java/jdk-22\"\n",
    "os.environ[\"SPARK_HOME\"] = \"C:/Spark/spark-3.5.1-bin-hadoop3\"\n",
    "os.environ[\"HADOOP_HOME\"] = \"C:/Hadoop\"\n",
    "os.environ[\"PYSPARK_PYTHON\"] = \"C:/Users/chris/AppData/Local/Programs/Python/Python311/python.exe\" \n",
    "os.environ[\"PATH\"] = (\n",
    "    os.path.join(os.environ[\"JAVA_HOME\"], \"bin\") + os.pathsep +\n",
    "    os.path.join(os.environ[\"SPARK_HOME\"], \"bin\") + os.pathsep +\n",
    "    os.path.join(os.environ[\"HADOOP_HOME\"], \"bin\") + os.pathsep +\n",
    "    os.path.join(os.environ[\"PYSPARK_PYTHON\"]) + os.pathsep +\n",
    "    os.environ[\"PATH\"])"
   ]
  },
  {
   "cell_type": "markdown",
   "metadata": {},
   "source": [
    "## Create & Configure Session"
   ]
  },
  {
   "cell_type": "code",
   "execution_count": 20,
   "metadata": {},
   "outputs": [
    {
     "name": "stdout",
     "output_type": "stream",
     "text": [
      "--Stopped existing SparkContext\n",
      "--Stopped existing SparkSession\n",
      "Spark session created successfully!\n"
     ]
    },
    {
     "data": {
      "text/html": [
       "\n",
       "            <div>\n",
       "                <p><b>SparkSession - in-memory</b></p>\n",
       "                \n",
       "        <div>\n",
       "            <p><b>SparkContext</b></p>\n",
       "\n",
       "            <p><a href=\"http://Belmont.home:4040\">Spark UI</a></p>\n",
       "\n",
       "            <dl>\n",
       "              <dt>Version</dt>\n",
       "                <dd><code>v3.5.1</code></dd>\n",
       "              <dt>Master</dt>\n",
       "                <dd><code>local[16]</code></dd>\n",
       "              <dt>AppName</dt>\n",
       "                <dd><code>DIS-lab-1</code></dd>\n",
       "            </dl>\n",
       "        </div>\n",
       "        \n",
       "            </div>\n",
       "        "
      ],
      "text/plain": [
       "<pyspark.sql.session.SparkSession at 0x1dbd0d04690>"
      ]
     },
     "execution_count": 20,
     "metadata": {},
     "output_type": "execute_result"
    }
   ],
   "source": [
    "def create_session():\n",
    "    # create the session\n",
    "    conf = SparkConf()\n",
    "    conf.setAppName(\"DIS-lab-1\")    # Sets name of the Spark Application\n",
    "    conf.setMaster(\"local[16]\")    # Master URL. In this case local[*] uses all the available cores in the machine\n",
    "    conf.set(\"spark.driver.memory\", \"10G\")   # Memory allocated to driver process\n",
    "    conf.set(\"spark.driver.maxResultSize\", \"6G\")    # Maximum size of results that can be returned to driver\n",
    "    conf.set(\"spark.executor.instances\", \"4\")\n",
    "    conf.set(\"spark.executor.cores\", \"4\")\n",
    "    conf.set(\"spark.executor.memory\", \"4G\")    # Memory allocated to each executor\n",
    "    conf.set(\"spark.network.timeout\", \"600s\")  # Increase network timeout\n",
    "    conf.set(\"spark.executor.heartbeatInterval\", \"60s\")  # Increase heartbeat interval\n",
    "    conf.set(\"spark.rpc.message.maxSize\", \"512\")  # Increase max message size\n",
    "    conf.set(\"spark.driver.maxResultSize\", \"4G\")  # Increase driver max result size\n",
    "    conf.set(\"spark.sql.broadcastTimeout\", \"600\")  # Increase broadcast timeout\n",
    "    conf.set(\"spark.sql.shuffle.partitions\", \"200\")  # Increase the number of shuffle partitions\n",
    "    conf.set(\"spark.yarn.executor.memoryOverhead\", \"2048\")  # Increase memory overhead\n",
    "    conf.set(\"spark.memory.offHeap.enabled\",\"true\") \n",
    "    conf.set(\"spark.memory.offHeap.size\",\"10g\")  \n",
    "    conf.set(\"spark.jars.packages\", \"graphframes:graphframes:0.8.2-spark3.0-s_2.12\")  # Add GraphFrames to the spark configuration\n",
    "    conf.set(\"spark.hadoop.fs.file.impl\", \"org.apache.hadoop.fs.LocalFileSystem\")  # Ensure local file system is used for checkpointing\n",
    "\n",
    "    sc = pyspark.SparkContext(conf=conf)    # Initializes the Spark context with this specific configuration\n",
    "    spark = SparkSession.builder.config(conf=sc.getConf()).getOrCreate()    # Creates Spark session\n",
    "    \n",
    "    # Set checkpoint directory\n",
    "    sc.setCheckpointDir(\"checkpoints\")\n",
    "    \n",
    "    return sc, spark\n",
    "\n",
    "try:\n",
    "    if 'sc' in globals() and sc is not None:\n",
    "        sc.stop()\n",
    "        print(\"--Stopped existing SparkContext\")\n",
    "    if 'spark' in globals() and isinstance(spark, SparkSession):\n",
    "        spark.stop()\n",
    "        print(\"--Stopped existing SparkSession\")\n",
    "except Exception as e:\n",
    "    print(f\"Error stopping existing Spark session or context: {e}\")\n",
    "\n",
    "# Create a new Spark session\n",
    "sc, spark = create_session()\n",
    "print(\"Spark session created successfully!\")\n",
    "spark"
   ]
  },
  {
   "cell_type": "markdown",
   "metadata": {},
   "source": [
    "## Load and Split Data"
   ]
  },
  {
   "cell_type": "markdown",
   "metadata": {},
   "source": [
    "### Load the data from the CSVs"
   ]
  },
  {
   "cell_type": "code",
   "execution_count": 21,
   "metadata": {},
   "outputs": [],
   "source": [
    "logs = spark.read.csv('datasets/dataset_1.csv', header=True, inferSchema=True)"
   ]
  },
  {
   "cell_type": "markdown",
   "metadata": {},
   "source": [
    "### Split the data into 5 separate columns"
   ]
  },
  {
   "cell_type": "code",
   "execution_count": 22,
   "metadata": {},
   "outputs": [
    {
     "name": "stdout",
     "output_type": "stream",
     "text": [
      "+-----------+------------+----+-------+----------+\n",
      "|from_server|to_server   |time|action |process_id|\n",
      "+-----------+------------+----+-------+----------+\n",
      "|user       |ui_server_10|0   |Request|243       |\n",
      "+-----------+------------+----+-------+----------+\n",
      "\n"
     ]
    }
   ],
   "source": [
    "logs_splitted = logs \\\n",
    "    .withColumn(\"from_server\", regexp_replace(split(col(\"Logs\"), \", \").getItem(0), \"[<>]\", \"\")) \\\n",
    "    .withColumn(\"to_server\", split(col(\"Logs\"), \", \").getItem(1)) \\\n",
    "    .withColumn(\"time\", split(col(\"Logs\"), \", \").getItem(2)) \\\n",
    "    .withColumn(\"action\", split(col(\"Logs\"), \", \").getItem(3)) \\\n",
    "    .withColumn(\"process_id\", regexp_replace(split(col(\"Logs\"), \", \").getItem(4), \"[<>]\", \"\")) \\\n",
    "    .drop(\"Logs\")\n",
    "\n",
    "# Cast the \"time\" and \"process_id\" columns to integers\n",
    "logs_casted = logs_splitted \\\n",
    "    .withColumn(\"time\", col(\"time\").cast(\"integer\")) \\\n",
    "    .withColumn(\"process_id\", col(\"process_id\").cast(\"integer\"))\n",
    "\n",
    "logs_casted.limit(1).show(truncate=False)"
   ]
  },
  {
   "cell_type": "markdown",
   "metadata": {},
   "source": [
    "## Group data"
   ]
  },
  {
   "cell_type": "markdown",
   "metadata": {},
   "source": [
    "### Group by process_id"
   ]
  },
  {
   "cell_type": "code",
   "execution_count": 23,
   "metadata": {},
   "outputs": [
    {
     "name": "stdout",
     "output_type": "stream",
     "text": [
      "+----------+------------------------------------------------------------------------------------------------------------------------------------------------------------------------------------------------------------------------------------------------------------------------------------------------------------------------------------------------------------------------------------------------------------------------------------------------------------------------------------------------------------------------------------------------------------------------------------------------------------------------------------------------------------------------------------------------------------------------------------------------------------------------------------------------------------------------------------------------------------------------------------------------------------------------------------------------------------------------------------------------------------------------------+--------------------------------------------------------------------------------------------------------------------------------------------------------------------------------------------------------------------------------------------------------------------------------------------------------------------------------------------------------------------------------------------------------------------------------------------------------------------------------------------------------------------------------------------------------------------------------------------------------------------------------------------------------------------------------------------------------------------------------------------------------------------------------------------------------------------------------------------------------------------------------------------------------------------------------------------------------------------------------------------------------------------------------------+---------------------------------------------------------------------------------------------------------------------------------------------------------------------------------------------------+----------------------------------------------------------------------------------------------------------------------------------------------------------------------------------------------------------------------------------------------------------------------------------------------------------------------------------------------------------------------------------+\n",
      "|process_id|from_servers                                                                                                                                                                                                                                                                                                                                                                                                                                                                                                                                                                                                                                                                                                                                                                                                                                                                                                                                                                                                                  |to_servers                                                                                                                                                                                                                                                                                                                                                                                                                                                                                                                                                                                                                                                                                                                                                                                                                                                                                                                                                                                                                            |times                                                                                                                                                                                              |actions                                                                                                                                                                                                                                                                                                                                                                           |\n",
      "+----------+------------------------------------------------------------------------------------------------------------------------------------------------------------------------------------------------------------------------------------------------------------------------------------------------------------------------------------------------------------------------------------------------------------------------------------------------------------------------------------------------------------------------------------------------------------------------------------------------------------------------------------------------------------------------------------------------------------------------------------------------------------------------------------------------------------------------------------------------------------------------------------------------------------------------------------------------------------------------------------------------------------------------------+--------------------------------------------------------------------------------------------------------------------------------------------------------------------------------------------------------------------------------------------------------------------------------------------------------------------------------------------------------------------------------------------------------------------------------------------------------------------------------------------------------------------------------------------------------------------------------------------------------------------------------------------------------------------------------------------------------------------------------------------------------------------------------------------------------------------------------------------------------------------------------------------------------------------------------------------------------------------------------------------------------------------------------------+---------------------------------------------------------------------------------------------------------------------------------------------------------------------------------------------------+----------------------------------------------------------------------------------------------------------------------------------------------------------------------------------------------------------------------------------------------------------------------------------------------------------------------------------------------------------------------------------+\n",
      "|1         |[review_server_2, review_verification_server_1, review_analysis_server_2, ad_server_6, customer_support_server_7, customer_history_access_server_1, customer_support_server_7, ad_server_6, review_analysis_server_2, review_verification_server_1, review_server_2, supplier_notification_server_2, inventory_update_server_10, express_delivery_server_1, shipping_options_server_1, currency_conversion_server_2, fraud_check_mastercard_server_4, limit_check_mastercard_server_6, mastercard_server_3, card_check_server_10, user_credentials_server_4, bundle_offer_server_1, book_availability_server_6, purchase_book_server_1, user, ui_server_12, purchase_book_server_1, book_availability_server_6, bundle_offer_server_1, user_credentials_server_4, card_check_server_10, mastercard_server_3, limit_check_mastercard_server_6, fraud_check_mastercard_server_4, currency_conversion_server_2, shipping_options_server_1, express_delivery_server_1, inventory_update_server_10, supplier_notification_server_2]|[review_verification_server_1, review_analysis_server_2, ad_server_6, customer_support_server_7, customer_history_access_server_1, customer_support_server_7, ad_server_6, review_analysis_server_2, review_verification_server_1, review_server_2, supplier_notification_server_2, inventory_update_server_10, express_delivery_server_1, shipping_options_server_1, currency_conversion_server_2, fraud_check_mastercard_server_4, limit_check_mastercard_server_6, mastercard_server_3, card_check_server_10, user_credentials_server_4, bundle_offer_server_1, book_availability_server_6, purchase_book_server_1, ui_server_12, ui_server_12, purchase_book_server_1, book_availability_server_6, bundle_offer_server_1, user_credentials_server_4, card_check_server_10, mastercard_server_3, limit_check_mastercard_server_6, fraud_check_mastercard_server_4, currency_conversion_server_2, shipping_options_server_1, express_delivery_server_1, inventory_update_server_10, supplier_notification_server_2, review_server_2]|[524, 542, 551, 563, 580, 612, 629, 641, 650, 668, 693, 704, 731, 738, 742, 745, 754, 782, 791, 800, 803, 809, 822, 830, 357, 362, 370, 383, 389, 392, 401, 410, 438, 447, 450, 454, 461, 488, 499]|[Request, Request, Request, Request, Request, Response, Response, Response, Response, Response, Response, Response, Response, Response, Response, Response, Response, Response, Response, Response, Response, Response, Response, Response, Request, Request, Request, Request, Request, Request, Request, Request, Request, Request, Request, Request, Request, Request, Request]|\n",
      "+----------+------------------------------------------------------------------------------------------------------------------------------------------------------------------------------------------------------------------------------------------------------------------------------------------------------------------------------------------------------------------------------------------------------------------------------------------------------------------------------------------------------------------------------------------------------------------------------------------------------------------------------------------------------------------------------------------------------------------------------------------------------------------------------------------------------------------------------------------------------------------------------------------------------------------------------------------------------------------------------------------------------------------------------+--------------------------------------------------------------------------------------------------------------------------------------------------------------------------------------------------------------------------------------------------------------------------------------------------------------------------------------------------------------------------------------------------------------------------------------------------------------------------------------------------------------------------------------------------------------------------------------------------------------------------------------------------------------------------------------------------------------------------------------------------------------------------------------------------------------------------------------------------------------------------------------------------------------------------------------------------------------------------------------------------------------------------------------+---------------------------------------------------------------------------------------------------------------------------------------------------------------------------------------------------+----------------------------------------------------------------------------------------------------------------------------------------------------------------------------------------------------------------------------------------------------------------------------------------------------------------------------------------------------------------------------------+\n",
      "\n"
     ]
    }
   ],
   "source": [
    "logs_grouped = logs_casted.groupBy(\"process_id\").agg(\n",
    "    collect_list(\"from_server\").alias(\"from_servers\"),\n",
    "    collect_list(\"to_server\").alias(\"to_servers\"),\n",
    "    collect_list(\"time\").alias(\"times\"),\n",
    "    collect_list(\"action\").alias(\"actions\")\n",
    ")\n",
    "logs_grouped.limit(1).show(truncate=False)"
   ]
  },
  {
   "cell_type": "markdown",
   "metadata": {},
   "source": [
    "### Sort all the column items based on times so the sub-processes are in the right order"
   ]
  },
  {
   "cell_type": "code",
   "execution_count": 24,
   "metadata": {},
   "outputs": [],
   "source": [
    "def sort_lists_time(times, from_servers, to_servers, actions):\n",
    "    combined = list(zip(times, from_servers, to_servers, actions))\n",
    "    sorted_combined = sorted(combined, key=lambda x: x[0])\n",
    "    \n",
    "    # Remove the second half of each list since it contains duplicte names\n",
    "    half_length = len(sorted_combined) // 2\n",
    "    truncated_combined = sorted_combined[:half_length]\n",
    "    \n",
    "    times_sorted, from_servers_sorted, to_servers_sorted, actions_sorted = zip(*truncated_combined)\n",
    "    return list(times_sorted), list(from_servers_sorted), list(to_servers_sorted), list(actions_sorted)\n",
    "\n",
    "def sort_lists_from_server(times, from_servers, to_servers, actions):\n",
    "    # First sort by time\n",
    "    combined = list(zip(times, from_servers, to_servers, actions))\n",
    "    sorted_combined = sorted(combined, key=lambda x: x[0])  # Sort by times (x[0])\n",
    "    \n",
    "    # Remove the second half of each list since it contains duplicte names\n",
    "    half_length = len(sorted_combined) // 2\n",
    "    truncated_combined = sorted_combined[:half_length]\n",
    "    \n",
    "    times_sorted, from_servers_sorted, to_servers_sorted, actions_sorted = zip(*truncated_combined)\n",
    "    \n",
    "    combined = list(zip(times_sorted, from_servers_sorted, to_servers_sorted, actions_sorted))\n",
    "    sorted_combined = sorted(combined, key=lambda x: x[1])\n",
    "    times_sorted, from_servers_sorted, to_servers_sorted, actions_sorted = zip(*sorted_combined)\n",
    "    return list(times_sorted), list(from_servers_sorted), list(to_servers_sorted), list(actions_sorted)\n",
    "\n",
    "# Define the schema for the sorted columns\n",
    "sorted_lists_schema = StructType([\n",
    "    StructField(\"times\", ArrayType(LongType()), nullable=True),\n",
    "    StructField(\"from_servers\", ArrayType(StringType()), nullable=True),\n",
    "    StructField(\"to_servers\", ArrayType(StringType()), nullable=True),\n",
    "    StructField(\"actions\", ArrayType(StringType()), nullable=True)\n",
    "])\n",
    "\n",
    "# Register the function as a UDF\n",
    "sort_lists_udf = udf(sort_lists_from_server, sorted_lists_schema)\n",
    "\n",
    "# Apply the UDF to sort the lists based on the \"times\" column\n",
    "logs_grouped = logs_grouped.withColumn(\"sorted_lists\", sort_lists_udf(\"times\", \"from_servers\", \"to_servers\", \"actions\"))\n",
    "\n",
    "# Split the sorted lists into separate columns\n",
    "logs_grouped = logs_grouped.withColumn(\"times\", col(\"sorted_lists.times\")) \\\n",
    "                           .withColumn(\"from_servers\", col(\"sorted_lists.from_servers\")) \\\n",
    "                           .withColumn(\"to_servers\", col(\"sorted_lists.to_servers\")) \\\n",
    "                           .withColumn(\"actions\", col(\"sorted_lists.actions\")) \\\n",
    "                           .drop(\"sorted_lists\")"
   ]
  },
  {
   "cell_type": "markdown",
   "metadata": {},
   "source": [
    "### Create 'process_string' column with a string of all the 'from_servers'"
   ]
  },
  {
   "cell_type": "code",
   "execution_count": 25,
   "metadata": {},
   "outputs": [
    {
     "name": "stdout",
     "output_type": "stream",
     "text": [
      "+----------+-----------------------------------------------------------------------------------------------------------------------------------------------------------------------------------------------------------------------------------------------------------------------------------------------------------------------------------------------------------------------------------------------------------------------------------------------------------------------------+--------------------------------------------------------------------------------------------------------------------------------------------------------------------------------------------------------------------------------------------------------------------------------------------------------------------------------------------------------------------------------------------------------------------------------------------------------------------------------------------------+-----------------------------------------------------------------------------------------------+---------------------------------------------------------------------------------------------------------------------------------------------------------------------------+---------------------------------------------------------------------------------------------------------------------------------------------------------------------------------------------------------------------------------------------------------------------------------------------------------------------------------------------------------------------------------------------------------------------------------------------------------+\n",
      "|process_id|from_servers                                                                                                                                                                                                                                                                                                                                                                                                                                                                 |to_servers                                                                                                                                                                                                                                                                                                                                                                                                                                                                                        |times                                                                                          |actions                                                                                                                                                                    |process_string                                                                                                                                                                                                                                                                                                                                                                                                                                           |\n",
      "+----------+-----------------------------------------------------------------------------------------------------------------------------------------------------------------------------------------------------------------------------------------------------------------------------------------------------------------------------------------------------------------------------------------------------------------------------------------------------------------------------+--------------------------------------------------------------------------------------------------------------------------------------------------------------------------------------------------------------------------------------------------------------------------------------------------------------------------------------------------------------------------------------------------------------------------------------------------------------------------------------------------+-----------------------------------------------------------------------------------------------+---------------------------------------------------------------------------------------------------------------------------------------------------------------------------+---------------------------------------------------------------------------------------------------------------------------------------------------------------------------------------------------------------------------------------------------------------------------------------------------------------------------------------------------------------------------------------------------------------------------------------------------------+\n",
      "|1         |[ad_server_6, book_availability_server_6, bundle_offer_server_1, card_check_server_10, currency_conversion_server_2, express_delivery_server_1, fraud_check_mastercard_server_4, inventory_update_server_10, limit_check_mastercard_server_6, mastercard_server_3, purchase_book_server_1, review_analysis_server_2, review_server_2, review_verification_server_1, shipping_options_server_1, supplier_notification_server_2, ui_server_12, user, user_credentials_server_4]|[customer_support_server_7, bundle_offer_server_1, user_credentials_server_4, mastercard_server_3, shipping_options_server_1, inventory_update_server_10, currency_conversion_server_2, supplier_notification_server_2, fraud_check_mastercard_server_4, limit_check_mastercard_server_6, book_availability_server_6, ad_server_6, review_verification_server_1, review_analysis_server_2, express_delivery_server_1, review_server_2, purchase_book_server_1, ui_server_12, card_check_server_10]|[563, 383, 389, 401, 450, 461, 447, 488, 438, 410, 370, 551, 524, 542, 454, 499, 362, 357, 392]|[Request, Request, Request, Request, Request, Request, Request, Request, Request, Request, Request, Request, Request, Request, Request, Request, Request, Request, Request]|ad_server_6,book_availability_server_6,bundle_offer_server_1,card_check_server_10,currency_conversion_server_2,express_delivery_server_1,fraud_check_mastercard_server_4,inventory_update_server_10,limit_check_mastercard_server_6,mastercard_server_3,purchase_book_server_1,review_analysis_server_2,review_server_2,review_verification_server_1,shipping_options_server_1,supplier_notification_server_2,ui_server_12,user,user_credentials_server_4|\n",
      "+----------+-----------------------------------------------------------------------------------------------------------------------------------------------------------------------------------------------------------------------------------------------------------------------------------------------------------------------------------------------------------------------------------------------------------------------------------------------------------------------------+--------------------------------------------------------------------------------------------------------------------------------------------------------------------------------------------------------------------------------------------------------------------------------------------------------------------------------------------------------------------------------------------------------------------------------------------------------------------------------------------------+-----------------------------------------------------------------------------------------------+---------------------------------------------------------------------------------------------------------------------------------------------------------------------------+---------------------------------------------------------------------------------------------------------------------------------------------------------------------------------------------------------------------------------------------------------------------------------------------------------------------------------------------------------------------------------------------------------------------------------------------------------+\n",
      "\n"
     ]
    }
   ],
   "source": [
    "''' \n",
    "Using the withColumn method to create a new column \"process_string\".\n",
    "The concat_ws function concatenates multiple column values into a single string, separated by a comma.\n",
    "col(\"from_servers\"): Selects the column \"from_servers\".\n",
    "col(\"to_servers\"): Selects the column \"to_servers\".\n",
    "col(\"times\"): Selects the column \"times\".\n",
    "col(\"actions\"): Selects the column \"actions\".\n",
    "The concatenated string is stored in the new column \"process_string\".\n",
    "'''\n",
    "\n",
    "logs_grouped = logs_grouped.withColumn(\n",
    "    \"process_string\",\n",
    "    concat_ws(\",\", col(\"from_servers\"))\n",
    ")\n",
    "\n",
    "logs_grouped.limit(1).show(truncate=False)"
   ]
  },
  {
   "cell_type": "markdown",
   "metadata": {},
   "source": [
    "# Approach 1 (LSH)"
   ]
  },
  {
   "cell_type": "markdown",
   "metadata": {},
   "source": [
    "## 1. Create shingles"
   ]
  },
  {
   "cell_type": "markdown",
   "metadata": {},
   "source": [
    "### 1.1. Pre-processing before shingles"
   ]
  },
  {
   "cell_type": "markdown",
   "metadata": {},
   "source": [
    "#### Find sub-strings that exist in most server names and remove them (they do not add information)"
   ]
  },
  {
   "cell_type": "code",
   "execution_count": 26,
   "metadata": {},
   "outputs": [],
   "source": [
    "def get_all_substrings(string, min_length):\n",
    "    length = len(string)\n",
    "    return [string[i:j] for i in range(length) for j in range(i + min_length, length + 1)]\n",
    "\n",
    "\n",
    "def find_common_substring(server_names, min_length=3, min_occurrences_ratio=0.6):\n",
    "    substr_counter = Counter()\n",
    "    total_names = len(server_names)\n",
    "    min_occurrences = int(total_names * min_occurrences_ratio)\n",
    "    \n",
    "    for name in server_names:\n",
    "        substrings = get_all_substrings(name, min_length)\n",
    "        substr_counter.update(substrings)\n",
    "    \n",
    "    # Filter substrings that occur at least min_occurrences times\n",
    "    common_substrings = [substr for substr, count in substr_counter.items() if count >= min_occurrences]\n",
    "    \n",
    "    if not common_substrings:\n",
    "        return \"\"\n",
    "    \n",
    "    # Return the longest common substring\n",
    "    return max(common_substrings, key=len)\n",
    "\n",
    "\n",
    "def remove_common_substring(strings, common_substring):\n",
    "    return [string.replace(common_substring, \"\") for string in strings]"
   ]
  },
  {
   "cell_type": "code",
   "execution_count": 27,
   "metadata": {},
   "outputs": [
    {
     "name": "stdout",
     "output_type": "stream",
     "text": [
      "Most Common Substring: _server_\n"
     ]
    }
   ],
   "source": [
    "# Sample 5 rows from the data\n",
    "sample_rows = logs_grouped.select(\"from_servers\").take(5)\n",
    "\n",
    "# Extract the \"from_servers\" lists from the sample rows\n",
    "sample_from_servers = [row[\"from_servers\"] for row in sample_rows]\n",
    "\n",
    "# Flatten the list of lists to a single list of server names\n",
    "flattened_server_names = [server for sublist in sample_from_servers for server in sublist]\n",
    "\n",
    "# Get unique server names\n",
    "unique_server_names = list(set(flattened_server_names))\n",
    "\n",
    "# Use the function on the unique server names\n",
    "common_substring = find_common_substring(unique_server_names, min_length=3, min_occurrences_ratio=0.70)\n",
    "\n",
    "print(\"Most Common Substring:\", common_substring)"
   ]
  },
  {
   "cell_type": "markdown",
   "metadata": {},
   "source": [
    "#### Remove the most common sub-string and all the special characters and spaces"
   ]
  },
  {
   "cell_type": "code",
   "execution_count": 28,
   "metadata": {},
   "outputs": [
    {
     "name": "stdout",
     "output_type": "stream",
     "text": [
      "+-----------------------------------------------------------------------------------------------------------------------------------------------------------------------------------------------------------------------------------------------------------------------+\n",
      "|process_string_cleaned                                                                                                                                                                                                                                                 |\n",
      "+-----------------------------------------------------------------------------------------------------------------------------------------------------------------------------------------------------------------------------------------------------------------------+\n",
      "|ad6bookavailability6bundleoffer1cardcheck10currencyconversion2expressdelivery1fraudcheckmastercard4inventoryupdate10limitcheckmastercard6mastercard3purchasebook1reviewanalysis2review2reviewverification1shippingoptions1suppliernotification2ui12userusercredentials4|\n",
      "+-----------------------------------------------------------------------------------------------------------------------------------------------------------------------------------------------------------------------------------------------------------------------+\n",
      "\n"
     ]
    }
   ],
   "source": [
    "# Create a new DataFrame with the common substring removed from the process_string\n",
    "logs_grouped_cleaned = logs_grouped.withColumn(\n",
    "    \"process_string_clean_common\",\n",
    "    regexp_replace(col(\"process_string\"), common_substring, \"\"),\n",
    ")\n",
    "\n",
    "logs_grouped_cleaned = logs_grouped_cleaned.withColumn(\n",
    "    \"process_string_cleaned\",\n",
    "    regexp_replace(col(\"process_string_clean_common\"), \"[^a-zA-Z0-9\\s]\", \"\")\n",
    ")\n",
    "\n",
    "# Show the cleaned DataFrame\n",
    "logs_grouped_cleaned.select(\"process_string_cleaned\").limit(1).show(truncate=False)"
   ]
  },
  {
   "cell_type": "markdown",
   "metadata": {},
   "source": [
    "### 1.2. Define the shingles of each function"
   ]
  },
  {
   "cell_type": "code",
   "execution_count": 29,
   "metadata": {},
   "outputs": [
    {
     "name": "stdout",
     "output_type": "stream",
     "text": [
      "Average length of server names: 15.011111111111111\n",
      "Determined shingle length: 5\n",
      "+----------+-----------------------------------------------------------------------------------------------------------------------------------------------------------------------------------------------------------------------------------------------------------------------+--------------------------------------------------------------------------------------------------------------------------------------------------------------------------------------------------------------------------------------------------------------------------------------------------------------------------------------------------------------------------------------------------------------------------------------------------------------------------------------------------------------------------------------------------------------------------------------------------------------------------------------------------------------------------------------------------------------------------------------------------------------------------------------------------------------------------------------------------------------------------------------------------------------------------------------------------------------------------------------------------------------------------------------------------------------------------------------------------------------------------------------------------------------------------------------------------------------------------------------------------------------------------------------------------------------------------------------------------------------------------------------------------------------------------------------------------------------------------------------------------------------------------------------------------------------------------------------------------------------------------------------------------------------------------+\n",
      "|process_id|process_string_cleaned                                                                                                                                                                                                                                                 |shingles                                                                                                                                                                                                                                                                                                                                                                                                                                                                                                                                                                                                                                                                                                                                                                                                                                                                                                                                                                                                                                                                                                                                                                                                                                                                                                                                                                                                                                                                                                                                                                                                                                                                  |\n",
      "+----------+-----------------------------------------------------------------------------------------------------------------------------------------------------------------------------------------------------------------------------------------------------------------------+--------------------------------------------------------------------------------------------------------------------------------------------------------------------------------------------------------------------------------------------------------------------------------------------------------------------------------------------------------------------------------------------------------------------------------------------------------------------------------------------------------------------------------------------------------------------------------------------------------------------------------------------------------------------------------------------------------------------------------------------------------------------------------------------------------------------------------------------------------------------------------------------------------------------------------------------------------------------------------------------------------------------------------------------------------------------------------------------------------------------------------------------------------------------------------------------------------------------------------------------------------------------------------------------------------------------------------------------------------------------------------------------------------------------------------------------------------------------------------------------------------------------------------------------------------------------------------------------------------------------------------------------------------------------------+\n",
      "|1         |ad6bookavailability6bundleoffer1cardcheck10currencyconversion2expressdelivery1fraudcheckmastercard4inventoryupdate10limitcheckmastercard6mastercard3purchasebook1reviewanalysis2review2reviewverification1shippingoptions1suppliernotification2ui12userusercredentials4|[rific, ck10c, s1sup, tials, icati, ard3p, press, ierno, ercre, ckmas, ernot, haseb, 0curr, pping, 12use, ifica, yupda, terca, 2revi, i12us, sis2r, 1ship, card6, ruser, alysi, ons1s, book1, crede, reden, ookav, ffer1, essde, urcha, ew2re, ity6b, abili, udche, date1, mitch, rcred, ok1re, k10cu, wveri, lity6, is2re, vaila, ation, eck10, pingo, ewver, nalys, ials4, 1card, seboo, view2, 0limi, sion2, fer1c, n1shi, ingop, nvent, edent, bundl, ns1su, suppl, dchec, viewa, rd6ma, serus, dleof, 4inve, denti, labil, heckm, d6mas, vento, useru, tion2, ssdel, rnoti, aster, ption, liern, ewana, tchec, on1sh, catio, rcard, k1rev, ngopt, iewve, ebook, deliv, uppli, 3purc, optio, wanal, 10lim, encyc, sercr, onver, card4, ippin, notif, on2ui, iewan, plier, ardch, eview, tific, ersio, card3, leoff, eruse, audch, 2user, verif, ard4i, y6bun, very1, expre, updat, rsion, w2rev, ercar, kavai, ility, hippi, ntial, curre, cardc, revie, erifi, oryup, ivery, er1ca, sterc, ion2u, 6bund, entia, ntory, liver, urren, fraud, pdate, s2rev, ysis2, tion1, r1car, asebo, cycon, analy, te10l, ressd, otifi, chase, raudc, ion2e, iew2r, limit, offer, ncyco, 1revi, avail, ailab, rd3pu, ery1f, nvers, rdche, heck1, sdeli, e10li, on2ex, y1fra, ook1r, ryupd, ficat, toryu, kmast, n2exp, rrenc, ion1s, yconv, userc, maste, versi, xpres, ad6bo, elive, rd4in, d3pur, imitc, ndleo, itche, inven, ilabi, lysis, 1supp, booka, undle, ui12u, 1frau, 6book, 2expr, ry1fr, n2ui1, check, 2ui12, ard6m, d6boo, rency, entor, viewv, rchas, ate10, purch, ty6bu, conve, okava, pplie, eoffe, d4inv, tions, bilit, shipp, gopti, 10cur, eckma, ions1, 6mast]|\n",
      "+----------+-----------------------------------------------------------------------------------------------------------------------------------------------------------------------------------------------------------------------------------------------------------------------+--------------------------------------------------------------------------------------------------------------------------------------------------------------------------------------------------------------------------------------------------------------------------------------------------------------------------------------------------------------------------------------------------------------------------------------------------------------------------------------------------------------------------------------------------------------------------------------------------------------------------------------------------------------------------------------------------------------------------------------------------------------------------------------------------------------------------------------------------------------------------------------------------------------------------------------------------------------------------------------------------------------------------------------------------------------------------------------------------------------------------------------------------------------------------------------------------------------------------------------------------------------------------------------------------------------------------------------------------------------------------------------------------------------------------------------------------------------------------------------------------------------------------------------------------------------------------------------------------------------------------------------------------------------------------+\n",
      "\n"
     ]
    }
   ],
   "source": [
    "# Define the shingling function for process strings\n",
    "def shingle_process_string(process_string, k):\n",
    "    shingle_set = set()\n",
    "    for i in range(len(process_string) - k + 1):\n",
    "        shingle = process_string[i:i + k]\n",
    "        shingle_set.add(shingle)\n",
    "    return list(shingle_set)\n",
    "\n",
    "# Define the shingle length based on the average length of the servers of the first 5 rows\n",
    "first_rows = logs_grouped_cleaned.take(5)\n",
    "average_length = 0\n",
    "\n",
    "# Calculate the average length of server names\n",
    "total_length = 0\n",
    "total_servers = 0\n",
    "\n",
    "# For each row in the sample rows sum the length of the names and the number of servers\n",
    "for row in first_rows:\n",
    "    servers = row[\"process_string_clean_common\"]\n",
    "    server_names = servers.split(',')\n",
    "    total_length += sum([len(server) for server in server_names])\n",
    "    total_servers += len(server_names)\n",
    "\n",
    "# Find the average server name length\n",
    "average_server_name_length = total_length / total_servers\n",
    "\n",
    "# Devine ths shingle length as the 30% of the average server name (or 2 if the names are too short)\n",
    "shingle_length_percentage = 0.3\n",
    "shingle_length = max(2, int(np.ceil(average_server_name_length *shingle_length_percentage)))\n",
    "\n",
    "print(f'Average length of server names: {average_server_name_length}')\n",
    "print(f'Determined shingle length: {shingle_length}')\n",
    "\n",
    "# Register the UDF for shingling\n",
    "shingle_udf = udf(lambda process_string: shingle_process_string(process_string, shingle_length), ArrayType(StringType()))\n",
    "\n",
    "# Apply the UDF to create shingles from process strings\n",
    "logs_grouped_cleaned_with_shingles = logs_grouped_cleaned.withColumn(\"shingles\", shingle_udf(col(\"process_string_cleaned\")))\n",
    "\n",
    "# Show the resulting DataFrame with shingles\n",
    "logs_grouped_cleaned_with_shingles.select(\"process_id\", \"process_string_cleaned\", \"shingles\").limit(1).show(truncate=False)"
   ]
  },
  {
   "cell_type": "markdown",
   "metadata": {},
   "source": [
    "### 1.3. Create Vocabulary from shingles"
   ]
  },
  {
   "cell_type": "markdown",
   "metadata": {},
   "source": [
    "#### Keep all unique shingles"
   ]
  },
  {
   "cell_type": "code",
   "execution_count": 30,
   "metadata": {},
   "outputs": [
    {
     "name": "stdout",
     "output_type": "stream",
     "text": [
      "Vocabulary: ['rific', 'ck10c', 's1sup', 'tials', 'icati', 'ard3p', 'press', 'ierno', 'ercre', 'ckmas'] . . .\n",
      "Length: 1622\n"
     ]
    }
   ],
   "source": [
    "# Collect all shingles from the DataFrame into a single list\n",
    "all_unique_shingles = logs_grouped_cleaned_with_shingles.select(\"shingles\").rdd.flatMap(lambda row: row.shingles).distinct().collect()\n",
    "\n",
    "# Create a vocabulary dictionary where each shingle is assigned a unique index\n",
    "vocab = {shingle: idx for idx, shingle in enumerate(all_unique_shingles)}\n",
    "# Print the vocabulary to verify\n",
    "print(f'Vocabulary: {list(vocab)[:10]} . . .')\n",
    "print(f'Length: {len(vocab)}')"
   ]
  },
  {
   "cell_type": "markdown",
   "metadata": {},
   "source": [
    "#### Create the sparse vector of shingle occurence for each process"
   ]
  },
  {
   "cell_type": "code",
   "execution_count": 31,
   "metadata": {},
   "outputs": [
    {
     "name": "stdout",
     "output_type": "stream",
     "text": [
      "+----------+------------------------------------------------------------------------------------------------------------------------------------------------------------------------------------------------------------------------------------------------------------------------------------------------------------------------------------------------------------------------------------------------------------------------------------------------------------------------------------------------------------------------------------------------------------------------------------------------------------------------------------------------------------------------------------------------------------------------------------------------------------------------------------------------------------------------------------------------------------------------------------------------------------------------------------------------------------------------------------------------------------------------------------------------------------------------------------------------------------------------------------------------------------------------------------------------------------------------------------------------------------------------------------------------------------------------------------------------------------------------------------------------------------------------------------------------------------------------------------------------------------------------------------------------------------------------------------------------------------------------------------------------------------------------------------------------------------------------------------------------------------------------------------------------------------------------------------------------------------------------------------------------------------------------------------------------------------------------------------------------------------------------------------------------------------------------------------------------------------------------------------------------------------------------------------------------------------------------------------------------------------------------------------------------------------------------------------------------------------------------------------------------------------------------------------------------------------------------------------------------------------------------------------------------------------------------------------------------------------------------------------------------------------------------------------------------------------------------------------------------------------------------------------------------------------------------------------------------------------------------------------------------------------------------------------------------------------------------------------------------------------------------------------------------------------------------------------------------------------------------------------------------------------------------------------------------------------------------------------------------------------------------------------------------------------------------------------------------------------------------------------------------------------------------------------------------------------------------------------------------------------------------------------------------------------------------------------------------------------------------------------------------------------------------------------------------------------------------------------------------------------------------------------------------------------------------------------------------------------------------------------------------------------------------------------------------------------------------------------------------------------------------------------------------------------------------------------------------------------------------------------------------------------------------------------------------------------------------------------------------------------------------------------------------------------------------------------------------------------------------------------------------------------------------------------------------------------------------------------------------------------------------------------------------------------------------------------------------------------------------------------------------------------------------------------------------------------------------------------------------------------------------------------------------------------------------------------------------------------------------------------------------------------------------------------------------------------------------------------------------------------------------------------------------------------------+\n",
      "|process_id|sparse_vector                                                                                                                                                                                                                                                                                                                                                                                                                                                                                                                                                                                                                                                                                                                                                                                                                                                                                                                                                                                                                                                                                                                                                                                                                                                                                                                                                                                                                                                                                                                                                                                                                                                                                                                                                                                                                                                                                                                                                                                                                                                                                                                                                                                                                                                                                                                                                                                                                                                                                                                                                                                                                                                                                                                                                                                                                                                                                                                                                                                                                                                                                                                                                                                                                                                                                                                                                                                                                                                                                                                                                                                                                                                                                                                                                                                                                                                                                                                                                                                                                                                                                                                                                                                                                                                                                                                                                                                                                                                                                                                                                                                                                                                                                                                                                                                                                                                                                                                                                                                                                                                     |\n",
      "+----------+------------------------------------------------------------------------------------------------------------------------------------------------------------------------------------------------------------------------------------------------------------------------------------------------------------------------------------------------------------------------------------------------------------------------------------------------------------------------------------------------------------------------------------------------------------------------------------------------------------------------------------------------------------------------------------------------------------------------------------------------------------------------------------------------------------------------------------------------------------------------------------------------------------------------------------------------------------------------------------------------------------------------------------------------------------------------------------------------------------------------------------------------------------------------------------------------------------------------------------------------------------------------------------------------------------------------------------------------------------------------------------------------------------------------------------------------------------------------------------------------------------------------------------------------------------------------------------------------------------------------------------------------------------------------------------------------------------------------------------------------------------------------------------------------------------------------------------------------------------------------------------------------------------------------------------------------------------------------------------------------------------------------------------------------------------------------------------------------------------------------------------------------------------------------------------------------------------------------------------------------------------------------------------------------------------------------------------------------------------------------------------------------------------------------------------------------------------------------------------------------------------------------------------------------------------------------------------------------------------------------------------------------------------------------------------------------------------------------------------------------------------------------------------------------------------------------------------------------------------------------------------------------------------------------------------------------------------------------------------------------------------------------------------------------------------------------------------------------------------------------------------------------------------------------------------------------------------------------------------------------------------------------------------------------------------------------------------------------------------------------------------------------------------------------------------------------------------------------------------------------------------------------------------------------------------------------------------------------------------------------------------------------------------------------------------------------------------------------------------------------------------------------------------------------------------------------------------------------------------------------------------------------------------------------------------------------------------------------------------------------------------------------------------------------------------------------------------------------------------------------------------------------------------------------------------------------------------------------------------------------------------------------------------------------------------------------------------------------------------------------------------------------------------------------------------------------------------------------------------------------------------------------------------------------------------------------------------------------------------------------------------------------------------------------------------------------------------------------------------------------------------------------------------------------------------------------------------------------------------------------------------------------------------------------------------------------------------------------------------------------------------------------------------------------------------------+\n",
      "|1         |[1, 1, 1, 1, 1, 1, 1, 1, 1, 1, 1, 1, 1, 1, 1, 1, 1, 1, 1, 1, 1, 1, 1, 1, 1, 1, 1, 1, 1, 1, 1, 1, 1, 1, 1, 1, 1, 1, 1, 1, 1, 1, 1, 1, 1, 1, 1, 1, 1, 1, 1, 1, 1, 1, 1, 1, 1, 1, 1, 1, 1, 1, 1, 1, 1, 1, 1, 1, 1, 1, 1, 1, 1, 1, 1, 1, 1, 1, 1, 1, 1, 1, 1, 1, 1, 1, 1, 1, 1, 1, 1, 1, 1, 1, 1, 1, 1, 1, 1, 1, 1, 1, 1, 1, 1, 1, 1, 1, 1, 1, 1, 1, 1, 1, 1, 1, 1, 1, 1, 1, 1, 1, 1, 1, 1, 1, 1, 1, 1, 1, 1, 1, 1, 1, 1, 1, 1, 1, 1, 1, 1, 1, 1, 1, 1, 1, 1, 1, 1, 1, 1, 1, 1, 1, 1, 1, 1, 1, 1, 1, 1, 1, 1, 1, 1, 1, 1, 1, 1, 1, 1, 1, 1, 1, 1, 1, 1, 1, 1, 1, 1, 1, 1, 1, 1, 1, 1, 1, 1, 1, 1, 1, 1, 1, 1, 1, 1, 1, 1, 1, 1, 1, 1, 1, 1, 1, 1, 1, 1, 1, 1, 1, 1, 1, 1, 1, 1, 1, 1, 1, 1, 1, 1, 1, 1, 1, 1, 1, 1, 1, 0, 0, 0, 0, 0, 0, 0, 0, 0, 0, 0, 0, 0, 0, 0, 0, 0, 0, 0, 0, 0, 0, 0, 0, 0, 0, 0, 0, 0, 0, 0, 0, 0, 0, 0, 0, 0, 0, 0, 0, 0, 0, 0, 0, 0, 0, 0, 0, 0, 0, 0, 0, 0, 0, 0, 0, 0, 0, 0, 0, 0, 0, 0, 0, 0, 0, 0, 0, 0, 0, 0, 0, 0, 0, 0, 0, 0, 0, 0, 0, 0, 0, 0, 0, 0, 0, 0, 0, 0, 0, 0, 0, 0, 0, 0, 0, 0, 0, 0, 0, 0, 0, 0, 0, 0, 0, 0, 0, 0, 0, 0, 0, 0, 0, 0, 0, 0, 0, 0, 0, 0, 0, 0, 0, 0, 0, 0, 0, 0, 0, 0, 0, 0, 0, 0, 0, 0, 0, 0, 0, 0, 0, 0, 0, 0, 0, 0, 0, 0, 0, 0, 0, 0, 0, 0, 0, 0, 0, 0, 0, 0, 0, 0, 0, 0, 0, 0, 0, 0, 0, 0, 0, 0, 0, 0, 0, 0, 0, 0, 0, 0, 0, 0, 0, 0, 0, 0, 0, 0, 0, 0, 0, 0, 0, 0, 0, 0, 0, 0, 0, 0, 0, 0, 0, 0, 0, 0, 0, 0, 0, 0, 0, 0, 0, 0, 0, 0, 0, 0, 0, 0, 0, 0, 0, 0, 0, 0, 0, 0, 0, 0, 0, 0, 0, 0, 0, 0, 0, 0, 0, 0, 0, 0, 0, 0, 0, 0, 0, 0, 0, 0, 0, 0, 0, 0, 0, 0, 0, 0, 0, 0, 0, 0, 0, 0, 0, 0, 0, 0, 0, 0, 0, 0, 0, 0, 0, 0, 0, 0, 0, 0, 0, 0, 0, 0, 0, 0, 0, 0, 0, 0, 0, 0, 0, 0, 0, 0, 0, 0, 0, 0, 0, 0, 0, 0, 0, 0, 0, 0, 0, 0, 0, 0, 0, 0, 0, 0, 0, 0, 0, 0, 0, 0, 0, 0, 0, 0, 0, 0, 0, 0, 0, 0, 0, 0, 0, 0, 0, 0, 0, 0, 0, 0, 0, 0, 0, 0, 0, 0, 0, 0, 0, 0, 0, 0, 0, 0, 0, 0, 0, 0, 0, 0, 0, 0, 0, 0, 0, 0, 0, 0, 0, 0, 0, 0, 0, 0, 0, 0, 0, 0, 0, 0, 0, 0, 0, 0, 0, 0, 0, 0, 0, 0, 0, 0, 0, 0, 0, 0, 0, 0, 0, 0, 0, 0, 0, 0, 0, 0, 0, 0, 0, 0, 0, 0, 0, 0, 0, 0, 0, 0, 0, 0, 0, 0, 0, 0, 0, 0, 0, 0, 0, 0, 0, 0, 0, 0, 0, 0, 0, 0, 0, 0, 0, 0, 0, 0, 0, 0, 0, 0, 0, 0, 0, 0, 0, 0, 0, 0, 0, 0, 0, 0, 0, 0, 0, 0, 0, 0, 0, 0, 0, 0, 0, 0, 0, 0, 0, 0, 0, 0, 0, 0, 0, 0, 0, 0, 0, 0, 0, 0, 0, 0, 0, 0, 0, 0, 0, 0, 0, 0, 0, 0, 0, 0, 0, 0, 0, 0, 0, 0, 0, 0, 0, 0, 0, 0, 0, 0, 0, 0, 0, 0, 0, 0, 0, 0, 0, 0, 0, 0, 0, 0, 0, 0, 0, 0, 0, 0, 0, 0, 0, 0, 0, 0, 0, 0, 0, 0, 0, 0, 0, 0, 0, 0, 0, 0, 0, 0, 0, 0, 0, 0, 0, 0, 0, 0, 0, 0, 0, 0, 0, 0, 0, 0, 0, 0, 0, 0, 0, 0, 0, 0, 0, 0, 0, 0, 0, 0, 0, 0, 0, 0, 0, 0, 0, 0, 0, 0, 0, 0, 0, 0, 0, 0, 0, 0, 0, 0, 0, 0, 0, 0, 0, 0, 0, 0, 0, 0, 0, 0, 0, 0, 0, 0, 0, 0, 0, 0, 0, 0, 0, 0, 0, 0, 0, 0, 0, 0, 0, 0, 0, 0, 0, 0, 0, 0, 0, 0, 0, 0, 0, 0, 0, 0, 0, 0, 0, 0, 0, 0, 0, 0, 0, 0, 0, 0, 0, 0, 0, 0, 0, 0, 0, 0, 0, 0, 0, 0, 0, 0, 0, 0, 0, 0, 0, 0, 0, 0, 0, 0, 0, 0, 0, 0, 0, 0, 0, 0, 0, 0, 0, 0, 0, 0, 0, 0, 0, 0, 0, 0, 0, 0, 0, 0, 0, 0, 0, 0, 0, 0, 0, 0, 0, 0, 0, 0, 0, 0, 0, 0, 0, 0, 0, 0, 0, 0, 0, 0, 0, 0, 0, 0, 0, 0, 0, 0, 0, 0, 0, 0, 0, 0, 0, 0, 0, 0, 0, 0, 0, 0, 0, 0, 0, 0, 0, 0, 0, 0, 0, 0, 0, 0, 0, 0, 0, 0, 0, 0, 0, 0, 0, 0, 0, 0, 0, 0, 0, 0, 0, 0, 0, 0, 0, 0, 0, 0, 0, 0, 0, 0, 0, 0, 0, 0, 0, 0, 0, 0, 0, 0, 0, 0, 0, 0, 0, 0, 0, 0, 0, 0, 0, 0, 0, 0, 0, 0, 0, 0, 0, 0, 0, 0, 0, 0, 0, 0, 0, 0, 0, 0, 0, 0, 0, 0, 0, 0, 0, 0, 0, 0, 0, 0, 0, 0, 0, 0, 0, 0, 0, 0, 0, 0, 0, 0, 0, 0, 0, 0, 0, 0, 0, 0, 0, 0, 0, 0, 0, 0, 0, 0, 0, 0, 0, 0, 0, 0, 0, 0, 0, 0, 0, 0, 0, 0, 0, 0, 0, 0, 0, 0, 0, 0, 0, 0, 0, 0, 0, 0, 0, 0, 0, 0, 0, 0, 0, 0, 0, 0, 0, 0, 0, 0, 0, 0, 0, 0, 0, 0, 0, 0, 0, 0, 0, 0, 0, 0, 0, 0, 0, 0, 0, 0, 0, 0, 0, 0, 0, 0, 0, 0, 0, 0, 0, 0, 0, 0, 0, 0, 0, 0, 0, 0, 0, 0, 0, 0, 0, 0, 0, 0, 0, 0, 0, 0, 0, 0, 0, 0, 0, 0, 0, 0, 0, 0, 0, 0, 0, 0, 0, 0, 0, 0, 0, 0, 0, 0, 0, 0, 0, 0, 0, 0, 0, 0, 0, 0, 0, 0, 0, 0, 0, 0, 0, 0, 0, 0, 0, 0, 0, 0, 0, 0, 0, 0, 0, 0, 0, 0, 0, 0, 0, 0, 0, 0, 0, 0, 0, 0, 0, 0, 0, 0, 0, 0, 0, 0, 0, 0, 0, 0, 0, 0, 0, 0, 0, 0, 0, 0, 0, 0, 0, 0, 0, 0, 0, 0, 0, 0, 0, 0, 0, 0, 0, 0, 0, 0, 0, 0, 0, 0, 0, 0, 0, 0, 0, 0, 0, 0, 0, 0, 0, 0, 0, 0, 0, 0, 0, 0, 0, 0, 0, 0, 0, 0, 0, 0, 0, 0, 0, 0, 0, 0, 0, 0, 0, 0, 0, 0, 0, 0, 0, 0, 0, 0, 0, 0, 0, 0, 0, 0, 0, 0, 0, 0, 0, 0, 0, 0, 0, 0, 0, 0, 0, 0, 0, 0, 0, 0, 0, 0, 0, 0, 0, 0, 0, 0, 0, 0, 0, 0, 0, 0, 0, 0, 0, 0, 0, 0, 0, 0, 0, 0, 0, 0, 0, 0, 0, 0, 0, 0, 0, 0, 0, 0, 0, 0, 0, 0, 0, 0, 0, 0, 0, 0, 0, 0, 0, 0, 0, 0, 0, 0, 0, 0, 0, 0, 0, 0, 0, 0, 0, 0, 0, 0, 0, 0, 0, 0, 0, 0, 0, 0, 0, 0, 0, 0, 0, 0, 0, 0, 0, 0, 0, 0, 0, 0, 0, 0, 0, 0, 0, 0, 0, 0, 0, 0, 0, 0, 0, 0, 0, 0, 0, 0, 0, 0, 0, 0, 0, 0, 0, 0, 0, 0, 0, 0, 0, 0, 0, 0, 0, 0, 0, 0, 0, 0, 0, 0, 0, 0, 0, 0, 0, 0, 0, 0, 0, 0, 0, 0, 0, 0, 0, 0, 0, 0, 0, 0, 0, 0, 0, 0, 0, 0, 0, 0, 0, 0, 0, 0, 0, 0, 0, 0, 0, 0, 0, 0, 0, 0, 0, 0, 0, 0, 0, 0, 0, 0, 0, 0, 0, 0, 0, 0, 0, 0, 0, 0, 0, 0, 0, 0, 0, 0, 0, 0, 0, 0, 0, 0, 0, 0, 0, 0, 0, 0, 0, 0, 0, 0, 0, 0, 0, 0, 0, 0, 0, 0, 0, 0, 0, 0, 0, 0, 0, 0, 0, 0, 0, 0, 0, 0, 0, 0, 0, 0, 0, 0, 0, 0, 0]|\n",
      "+----------+------------------------------------------------------------------------------------------------------------------------------------------------------------------------------------------------------------------------------------------------------------------------------------------------------------------------------------------------------------------------------------------------------------------------------------------------------------------------------------------------------------------------------------------------------------------------------------------------------------------------------------------------------------------------------------------------------------------------------------------------------------------------------------------------------------------------------------------------------------------------------------------------------------------------------------------------------------------------------------------------------------------------------------------------------------------------------------------------------------------------------------------------------------------------------------------------------------------------------------------------------------------------------------------------------------------------------------------------------------------------------------------------------------------------------------------------------------------------------------------------------------------------------------------------------------------------------------------------------------------------------------------------------------------------------------------------------------------------------------------------------------------------------------------------------------------------------------------------------------------------------------------------------------------------------------------------------------------------------------------------------------------------------------------------------------------------------------------------------------------------------------------------------------------------------------------------------------------------------------------------------------------------------------------------------------------------------------------------------------------------------------------------------------------------------------------------------------------------------------------------------------------------------------------------------------------------------------------------------------------------------------------------------------------------------------------------------------------------------------------------------------------------------------------------------------------------------------------------------------------------------------------------------------------------------------------------------------------------------------------------------------------------------------------------------------------------------------------------------------------------------------------------------------------------------------------------------------------------------------------------------------------------------------------------------------------------------------------------------------------------------------------------------------------------------------------------------------------------------------------------------------------------------------------------------------------------------------------------------------------------------------------------------------------------------------------------------------------------------------------------------------------------------------------------------------------------------------------------------------------------------------------------------------------------------------------------------------------------------------------------------------------------------------------------------------------------------------------------------------------------------------------------------------------------------------------------------------------------------------------------------------------------------------------------------------------------------------------------------------------------------------------------------------------------------------------------------------------------------------------------------------------------------------------------------------------------------------------------------------------------------------------------------------------------------------------------------------------------------------------------------------------------------------------------------------------------------------------------------------------------------------------------------------------------------------------------------------------------------------------------------------------------------------------------------------------+\n",
      "\n"
     ]
    }
   ],
   "source": [
    "# Define a function to create sparse vectors based on the vocabulary\n",
    "def create_sparse_vector(shingles, vocab):\n",
    "    vector = [0] * len(vocab)\n",
    "    for shingle in shingles:\n",
    "        if shingle in vocab:\n",
    "            idx = vocab[shingle]\n",
    "            vector[idx] = 1\n",
    "    return vector\n",
    "\n",
    "# Register the UDF to create sparse vectors\n",
    "sparse_vector_udf = udf(lambda shingles: create_sparse_vector(shingles, vocab), ArrayType(IntegerType()))\n",
    "\n",
    "# Apply the UDF to create sparse vectors\n",
    "logs_grouped_sparse = logs_grouped_cleaned_with_shingles.withColumn(\"sparse_vector\", sparse_vector_udf(col(\"shingles\")))\n",
    "\n",
    "# Show the resulting DataFrame with sparse vectors\n",
    "logs_grouped_sparse.select(\"process_id\", \"sparse_vector\").limit(1).show(truncate=False)"
   ]
  },
  {
   "cell_type": "markdown",
   "metadata": {},
   "source": [
    "#### Convert sparse vectors to the format expected by MinHashLSH"
   ]
  },
  {
   "cell_type": "code",
   "execution_count": 32,
   "metadata": {},
   "outputs": [
    {
     "name": "stdout",
     "output_type": "stream",
     "text": [
      "+----------+------------------------------------------------------------------------------------------------------------------------------------------------------------------------------------------------------------------------------------------------------------------------------------------------------------------------------------------------------------------------------------------------------------------------------------------------------------------------------------------------------------------------------------------------------------------------------------------------------------------------------------------------------------------------------------------------------------------------------------------------------------------------------------------------------------------------------------------------------------------------------------------------------------------------------------------------------------------------------------------------------------------------------------------------------------------------------------------------------------------------------------------------------------------------------------------------------------------------------------------------------------------------------------------------------------------------------------------------------------------------------------------------------------------------------------------------------------------------------------------------------------------------------------------------------------------------------------------------------------------------------------------------------------------------------------------------------------------------------------------------------------------------------------------------------------+\n",
      "|process_id|features                                                                                                                                                                                                                                                                                                                                                                                                                                                                                                                                                                                                                                                                                                                                                                                                                                                                                                                                                                                                                                                                                                                                                                                                                                                                                                                                                                                                                                                                                                                                                                                                                                                                                                                                                                                                    |\n",
      "+----------+------------------------------------------------------------------------------------------------------------------------------------------------------------------------------------------------------------------------------------------------------------------------------------------------------------------------------------------------------------------------------------------------------------------------------------------------------------------------------------------------------------------------------------------------------------------------------------------------------------------------------------------------------------------------------------------------------------------------------------------------------------------------------------------------------------------------------------------------------------------------------------------------------------------------------------------------------------------------------------------------------------------------------------------------------------------------------------------------------------------------------------------------------------------------------------------------------------------------------------------------------------------------------------------------------------------------------------------------------------------------------------------------------------------------------------------------------------------------------------------------------------------------------------------------------------------------------------------------------------------------------------------------------------------------------------------------------------------------------------------------------------------------------------------------------------+\n",
      "|1         |(1622,[0,1,2,3,4,5,6,7,8,9,10,11,12,13,14,15,16,17,18,19,20,21,22,23,24,25,26,27,28,29,30,31,32,33,34,35,36,37,38,39,40,41,42,43,44,45,46,47,48,49,50,51,52,53,54,55,56,57,58,59,60,61,62,63,64,65,66,67,68,69,70,71,72,73,74,75,76,77,78,79,80,81,82,83,84,85,86,87,88,89,90,91,92,93,94,95,96,97,98,99,100,101,102,103,104,105,106,107,108,109,110,111,112,113,114,115,116,117,118,119,120,121,122,123,124,125,126,127,128,129,130,131,132,133,134,135,136,137,138,139,140,141,142,143,144,145,146,147,148,149,150,151,152,153,154,155,156,157,158,159,160,161,162,163,164,165,166,167,168,169,170,171,172,173,174,175,176,177,178,179,180,181,182,183,184,185,186,187,188,189,190,191,192,193,194,195,196,197,198,199,200,201,202,203,204,205,206,207,208,209,210,211,212,213,214,215,216,217,218,219,220,221,222,223,224,225,226,227,228,229],[1.0,1.0,1.0,1.0,1.0,1.0,1.0,1.0,1.0,1.0,1.0,1.0,1.0,1.0,1.0,1.0,1.0,1.0,1.0,1.0,1.0,1.0,1.0,1.0,1.0,1.0,1.0,1.0,1.0,1.0,1.0,1.0,1.0,1.0,1.0,1.0,1.0,1.0,1.0,1.0,1.0,1.0,1.0,1.0,1.0,1.0,1.0,1.0,1.0,1.0,1.0,1.0,1.0,1.0,1.0,1.0,1.0,1.0,1.0,1.0,1.0,1.0,1.0,1.0,1.0,1.0,1.0,1.0,1.0,1.0,1.0,1.0,1.0,1.0,1.0,1.0,1.0,1.0,1.0,1.0,1.0,1.0,1.0,1.0,1.0,1.0,1.0,1.0,1.0,1.0,1.0,1.0,1.0,1.0,1.0,1.0,1.0,1.0,1.0,1.0,1.0,1.0,1.0,1.0,1.0,1.0,1.0,1.0,1.0,1.0,1.0,1.0,1.0,1.0,1.0,1.0,1.0,1.0,1.0,1.0,1.0,1.0,1.0,1.0,1.0,1.0,1.0,1.0,1.0,1.0,1.0,1.0,1.0,1.0,1.0,1.0,1.0,1.0,1.0,1.0,1.0,1.0,1.0,1.0,1.0,1.0,1.0,1.0,1.0,1.0,1.0,1.0,1.0,1.0,1.0,1.0,1.0,1.0,1.0,1.0,1.0,1.0,1.0,1.0,1.0,1.0,1.0,1.0,1.0,1.0,1.0,1.0,1.0,1.0,1.0,1.0,1.0,1.0,1.0,1.0,1.0,1.0,1.0,1.0,1.0,1.0,1.0,1.0,1.0,1.0,1.0,1.0,1.0,1.0,1.0,1.0,1.0,1.0,1.0,1.0,1.0,1.0,1.0,1.0,1.0,1.0,1.0,1.0,1.0,1.0,1.0,1.0,1.0,1.0,1.0,1.0,1.0,1.0,1.0,1.0,1.0,1.0,1.0,1.0,1.0,1.0,1.0,1.0,1.0,1.0])|\n",
      "+----------+------------------------------------------------------------------------------------------------------------------------------------------------------------------------------------------------------------------------------------------------------------------------------------------------------------------------------------------------------------------------------------------------------------------------------------------------------------------------------------------------------------------------------------------------------------------------------------------------------------------------------------------------------------------------------------------------------------------------------------------------------------------------------------------------------------------------------------------------------------------------------------------------------------------------------------------------------------------------------------------------------------------------------------------------------------------------------------------------------------------------------------------------------------------------------------------------------------------------------------------------------------------------------------------------------------------------------------------------------------------------------------------------------------------------------------------------------------------------------------------------------------------------------------------------------------------------------------------------------------------------------------------------------------------------------------------------------------------------------------------------------------------------------------------------------------+\n",
      "\n"
     ]
    }
   ],
   "source": [
    "def convert_to_vector(sparse_vector):\n",
    "    indices = [i for i, x in enumerate(sparse_vector) if x == 1]\n",
    "    values = [1.0] * len(indices)\n",
    "    return Vectors.sparse(len(sparse_vector), indices, values)\n",
    "\n",
    "# Create a new DataFrame with the vectors\n",
    "data = logs_grouped_sparse.rdd.map(lambda row: Row(process_id=row['process_id'], features=convert_to_vector(row['sparse_vector'])))\n",
    "logs_sparse_vectors = spark.createDataFrame(data)\n",
    "\n",
    "logs_sparse_vectors.limit(1).show(truncate=False)"
   ]
  },
  {
   "cell_type": "markdown",
   "metadata": {},
   "source": [
    "## 2. Perform MinHash and LSH using the pyspark function MinHashLSH"
   ]
  },
  {
   "cell_type": "markdown",
   "metadata": {},
   "source": [
    "### 2.1. Create MinHashLSH model and fit it with the 'features' column of the 'logs_sparse_vectors' dataframe"
   ]
  },
  {
   "cell_type": "code",
   "execution_count": 33,
   "metadata": {},
   "outputs": [
    {
     "name": "stdout",
     "output_type": "stream",
     "text": [
      "+----------+------------------------------------------------------------------------------------------------------------------------------------------------------------------------------------------------------------------------------------------------------------------+\n",
      "|process_id|hashes                                                                                                                                                                                                                                                            |\n",
      "+----------+------------------------------------------------------------------------------------------------------------------------------------------------------------------------------------------------------------------------------------------------------------------+\n",
      "|1         |[[973116.0], [3758271.0], [2348276.0], [7263313.0], [1179714.0], [8642351.0], [3089106.0], [628949.0], [6335436.0], [6136671.0], [5871152.0], [5905042.0], [2987192.0], [7670403.0], [892431.0], [2.8302717E7], [5942853.0], [5366464.0], [774503.0], [4572659.0]]|\n",
      "+----------+------------------------------------------------------------------------------------------------------------------------------------------------------------------------------------------------------------------------------------------------------------------+\n",
      "\n"
     ]
    }
   ],
   "source": [
    "# Initialize MinHashLSH\n",
    "'''\n",
    ":inputCol: The column of our dataframe that is going to be used for hashing\n",
    ":outputCol: The new solumn that will be created that includes the hashes\n",
    ":numHashTables: Number of MinHash functions\n",
    ":seed: Seed for reproducibility\n",
    "\n",
    "'''\n",
    "mh = MinHashLSH(inputCol=\"features\", outputCol=\"hashes\", numHashTables=20, seed=12345)\n",
    "\n",
    "# Fit the model\n",
    "model = mh.fit(logs_sparse_vectors)\n",
    "\n",
    "# Transform the data to include the hashes\n",
    "transformed_df = model.transform(logs_sparse_vectors)\n",
    "\n",
    "# Show the resulting DataFrame with hashes\n",
    "transformed_df.select(\"process_id\", \"hashes\").limit(1).show(truncate=False)"
   ]
  },
  {
   "cell_type": "markdown",
   "metadata": {},
   "source": [
    "### 2.2. Find the pairs that have Jaccard distance less than 'max_distance_threshold'"
   ]
  },
  {
   "cell_type": "code",
   "execution_count": 34,
   "metadata": {},
   "outputs": [],
   "source": [
    "# Find similar pairs with Jaccard similarity above a threshold\n",
    "max_distance_threshold = 0.50\n",
    "similar_pairs_df = model.approxSimilarityJoin(logs_sparse_vectors, logs_sparse_vectors, max_distance_threshold, distCol=\"JaccardDistance\") \\\n",
    "    .select(col(\"datasetA.process_id\").alias(\"process_id_1\"),\n",
    "            col(\"datasetB.process_id\").alias(\"process_id_2\"),\n",
    "            col(\"JaccardDistance\"))\n",
    "    \n",
    "# Filter out rows where process_id_1 is equal to process_id_2\n",
    "filtered_pairs_df = similar_pairs_df.filter(col(\"process_id_1\") != col(\"process_id_2\"))"
   ]
  },
  {
   "cell_type": "code",
   "execution_count": 35,
   "metadata": {},
   "outputs": [
    {
     "name": "stdout",
     "output_type": "stream",
     "text": [
      "+-------+--------------------+\n",
      "|summary|     JaccardDistance|\n",
      "+-------+--------------------+\n",
      "|  count|                2676|\n",
      "|   mean| 0.46914037673116366|\n",
      "| stddev|0.026225175713327484|\n",
      "|    min| 0.30208333333333337|\n",
      "|    max|  0.4984615384615385|\n",
      "+-------+--------------------+\n",
      "\n"
     ]
    }
   ],
   "source": [
    "filtered_pairs_df.select(\"JaccardDistance\").describe().show()"
   ]
  },
  {
   "cell_type": "markdown",
   "metadata": {},
   "source": [
    "### Group the pairs by 'process_id_1' to find for each process_id_1 a list of similar processes "
   ]
  },
  {
   "cell_type": "code",
   "execution_count": 79,
   "metadata": {},
   "outputs": [
    {
     "name": "stdout",
     "output_type": "stream",
     "text": [
      "+------------+--------------------+-----------+\n",
      "|process_id_1|   process_id_2_list|list_length|\n",
      "+------------+--------------------+-----------+\n",
      "|         237|[9, 114, 22, 62, ...|         42|\n",
      "|           6|[245, 131, 53, 18...|         35|\n",
      "|          52|[141, 246, 176, 1...|         32|\n",
      "|         150|[63, 127, 6, 227,...|         32|\n",
      "|         118|[6, 136, 222, 164...|         31|\n",
      "+------------+--------------------+-----------+\n",
      "\n"
     ]
    }
   ],
   "source": [
    "similar_df_groupped = filtered_pairs_df.groupBy(\"process_id_1\").agg(\n",
    "    collect_list(\"process_id_2\").alias(\"process_id_2_list\"),\n",
    ")\n",
    "\n",
    "# Add a column with the length of the process_id_2_list\n",
    "similar_df_groupped = similar_df_groupped.withColumn(\"list_length\", F.size(\"process_id_2_list\"))\n",
    "\n",
    "# Sort the DataFrame by list_length in descending order\n",
    "sorted_grouped_df = similar_df_groupped.orderBy(F.desc(\"list_length\"))\n",
    "\n",
    "sorted_grouped_df.limit(5).show(truncate=True)"
   ]
  },
  {
   "cell_type": "markdown",
   "metadata": {},
   "source": [
    "### Keep only one out of each group of similar processes and create the final filtered dateset"
   ]
  },
  {
   "cell_type": "code",
   "execution_count": 80,
   "metadata": {},
   "outputs": [],
   "source": [
    "# Step 2: Initialize keep and delete lists\n",
    "keep = []\n",
    "delete = set()\n",
    "\n",
    "# Iterate through the rows of the grouped DataFrame\n",
    "for row in sorted_grouped_df.collect():\n",
    "    process_id_1 = row[\"process_id_1\"]\n",
    "    \n",
    "    # If process_id_1 is already marked for deletion, skip it\n",
    "    if process_id_1 in delete:\n",
    "        continue\n",
    "    \n",
    "    # Keep process_id_1\n",
    "    keep.append(process_id_1)\n",
    "    \n",
    "    # Mark all process_id_2 as delete\n",
    "    delete.update(row[\"process_id_2_list\"])\n",
    "\n",
    "# Step 4: Create a DataFrame from the keep list\n",
    "keep_df = spark.createDataFrame(pd.DataFrame(keep, columns=[\"process_id\"]))\n",
    "\n",
    "# Ensure the process_id columns are of the same type\n",
    "logs_grouped = logs_grouped.withColumn(\"process_id\", col(\"process_id\").cast(\"long\"))\n",
    "keep_df = keep_df.withColumn(\"process_id\", col(\"process_id\").cast(\"long\"))\n",
    "\n",
    "# Rename process_id in keep_df to avoid conflicts\n",
    "keep_df = keep_df.withColumnRenamed(\"process_id\", \"keep_process_id\")\n",
    "\n",
    "# Check if \"delete\" includes items from \"keep\" and remove them.\n",
    "delete = delete - set(keep)\n",
    "\n",
    "# Filter the original DataFrame to exclude the deleted processes\n",
    "delete_list = list(delete)\n",
    "delete_df = spark.createDataFrame(pd.DataFrame(delete_list, columns=[\"process_id\"]))\n",
    "\n",
    "# Remove all the \"delete\" processes from the original grouped dataframe\n",
    "filtered_df = logs_grouped.join(delete_df, logs_grouped.process_id == delete_df.process_id, \"leftanti\")\n"
   ]
  },
  {
   "cell_type": "code",
   "execution_count": 82,
   "metadata": {},
   "outputs": [
    {
     "name": "stdout",
     "output_type": "stream",
     "text": [
      "The original dataset had: 250 processes and we kept: 56\n"
     ]
    }
   ],
   "source": [
    "print(f'Groupped similar items: {sorted_grouped_df.count()} and of these we kept: {keep_df.count()}')\n",
    "print(f'The original dataset had: {logs_grouped.count()} processes and we kept: {filtered_df.count()}')"
   ]
  },
  {
   "cell_type": "code",
   "execution_count": null,
   "metadata": {},
   "outputs": [],
   "source": []
  },
  {
   "cell_type": "code",
   "execution_count": null,
   "metadata": {},
   "outputs": [],
   "source": []
  }
 ],
 "metadata": {
  "kernelspec": {
   "display_name": "Python 3",
   "language": "python",
   "name": "python3"
  },
  "language_info": {
   "codemirror_mode": {
    "name": "ipython",
    "version": 3
   },
   "file_extension": ".py",
   "mimetype": "text/x-python",
   "name": "python",
   "nbconvert_exporter": "python",
   "pygments_lexer": "ipython3",
   "version": "3.11.0"
  }
 },
 "nbformat": 4,
 "nbformat_minor": 2
}
