{
 "cells": [
  {
   "cell_type": "markdown",
   "metadata": {},
   "source": [
    "# Spark Tasks"
   ]
  },
  {
   "cell_type": "markdown",
   "metadata": {},
   "source": [
    "## Imports and environment initialization"
   ]
  },
  {
   "cell_type": "code",
   "execution_count": 99,
   "metadata": {},
   "outputs": [],
   "source": [
    "import os\n",
    "import pyspark\n",
    "from pyspark import SparkConf\n",
    "from pyspark.sql import SparkSession, Row\n",
    "from pyspark.sql.functions import col, split, regexp_replace, collect_list, hash as spark_hash, concat_ws, when, abs, explode\n",
    "from pyspark.sql.types import ArrayType, StructType, StructField, StringType, LongType, DoubleType, IntegerType\n",
    "from pyspark.sql.functions import udf\n",
    "import numpy as np\n",
    "from collections import Counter\n",
    "from random import shuffle\n",
    "from pyspark.ml.linalg import Vectors\n",
    "from pyspark.ml.feature import MinHashLSH\n"
   ]
  },
  {
   "cell_type": "code",
   "execution_count": 68,
   "metadata": {},
   "outputs": [],
   "source": [
    "# Set environment variables\n",
    "os.environ[\"JAVA_HOME\"] = \"C:/Program Files/Java/jdk-22\"\n",
    "os.environ[\"SPARK_HOME\"] = \"C:/Spark/spark-3.5.1-bin-hadoop3\"\n",
    "os.environ[\"HADOOP_HOME\"] = \"C:/Hadoop\"\n",
    "os.environ[\"PYSPARK_PYTHON\"] = \"C:/Users/chris/AppData/Local/Programs/Python/Python311/python.exe\" \n",
    "os.environ[\"PATH\"] = (\n",
    "    os.path.join(os.environ[\"JAVA_HOME\"], \"bin\") + os.pathsep +\n",
    "    os.path.join(os.environ[\"SPARK_HOME\"], \"bin\") + os.pathsep +\n",
    "    os.path.join(os.environ[\"HADOOP_HOME\"], \"bin\") + os.pathsep +\n",
    "    os.path.join(os.environ[\"PYSPARK_PYTHON\"]) + os.pathsep +\n",
    "    os.environ[\"PATH\"])"
   ]
  },
  {
   "cell_type": "markdown",
   "metadata": {},
   "source": [
    "## Create & Configure Session"
   ]
  },
  {
   "cell_type": "code",
   "execution_count": 69,
   "metadata": {},
   "outputs": [
    {
     "name": "stdout",
     "output_type": "stream",
     "text": [
      "--Stopped existing SparkContext\n",
      "--Stopped existing SparkSession\n",
      "Spark session created successfully!\n"
     ]
    },
    {
     "data": {
      "text/html": [
       "\n",
       "            <div>\n",
       "                <p><b>SparkSession - in-memory</b></p>\n",
       "                \n",
       "        <div>\n",
       "            <p><b>SparkContext</b></p>\n",
       "\n",
       "            <p><a href=\"http://Belmont.home:4041\">Spark UI</a></p>\n",
       "\n",
       "            <dl>\n",
       "              <dt>Version</dt>\n",
       "                <dd><code>v3.5.1</code></dd>\n",
       "              <dt>Master</dt>\n",
       "                <dd><code>local[8]</code></dd>\n",
       "              <dt>AppName</dt>\n",
       "                <dd><code>DIS-lab-1</code></dd>\n",
       "            </dl>\n",
       "        </div>\n",
       "        \n",
       "            </div>\n",
       "        "
      ],
      "text/plain": [
       "<pyspark.sql.session.SparkSession at 0x20234fe6d10>"
      ]
     },
     "execution_count": 69,
     "metadata": {},
     "output_type": "execute_result"
    }
   ],
   "source": [
    "def create_session():\n",
    "    # create the session\n",
    "    conf = SparkConf()\n",
    "    conf.setAppName(\"DIS-lab-1\")    # Sets name of the Spark Application\n",
    "    conf.setMaster(\"local[8]\")    # Master URL. In this case local[*] uses all the available cores in the machine\n",
    "    conf.set(\"spark.driver.memory\", \"8G\")   # Memory allocated to driver process\n",
    "    conf.set(\"spark.driver.maxResultSize\", \"4G\")    # Maximum size of results that can be returned to driver\n",
    "    conf.set(\"spark.executor.instances\", \"4\")\n",
    "    conf.set(\"spark.executor.cores\", \"4\")\n",
    "    conf.set(\"spark.executor.memory\", \"2G\")    # Memory allocated to each executor\n",
    "    conf.set(\"spark.network.timeout\", \"600s\")  # Increase network timeout\n",
    "    conf.set(\"spark.executor.heartbeatInterval\", \"60s\")  # Increase heartbeat interval\n",
    "    conf.set(\"spark.rpc.message.maxSize\", \"512\")  # Increase max message size\n",
    "    conf.set(\"spark.driver.maxResultSize\", \"2G\")  # Increase driver max result size\n",
    "    conf.set(\"spark.sql.broadcastTimeout\", \"600\")  # Increase broadcast timeout\n",
    "    conf.set(\"spark.sql.shuffle.partitions\", \"200\")  # Increase the number of shuffle partitions\n",
    "    conf.set(\"spark.yarn.executor.memoryOverhead\", \"2048\")  # Increase memory overhead\n",
    "\n",
    "    sc = pyspark.SparkContext(conf=conf)    # Initializes the Spark context with this specific configuration\n",
    "    spark = SparkSession.builder.config(conf=sc.getConf()).getOrCreate()    # Creates Spark session\n",
    "    \n",
    "    return sc, spark\n",
    "\n",
    "try:\n",
    "    if 'sc' in globals() and sc is not None:\n",
    "        sc.stop()\n",
    "        print(\"--Stopped existing SparkContext\")\n",
    "    if 'spark' in globals() and isinstance(spark, SparkSession):\n",
    "        spark.stop()\n",
    "        print(\"--Stopped existing SparkSession\")\n",
    "except Exception as e:\n",
    "    print(f\"Error stopping existing Spark session or context: {e}\")\n",
    "\n",
    "# Create a new Spark session\n",
    "sc, spark = create_session()\n",
    "print(\"Spark session created successfully!\")\n",
    "spark"
   ]
  },
  {
   "cell_type": "markdown",
   "metadata": {},
   "source": [
    "## Load and Split Data"
   ]
  },
  {
   "cell_type": "markdown",
   "metadata": {},
   "source": [
    "### Load the data from the CSVs"
   ]
  },
  {
   "cell_type": "code",
   "execution_count": 70,
   "metadata": {},
   "outputs": [],
   "source": [
    "logs = spark.read.csv('datasets/dataset_2.csv', header=True, inferSchema=True)"
   ]
  },
  {
   "cell_type": "markdown",
   "metadata": {},
   "source": [
    "### Split the data into 5 separate columns"
   ]
  },
  {
   "cell_type": "code",
   "execution_count": 73,
   "metadata": {},
   "outputs": [
    {
     "name": "stdout",
     "output_type": "stream",
     "text": [
      "+-----------+-----------+----+-------+----------+\n",
      "|from_server|to_server  |time|action |process_id|\n",
      "+-----------+-----------+----+-------+----------+\n",
      "|user       |ui_server_9|0   |Request|714       |\n",
      "+-----------+-----------+----+-------+----------+\n",
      "\n"
     ]
    }
   ],
   "source": [
    "logs_splitted = logs \\\n",
    "    .withColumn(\"from_server\", regexp_replace(split(col(\"Logs\"), \", \").getItem(0), \"[<>]\", \"\")) \\\n",
    "    .withColumn(\"to_server\", split(col(\"Logs\"), \", \").getItem(1)) \\\n",
    "    .withColumn(\"time\", split(col(\"Logs\"), \", \").getItem(2)) \\\n",
    "    .withColumn(\"action\", split(col(\"Logs\"), \", \").getItem(3)) \\\n",
    "    .withColumn(\"process_id\", regexp_replace(split(col(\"Logs\"), \", \").getItem(4), \"[<>]\", \"\")) \\\n",
    "    .drop(\"Logs\")\n",
    "\n",
    "# Cast the \"time\" and \"process_id\" columns to integers\n",
    "logs_casted = logs_splitted \\\n",
    "    .withColumn(\"time\", col(\"time\").cast(\"integer\")) \\\n",
    "    .withColumn(\"process_id\", col(\"process_id\").cast(\"integer\"))\n",
    "\n",
    "logs_casted.limit(1).show(truncate=False)"
   ]
  },
  {
   "cell_type": "markdown",
   "metadata": {},
   "source": [
    "## Group data"
   ]
  },
  {
   "cell_type": "markdown",
   "metadata": {},
   "source": [
    "### Group by process_id"
   ]
  },
  {
   "cell_type": "code",
   "execution_count": 75,
   "metadata": {},
   "outputs": [
    {
     "name": "stdout",
     "output_type": "stream",
     "text": [
      "+----------+--------------------+--------------------+--------------------+--------------------+\n",
      "|process_id|        from_servers|          to_servers|               times|             actions|\n",
      "+----------+--------------------+--------------------+--------------------+--------------------+\n",
      "|         1|[user, ui_server_...|[ui_server_17, pu...|[136, 142, 153, 1...|[Request, Request...|\n",
      "+----------+--------------------+--------------------+--------------------+--------------------+\n",
      "\n"
     ]
    }
   ],
   "source": [
    "logs_grouped = logs_casted.groupBy(\"process_id\").agg(\n",
    "    collect_list(\"from_server\").alias(\"from_servers\"),\n",
    "    collect_list(\"to_server\").alias(\"to_servers\"),\n",
    "    collect_list(\"time\").alias(\"times\"),\n",
    "    collect_list(\"action\").alias(\"actions\")\n",
    ")\n",
    "logs_grouped.limit(1).show(truncate=True)\n"
   ]
  },
  {
   "cell_type": "markdown",
   "metadata": {},
   "source": [
    "### Sort all the column items based on times so the sub-processes are in the right order"
   ]
  },
  {
   "cell_type": "code",
   "execution_count": 77,
   "metadata": {},
   "outputs": [],
   "source": [
    "def sort_lists(times, from_servers, to_servers, actions):\n",
    "    combined = list(zip(times, from_servers, to_servers, actions))\n",
    "    sorted_combined = sorted(combined, key=lambda x: x[0])\n",
    "    times_sorted, from_servers_sorted, to_servers_sorted, actions_sorted = zip(*sorted_combined)\n",
    "    return list(times_sorted), list(from_servers_sorted), list(to_servers_sorted), list(actions_sorted)\n",
    "\n",
    "# Define the schema for the sorted columns\n",
    "sorted_lists_schema = StructType([\n",
    "    StructField(\"times\", ArrayType(LongType()), nullable=True),\n",
    "    StructField(\"from_servers\", ArrayType(StringType()), nullable=True),\n",
    "    StructField(\"to_servers\", ArrayType(StringType()), nullable=True),\n",
    "    StructField(\"actions\", ArrayType(StringType()), nullable=True)\n",
    "])\n",
    "\n",
    "# Register the function as a UDF\n",
    "sort_lists_udf = udf(sort_lists, sorted_lists_schema)\n",
    "\n",
    "# Apply the UDF to sort the lists based on the \"times\" column\n",
    "logs_grouped = logs_grouped.withColumn(\"sorted_lists\", sort_lists_udf(\"times\", \"from_servers\", \"to_servers\", \"actions\"))\n",
    "\n",
    "# Split the sorted lists into separate columns\n",
    "logs_grouped = logs_grouped.withColumn(\"times\", col(\"sorted_lists.times\")) \\\n",
    "                           .withColumn(\"from_servers\", col(\"sorted_lists.from_servers\")) \\\n",
    "                           .withColumn(\"to_servers\", col(\"sorted_lists.to_servers\")) \\\n",
    "                           .withColumn(\"actions\", col(\"sorted_lists.actions\")) \\\n",
    "                           .drop(\"sorted_lists\")"
   ]
  },
  {
   "cell_type": "markdown",
   "metadata": {},
   "source": [
    "### Keep the from_servers sequence as feature for hashing in string format (process_string column)"
   ]
  },
  {
   "cell_type": "code",
   "execution_count": 78,
   "metadata": {},
   "outputs": [
    {
     "name": "stdout",
     "output_type": "stream",
     "text": [
      "+----------+--------------------+--------------------+--------------------+--------------------+--------------------+\n",
      "|process_id|        from_servers|          to_servers|               times|             actions|      process_string|\n",
      "+----------+--------------------+--------------------+--------------------+--------------------+--------------------+\n",
      "|         1|[user, ui_server_...|[ui_server_17, pu...|[136, 142, 153, 1...|[Request, Request...|user,ui_server_17...|\n",
      "+----------+--------------------+--------------------+--------------------+--------------------+--------------------+\n",
      "\n"
     ]
    }
   ],
   "source": [
    "''' \n",
    "Using the withColumn method to create a new column \"process_string\".\n",
    "The concat_ws function concatenates multiple column values into a single string, separated by a comma.\n",
    "col(\"from_servers\"): Selects the column \"from_servers\".\n",
    "col(\"to_servers\"): Selects the column \"to_servers\".\n",
    "col(\"times\"): Selects the column \"times\".\n",
    "col(\"actions\"): Selects the column \"actions\".\n",
    "The concatenated string is stored in the new column \"process_string\".\n",
    "'''\n",
    "\n",
    "logs_grouped = logs_grouped.withColumn(\n",
    "    \"process_string\",\n",
    "    concat_ws(\n",
    "        \",\",\n",
    "        col(\"from_servers\"),\n",
    "    )\n",
    ")\n",
    "\n",
    "logs_grouped.limit(1).show(truncate=True)"
   ]
  },
  {
   "cell_type": "markdown",
   "metadata": {},
   "source": [
    "# Approach 1 (LSH)"
   ]
  },
  {
   "cell_type": "markdown",
   "metadata": {},
   "source": [
    "## 1. Create shingles"
   ]
  },
  {
   "cell_type": "markdown",
   "metadata": {},
   "source": [
    "### 1.1. Pre-processing before shingles"
   ]
  },
  {
   "cell_type": "code",
   "execution_count": 80,
   "metadata": {},
   "outputs": [],
   "source": [
    "def get_all_substrings(string, min_length):\n",
    "    length = len(string)\n",
    "    return [string[i:j] for i in range(length) for j in range(i + min_length, length + 1)]\n",
    "\n",
    "\n",
    "def find_common_substring(server_names, min_length=3, min_occurrences_ratio=0.6):\n",
    "    substr_counter = Counter()\n",
    "    total_names = len(server_names)\n",
    "    min_occurrences = int(total_names * min_occurrences_ratio)\n",
    "    \n",
    "    for name in server_names:\n",
    "        substrings = get_all_substrings(name, min_length)\n",
    "        substr_counter.update(substrings)\n",
    "    \n",
    "    # Filter substrings that occur at least min_occurrences times\n",
    "    common_substrings = [substr for substr, count in substr_counter.items() if count >= min_occurrences]\n",
    "    \n",
    "    if not common_substrings:\n",
    "        return \"\"\n",
    "    \n",
    "    # Return the longest common substring\n",
    "    return max(common_substrings, key=len)\n",
    "\n",
    "\n",
    "def remove_common_substring(strings, common_substring):\n",
    "    return [string.replace(common_substring, \"\") for string in strings]"
   ]
  },
  {
   "cell_type": "markdown",
   "metadata": {},
   "source": [
    "#### Find sub-strings that exist in most server names and remove them (they do not add information)"
   ]
  },
  {
   "cell_type": "code",
   "execution_count": 83,
   "metadata": {},
   "outputs": [
    {
     "name": "stdout",
     "output_type": "stream",
     "text": [
      "Most Common Substring: _server_\n"
     ]
    }
   ],
   "source": [
    "# Sample 3 rows from the data\n",
    "sample_rows = logs_grouped.select(\"from_servers\").limit(3).collect()\n",
    "\n",
    "# Extract the \"from_servers\" lists from the sample rows\n",
    "sample_from_servers = [row[\"from_servers\"] for row in sample_rows]\n",
    "\n",
    "# Flatten the list of lists to a single list of server names\n",
    "flattened_server_names = [server for sublist in sample_from_servers for server in sublist]\n",
    "\n",
    "# Get unique server names\n",
    "unique_server_names = list(set(flattened_server_names))\n",
    "\n",
    "# Use the function on the unique server names\n",
    "common_substring = find_common_substring(unique_server_names, min_length=3, min_occurrences_ratio=0.70)\n",
    "\n",
    "print(\"Most Common Substring:\", common_substring)"
   ]
  },
  {
   "cell_type": "markdown",
   "metadata": {},
   "source": [
    "#### Remove the most common sub-string and all the special characters and numbers"
   ]
  },
  {
   "cell_type": "code",
   "execution_count": 85,
   "metadata": {},
   "outputs": [
    {
     "name": "stdout",
     "output_type": "stream",
     "text": [
      "+---------------------------------------------------------------------------------------------------------------------------------------------------------------------------------------------------------------------------------------------------------------------------------------------------------------------------------------------------------------------------------------------------------------------------------------------------------------------------------------------------------------------------------+\n",
      "|process_string_cleaned                                                                                                                                                                                                                                                                                                                                                                                                                                                                                                           |\n",
      "+---------------------------------------------------------------------------------------------------------------------------------------------------------------------------------------------------------------------------------------------------------------------------------------------------------------------------------------------------------------------------------------------------------------------------------------------------------------------------------------------------------------------------------+\n",
      "|useruipurchasebookbookavailabilitybundleofferusercredentialsuserhistorycardcheckvisalimitcheckvisafraudcheckvisacurrencyconversionshippingoptionsshippinginsuranceexpressdeliveryinventoryupdatesuppliernotificationreviewreviewverificationreviewanalysisadcustomersupportadreviewanalysisreviewverificationreviewsuppliernotificationinventoryupdateexpressdeliveryshippinginsuranceshippingoptionscurrencyconversionfraudcheckvisalimitcheckvisavisacardcheckuserhistoryusercredentialsbundleofferbookavailabilitypurchasebook|\n",
      "+---------------------------------------------------------------------------------------------------------------------------------------------------------------------------------------------------------------------------------------------------------------------------------------------------------------------------------------------------------------------------------------------------------------------------------------------------------------------------------------------------------------------------------+\n",
      "\n"
     ]
    }
   ],
   "source": [
    "# Create a new DataFrame with the common substring removed from the process_string\n",
    "logs_grouped_cleaned = logs_grouped.withColumn(\n",
    "    \"process_string_cleaned\",\n",
    "    regexp_replace(col(\"process_string\"), common_substring, \"\"),\n",
    ")\n",
    "\n",
    "logs_grouped_cleaned = logs_grouped_cleaned.withColumn(\n",
    "    \"process_string_cleaned\",\n",
    "    regexp_replace(col(\"process_string_cleaned\"), \"[^a-zA-Z\\s]\", \"\")\n",
    ")\n",
    "\n",
    "# Show the cleaned DataFrame\n",
    "logs_grouped_cleaned.select(\"process_string_cleaned\").limit(1).show(truncate=False)"
   ]
  },
  {
   "cell_type": "markdown",
   "metadata": {},
   "source": [
    "### 1.2. Define the shingles of each function"
   ]
  },
  {
   "cell_type": "code",
   "execution_count": 87,
   "metadata": {},
   "outputs": [
    {
     "name": "stdout",
     "output_type": "stream",
     "text": [
      "Average length of server names: 22.412429378531073\n",
      "Determined shingle length: 7\n",
      "+----------+---------------------------------------------------------------------------------------------------------------------------------------------------------------------------------------------------------------------------------------------------------------------------------------------------------------------------------------------------------------------------------------------------------------------------------------------------------------------------------------------------------------------------------+------------------------------------------------------------------------------------------------------------------------------------------------------------------------------------------------------------------------------------------------------------------------------------------------------------------------------------------------------------------------------------------------------------------------------------------------------------------------------------------------------------------------------------------------------------------------------------------------------------------------------------------------------------------------------------------------------------------------------------------------------------------------------------------------------------------------------------------------------------------------------------------------------------------------------------------------------------------------------------------------------------------------------------------------------------------------------------------------------------------------------------------------------------------------------------------------------------------------------------------------------------------------------------------------------------------------------------------------------------------------------------------------------------------------------------------------------------------------------------------------------------------------------------------------------------------------------------------------------------------------------------------------------------------------------------------------------------------------------------------------------------------------------------------------------------------------------------------------------------------------------------------------------------------------------------------------------------------------------------------------------------------------------------------------------------------------------------------------------------------------------------------------------------------------------------------------------------------------------------------------------------------------------------------------------------------------------------------------------------------------------------------------------------------------------------------------------------------------------------------------------------------------------------------------------------------------------------------------------------------------------------------------------------------------------------------------------------------------------------------------------------------------------------------------------------------------------------------------------------------------------------------------------------------------------------------------------------------------------------------------------------------------------------------------------------------------------------------------------------------------------------------------------------------+\n",
      "|process_id|process_string_cleaned                                                                                                                                                                                                                                                                                                                                                                                                                                                                                                           |shingles                                                                                                                                                                                                                                                                                                                                                                                                                                                                                                                                                                                                                                                                                                                                                                                                                                                                                                                                                                                                                                                                                                                                                                                                                                                                                                                                                                                                                                                                                                                                                                                                                                                                                                                                                                                                                                                                                                                                                                                                                                                                                                                                                                                                                                                                                                                                                                                                                                                                                                                                                                                                                                                                                                                                                                                                                                                                                                                                                                                                                                                                                                                                                          |\n",
      "+----------+---------------------------------------------------------------------------------------------------------------------------------------------------------------------------------------------------------------------------------------------------------------------------------------------------------------------------------------------------------------------------------------------------------------------------------------------------------------------------------------------------------------------------------+------------------------------------------------------------------------------------------------------------------------------------------------------------------------------------------------------------------------------------------------------------------------------------------------------------------------------------------------------------------------------------------------------------------------------------------------------------------------------------------------------------------------------------------------------------------------------------------------------------------------------------------------------------------------------------------------------------------------------------------------------------------------------------------------------------------------------------------------------------------------------------------------------------------------------------------------------------------------------------------------------------------------------------------------------------------------------------------------------------------------------------------------------------------------------------------------------------------------------------------------------------------------------------------------------------------------------------------------------------------------------------------------------------------------------------------------------------------------------------------------------------------------------------------------------------------------------------------------------------------------------------------------------------------------------------------------------------------------------------------------------------------------------------------------------------------------------------------------------------------------------------------------------------------------------------------------------------------------------------------------------------------------------------------------------------------------------------------------------------------------------------------------------------------------------------------------------------------------------------------------------------------------------------------------------------------------------------------------------------------------------------------------------------------------------------------------------------------------------------------------------------------------------------------------------------------------------------------------------------------------------------------------------------------------------------------------------------------------------------------------------------------------------------------------------------------------------------------------------------------------------------------------------------------------------------------------------------------------------------------------------------------------------------------------------------------------------------------------------------------------------------------------------------------+\n",
      "|1         |useruipurchasebookbookavailabilitybundleofferusercredentialsuserhistorycardcheckvisalimitcheckvisafraudcheckvisacurrencyconversionshippingoptionsshippinginsuranceexpressdeliveryinventoryupdatesuppliernotificationreviewreviewverificationreviewanalysisadcustomersupportadreviewanalysisreviewverificationreviewsuppliernotificationinventoryupdateexpressdeliveryshippinginsuranceshippingoptionscurrencyconversionfraudcheckvisalimitcheckvisavisacardcheckuserhistoryusercredentialsbundleofferbookavailabilitypurchasebook|[ycardch, rusercr, ginsura, uipurch, custome, onrevie, urancee, ncyconv, reviews, iewanal, dcustom, nreview, sebookb, ificati, viewana, dchecku, ceexpre, kvisacu, shippin, ercrede, anceshi, ebookbo, ationre, wverifi, isavisa, onfraud, tionrev, ferbook, invento, isacurr, ryupdat, ookavai, tionssh, ionrevi, dential, bilityb, scurren, ernotif, offerbo, litypur, sisrevi, convers, ssdeliv, ersions, supplie, upplier, iewrevi, ninvent, deliver, ewsuppl, storyca, ntoryup, ntialsb, ication, ippingi, inginsu, nshippi, eruipur, ybundle, rencyco, istoryc, yconver, dleoffe, xpressd, itybund, eexpres, itcheck, eckuser, ailabil, leoffer, options, rnotifi, rycardc, rcreden, datesup, serhist, onshipp, eofferb, ationin, entoryu, rificat, ventory, rtadrev, kvisali, eofferu, mitchec, alysisa, viewrev, okbooka, rhistor, ckuserh, limitch, oryupda, offerus, ngoptio, upporta, avisaca, wreview, updatee, toryuse, eckvisa, ckvisac, ialsuse, rdcheck, safraud, tcheckv, sisadcu, visacur, kvisafr, redenti, eviewre, reviewr, nceexpr, iveryin, lsuserh, nalysis, wsuppli, viewver, ionsshi, nginsur, istoryu, tioninv, seruipu, vailabi, ndleoff, ficatio, oninven, sdelive, nsshipp, isafrau, pressde, surance, ionship, cationr, ranceex, rsionfr, erhisto, eryship, bookava, omersup, currenc, ewrevie, sionfra, bookboo, adcusto, yinvent, isadcus, otifica, ckvisal, isrevie, ckvisaf, okavail, urances, support, ability, pingins, ookbook, rchaseb, erifica, encycon, kbookav, ysisadc, feruser, edentia, visacar, sbundle, alsbund, fferuse, liernot, cardche, ryshipp, yupdate, nscurre, ioninve, onsship, kuserhi, litybun, nfraudc, sionshi, dateexp, afraudc, pdatesu, eviewsu, hipping, ionfrau, alimitc, reviewa, mersupp, version, ilitybu, alysisr, sshippi, chasebo, lysisre, ryuserc, onversi, visavis, ateexpr, erbooka, tomersu, tialsus, eryinve, ilabili, rsuppor, availab, salimit, pportad, visalim, ppingop, ialsbun, labilit, udcheck, tialsbu, checkus, rrencyc, notific, onscurr, ippingo, elivery, iewsupp, dreview, isacard, verific, tificat, audchec, ersuppo, tionscu, pdateex, checkvi, plierno, ingopti, nsuranc, updates, acurren, insuran, kavaila, lysisad, itypurc, liverys, nversio, cyconve, suserhi, ysisrev, rsionsh, eshippi, express, lsbundl, usercre, sacurre, sadcust, urchase, kvisavi, rancesh, raudche, ilitypu, teexpre, dcheckv, alsuser, visafra, tadrevi, savisac, toryupd, reviewv, esuppli, nceship, history, iewveri, storyus, eviewan, yshippi, ressdel, yusercr, tybundl, torycar, urrency, ptionss, fraudch, heckvis, tesuppl, orycard, ardchec, anceexp, iverysh, undleof, veryshi, sercred, entials, ersionf, ewverif, iernoti, viewsup, ipurcha, fferboo, imitche, eviewve, isalimi, bilityp, ryinven, goption, ionscur, typurch, cationi, ruipurc, ckvisav, ortadre, wanalys, userhis, oryuser, ptionsc, ppingin, sacardc, ewanaly, ntialsu, purchas, heckuse, bundleo, ppliern, acardch, ypurcha, sreview, essdeli, eruserc, ceshipp, ustomer, adrevie, pingopt, haseboo, liveryi, veryinv, asebook, portadr, useruip, rbookav, atesupp, stomers, nventor, analysi, credent]|\n",
      "+----------+---------------------------------------------------------------------------------------------------------------------------------------------------------------------------------------------------------------------------------------------------------------------------------------------------------------------------------------------------------------------------------------------------------------------------------------------------------------------------------------------------------------------------------+------------------------------------------------------------------------------------------------------------------------------------------------------------------------------------------------------------------------------------------------------------------------------------------------------------------------------------------------------------------------------------------------------------------------------------------------------------------------------------------------------------------------------------------------------------------------------------------------------------------------------------------------------------------------------------------------------------------------------------------------------------------------------------------------------------------------------------------------------------------------------------------------------------------------------------------------------------------------------------------------------------------------------------------------------------------------------------------------------------------------------------------------------------------------------------------------------------------------------------------------------------------------------------------------------------------------------------------------------------------------------------------------------------------------------------------------------------------------------------------------------------------------------------------------------------------------------------------------------------------------------------------------------------------------------------------------------------------------------------------------------------------------------------------------------------------------------------------------------------------------------------------------------------------------------------------------------------------------------------------------------------------------------------------------------------------------------------------------------------------------------------------------------------------------------------------------------------------------------------------------------------------------------------------------------------------------------------------------------------------------------------------------------------------------------------------------------------------------------------------------------------------------------------------------------------------------------------------------------------------------------------------------------------------------------------------------------------------------------------------------------------------------------------------------------------------------------------------------------------------------------------------------------------------------------------------------------------------------------------------------------------------------------------------------------------------------------------------------------------------------------------------------------------------+\n",
      "\n"
     ]
    }
   ],
   "source": [
    "# Define the shingling function for process strings\n",
    "def shingle_process_string(process_string, k):\n",
    "    shingle_set = set()\n",
    "    for i in range(len(process_string) - k + 1):\n",
    "        shingle = process_string[i:i + k]\n",
    "        shingle_set.add(shingle)\n",
    "    return list(shingle_set)\n",
    "\n",
    "# Define the shingle length based on the average length of the servers\n",
    "rows = 5\n",
    "first_rows = logs_grouped_cleaned.take(rows)\n",
    "average_length = 0\n",
    "\n",
    "# Calculate the average length of server names\n",
    "total_length = 0\n",
    "total_servers = 0\n",
    "\n",
    "for row in first_rows:\n",
    "    servers = row[\"from_servers\"]\n",
    "    total_length += sum(len(server) for server in servers)\n",
    "    total_servers += len(servers)\n",
    "\n",
    "average_server_name_length = total_length / total_servers\n",
    "shingle_length_percentage = 0.3\n",
    "shingle_length = max(2, int(np.ceil(average_server_name_length *shingle_length_percentage)))\n",
    "\n",
    "print(f'Average length of server names: {average_server_name_length}')\n",
    "print(f'Determined shingle length: {shingle_length}')\n",
    "\n",
    "# Register the UDF for shingling\n",
    "shingle_udf = udf(lambda process_string: shingle_process_string(process_string, shingle_length), ArrayType(StringType()))\n",
    "\n",
    "# Apply the UDF to create shingles from process strings\n",
    "logs_grouped_cleaned_with_shingles = logs_grouped_cleaned.withColumn(\"shingles\", shingle_udf(col(\"process_string_cleaned\")))\n",
    "\n",
    "# Show the resulting DataFrame with shingles\n",
    "logs_grouped_cleaned_with_shingles.select(\"process_id\", \"process_string_cleaned\", \"shingles\").limit(1).show(truncate=False)"
   ]
  },
  {
   "cell_type": "markdown",
   "metadata": {},
   "source": [
    "### 1.3. Create Vocabulary from shingles"
   ]
  },
  {
   "cell_type": "markdown",
   "metadata": {},
   "source": [
    "#### Keep all unique shingles"
   ]
  },
  {
   "cell_type": "code",
   "execution_count": 96,
   "metadata": {},
   "outputs": [
    {
     "name": "stdout",
     "output_type": "stream",
     "text": [
      "Vocabulary: ['ycardch', 'rusercr', 'ginsura', 'uipurch', 'custome', 'onrevie', 'urancee', 'ncyconv', 'reviews', 'iewanal'] . . .\n",
      "Length: 808\n"
     ]
    }
   ],
   "source": [
    "# Collect all shingles from the DataFrame into a single list\n",
    "all_unique_shingles = logs_grouped_cleaned_with_shingles.select(\"shingles\").rdd.flatMap(lambda row: row.shingles).distinct().collect()\n",
    "\n",
    "# Create a vocabulary dictionary where each shingle is assigned a unique index\n",
    "vocab = {shingle: idx for idx, shingle in enumerate(all_unique_shingles)}\n",
    "# Print the vocabulary to verify\n",
    "print(f'Vocabulary: {list(vocab)[:10]} . . .')\n",
    "print(f'Length: {len(vocab)}')"
   ]
  },
  {
   "cell_type": "markdown",
   "metadata": {},
   "source": [
    "#### Create the sparse vector of shingle occurence for each process"
   ]
  },
  {
   "cell_type": "code",
   "execution_count": 97,
   "metadata": {},
   "outputs": [
    {
     "name": "stdout",
     "output_type": "stream",
     "text": [
      "+----------+------------------------------------------------------------------------------------------------------------------------------------------------------------------------------------------------------------------------------------------------------------------------------------------------------------------------------------------------------------------------------------------------------------------------------------------------------------------------------------------------------------------------------------------------------------------------------------------------------------------------------------------------------------------------------------------------------------------------------------------------------------------------------------------------------------------------------------------------------------------------------------------------------------------------------------------------------------------------------------------------------------------------------------------------------------------------------------------------------------------------------------------------------------------------------------------------------------------------------------------------------------------------------------------------------------------------------------------------------------------------------------------------------------------------------------------------------------------------------------------------------------------------------------------------------------------------------------------------------------------------------------------------------------------------------------------------------------------------------------------------------------------------------------------------------------------------------------------------------------------------------------------------------------------------------------------------------------------------------------------------------------------------------------------------------------------------------------------------------------------------------------------------------------------------------------------------------------------------------------------------------------------------------------------------------------------------------------------------------------------------------------------------------------------------------------------------------------------------------------------------------------------------+\n",
      "|process_id|sparse_vector                                                                                                                                                                                                                                                                                                                                                                                                                                                                                                                                                                                                                                                                                                                                                                                                                                                                                                                                                                                                                                                                                                                                                                                                                                                                                                                                                                                                                                                                                                                                                                                                                                                                                                                                                                                                                                                                                                                                                                                                                                                                                                                                                                                                                                                                                                                                                                                                                                                                                                           |\n",
      "+----------+------------------------------------------------------------------------------------------------------------------------------------------------------------------------------------------------------------------------------------------------------------------------------------------------------------------------------------------------------------------------------------------------------------------------------------------------------------------------------------------------------------------------------------------------------------------------------------------------------------------------------------------------------------------------------------------------------------------------------------------------------------------------------------------------------------------------------------------------------------------------------------------------------------------------------------------------------------------------------------------------------------------------------------------------------------------------------------------------------------------------------------------------------------------------------------------------------------------------------------------------------------------------------------------------------------------------------------------------------------------------------------------------------------------------------------------------------------------------------------------------------------------------------------------------------------------------------------------------------------------------------------------------------------------------------------------------------------------------------------------------------------------------------------------------------------------------------------------------------------------------------------------------------------------------------------------------------------------------------------------------------------------------------------------------------------------------------------------------------------------------------------------------------------------------------------------------------------------------------------------------------------------------------------------------------------------------------------------------------------------------------------------------------------------------------------------------------------------------------------------------------------------------+\n",
      "|1         |[1, 1, 1, 1, 1, 1, 1, 1, 1, 1, 1, 1, 1, 1, 1, 1, 1, 1, 1, 1, 1, 1, 1, 1, 1, 1, 1, 1, 1, 1, 1, 1, 1, 1, 1, 1, 1, 1, 1, 1, 1, 1, 1, 1, 1, 1, 1, 1, 1, 1, 1, 1, 1, 1, 1, 1, 1, 1, 1, 1, 1, 1, 1, 1, 1, 1, 1, 1, 1, 1, 1, 1, 1, 1, 1, 1, 1, 1, 1, 1, 1, 1, 1, 1, 1, 1, 1, 1, 1, 1, 1, 1, 1, 1, 1, 1, 1, 1, 1, 1, 1, 1, 1, 1, 1, 1, 1, 1, 1, 1, 1, 1, 1, 1, 1, 1, 1, 1, 1, 1, 1, 1, 1, 1, 1, 1, 1, 1, 1, 1, 1, 1, 1, 1, 1, 1, 1, 1, 1, 1, 1, 1, 1, 1, 1, 1, 1, 1, 1, 1, 1, 1, 1, 1, 1, 1, 1, 1, 1, 1, 1, 1, 1, 1, 1, 1, 1, 1, 1, 1, 1, 1, 1, 1, 1, 1, 1, 1, 1, 1, 1, 1, 1, 1, 1, 1, 1, 1, 1, 1, 1, 1, 1, 1, 1, 1, 1, 1, 1, 1, 1, 1, 1, 1, 1, 1, 1, 1, 1, 1, 1, 1, 1, 1, 1, 1, 1, 1, 1, 1, 1, 1, 1, 1, 1, 1, 1, 1, 1, 1, 1, 1, 1, 1, 1, 1, 1, 1, 1, 1, 1, 1, 1, 1, 1, 1, 1, 1, 1, 1, 1, 1, 1, 1, 1, 1, 1, 1, 1, 1, 1, 1, 1, 1, 1, 1, 1, 1, 1, 1, 1, 1, 1, 1, 1, 1, 1, 1, 1, 1, 1, 1, 1, 1, 1, 1, 1, 1, 1, 1, 1, 1, 1, 1, 1, 1, 1, 1, 1, 1, 1, 1, 1, 1, 1, 1, 1, 1, 1, 1, 1, 1, 1, 1, 1, 1, 1, 1, 1, 1, 1, 1, 1, 1, 1, 1, 1, 1, 1, 1, 1, 1, 1, 1, 1, 1, 1, 1, 0, 0, 0, 0, 0, 0, 0, 0, 0, 0, 0, 0, 0, 0, 0, 0, 0, 0, 0, 0, 0, 0, 0, 0, 0, 0, 0, 0, 0, 0, 0, 0, 0, 0, 0, 0, 0, 0, 0, 0, 0, 0, 0, 0, 0, 0, 0, 0, 0, 0, 0, 0, 0, 0, 0, 0, 0, 0, 0, 0, 0, 0, 0, 0, 0, 0, 0, 0, 0, 0, 0, 0, 0, 0, 0, 0, 0, 0, 0, 0, 0, 0, 0, 0, 0, 0, 0, 0, 0, 0, 0, 0, 0, 0, 0, 0, 0, 0, 0, 0, 0, 0, 0, 0, 0, 0, 0, 0, 0, 0, 0, 0, 0, 0, 0, 0, 0, 0, 0, 0, 0, 0, 0, 0, 0, 0, 0, 0, 0, 0, 0, 0, 0, 0, 0, 0, 0, 0, 0, 0, 0, 0, 0, 0, 0, 0, 0, 0, 0, 0, 0, 0, 0, 0, 0, 0, 0, 0, 0, 0, 0, 0, 0, 0, 0, 0, 0, 0, 0, 0, 0, 0, 0, 0, 0, 0, 0, 0, 0, 0, 0, 0, 0, 0, 0, 0, 0, 0, 0, 0, 0, 0, 0, 0, 0, 0, 0, 0, 0, 0, 0, 0, 0, 0, 0, 0, 0, 0, 0, 0, 0, 0, 0, 0, 0, 0, 0, 0, 0, 0, 0, 0, 0, 0, 0, 0, 0, 0, 0, 0, 0, 0, 0, 0, 0, 0, 0, 0, 0, 0, 0, 0, 0, 0, 0, 0, 0, 0, 0, 0, 0, 0, 0, 0, 0, 0, 0, 0, 0, 0, 0, 0, 0, 0, 0, 0, 0, 0, 0, 0, 0, 0, 0, 0, 0, 0, 0, 0, 0, 0, 0, 0, 0, 0, 0, 0, 0, 0, 0, 0, 0, 0, 0, 0, 0, 0, 0, 0, 0, 0, 0, 0, 0, 0, 0, 0, 0, 0, 0, 0, 0, 0, 0, 0, 0, 0, 0, 0, 0, 0, 0, 0, 0, 0, 0, 0, 0, 0, 0, 0, 0, 0, 0, 0, 0, 0, 0, 0, 0, 0, 0, 0, 0, 0, 0, 0, 0, 0, 0, 0, 0, 0, 0, 0, 0, 0, 0, 0, 0, 0, 0, 0, 0, 0, 0, 0, 0, 0, 0, 0, 0, 0, 0, 0, 0, 0, 0, 0, 0, 0, 0, 0, 0, 0, 0, 0, 0, 0, 0, 0, 0, 0, 0, 0, 0, 0, 0, 0, 0, 0, 0, 0, 0, 0, 0, 0, 0, 0, 0, 0, 0, 0, 0, 0, 0, 0, 0, 0, 0, 0, 0, 0, 0, 0, 0, 0, 0, 0, 0, 0, 0, 0, 0, 0, 0, 0, 0, 0, 0, 0, 0, 0, 0, 0, 0, 0, 0, 0, 0, 0, 0, 0, 0, 0, 0, 0, 0, 0, 0, 0, 0, 0, 0, 0, 0, 0, 0, 0, 0, 0]|\n",
      "+----------+------------------------------------------------------------------------------------------------------------------------------------------------------------------------------------------------------------------------------------------------------------------------------------------------------------------------------------------------------------------------------------------------------------------------------------------------------------------------------------------------------------------------------------------------------------------------------------------------------------------------------------------------------------------------------------------------------------------------------------------------------------------------------------------------------------------------------------------------------------------------------------------------------------------------------------------------------------------------------------------------------------------------------------------------------------------------------------------------------------------------------------------------------------------------------------------------------------------------------------------------------------------------------------------------------------------------------------------------------------------------------------------------------------------------------------------------------------------------------------------------------------------------------------------------------------------------------------------------------------------------------------------------------------------------------------------------------------------------------------------------------------------------------------------------------------------------------------------------------------------------------------------------------------------------------------------------------------------------------------------------------------------------------------------------------------------------------------------------------------------------------------------------------------------------------------------------------------------------------------------------------------------------------------------------------------------------------------------------------------------------------------------------------------------------------------------------------------------------------------------------------------------------+\n",
      "\n"
     ]
    }
   ],
   "source": [
    "# Define a function to create sparse vectors based on the vocabulary\n",
    "def create_sparse_vector(shingles, vocab):\n",
    "    vector = [0] * len(vocab)\n",
    "    for shingle in shingles:\n",
    "        if shingle in vocab:\n",
    "            idx = vocab[shingle]\n",
    "            vector[idx] = 1\n",
    "    return vector\n",
    "\n",
    "# Register the UDF to create sparse vectors\n",
    "sparse_vector_udf = udf(lambda shingles: create_sparse_vector(shingles, vocab), ArrayType(IntegerType()))\n",
    "\n",
    "# Apply the UDF to create sparse vectors\n",
    "logs_grouped_sparse = logs_grouped_cleaned_with_shingles.withColumn(\"sparse_vector\", sparse_vector_udf(col(\"shingles\")))\n",
    "\n",
    "# Show the resulting DataFrame with sparse vectors\n",
    "logs_grouped_sparse.select(\"process_id\", \"sparse_vector\").limit(1).show(truncate=False)"
   ]
  },
  {
   "cell_type": "markdown",
   "metadata": {},
   "source": [
    "#### Convert sparse vectors to the format expected by MinHashLSH"
   ]
  },
  {
   "cell_type": "code",
   "execution_count": 98,
   "metadata": {},
   "outputs": [
    {
     "name": "stdout",
     "output_type": "stream",
     "text": [
      "+----------+-----------------------------------------------------------------------------------------------------------------------------------------------------------------------------------------------------------------------------------------------------------------------------------------------------------------------------------------------------------------------------------------------------------------------------------------------------------------------------------------------------------------------------------------------------------------------------------------------------------------------------------------------------------------------------------------------------------------------------------------------------------------------------------------------------------------------------------------------------------------------------------------------------------------------------------------------------------------------------------------------------------------------------------------------------------------------------------------------------------------------------------------------------------------------------------------------------------------------------------------------------------------------------------------------------------------------------------------------------------------------------------------------------------------------------------------------------------------------------------------------------------------------------------------------------------------------------------------------------------------------------------------------------------------------------------------------------------------------------------------------------------------------------------------------------------------------------------------------------------------------------------------------------------------------------------------------------------------------------------------------------------------------------------------------------------------------------------------------------------------------------------------------------------------------------------------------------------------------------------------------------------------------------------------------------------------------------------------------------------------------------------------------------------------------------------------------------------------------------------------------------------------------------------------------------------------------------------------------------------------------------------------------------------------------------------------------------------+\n",
      "|process_id|features                                                                                                                                                                                                                                                                                                                                                                                                                                                                                                                                                                                                                                                                                                                                                                                                                                                                                                                                                                                                                                                                                                                                                                                                                                                                                                                                                                                                                                                                                                                                                                                                                                                                                                                                                                                                                                                                                                                                                                                                                                                                                                                                                                                                                                                                                                                                                                                                                                                                                                                                                                                                                                                                                                   |\n",
      "+----------+-----------------------------------------------------------------------------------------------------------------------------------------------------------------------------------------------------------------------------------------------------------------------------------------------------------------------------------------------------------------------------------------------------------------------------------------------------------------------------------------------------------------------------------------------------------------------------------------------------------------------------------------------------------------------------------------------------------------------------------------------------------------------------------------------------------------------------------------------------------------------------------------------------------------------------------------------------------------------------------------------------------------------------------------------------------------------------------------------------------------------------------------------------------------------------------------------------------------------------------------------------------------------------------------------------------------------------------------------------------------------------------------------------------------------------------------------------------------------------------------------------------------------------------------------------------------------------------------------------------------------------------------------------------------------------------------------------------------------------------------------------------------------------------------------------------------------------------------------------------------------------------------------------------------------------------------------------------------------------------------------------------------------------------------------------------------------------------------------------------------------------------------------------------------------------------------------------------------------------------------------------------------------------------------------------------------------------------------------------------------------------------------------------------------------------------------------------------------------------------------------------------------------------------------------------------------------------------------------------------------------------------------------------------------------------------------------------------+\n",
      "|1         |(808,[0,1,2,3,4,5,6,7,8,9,10,11,12,13,14,15,16,17,18,19,20,21,22,23,24,25,26,27,28,29,30,31,32,33,34,35,36,37,38,39,40,41,42,43,44,45,46,47,48,49,50,51,52,53,54,55,56,57,58,59,60,61,62,63,64,65,66,67,68,69,70,71,72,73,74,75,76,77,78,79,80,81,82,83,84,85,86,87,88,89,90,91,92,93,94,95,96,97,98,99,100,101,102,103,104,105,106,107,108,109,110,111,112,113,114,115,116,117,118,119,120,121,122,123,124,125,126,127,128,129,130,131,132,133,134,135,136,137,138,139,140,141,142,143,144,145,146,147,148,149,150,151,152,153,154,155,156,157,158,159,160,161,162,163,164,165,166,167,168,169,170,171,172,173,174,175,176,177,178,179,180,181,182,183,184,185,186,187,188,189,190,191,192,193,194,195,196,197,198,199,200,201,202,203,204,205,206,207,208,209,210,211,212,213,214,215,216,217,218,219,220,221,222,223,224,225,226,227,228,229,230,231,232,233,234,235,236,237,238,239,240,241,242,243,244,245,246,247,248,249,250,251,252,253,254,255,256,257,258,259,260,261,262,263,264,265,266,267,268,269,270,271,272,273,274,275,276,277,278,279,280,281,282,283,284,285,286,287,288,289,290,291,292,293,294,295,296,297,298,299,300,301,302,303,304,305,306,307,308,309,310,311,312,313,314,315,316,317,318,319,320,321,322,323,324,325,326,327,328,329,330,331,332,333,334,335,336,337],[1.0,1.0,1.0,1.0,1.0,1.0,1.0,1.0,1.0,1.0,1.0,1.0,1.0,1.0,1.0,1.0,1.0,1.0,1.0,1.0,1.0,1.0,1.0,1.0,1.0,1.0,1.0,1.0,1.0,1.0,1.0,1.0,1.0,1.0,1.0,1.0,1.0,1.0,1.0,1.0,1.0,1.0,1.0,1.0,1.0,1.0,1.0,1.0,1.0,1.0,1.0,1.0,1.0,1.0,1.0,1.0,1.0,1.0,1.0,1.0,1.0,1.0,1.0,1.0,1.0,1.0,1.0,1.0,1.0,1.0,1.0,1.0,1.0,1.0,1.0,1.0,1.0,1.0,1.0,1.0,1.0,1.0,1.0,1.0,1.0,1.0,1.0,1.0,1.0,1.0,1.0,1.0,1.0,1.0,1.0,1.0,1.0,1.0,1.0,1.0,1.0,1.0,1.0,1.0,1.0,1.0,1.0,1.0,1.0,1.0,1.0,1.0,1.0,1.0,1.0,1.0,1.0,1.0,1.0,1.0,1.0,1.0,1.0,1.0,1.0,1.0,1.0,1.0,1.0,1.0,1.0,1.0,1.0,1.0,1.0,1.0,1.0,1.0,1.0,1.0,1.0,1.0,1.0,1.0,1.0,1.0,1.0,1.0,1.0,1.0,1.0,1.0,1.0,1.0,1.0,1.0,1.0,1.0,1.0,1.0,1.0,1.0,1.0,1.0,1.0,1.0,1.0,1.0,1.0,1.0,1.0,1.0,1.0,1.0,1.0,1.0,1.0,1.0,1.0,1.0,1.0,1.0,1.0,1.0,1.0,1.0,1.0,1.0,1.0,1.0,1.0,1.0,1.0,1.0,1.0,1.0,1.0,1.0,1.0,1.0,1.0,1.0,1.0,1.0,1.0,1.0,1.0,1.0,1.0,1.0,1.0,1.0,1.0,1.0,1.0,1.0,1.0,1.0,1.0,1.0,1.0,1.0,1.0,1.0,1.0,1.0,1.0,1.0,1.0,1.0,1.0,1.0,1.0,1.0,1.0,1.0,1.0,1.0,1.0,1.0,1.0,1.0,1.0,1.0,1.0,1.0,1.0,1.0,1.0,1.0,1.0,1.0,1.0,1.0,1.0,1.0,1.0,1.0,1.0,1.0,1.0,1.0,1.0,1.0,1.0,1.0,1.0,1.0,1.0,1.0,1.0,1.0,1.0,1.0,1.0,1.0,1.0,1.0,1.0,1.0,1.0,1.0,1.0,1.0,1.0,1.0,1.0,1.0,1.0,1.0,1.0,1.0,1.0,1.0,1.0,1.0,1.0,1.0,1.0,1.0,1.0,1.0,1.0,1.0,1.0,1.0,1.0,1.0,1.0,1.0,1.0,1.0,1.0,1.0,1.0,1.0,1.0,1.0,1.0,1.0,1.0,1.0,1.0,1.0,1.0,1.0,1.0,1.0,1.0,1.0,1.0,1.0,1.0,1.0,1.0,1.0,1.0,1.0])|\n",
      "+----------+-----------------------------------------------------------------------------------------------------------------------------------------------------------------------------------------------------------------------------------------------------------------------------------------------------------------------------------------------------------------------------------------------------------------------------------------------------------------------------------------------------------------------------------------------------------------------------------------------------------------------------------------------------------------------------------------------------------------------------------------------------------------------------------------------------------------------------------------------------------------------------------------------------------------------------------------------------------------------------------------------------------------------------------------------------------------------------------------------------------------------------------------------------------------------------------------------------------------------------------------------------------------------------------------------------------------------------------------------------------------------------------------------------------------------------------------------------------------------------------------------------------------------------------------------------------------------------------------------------------------------------------------------------------------------------------------------------------------------------------------------------------------------------------------------------------------------------------------------------------------------------------------------------------------------------------------------------------------------------------------------------------------------------------------------------------------------------------------------------------------------------------------------------------------------------------------------------------------------------------------------------------------------------------------------------------------------------------------------------------------------------------------------------------------------------------------------------------------------------------------------------------------------------------------------------------------------------------------------------------------------------------------------------------------------------------------------------------+\n",
      "\n"
     ]
    }
   ],
   "source": [
    "def convert_to_vector(sparse_vector):\n",
    "    indices = [i for i, x in enumerate(sparse_vector) if x == 1]\n",
    "    values = [1.0] * len(indices)\n",
    "    return Vectors.sparse(len(sparse_vector), indices, values)\n",
    "\n",
    "# Create a new DataFrame with the vectors\n",
    "data = logs_grouped_sparse.rdd.map(lambda row: Row(process_id=row['process_id'], features=convert_to_vector(row['sparse_vector'])))\n",
    "logs_sparse_vectors = spark.createDataFrame(data)\n",
    "\n",
    "logs_sparse_vectors.limit(1).show(truncate=False)"
   ]
  },
  {
   "cell_type": "markdown",
   "metadata": {},
   "source": [
    "## 2. Perform MinHash and LSH using the pyspark function MinHashLSH"
   ]
  },
  {
   "cell_type": "markdown",
   "metadata": {},
   "source": [
    "### 2.1. Create MinHashLSH model and fit it with the 'features' column of the 'logs_sparse_vectors' dataframe"
   ]
  },
  {
   "cell_type": "code",
   "execution_count": 102,
   "metadata": {},
   "outputs": [
    {
     "name": "stdout",
     "output_type": "stream",
     "text": [
      "+----------+--------------------------------------------------------------------------------------------------------------------------------+\n",
      "|process_id|hashes                                                                                                                          |\n",
      "+----------+--------------------------------------------------------------------------------------------------------------------------------+\n",
      "|1         |[[973116.0], [3758271.0], [2348276.0], [7263313.0], [1179714.0], [1202572.0], [3089106.0], [628949.0], [6335436.0], [4063642.0]]|\n",
      "+----------+--------------------------------------------------------------------------------------------------------------------------------+\n",
      "\n"
     ]
    }
   ],
   "source": [
    "# Initialize MinHashLSH\n",
    "'''\n",
    ":inputCol: The column of our dataframe that is going to be used for hashing\n",
    ":outputCol: The new solumn that will be created that includes the hashes\n",
    ":numHashTables: Number of MinHash functions\n",
    ":seed: Seed for reproducibility\n",
    "\n",
    "'''\n",
    "mh = MinHashLSH(inputCol=\"features\", outputCol=\"hashes\", numHashTables=10, seed=12345)\n",
    "\n",
    "# Fit the model\n",
    "model = mh.fit(logs_sparse_vectors)\n",
    "\n",
    "# Transform the data to include the hashes\n",
    "transformed_df = model.transform(logs_sparse_vectors)\n",
    "\n",
    "# Show the resulting DataFrame with hashes\n",
    "transformed_df.select(\"process_id\", \"hashes\").limit(1).show(truncate=False)"
   ]
  },
  {
   "cell_type": "markdown",
   "metadata": {},
   "source": [
    "### 2.2. Find the pairs that have Jaccard distance less than 'max_distance_threshold'"
   ]
  },
  {
   "cell_type": "code",
   "execution_count": 103,
   "metadata": {},
   "outputs": [],
   "source": [
    "# Find similar pairs with Jaccard similarity above a threshold\n",
    "max_distance_threshold = 0.2\n",
    "similar_pairs_df = model.approxSimilarityJoin(logs_sparse_vectors, logs_sparse_vectors, max_distance_threshold, distCol=\"JaccardDistance\") \\\n",
    "    .select(col(\"datasetA.process_id\").alias(\"process_id_1\"),\n",
    "            col(\"datasetB.process_id\").alias(\"process_id_2\"),\n",
    "            col(\"JaccardDistance\"))"
   ]
  },
  {
   "cell_type": "code",
   "execution_count": 104,
   "metadata": {},
   "outputs": [
    {
     "name": "stdout",
     "output_type": "stream",
     "text": [
      "+-------+-------------------+\n",
      "|summary|    JaccardDistance|\n",
      "+-------+-------------------+\n",
      "|  count|               8308|\n",
      "|   mean|0.13059764469833257|\n",
      "| stddev|0.06437956021130524|\n",
      "|    min|                0.0|\n",
      "|    max|0.19999999999999996|\n",
      "+-------+-------------------+\n",
      "\n"
     ]
    }
   ],
   "source": [
    "similar_pairs_df.select(\"JaccardDistance\").describe().show()"
   ]
  }
 ],
 "metadata": {
  "kernelspec": {
   "display_name": "Python 3",
   "language": "python",
   "name": "python3"
  },
  "language_info": {
   "codemirror_mode": {
    "name": "ipython",
    "version": 3
   },
   "file_extension": ".py",
   "mimetype": "text/x-python",
   "name": "python",
   "nbconvert_exporter": "python",
   "pygments_lexer": "ipython3",
   "version": "3.11.0"
  }
 },
 "nbformat": 4,
 "nbformat_minor": 2
}
