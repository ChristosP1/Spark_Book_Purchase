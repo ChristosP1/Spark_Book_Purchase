{
  "cells": [
    {
      "cell_type": "code",
      "source": [
        "# Parameter determining if results will be visualized in cells\n",
        "VISUALIZATION = True\n",
        "\n",
        "# Dataset choice\n",
        "DATASET_NAME = \"dataset_controlled.txt\""
      ],
      "metadata": {
        "id": "FgLP1jo3U755"
      },
      "execution_count": 1,
      "outputs": []
    },
    {
      "cell_type": "markdown",
      "metadata": {
        "id": "eaUdski5BxWl"
      },
      "source": [
        "# Initial steps"
      ]
    },
    {
      "cell_type": "markdown",
      "metadata": {
        "id": "fEiemrqpBxWn"
      },
      "source": [
        "## 1.Libraries and environment initialization"
      ]
    },
    {
      "cell_type": "code",
      "execution_count": 2,
      "metadata": {
        "colab": {
          "base_uri": "https://localhost:8080/"
        },
        "id": "nYTp1JYjBxWo",
        "outputId": "2bdd1718-6789-4bba-f174-72eb3d9d9664"
      },
      "outputs": [
        {
          "output_type": "stream",
          "name": "stdout",
          "text": [
            "Requirement already satisfied: pyspark in /usr/local/lib/python3.10/dist-packages (3.5.1)\n",
            "Requirement already satisfied: py4j==0.10.9.7 in /usr/local/lib/python3.10/dist-packages (from pyspark) (0.10.9.7)\n",
            "openjdk-8-jdk-headless is already the newest version (8u412-ga-1~22.04.1).\n",
            "0 upgraded, 0 newly installed, 0 to remove and 45 not upgraded.\n",
            "Requirement already satisfied: graphframes in /usr/local/lib/python3.10/dist-packages (0.6)\n",
            "Requirement already satisfied: numpy in /usr/local/lib/python3.10/dist-packages (from graphframes) (1.25.2)\n",
            "Requirement already satisfied: nose in /usr/local/lib/python3.10/dist-packages (from graphframes) (1.3.7)\n",
            "Requirement already satisfied: kneed in /usr/local/lib/python3.10/dist-packages (0.8.5)\n",
            "Requirement already satisfied: numpy>=1.14.2 in /usr/local/lib/python3.10/dist-packages (from kneed) (1.25.2)\n",
            "Requirement already satisfied: scipy>=1.0.0 in /usr/local/lib/python3.10/dist-packages (from kneed) (1.11.4)\n"
          ]
        }
      ],
      "source": [
        "!pip install pyspark\n",
        "!pip install -U -q PyDrive\n",
        "!apt install openjdk-8-jdk-headless -qq\n",
        "!pip install graphframes\n",
        "!pip install kneed\n",
        "\n",
        "# Set Environment Variables\n",
        "import os\n",
        "os.environ[\"JAVA_HOME\"] = \"/usr/lib/jvm/java-8-openjdk-amd64\""
      ]
    },
    {
      "cell_type": "code",
      "execution_count": 3,
      "metadata": {
        "id": "Nfzx14riBxWn"
      },
      "outputs": [],
      "source": [
        "import os\n",
        "import pyspark\n",
        "from pyspark import SparkConf, SparkContext\n",
        "from pyspark.sql import SparkSession, Row, types as T\n",
        "from pyspark.sql.functions import col, rank, row_number, split, regexp_replace, collect_list, hash as spark_hash, concat_ws, concat, lit, when, abs, explode, desc, size\n",
        "from pyspark.sql.types import ArrayType, StructType, StructField, StringType, LongType, DoubleType, IntegerType\n",
        "from pyspark.sql.functions import udf\n",
        "import numpy as np\n",
        "from collections import Counter\n",
        "from random import shuffle\n",
        "from pyspark.ml.linalg import Vectors, VectorUDT\n",
        "from pyspark.ml.feature import MinHashLSH\n",
        "import pandas as pd\n",
        "from pyspark.sql import functions as F\n",
        "from pyspark.sql.window import Window\n",
        "from graphframes import GraphFrame\n",
        "import networkx as nx\n",
        "import matplotlib.pyplot as plt\n",
        "from itertools import chain\n",
        "from pyspark.ml.feature import PCA as PCA_Spark, VectorAssembler, MinMaxScaler#, StandardScaler, RobustScaler\n",
        "from pyspark.ml.clustering import BisectingKMeans\n",
        "from kneed import KneeLocator"
      ]
    },
    {
      "cell_type": "markdown",
      "metadata": {
        "id": "tT48Bz-NBxWp"
      },
      "source": [
        "## 2.Create & Configure Session"
      ]
    },
    {
      "cell_type": "code",
      "execution_count": 4,
      "metadata": {
        "colab": {
          "base_uri": "https://localhost:8080/",
          "height": 237
        },
        "id": "ip1w21gRBxWp",
        "outputId": "01ab95f4-f2b3-4628-a0ac-2f75ea4c3399"
      },
      "outputs": [
        {
          "output_type": "stream",
          "name": "stdout",
          "text": [
            "Spark session created successfully!\n"
          ]
        },
        {
          "output_type": "execute_result",
          "data": {
            "text/plain": [
              "<pyspark.sql.session.SparkSession at 0x7e4ee310f1c0>"
            ],
            "text/html": [
              "\n",
              "            <div>\n",
              "                <p><b>SparkSession - in-memory</b></p>\n",
              "                \n",
              "        <div>\n",
              "            <p><b>SparkContext</b></p>\n",
              "\n",
              "            <p><a href=\"http://9b38c11d9553:4040\">Spark UI</a></p>\n",
              "\n",
              "            <dl>\n",
              "              <dt>Version</dt>\n",
              "                <dd><code>v3.5.1</code></dd>\n",
              "              <dt>Master</dt>\n",
              "                <dd><code>local[16]</code></dd>\n",
              "              <dt>AppName</dt>\n",
              "                <dd><code>DIS-lab-1</code></dd>\n",
              "            </dl>\n",
              "        </div>\n",
              "        \n",
              "            </div>\n",
              "        "
            ]
          },
          "metadata": {},
          "execution_count": 4
        }
      ],
      "source": [
        "def create_session():\n",
        "    # create the session\n",
        "    conf = SparkConf()\n",
        "    conf.setAppName(\"DIS-lab-1\")    # Sets name of the Spark Application\n",
        "    conf.setMaster(\"local[16]\")    # Master URL. In this case local[*] uses all the available cores in the machine\n",
        "    conf.set(\"spark.driver.memory\", \"10G\")   # Memory allocated to driver process\n",
        "    conf.set(\"spark.driver.maxResultSize\", \"6G\")    # Maximum size of results that can be returned to driver\n",
        "    conf.set(\"spark.executor.instances\", \"4\")\n",
        "    conf.set(\"spark.executor.cores\", \"4\")\n",
        "    conf.set(\"spark.executor.memory\", \"4G\")    # Memory allocated to each executor\n",
        "    conf.set(\"spark.network.timeout\", \"600s\")  # Increase network timeout\n",
        "    conf.set(\"spark.executor.heartbeatInterval\", \"60s\")  # Increase heartbeat interval\n",
        "    conf.set(\"spark.rpc.message.maxSize\", \"512\")  # Increase max message size\n",
        "    conf.set(\"spark.driver.maxResultSize\", \"4G\")  # Increase driver max result size\n",
        "    conf.set(\"spark.sql.broadcastTimeout\", \"600\")  # Increase broadcast timeout\n",
        "    conf.set(\"spark.sql.shuffle.partitions\", \"200\")  # Increase the number of shuffle partitions\n",
        "    conf.set(\"spark.yarn.executor.memoryOverhead\", \"2048\")  # Increase memory overhead\n",
        "    conf.set(\"spark.memory.offHeap.enabled\",\"true\")\n",
        "    conf.set(\"spark.memory.offHeap.size\",\"10g\")\n",
        "    conf.set(\"spark.jars.packages\", \"graphframes:graphframes:0.8.2-spark3.0-s_2.12\")  # Add GraphFrames to the spark configuration\n",
        "    conf.set(\"spark.hadoop.fs.file.impl\", \"org.apache.hadoop.fs.LocalFileSystem\")  # Ensure local file system is used for checkpointing\n",
        "\n",
        "    sc = pyspark.SparkContext(conf=conf)    # Initializes the Spark context with this specific configuration\n",
        "    spark = SparkSession.builder.config(conf=sc.getConf()).getOrCreate()    # Creates Spark session\n",
        "\n",
        "    # Set checkpoint directory\n",
        "    sc.setCheckpointDir(\"checkpoints\")\n",
        "\n",
        "    return sc, spark\n",
        "\n",
        "try:\n",
        "    if 'sc' in globals() and sc is not None:\n",
        "        sc.stop()\n",
        "        print(\"--Stopped existing SparkContext\")\n",
        "    if 'spark' in globals() and isinstance(spark, SparkSession):\n",
        "        spark.stop()\n",
        "        print(\"--Stopped existing SparkSession\")\n",
        "except Exception as e:\n",
        "    print(f\"Error stopping existing Spark session or context: {e}\")\n",
        "\n",
        "# Create a new Spark session\n",
        "sc, spark = create_session()\n",
        "print(\"Spark session created successfully!\")\n",
        "spark"
      ]
    },
    {
      "cell_type": "markdown",
      "metadata": {
        "id": "5bEQ3ID-BxWq"
      },
      "source": [
        "## 3.Load and Split Data"
      ]
    },
    {
      "cell_type": "markdown",
      "metadata": {
        "id": "khtRtikaBxWr"
      },
      "source": [
        "### Load the data from the text file into Dataframe"
      ]
    },
    {
      "cell_type": "code",
      "execution_count": 5,
      "metadata": {
        "id": "r8KCxiEOBxWr"
      },
      "outputs": [],
      "source": [
        "logs_txt = spark.sparkContext.textFile(DATASET_NAME)\n",
        "logs = logs_txt.map(lambda x: (x, )).toDF([\"Logs\"])"
      ]
    },
    {
      "cell_type": "markdown",
      "metadata": {
        "id": "a6UDhMxuBxWs"
      },
      "source": [
        "### Split the data into 5 separate columns"
      ]
    },
    {
      "cell_type": "code",
      "execution_count": 6,
      "metadata": {
        "id": "KSrihLbHBxWs",
        "colab": {
          "base_uri": "https://localhost:8080/"
        },
        "outputId": "09ac8a3c-4e8a-4c1f-d889-87c6484bd72f"
      },
      "outputs": [
        {
          "output_type": "stream",
          "name": "stdout",
          "text": [
            "+-----------+-----------+----+-------+----------+\n",
            "|from_server|to_server  |time|action |process_id|\n",
            "+-----------+-----------+----+-------+----------+\n",
            "|user       |ui_server_2|372 |Request|0000000001|\n",
            "+-----------+-----------+----+-------+----------+\n",
            "only showing top 1 row\n",
            "\n"
          ]
        }
      ],
      "source": [
        "logs_splitted = logs \\\n",
        "    .withColumn(\"from_server\", regexp_replace(split(col(\"Logs\"), \", \").getItem(0), \"[<>]\", \"\")) \\\n",
        "    .withColumn(\"to_server\", split(col(\"Logs\"), \", \").getItem(1)) \\\n",
        "    .withColumn(\"time\", split(col(\"Logs\"), \", \").getItem(2)) \\\n",
        "    .withColumn(\"action\", split(col(\"Logs\"), \", \").getItem(3)) \\\n",
        "    .withColumn(\"process_id\", regexp_replace(split(col(\"Logs\"), \", \").getItem(4), \"[<>]\", \"\")) \\\n",
        "    .drop(\"Logs\")\n",
        "\n",
        "# Cast the \"time\" and \"process_id\" columns to integers\n",
        "logs_casted = logs_splitted \\\n",
        "    .withColumn(\"time\", col(\"time\").cast(\"integer\")) \\\n",
        "    .withColumn(\"process_id\", col(\"process_id\").cast(\"integer\"))\n",
        "\n",
        "if VISUALIZATION:\n",
        "  logs_splitted.show(1, truncate=False)"
      ]
    },
    {
      "cell_type": "markdown",
      "metadata": {
        "id": "6CYhr81mBxWs"
      },
      "source": [
        "## 4.Prepare data for processing"
      ]
    },
    {
      "cell_type": "markdown",
      "metadata": {
        "id": "1wmZXjbJBxWs"
      },
      "source": [
        "### Group by process_id"
      ]
    },
    {
      "cell_type": "code",
      "execution_count": 7,
      "metadata": {
        "id": "rFPSRoCDBxWt",
        "colab": {
          "base_uri": "https://localhost:8080/"
        },
        "outputId": "52fbff8c-042c-4edf-feec-7ff2005003e6"
      },
      "outputs": [
        {
          "output_type": "stream",
          "name": "stdout",
          "text": [
            "+----------+-----------------------------------------------------------------------------------------------------------------------------------------------------------------------------------------------------------------------------------------------------------------------------------------------------------------------------------------------------------------------------------------------------------------------------------------------------------------------------------------------------------------------------------------------------------------------------------------------------------------------------------------------------------------------------------------------------------------------------------------------------------------------------------------------------------------------------------------------------------------------------------------------------------------------------------------------------------------------------------------------------------------------------------------------------------------------------------------------------------------------------------------------------------------------------------------------------------------------------------------------------------------------------------------------------------------------------------------------------------------------------------------------------------------------------------------------------------------------------------------------------+-------------------------------------------------------------------------------------------------------------------------------------------------------------------------------------------------------------------------------------------------------------------------------------------------------------------------------------------------------------------------------------------------------------------------------------------------------------------------------------------------------------------------------------------------------------------------------------------------------------------------------------------------------------------------------------------------------------------------------------------------------------------------------------------------------------------------------------------------------------------------------------------------------------------------------------------------------------------------------------------------------------------------------------------------------------------------------------------------------------------------------------------------------------------------------------------------------------------------------------------------------------------------------------------------------------------------------------------------------------------------------------------------------------------------------------------------------------------------------------------------------------+-----------------------------------------------------------------------------------------------------------------------------------------------------------------------------------------------------------------------------------------------------------------------------------------------------------------------------------------------+-------------------------------------------------------------------------------------------------------------------------------------------------------------------------------------------------------------------------------------------------------------------------------------------------------------------------------------------------------------------------------------------------------------------------------------------------------------------------------------------------------------------------------------------------------------+\n",
            "|process_id|from_servers                                                                                                                                                                                                                                                                                                                                                                                                                                                                                                                                                                                                                                                                                                                                                                                                                                                                                                                                                                                                                                                                                                                                                                                                                                                                                                                                                                                                                                                                                         |to_servers                                                                                                                                                                                                                                                                                                                                                                                                                                                                                                                                                                                                                                                                                                                                                                                                                                                                                                                                                                                                                                                                                                                                                                                                                                                                                                                                                                                                                                                                                                   |times                                                                                                                                                                                                                                                                                                                                          |actions                                                                                                                                                                                                                                                                                                                                                                                                                                                                                                                                                      |\n",
            "+----------+-----------------------------------------------------------------------------------------------------------------------------------------------------------------------------------------------------------------------------------------------------------------------------------------------------------------------------------------------------------------------------------------------------------------------------------------------------------------------------------------------------------------------------------------------------------------------------------------------------------------------------------------------------------------------------------------------------------------------------------------------------------------------------------------------------------------------------------------------------------------------------------------------------------------------------------------------------------------------------------------------------------------------------------------------------------------------------------------------------------------------------------------------------------------------------------------------------------------------------------------------------------------------------------------------------------------------------------------------------------------------------------------------------------------------------------------------------------------------------------------------------+-------------------------------------------------------------------------------------------------------------------------------------------------------------------------------------------------------------------------------------------------------------------------------------------------------------------------------------------------------------------------------------------------------------------------------------------------------------------------------------------------------------------------------------------------------------------------------------------------------------------------------------------------------------------------------------------------------------------------------------------------------------------------------------------------------------------------------------------------------------------------------------------------------------------------------------------------------------------------------------------------------------------------------------------------------------------------------------------------------------------------------------------------------------------------------------------------------------------------------------------------------------------------------------------------------------------------------------------------------------------------------------------------------------------------------------------------------------------------------------------------------------+-----------------------------------------------------------------------------------------------------------------------------------------------------------------------------------------------------------------------------------------------------------------------------------------------------------------------------------------------+-------------------------------------------------------------------------------------------------------------------------------------------------------------------------------------------------------------------------------------------------------------------------------------------------------------------------------------------------------------------------------------------------------------------------------------------------------------------------------------------------------------------------------------------------------------+\n",
            "|1         |[user, ui_server_2, purchase_book_server_5, discount_server_1, gift_wrap_server_1, book_availability_server_3, external_inventory_server_2, second_hand_market_server_2, bundle_offer_server_2, user_credentials_server_3, user_history_server_2, card_check_server_7, visa_server_4, limit_check_visa_server_4, fraud_check_visa_server_1, currency_conversion_server_3, shipping_options_server_1, shipping_insurance_server_1, express_delivery_server_1, inventory_update_server_16, supplier_notification_server_2, seasonal_adjustments_server_1, review_server_3, review_verification_server_1, review_analysis_server_2, automatic_response_server_4, ad_server_1, customer_support_server_9, customer_history_access_server_1, premium_customer_check_server_1, customer_history_access_server_1, customer_support_server_9, ad_server_1, automatic_response_server_4, review_analysis_server_2, review_verification_server_1, review_server_3, seasonal_adjustments_server_1, supplier_notification_server_2, inventory_update_server_16, express_delivery_server_1, shipping_insurance_server_1, shipping_options_server_1, currency_conversion_server_3, fraud_check_visa_server_1, limit_check_visa_server_4, visa_server_4, card_check_server_7, user_history_server_2, user_credentials_server_3, bundle_offer_server_2, second_hand_market_server_2, external_inventory_server_2, book_availability_server_3, gift_wrap_server_1, discount_server_1, purchase_book_server_5]         |[ui_server_2, purchase_book_server_5, discount_server_1, gift_wrap_server_1, book_availability_server_3, external_inventory_server_2, second_hand_market_server_2, bundle_offer_server_2, user_credentials_server_3, user_history_server_2, card_check_server_7, visa_server_4, limit_check_visa_server_4, fraud_check_visa_server_1, currency_conversion_server_3, shipping_options_server_1, shipping_insurance_server_1, express_delivery_server_1, inventory_update_server_16, supplier_notification_server_2, seasonal_adjustments_server_1, review_server_3, review_verification_server_1, review_analysis_server_2, automatic_response_server_4, ad_server_1, customer_support_server_9, customer_history_access_server_1, premium_customer_check_server_1, customer_history_access_server_1, customer_support_server_9, ad_server_1, automatic_response_server_4, review_analysis_server_2, review_verification_server_1, review_server_3, seasonal_adjustments_server_1, supplier_notification_server_2, inventory_update_server_16, express_delivery_server_1, shipping_insurance_server_1, shipping_options_server_1, currency_conversion_server_3, fraud_check_visa_server_1, limit_check_visa_server_4, visa_server_4, card_check_server_7, user_history_server_2, user_credentials_server_3, bundle_offer_server_2, second_hand_market_server_2, external_inventory_server_2, book_availability_server_3, gift_wrap_server_1, discount_server_1, purchase_book_server_5, ui_server_2]          |[372, 375, 383, 389, 391, 407, 411, 438, 445, 448, 456, 462, 480, 510, 520, 523, 527, 531, 537, 562, 576, 602, 626, 635, 653, 661, 674, 694, 712, 732, 750, 770, 783, 791, 809, 818, 842, 868, 882, 907, 913, 917, 921, 924, 934, 964, 982, 988, 996, 999, 1006, 1033, 1037, 1053, 1055, 1061, 1069]                                           |[Request, Request, Request, Request, Request, Request, Request, Request, Request, Request, Request, Request, Request, Request, Request, Request, Request, Request, Request, Request, Request, Request, Request, Request, Request, Request, Request, Request, Request, Response, Response, Response, Response, Response, Response, Response, Response, Response, Response, Response, Response, Response, Response, Response, Response, Response, Response, Response, Response, Response, Response, Response, Response, Response, Response, Response, Response]|\n",
            "|6         |[user, ui_server_8, purchase_book_server_2, book_availability_server_2, user_credentials_server_3, card_check_server_5, mastercard_server_2, currency_conversion_server_2, shipping_options_server_1, inventory_update_server_1, seasonal_adjustments_server_2, review_server_4, ad_server_6, customer_support_server_9, ad_server_6, review_server_4, seasonal_adjustments_server_2, inventory_update_server_1, shipping_options_server_1, currency_conversion_server_2, mastercard_server_2, card_check_server_5, user_credentials_server_3, book_availability_server_2, purchase_book_server_2]                                                                                                                                                                                                                                                                                                                                                                                                                                                                                                                                                                                                                                                                                                                                                                                                                                                                                                   |[ui_server_8, purchase_book_server_2, book_availability_server_2, user_credentials_server_3, card_check_server_5, mastercard_server_2, currency_conversion_server_2, shipping_options_server_1, inventory_update_server_1, seasonal_adjustments_server_2, review_server_4, ad_server_6, customer_support_server_9, ad_server_6, review_server_4, seasonal_adjustments_server_2, inventory_update_server_1, shipping_options_server_1, currency_conversion_server_2, mastercard_server_2, card_check_server_5, user_credentials_server_3, book_availability_server_2, purchase_book_server_2, ui_server_8]                                                                                                                                                                                                                                                                                                                                                                                                                                                                                                                                                                                                                                                                                                                                                                                                                                                                                                    |[120, 126, 130, 143, 145, 154, 169, 172, 180, 209, 239, 260, 271, 305, 316, 337, 367, 396, 404, 407, 422, 431, 433, 446, 450]                                                                                                                                                                                                                  |[Request, Request, Request, Request, Request, Request, Request, Request, Request, Request, Request, Request, Request, Response, Response, Response, Response, Response, Response, Response, Response, Response, Response, Response, Response]                                                                                                                                                                                                                                                                                                                |\n",
            "|3         |[user, ui_server_12, purchase_book_server_3, discount_server_2, gift_wrap_server_1, book_availability_server_5, external_inventory_server_1, second_hand_market_server_2, bundle_offer_server_1, user_credentials_server_4, card_check_server_3, visa_server_4, limit_check_visa_server_2, fraud_check_visa_server_1, currency_conversion_server_2, shipping_options_server_2, shipping_insurance_server_1, express_delivery_server_1, inventory_update_server_20, supplier_notification_server_2, seasonal_adjustments_server_2, review_server_1, review_verification_server_2, review_analysis_server_4, automatic_response_server_6, ad_server_6, customer_support_server_4, customer_history_access_server_2, premium_customer_check_server_1, ai_chatbot_server_7, premium_customer_check_server_1, customer_history_access_server_2, customer_support_server_4, ad_server_6, automatic_response_server_6, review_analysis_server_4, review_verification_server_2, review_server_1, seasonal_adjustments_server_2, supplier_notification_server_2, inventory_update_server_20, express_delivery_server_1, shipping_insurance_server_1, shipping_options_server_2, currency_conversion_server_2, fraud_check_visa_server_1, limit_check_visa_server_2, visa_server_4, card_check_server_3, user_credentials_server_4, bundle_offer_server_1, second_hand_market_server_2, external_inventory_server_1, book_availability_server_5, gift_wrap_server_1, discount_server_2, purchase_book_server_3]|[ui_server_12, purchase_book_server_3, discount_server_2, gift_wrap_server_1, book_availability_server_5, external_inventory_server_1, second_hand_market_server_2, bundle_offer_server_1, user_credentials_server_4, card_check_server_3, visa_server_4, limit_check_visa_server_2, fraud_check_visa_server_1, currency_conversion_server_2, shipping_options_server_2, shipping_insurance_server_1, express_delivery_server_1, inventory_update_server_20, supplier_notification_server_2, seasonal_adjustments_server_2, review_server_1, review_verification_server_2, review_analysis_server_4, automatic_response_server_6, ad_server_6, customer_support_server_4, customer_history_access_server_2, premium_customer_check_server_1, ai_chatbot_server_7, premium_customer_check_server_1, customer_history_access_server_2, customer_support_server_4, ad_server_6, automatic_response_server_6, review_analysis_server_4, review_verification_server_2, review_server_1, seasonal_adjustments_server_2, supplier_notification_server_2, inventory_update_server_20, express_delivery_server_1, shipping_insurance_server_1, shipping_options_server_2, currency_conversion_server_2, fraud_check_visa_server_1, limit_check_visa_server_2, visa_server_4, card_check_server_3, user_credentials_server_4, bundle_offer_server_1, second_hand_market_server_2, external_inventory_server_1, book_availability_server_5, gift_wrap_server_1, discount_server_2, purchase_book_server_3, ui_server_12]|[560, 565, 569, 577, 578, 588, 595, 617, 625, 628, 632, 646, 675, 689, 691, 695, 701, 708, 736, 753, 780, 808, 821, 839, 846, 858, 873, 889, 901, 917, 929, 945, 960, 972, 979, 997, 1010, 1038, 1065, 1082, 1110, 1117, 1123, 1127, 1129, 1143, 1172, 1186, 1190, 1193, 1201, 1223, 1230, 1240, 1241, 1249, 1253]                             |[Request, Request, Request, Request, Request, Request, Request, Request, Request, Request, Request, Request, Request, Request, Request, Request, Request, Request, Request, Request, Request, Request, Request, Request, Request, Request, Request, Request, Request, Response, Response, Response, Response, Response, Response, Response, Response, Response, Response, Response, Response, Response, Response, Response, Response, Response, Response, Response, Response, Response, Response, Response, Response, Response, Response, Response, Response]|\n",
            "|5         |[user, ui_server_2, purchase_book_server_3, discount_server_1, gift_wrap_server_1, book_availability_server_8, external_inventory_server_2, second_hand_market_server_2, bundle_offer_server_2, user_credentials_server_6, user_history_server_3, card_check_server_3, visa_server_2, limit_check_visa_server_4, fraud_check_visa_server_1, currency_conversion_server_2, shipping_options_server_2, shipping_insurance_server_1, express_delivery_server_1, inventory_update_server_18, supplier_notification_server_2, seasonal_adjustments_server_2, review_server_2, review_verification_server_1, review_analysis_server_2, automatic_response_server_1, ad_server_4, customer_support_server_10, customer_history_access_server_2, customer_support_server_10, ad_server_4, automatic_response_server_1, review_analysis_server_2, review_verification_server_1, review_server_2, seasonal_adjustments_server_2, supplier_notification_server_2, inventory_update_server_18, express_delivery_server_1, shipping_insurance_server_1, shipping_options_server_2, currency_conversion_server_2, fraud_check_visa_server_1, limit_check_visa_server_4, visa_server_2, card_check_server_3, user_history_server_3, user_credentials_server_6, bundle_offer_server_2, second_hand_market_server_2, external_inventory_server_2, book_availability_server_8, gift_wrap_server_1, discount_server_1, purchase_book_server_3]                                                                          |[ui_server_2, purchase_book_server_3, discount_server_1, gift_wrap_server_1, book_availability_server_8, external_inventory_server_2, second_hand_market_server_2, bundle_offer_server_2, user_credentials_server_6, user_history_server_3, card_check_server_3, visa_server_2, limit_check_visa_server_4, fraud_check_visa_server_1, currency_conversion_server_2, shipping_options_server_2, shipping_insurance_server_1, express_delivery_server_1, inventory_update_server_18, supplier_notification_server_2, seasonal_adjustments_server_2, review_server_2, review_verification_server_1, review_analysis_server_2, automatic_response_server_1, ad_server_4, customer_support_server_10, customer_history_access_server_2, customer_support_server_10, ad_server_4, automatic_response_server_1, review_analysis_server_2, review_verification_server_1, review_server_2, seasonal_adjustments_server_2, supplier_notification_server_2, inventory_update_server_18, express_delivery_server_1, shipping_insurance_server_1, shipping_options_server_2, currency_conversion_server_2, fraud_check_visa_server_1, limit_check_visa_server_4, visa_server_2, card_check_server_3, user_history_server_3, user_credentials_server_6, bundle_offer_server_2, second_hand_market_server_2, external_inventory_server_2, book_availability_server_8, gift_wrap_server_1, discount_server_1, purchase_book_server_3, ui_server_2]                                                                           |[864, 866, 873, 877, 878, 892, 897, 918, 923, 927, 932, 939, 951, 971, 982, 984, 992, 999, 1003, 1028, 1039, 1066, 1090, 1100, 1111, 1117, 1136, 1152, 1172, 1188, 1207, 1213, 1224, 1234, 1258, 1285, 1296, 1321, 1325, 1332, 1340, 1342, 1353, 1373, 1385, 1392, 1397, 1401, 1406, 1427, 1432, 1446, 1447, 1451, 1458]                       |[Request, Request, Request, Request, Request, Request, Request, Request, Request, Request, Request, Request, Request, Request, Request, Request, Request, Request, Request, Request, Request, Request, Request, Request, Request, Request, Request, Request, Response, Response, Response, Response, Response, Response, Response, Response, Response, Response, Response, Response, Response, Response, Response, Response, Response, Response, Response, Response, Response, Response, Response, Response, Response, Response, Response]                   |\n",
            "|9         |[user, ui_server_11, purchase_book_server_7, book_availability_server_6, user_credentials_server_7, card_check_server_9, mastercard_server_3, currency_conversion_server_1, shipping_options_server_2, inventory_update_server_8, review_server_1, ad_server_8, customer_support_server_1, ad_server_8, review_server_1, inventory_update_server_8, shipping_options_server_2, currency_conversion_server_1, mastercard_server_3, card_check_server_9, user_credentials_server_7, book_availability_server_6, purchase_book_server_7]                                                                                                                                                                                                                                                                                                                                                                                                                                                                                                                                                                                                                                                                                                                                                                                                                                                                                                                                                                |[ui_server_11, purchase_book_server_7, book_availability_server_6, user_credentials_server_7, card_check_server_9, mastercard_server_3, currency_conversion_server_1, shipping_options_server_2, inventory_update_server_8, review_server_1, ad_server_8, customer_support_server_1, ad_server_8, review_server_1, inventory_update_server_8, shipping_options_server_2, currency_conversion_server_1, mastercard_server_3, card_check_server_9, user_credentials_server_7, book_availability_server_6, purchase_book_server_7, ui_server_11]                                                                                                                                                                                                                                                                                                                                                                                                                                                                                                                                                                                                                                                                                                                                                                                                                                                                                                                                                                |[658, 662, 670, 688, 691, 699, 714, 717, 721, 753, 779, 793, 829, 843, 869, 901, 905, 908, 923, 931, 934, 952, 960]                                                                                                                                                                                                                            |[Request, Request, Request, Request, Request, Request, Request, Request, Request, Request, Request, Request, Response, Response, Response, Response, Response, Response, Response, Response, Response, Response, Response]                                                                                                                                                                                                                                                                                                                                   |\n",
            "|4         |[user, ui_server_7, purchase_book_server_10, discount_server_3, gift_wrap_server_1, book_availability_server_4, external_inventory_server_1, second_hand_market_server_1, bundle_offer_server_2, user_credentials_server_6, user_history_server_5, card_check_server_4, visa_server_1, limit_check_visa_server_5, fraud_check_visa_server_2, currency_conversion_server_1, shipping_options_server_1, shipping_insurance_server_1, express_delivery_server_1, inventory_update_server_14, supplier_notification_server_1, seasonal_adjustments_server_2, review_server_3, review_verification_server_1, review_analysis_server_4, ad_server_4, customer_support_server_7, customer_history_access_server_1, premium_customer_check_server_1, ai_chatbot_server_1, premium_customer_check_server_1, customer_history_access_server_1, customer_support_server_7, ad_server_4, review_analysis_server_4, review_verification_server_1, review_server_3, seasonal_adjustments_server_2, supplier_notification_server_1, inventory_update_server_14, express_delivery_server_1, shipping_insurance_server_1, shipping_options_server_1, currency_conversion_server_1, fraud_check_visa_server_2, limit_check_visa_server_5, visa_server_1, card_check_server_4, user_history_server_5, user_credentials_server_6, bundle_offer_server_2, second_hand_market_server_1, external_inventory_server_1, book_availability_server_4, gift_wrap_server_1, discount_server_3, purchase_book_server_10]           |[ui_server_7, purchase_book_server_10, discount_server_3, gift_wrap_server_1, book_availability_server_4, external_inventory_server_1, second_hand_market_server_1, bundle_offer_server_2, user_credentials_server_6, user_history_server_5, card_check_server_4, visa_server_1, limit_check_visa_server_5, fraud_check_visa_server_2, currency_conversion_server_1, shipping_options_server_1, shipping_insurance_server_1, express_delivery_server_1, inventory_update_server_14, supplier_notification_server_1, seasonal_adjustments_server_2, review_server_3, review_verification_server_1, review_analysis_server_4, ad_server_4, customer_support_server_7, customer_history_access_server_1, premium_customer_check_server_1, ai_chatbot_server_1, premium_customer_check_server_1, customer_history_access_server_1, customer_support_server_7, ad_server_4, review_analysis_server_4, review_verification_server_1, review_server_3, seasonal_adjustments_server_2, supplier_notification_server_1, inventory_update_server_14, express_delivery_server_1, shipping_insurance_server_1, shipping_options_server_1, currency_conversion_server_1, fraud_check_visa_server_2, limit_check_visa_server_5, visa_server_1, card_check_server_4, user_history_server_5, user_credentials_server_6, bundle_offer_server_2, second_hand_market_server_1, external_inventory_server_1, book_availability_server_4, gift_wrap_server_1, discount_server_3, purchase_book_server_10, ui_server_7]            |[945, 947, 957, 961, 962, 974, 981, 1003, 1009, 1011, 1017, 1025, 1043, 1069, 1078, 1079, 1085, 1091, 1099, 1131, 1141, 1160, 1179, 1195, 1211, 1224, 1236, 1250, 1266, 1276, 1292, 1306, 1318, 1331, 1347, 1363, 1382, 1401, 1411, 1443, 1451, 1457, 1463, 1464, 1473, 1499, 1517, 1525, 1531, 1533, 1539, 1561, 1568, 1580, 1581, 1585, 1595]|[Request, Request, Request, Request, Request, Request, Request, Request, Request, Request, Request, Request, Request, Request, Request, Request, Request, Request, Request, Request, Request, Request, Request, Request, Request, Request, Request, Request, Request, Response, Response, Response, Response, Response, Response, Response, Response, Response, Response, Response, Response, Response, Response, Response, Response, Response, Response, Response, Response, Response, Response, Response, Response, Response, Response, Response, Response]|\n",
            "+----------+-----------------------------------------------------------------------------------------------------------------------------------------------------------------------------------------------------------------------------------------------------------------------------------------------------------------------------------------------------------------------------------------------------------------------------------------------------------------------------------------------------------------------------------------------------------------------------------------------------------------------------------------------------------------------------------------------------------------------------------------------------------------------------------------------------------------------------------------------------------------------------------------------------------------------------------------------------------------------------------------------------------------------------------------------------------------------------------------------------------------------------------------------------------------------------------------------------------------------------------------------------------------------------------------------------------------------------------------------------------------------------------------------------------------------------------------------------------------------------------------------------+-------------------------------------------------------------------------------------------------------------------------------------------------------------------------------------------------------------------------------------------------------------------------------------------------------------------------------------------------------------------------------------------------------------------------------------------------------------------------------------------------------------------------------------------------------------------------------------------------------------------------------------------------------------------------------------------------------------------------------------------------------------------------------------------------------------------------------------------------------------------------------------------------------------------------------------------------------------------------------------------------------------------------------------------------------------------------------------------------------------------------------------------------------------------------------------------------------------------------------------------------------------------------------------------------------------------------------------------------------------------------------------------------------------------------------------------------------------------------------------------------------------+-----------------------------------------------------------------------------------------------------------------------------------------------------------------------------------------------------------------------------------------------------------------------------------------------------------------------------------------------+-------------------------------------------------------------------------------------------------------------------------------------------------------------------------------------------------------------------------------------------------------------------------------------------------------------------------------------------------------------------------------------------------------------------------------------------------------------------------------------------------------------------------------------------------------------+\n",
            "only showing top 6 rows\n",
            "\n"
          ]
        }
      ],
      "source": [
        "logs_grouped = logs_casted.groupBy(\"process_id\").agg(\n",
        "    collect_list(\"from_server\").alias(\"from_servers\"),\n",
        "    collect_list(\"to_server\").alias(\"to_servers\"),\n",
        "    collect_list(\"time\").alias(\"times\"),\n",
        "    collect_list(\"action\").alias(\"actions\")\n",
        ")\n",
        "logs_grouped_not_sorted = logs_grouped\n",
        "\n",
        "if VISUALIZATION:\n",
        "  logs_grouped.show(6, truncate=False)"
      ]
    },
    {
      "cell_type": "markdown",
      "metadata": {
        "id": "O8SiZdCrBxWt"
      },
      "source": [
        "### Sort all the column items based on 'from_server' so the sub-processes are in the right order"
      ]
    },
    {
      "cell_type": "code",
      "execution_count": 8,
      "metadata": {
        "id": "AJaqqqzSBxWt"
      },
      "outputs": [],
      "source": [
        "def sort_lists_time(times, from_servers, to_servers, actions):\n",
        "    combined = list(zip(times, from_servers, to_servers, actions))\n",
        "    sorted_combined = sorted(combined, key=lambda x: x[0])\n",
        "\n",
        "    # Remove the second half of each list since it contains duplicte names\n",
        "    half_length = len(sorted_combined) // 2\n",
        "    truncated_combined = sorted_combined[:half_length]\n",
        "\n",
        "    times_sorted, from_servers_sorted, to_servers_sorted, actions_sorted = zip(*truncated_combined)\n",
        "    return list(times_sorted), list(from_servers_sorted), list(to_servers_sorted), list(actions_sorted)\n",
        "\n",
        "def sort_lists_from_server(times, from_servers, to_servers, actions):\n",
        "    # First sort by time\n",
        "    combined = list(zip(times, from_servers, to_servers, actions))\n",
        "    sorted_combined = sorted(combined, key=lambda x: x[0])  # Sort by times (x[0])\n",
        "\n",
        "    # Remove the second half of each list since it contains duplicte names\n",
        "    half_length = len(sorted_combined) // 2\n",
        "    truncated_combined = sorted_combined[:half_length]\n",
        "\n",
        "    times_sorted, from_servers_sorted, to_servers_sorted, actions_sorted = zip(*truncated_combined)\n",
        "\n",
        "    combined = list(zip(times_sorted, from_servers_sorted, to_servers_sorted, actions_sorted))\n",
        "    sorted_combined = sorted(combined, key=lambda x: x[1])\n",
        "    times_sorted, from_servers_sorted, to_servers_sorted, actions_sorted = zip(*sorted_combined)\n",
        "    return list(times_sorted), list(from_servers_sorted), list(to_servers_sorted), list(actions_sorted)\n",
        "\n",
        "# Define the schema for the sorted columns\n",
        "sorted_lists_schema = StructType([\n",
        "    StructField(\"times\", ArrayType(LongType()), nullable=True),\n",
        "    StructField(\"from_servers\", ArrayType(StringType()), nullable=True),\n",
        "    StructField(\"to_servers\", ArrayType(StringType()), nullable=True),\n",
        "    StructField(\"actions\", ArrayType(StringType()), nullable=True)\n",
        "])\n",
        "\n",
        "# Register the function as a UDF\n",
        "sort_lists_udf = udf(sort_lists_from_server, sorted_lists_schema)\n",
        "\n",
        "# Apply the UDF to sort the lists based on the \"times\" column\n",
        "logs_grouped = logs_grouped.withColumn(\"sorted_lists\", sort_lists_udf(\"times\", \"from_servers\", \"to_servers\", \"actions\"))\n",
        "\n",
        "# Split the sorted lists into separate columns\n",
        "logs_grouped = logs_grouped.withColumn(\"times\", col(\"sorted_lists.times\")) \\\n",
        "                           .withColumn(\"from_servers\", col(\"sorted_lists.from_servers\")) \\\n",
        "                           .withColumn(\"to_servers\", col(\"sorted_lists.to_servers\")) \\\n",
        "                           .withColumn(\"actions\", col(\"sorted_lists.actions\")) \\\n",
        "                           .drop(\"sorted_lists\")"
      ]
    },
    {
      "cell_type": "markdown",
      "metadata": {
        "id": "SylZDcJZBxWt"
      },
      "source": [
        "### Create 'process_string' column with a string of all the 'from_servers'"
      ]
    },
    {
      "cell_type": "code",
      "execution_count": 9,
      "metadata": {
        "id": "oTNqHom-BxWt"
      },
      "outputs": [],
      "source": [
        "'''\n",
        "Using the withColumn method to create a new column \"process_string\".\n",
        "The concat_ws function concatenates multiple column values into a single string, separated by a comma.\n",
        "col(\"from_servers\"): Selects the column \"from_servers\".\n",
        "col(\"to_servers\"): Selects the column \"to_servers\".\n",
        "col(\"times\"): Selects the column \"times\".\n",
        "col(\"actions\"): Selects the column \"actions\".\n",
        "The concatenated string is stored in the new column \"process_string\".\n",
        "'''\n",
        "\n",
        "logs_grouped = logs_grouped.withColumn(\n",
        "    \"process_string\",\n",
        "    concat_ws(\",\", col(\"from_servers\"))\n",
        ")"
      ]
    },
    {
      "cell_type": "markdown",
      "metadata": {
        "id": "jCPqIDm1BxWu"
      },
      "source": [
        "# Part 1: \"Cleaning\": LSH and Connected Components"
      ]
    },
    {
      "cell_type": "markdown",
      "metadata": {
        "id": "aCcyD7F3BxWu"
      },
      "source": [
        "## Step 1. Create shingles"
      ]
    },
    {
      "cell_type": "markdown",
      "metadata": {
        "id": "K4wKnb0yBxWu"
      },
      "source": [
        "### 1.1. Pre-processing before shingles"
      ]
    },
    {
      "cell_type": "markdown",
      "metadata": {
        "id": "C3ZhuZlQBxWu"
      },
      "source": [
        "#### Find common sub-string"
      ]
    },
    {
      "cell_type": "code",
      "execution_count": 10,
      "metadata": {
        "id": "W2r6dsB-BxWu"
      },
      "outputs": [],
      "source": [
        "def get_all_substrings(string, min_length):\n",
        "    length = len(string)\n",
        "    return [string[i:j] for i in range(length) for j in range(i + min_length, length + 1)]\n",
        "\n",
        "\n",
        "def find_common_substring(server_names, min_length=3, min_occurrences_ratio=0.6):\n",
        "    substr_counter = Counter()\n",
        "    total_names = len(server_names)\n",
        "    min_occurrences = int(total_names * min_occurrences_ratio)\n",
        "\n",
        "    for name in server_names:\n",
        "        substrings = get_all_substrings(name, min_length)\n",
        "        substr_counter.update(substrings)\n",
        "\n",
        "    # Filter substrings that occur at least min_occurrences times\n",
        "    common_substrings = [substr for substr, count in substr_counter.items() if count >= min_occurrences]\n",
        "\n",
        "    if not common_substrings:\n",
        "        return \"\"\n",
        "\n",
        "    # Return the longest common substring\n",
        "    return max(common_substrings, key=len)\n",
        "\n",
        "\n",
        "def remove_common_substring(strings, common_substring):\n",
        "    return [string.replace(common_substring, \"\") for string in strings]"
      ]
    },
    {
      "cell_type": "code",
      "execution_count": 11,
      "metadata": {
        "colab": {
          "base_uri": "https://localhost:8080/"
        },
        "id": "lC5ysGS9BxWu",
        "outputId": "e0cd9827-fd55-43a0-9357-aac26c985737"
      },
      "outputs": [
        {
          "output_type": "stream",
          "name": "stdout",
          "text": [
            "Most Common Substring: _server_\n"
          ]
        }
      ],
      "source": [
        "# Sample 5 rows from the data\n",
        "sample_rows = logs_grouped.select(\"from_servers\").take(3)\n",
        "\n",
        "# Extract the \"from_servers\" lists from the sample rows\n",
        "sample_from_servers = [row[\"from_servers\"] for row in sample_rows]\n",
        "\n",
        "# Flatten the list of lists to a single list of server names\n",
        "flattened_server_names = [server for sublist in sample_from_servers for server in sublist]\n",
        "\n",
        "# Get unique server names\n",
        "unique_server_names = list(set(flattened_server_names))\n",
        "\n",
        "# Use the function on the unique server names\n",
        "common_substring = find_common_substring(unique_server_names, min_length=3, min_occurrences_ratio=0.70)\n",
        "\n",
        "if VISUALIZATION:\n",
        "  print(\"Most Common Substring:\", common_substring)"
      ]
    },
    {
      "cell_type": "markdown",
      "metadata": {
        "id": "q464I4cGBxWv"
      },
      "source": [
        "#### Remove common sub-string + special characters + spaces"
      ]
    },
    {
      "cell_type": "code",
      "execution_count": 12,
      "metadata": {
        "colab": {
          "base_uri": "https://localhost:8080/"
        },
        "id": "oC5bXXTwBxWv",
        "outputId": "e5e562d8-6a73-49c5-a029-b9cddfb44186"
      },
      "outputs": [
        {
          "output_type": "stream",
          "name": "stdout",
          "text": [
            "+--------------------------------------------------------------------------------------------------------------------------------------------------------------------------------------------------------------------------------------------------------------------------------------------------------------------------------------------------------------------------------------------+\n",
            "|process_string_cleaned                                                                                                                                                                                                                                                                                                                                                                      |\n",
            "+--------------------------------------------------------------------------------------------------------------------------------------------------------------------------------------------------------------------------------------------------------------------------------------------------------------------------------------------------------------------------------------------+\n",
            "|ad1automaticresponse4bookavailability3bundleoffer2cardcheck7currencyconversion3customersupport9discount1expressdelivery1externalinventory2fraudcheckvisa1giftwrap1inventoryupdate16limitcheckvisa4purchasebook5reviewanalysis2review3reviewverification1seasonaladjustments1secondhandmarket2shippinginsurance1shippingoptions1suppliernotification2ui2userusercredentials3userhistory2visa4|\n",
            "+--------------------------------------------------------------------------------------------------------------------------------------------------------------------------------------------------------------------------------------------------------------------------------------------------------------------------------------------------------------------------------------------+\n",
            "\n"
          ]
        }
      ],
      "source": [
        "# Create a new DataFrame with the common substring removed from the process_string\n",
        "logs_grouped_cleaned = logs_grouped.withColumn(\n",
        "    \"process_string_clean_common\",\n",
        "    regexp_replace(col(\"process_string\"), common_substring, \"\"),\n",
        ")\n",
        "\n",
        "logs_grouped_cleaned = logs_grouped_cleaned.withColumn(\n",
        "    \"process_string_cleaned\",\n",
        "    regexp_replace(col(\"process_string_clean_common\"), \"[^a-zA-Z0-9\\s]\", \"\")\n",
        ")\n",
        "\n",
        "# Show the cleaned DataFrame\n",
        "if VISUALIZATION:\n",
        "  logs_grouped_cleaned.select(\"process_string_cleaned\").limit(1).show(truncate=False)"
      ]
    },
    {
      "cell_type": "markdown",
      "metadata": {
        "id": "EEAV8pGFBxWv"
      },
      "source": [
        "### 1.2. Define the shingles of each function"
      ]
    },
    {
      "cell_type": "code",
      "execution_count": 13,
      "metadata": {
        "colab": {
          "base_uri": "https://localhost:8080/"
        },
        "id": "rXrJBNF2BxWv",
        "outputId": "d459d87e-4acf-41e5-a0b8-a9b88cdfc4be"
      },
      "outputs": [
        {
          "output_type": "stream",
          "name": "stdout",
          "text": [
            "Average length of server names: 14.245283018867925\n",
            "Determined shingle length: 5\n",
            "+----------+--------------------------------------------------------------------------------------------------------------------------------------------------------------------------------------------------------------------------------------------------------------------------------------------------------------------------------------------------------------------------------------------+-------------------------------------------------------------------------------------------------------------------------------------------------------------------------------------------------------------------------------------------------------------------------------------------------------------------------------------------------------------------------------------------------------------------------------------------------------------------------------------------------------------------------------------------------------------------------------------------------------------------------------------------------------------------------------------------------------------------------------------------------------------------------------------------------------------------------------------------------------------------------------------------------------------------------------------------------------------------------------------------------------------------------------------------------------------------------------------------------------------------------------------------------------------------------------------------------------------------------------------------------------------------------------------------------------------------------------------------------------------------------------------------------------------------------------------------------------------------------------------------------------------------------------------------------------------------------------------------------------------------------------------------------------------------------------------------------------------------------------------------------------------------------------------------------------------------------------------------------------------------------------------------------------------------------------------------------------------------------------------------------------------------------------------------------------------------------------------------------------------------------------------------------------------------------------------------------------------------------------------------------------------------------------------------------------------------------------------------------------------------------------------------------------------------------------------------------------------------------------------------------------------------------------------------+\n",
            "|process_id|process_string_cleaned                                                                                                                                                                                                                                                                                                                                                                      |shingles                                                                                                                                                                                                                                                                                                                                                                                                                                                                                                                                                                                                                                                                                                                                                                                                                                                                                                                                                                                                                                                                                                                                                                                                                                                                                                                                                                                                                                                                                                                                                                                                                                                                                                                                                                                                                                                                                                                                                                                                                                                                                                                                                                                                                                                                                                                                                                                                                                                                                                                                   |\n",
            "+----------+--------------------------------------------------------------------------------------------------------------------------------------------------------------------------------------------------------------------------------------------------------------------------------------------------------------------------------------------------------------------------------------------+-------------------------------------------------------------------------------------------------------------------------------------------------------------------------------------------------------------------------------------------------------------------------------------------------------------------------------------------------------------------------------------------------------------------------------------------------------------------------------------------------------------------------------------------------------------------------------------------------------------------------------------------------------------------------------------------------------------------------------------------------------------------------------------------------------------------------------------------------------------------------------------------------------------------------------------------------------------------------------------------------------------------------------------------------------------------------------------------------------------------------------------------------------------------------------------------------------------------------------------------------------------------------------------------------------------------------------------------------------------------------------------------------------------------------------------------------------------------------------------------------------------------------------------------------------------------------------------------------------------------------------------------------------------------------------------------------------------------------------------------------------------------------------------------------------------------------------------------------------------------------------------------------------------------------------------------------------------------------------------------------------------------------------------------------------------------------------------------------------------------------------------------------------------------------------------------------------------------------------------------------------------------------------------------------------------------------------------------------------------------------------------------------------------------------------------------------------------------------------------------------------------------------------------------+\n",
            "|1         |ad1automaticresponse4bookavailability3bundleoffer2cardcheck7currencyconversion3customersupport9discount1expressdelivery1externalinventory2fraudcheckvisa1giftwrap1inventoryupdate16limitcheckvisa4purchasebook5reviewanalysis2review3reviewverification1seasonaladjustments1secondhandmarket2shippinginsurance1shippingoptions1suppliernotification2ui2userusercredentials3userhistory2visa4|[heckv, ewana, k7cur, ort9d, liern, 2ui2u, imitc, ticre, count, a4pur, arket, suppo, isa4p, onala, ponse, ption, ions1, ount1, ustme, tchec, serus, icati, xpres, ance1, labil, vaila, rsion, linve, oryup, ippin, book5, deliv, essde, edent, serhi, ysis2, n1sea, kavai, adjus, userc, t2shi, audch, yupda, ryupd, ty3bu, ons1s, eason, nalad, rance, udche, pingo, ftwra, condh, ry1ex, useru, uppor, chase, lity3, updat, ity3b, ssdel, seaso, uppli, nts1s, ments, bundl, rnoti, iftwr, optio, vento, ersio, ry2vi, k5rev, 1exte, ingop, rcred, ficat, ilabi, nce1s, pplie, ewver, w3rev, exter, 6limi, suppl, histo, asebo, ory2v, conve, cardc, avail, d1aut, autom, on3cu, 3cust, iew3r, ressd, pping, rchas, ns1su, iewan, ngins, nse4b, utoma, sis2r, ginsu, ernot, omers, rket2, lysis, sa1gi, entor, rency, leoff, secon, s2rev, 2revi, yconv, matic, 1inve, tific, ility, press, userh, 1supp, asona, tion2, eoffe, justm, s3use, ry2fr, handm, onver, revie, y2fra, abili, ckvis, andma, expre, pdate, sa4pu, wanal, on1se, 4purc, ersup, date1, tomat, erhis, ce1sh, inven, viewv, eck7c, tion1, ncyco, eruse, 3revi, 1expr, shipp, rt9di, story, unt1e, te16l, erifi, wveri, kvisa, n2ui2, rdche, nt1ex, ials3, alysi, tomer, port9, t9dis, ls3us, iewve, a1gif, rific, seboo, toryu, ercre, s1sup, 16lim, giftw, check, urren, 5revi, nalys, ebook, ierno, ents1, urcha, cresp, 1gift, ngopt, ook5r, ui2us, se4bo, tions, rrenc, y1ext, als3u, ion1s, 2visa, ailab, bilit, nalin, ket2s, ladju, dchec, 2ship, t1exp, wrap1, ion3c, haseb, i2use, sonal, itche, rsupp, visa1, curre, undle, aladj, ory2f, et2sh, isa1g, encyc, e1shi, plier, ate16, tment, very1, dleof, reden, ffer2, ery1e, sion3, booka, y2vis, stmen, elive, gopti, fer2c, cycon, is2re, liver, 2card, visa4, istor, y3bun, ndmar, custo, mersu, rap1i, espon, purch, 1auto, ew3re, ingin, eview, n3cus, ndhan, 2frau, ustom, 4book, ardch, djust, dhand, otifi, catio, ruser, uranc, ernal, entia, dmark, twrap, verif, ation, respo, 1seco, ivery, stome, ndleo, sercr, iscou, limit, 1seas, mitch, ap1in, notif, ck7cu, ookav, nsura, ondha, analy, denti, crede, tials, 7curr, nvers, e4boo, p1inv, nvent, on2ui, tory2, okava, pingi, omati, econd, r2car, ion2u, raudc, marke, ntial, view3, rnali, ok5re, icres, hippi, 2user, viewa, 3bund, 9disc, pport, ad1au, 1ship, ts1se, s1sec, eckvi, insur, disco, xtern, alinv, spons, onse4, sdeli, ntory, e16li, heck7, aticr, terna, rhist, ifica, suran, scoun, offer, 3user, versi, fraud, er2ca]|\n",
            "+----------+--------------------------------------------------------------------------------------------------------------------------------------------------------------------------------------------------------------------------------------------------------------------------------------------------------------------------------------------------------------------------------------------+-------------------------------------------------------------------------------------------------------------------------------------------------------------------------------------------------------------------------------------------------------------------------------------------------------------------------------------------------------------------------------------------------------------------------------------------------------------------------------------------------------------------------------------------------------------------------------------------------------------------------------------------------------------------------------------------------------------------------------------------------------------------------------------------------------------------------------------------------------------------------------------------------------------------------------------------------------------------------------------------------------------------------------------------------------------------------------------------------------------------------------------------------------------------------------------------------------------------------------------------------------------------------------------------------------------------------------------------------------------------------------------------------------------------------------------------------------------------------------------------------------------------------------------------------------------------------------------------------------------------------------------------------------------------------------------------------------------------------------------------------------------------------------------------------------------------------------------------------------------------------------------------------------------------------------------------------------------------------------------------------------------------------------------------------------------------------------------------------------------------------------------------------------------------------------------------------------------------------------------------------------------------------------------------------------------------------------------------------------------------------------------------------------------------------------------------------------------------------------------------------------------------------------------------+\n",
            "\n"
          ]
        }
      ],
      "source": [
        "# Define the shingling function for process strings\n",
        "def shingle_process_string(process_string, k):\n",
        "    shingle_set = set()\n",
        "    for i in range(len(process_string) - k + 1):\n",
        "        shingle = process_string[i:i + k]\n",
        "        shingle_set.add(shingle)\n",
        "    return list(shingle_set)\n",
        "\n",
        "# Define the shingle length based on the average length of the servers of the first 5 rows\n",
        "first_rows = logs_grouped_cleaned.take(5)\n",
        "average_length = 0\n",
        "\n",
        "# Calculate the average length of server names\n",
        "total_length = 0\n",
        "total_servers = 0\n",
        "\n",
        "# For each row in the sample rows sum the length of the names and the number of servers\n",
        "for row in first_rows:\n",
        "    servers = row[\"process_string_clean_common\"]\n",
        "    server_names = servers.split(',')\n",
        "    total_length += sum([len(server) for server in server_names])\n",
        "    total_servers += len(server_names)\n",
        "\n",
        "# Find the average server name length\n",
        "average_server_name_length = total_length / total_servers\n",
        "\n",
        "# Devine ths shingle length as the 30% of the average server name (or 2 if the names are too short)\n",
        "shingle_length_percentage = 0.3\n",
        "shingle_length = max(2, int(np.ceil(average_server_name_length *shingle_length_percentage)))\n",
        "\n",
        "if VISUALIZATION:\n",
        "  print(f'Average length of server names: {average_server_name_length}')\n",
        "  print(f'Determined shingle length: {shingle_length}')\n",
        "\n",
        "# Register the UDF for shingling\n",
        "shingle_udf = udf(lambda process_string: shingle_process_string(process_string, shingle_length), ArrayType(StringType()))\n",
        "\n",
        "# Apply the UDF to create shingles from process strings\n",
        "logs_grouped_cleaned_with_shingles = logs_grouped_cleaned.withColumn(\"shingles\", shingle_udf(col(\"process_string_cleaned\")))\n",
        "\n",
        "# Show the resulting DataFrame with shingles\n",
        "if VISUALIZATION:\n",
        "  logs_grouped_cleaned_with_shingles.select(\"process_id\", \"process_string_cleaned\", \"shingles\").limit(1).show(truncate=False)"
      ]
    },
    {
      "cell_type": "markdown",
      "metadata": {
        "id": "uQUcAWsqBxWw"
      },
      "source": [
        "### 1.3. Create Vocabulary and Sparse Vectors"
      ]
    },
    {
      "cell_type": "markdown",
      "metadata": {
        "id": "44SUu8ZyBxWw"
      },
      "source": [
        "#### Keep all unique shingles"
      ]
    },
    {
      "cell_type": "code",
      "execution_count": 14,
      "metadata": {
        "colab": {
          "base_uri": "https://localhost:8080/"
        },
        "id": "3T3YnNwGBxWw",
        "outputId": "4aa9c7af-e139-4775-fba1-6eafa6837e9e"
      },
      "outputs": [
        {
          "output_type": "stream",
          "name": "stdout",
          "text": [
            "Vocabulary: ['heckv', 'ewana', 'k7cur', 'ort9d', 'liern', '2ui2u', 'imitc', 'ticre', 'count', 'a4pur' . . . ]\n",
            "Length: 1011\n"
          ]
        }
      ],
      "source": [
        "# Collect all shingles from the DataFrame into a single list\n",
        "all_unique_shingles = logs_grouped_cleaned_with_shingles.select(\"shingles\").rdd.flatMap(lambda row: row.shingles).distinct().collect()\n",
        "\n",
        "# Create a vocabulary dictionary where each shingle is assigned a unique index\n",
        "vocab = {shingle: idx for idx, shingle in enumerate(all_unique_shingles)}\n",
        "# Print the vocabulary to verify\n",
        "if VISUALIZATION:\n",
        "  print(f'Vocabulary: {str(list(vocab)[:10])[:-1]} . . . ]')\n",
        "  print(f'Length: {len(vocab)}')"
      ]
    },
    {
      "cell_type": "markdown",
      "metadata": {
        "id": "y0I21nVjBxWw"
      },
      "source": [
        "#### Create the sparse vector of shingle occurence for each process"
      ]
    },
    {
      "cell_type": "code",
      "execution_count": 15,
      "metadata": {
        "colab": {
          "base_uri": "https://localhost:8080/"
        },
        "id": "2GHSY2xWBxWw",
        "outputId": "f8f810dd-b404-456b-a503-94f156b013d8"
      },
      "outputs": [
        {
          "output_type": "stream",
          "name": "stdout",
          "text": [
            "+----------+----------------------------------------------------------------------------------------------------------------------------------------------------------------------------------------------------------------------------------------------------------------------------------------------------------------------------------------------------------------------------------------------------------------------------------------------------------------------------------------------------------------------------------------------------------------------------------------------------------------------------------------------------------------------------------------------------------------------------------------------------------------------------------------------------------------------------------------------------------------------------------------------------------------------------------------------------------------------------------------------------------------------------------------------------------------------------------------------------------------------------------------------------------------------------------------------------------------------------------------------------------------------------------------------------------------------------------------------------------------------------------------------------------------------------------------------------------------------------------------------------------------------------------------------------------------------------------------------------------------------------------------------------------------------------------------------------------------------------------------------------------------------------------------------------------------------------------------------------------------------------------------------------------------------------------------------------------------------------------------------------------------------------------------------------------------------------------------------------------------------------------------------------------------------------------------------------------------------------------------------------------------------------------------------------------------------------------------------------------------------------------------------------------------------------------------------------------------------------------------------------------------------------------------------------------------------------------------------------------------------------------------------------------------------------------------------------------------------------------------------------------------------------------------------------+\n",
            "|process_id|features                                                                                                                                                                                                                                                                                                                                                                                                                                                                                                                                                                                                                                                                                                                                                                                                                                                                                                                                                                                                                                                                                                                                                                                                                                                                                                                                                                                                                                                                                                                                                                                                                                                                                                                                                                                                                                                                                                                                                                                                                                                                                                                                                                                                                                                                                                                                                                                                                                                                                                                                                                                                                                                                                                                                                                                            |\n",
            "+----------+----------------------------------------------------------------------------------------------------------------------------------------------------------------------------------------------------------------------------------------------------------------------------------------------------------------------------------------------------------------------------------------------------------------------------------------------------------------------------------------------------------------------------------------------------------------------------------------------------------------------------------------------------------------------------------------------------------------------------------------------------------------------------------------------------------------------------------------------------------------------------------------------------------------------------------------------------------------------------------------------------------------------------------------------------------------------------------------------------------------------------------------------------------------------------------------------------------------------------------------------------------------------------------------------------------------------------------------------------------------------------------------------------------------------------------------------------------------------------------------------------------------------------------------------------------------------------------------------------------------------------------------------------------------------------------------------------------------------------------------------------------------------------------------------------------------------------------------------------------------------------------------------------------------------------------------------------------------------------------------------------------------------------------------------------------------------------------------------------------------------------------------------------------------------------------------------------------------------------------------------------------------------------------------------------------------------------------------------------------------------------------------------------------------------------------------------------------------------------------------------------------------------------------------------------------------------------------------------------------------------------------------------------------------------------------------------------------------------------------------------------------------------------------------------------+\n",
            "|1         |(1011,[0,1,2,3,4,5,6,7,8,9,10,11,12,13,14,15,16,17,18,19,20,21,22,23,24,25,26,27,28,29,30,31,32,33,34,35,36,37,38,39,40,41,42,43,44,45,46,47,48,49,50,51,52,53,54,55,56,57,58,59,60,61,62,63,64,65,66,67,68,69,70,71,72,73,74,75,76,77,78,79,80,81,82,83,84,85,86,87,88,89,90,91,92,93,94,95,96,97,98,99,100,101,102,103,104,105,106,107,108,109,110,111,112,113,114,115,116,117,118,119,120,121,122,123,124,125,126,127,128,129,130,131,132,133,134,135,136,137,138,139,140,141,142,143,144,145,146,147,148,149,150,151,152,153,154,155,156,157,158,159,160,161,162,163,164,165,166,167,168,169,170,171,172,173,174,175,176,177,178,179,180,181,182,183,184,185,186,187,188,189,190,191,192,193,194,195,196,197,198,199,200,201,202,203,204,205,206,207,208,209,210,211,212,213,214,215,216,217,218,219,220,221,222,223,224,225,226,227,228,229,230,231,232,233,234,235,236,237,238,239,240,241,242,243,244,245,246,247,248,249,250,251,252,253,254,255,256,257,258,259,260,261,262,263,264,265,266,267,268,269,270,271,272,273,274,275,276,277,278,279,280,281,282,283,284,285,286,287,288,289,290,291,292,293,294,295,296,297,298,299,300,301,302,303,304,305,306,307,308,309,310,311,312,313,314,315,316,317,318,319,320,321,322,323,324,325,326,327,328,329,330,331,332,333,334,335,336,337,338,339,340,341,342,343,344,345,346,347,348],[1.0,1.0,1.0,1.0,1.0,1.0,1.0,1.0,1.0,1.0,1.0,1.0,1.0,1.0,1.0,1.0,1.0,1.0,1.0,1.0,1.0,1.0,1.0,1.0,1.0,1.0,1.0,1.0,1.0,1.0,1.0,1.0,1.0,1.0,1.0,1.0,1.0,1.0,1.0,1.0,1.0,1.0,1.0,1.0,1.0,1.0,1.0,1.0,1.0,1.0,1.0,1.0,1.0,1.0,1.0,1.0,1.0,1.0,1.0,1.0,1.0,1.0,1.0,1.0,1.0,1.0,1.0,1.0,1.0,1.0,1.0,1.0,1.0,1.0,1.0,1.0,1.0,1.0,1.0,1.0,1.0,1.0,1.0,1.0,1.0,1.0,1.0,1.0,1.0,1.0,1.0,1.0,1.0,1.0,1.0,1.0,1.0,1.0,1.0,1.0,1.0,1.0,1.0,1.0,1.0,1.0,1.0,1.0,1.0,1.0,1.0,1.0,1.0,1.0,1.0,1.0,1.0,1.0,1.0,1.0,1.0,1.0,1.0,1.0,1.0,1.0,1.0,1.0,1.0,1.0,1.0,1.0,1.0,1.0,1.0,1.0,1.0,1.0,1.0,1.0,1.0,1.0,1.0,1.0,1.0,1.0,1.0,1.0,1.0,1.0,1.0,1.0,1.0,1.0,1.0,1.0,1.0,1.0,1.0,1.0,1.0,1.0,1.0,1.0,1.0,1.0,1.0,1.0,1.0,1.0,1.0,1.0,1.0,1.0,1.0,1.0,1.0,1.0,1.0,1.0,1.0,1.0,1.0,1.0,1.0,1.0,1.0,1.0,1.0,1.0,1.0,1.0,1.0,1.0,1.0,1.0,1.0,1.0,1.0,1.0,1.0,1.0,1.0,1.0,1.0,1.0,1.0,1.0,1.0,1.0,1.0,1.0,1.0,1.0,1.0,1.0,1.0,1.0,1.0,1.0,1.0,1.0,1.0,1.0,1.0,1.0,1.0,1.0,1.0,1.0,1.0,1.0,1.0,1.0,1.0,1.0,1.0,1.0,1.0,1.0,1.0,1.0,1.0,1.0,1.0,1.0,1.0,1.0,1.0,1.0,1.0,1.0,1.0,1.0,1.0,1.0,1.0,1.0,1.0,1.0,1.0,1.0,1.0,1.0,1.0,1.0,1.0,1.0,1.0,1.0,1.0,1.0,1.0,1.0,1.0,1.0,1.0,1.0,1.0,1.0,1.0,1.0,1.0,1.0,1.0,1.0,1.0,1.0,1.0,1.0,1.0,1.0,1.0,1.0,1.0,1.0,1.0,1.0,1.0,1.0,1.0,1.0,1.0,1.0,1.0,1.0,1.0,1.0,1.0,1.0,1.0,1.0,1.0,1.0,1.0,1.0,1.0,1.0,1.0,1.0,1.0,1.0,1.0,1.0,1.0,1.0,1.0,1.0,1.0,1.0,1.0,1.0,1.0,1.0,1.0,1.0,1.0,1.0,1.0,1.0,1.0,1.0,1.0,1.0,1.0,1.0,1.0,1.0,1.0])|\n",
            "+----------+----------------------------------------------------------------------------------------------------------------------------------------------------------------------------------------------------------------------------------------------------------------------------------------------------------------------------------------------------------------------------------------------------------------------------------------------------------------------------------------------------------------------------------------------------------------------------------------------------------------------------------------------------------------------------------------------------------------------------------------------------------------------------------------------------------------------------------------------------------------------------------------------------------------------------------------------------------------------------------------------------------------------------------------------------------------------------------------------------------------------------------------------------------------------------------------------------------------------------------------------------------------------------------------------------------------------------------------------------------------------------------------------------------------------------------------------------------------------------------------------------------------------------------------------------------------------------------------------------------------------------------------------------------------------------------------------------------------------------------------------------------------------------------------------------------------------------------------------------------------------------------------------------------------------------------------------------------------------------------------------------------------------------------------------------------------------------------------------------------------------------------------------------------------------------------------------------------------------------------------------------------------------------------------------------------------------------------------------------------------------------------------------------------------------------------------------------------------------------------------------------------------------------------------------------------------------------------------------------------------------------------------------------------------------------------------------------------------------------------------------------------------------------------------------------+\n",
            "\n"
          ]
        }
      ],
      "source": [
        "# Define a function to create sparse vectors based on the vocabulary\n",
        "def create_sparse_vector_for_lsh(shingles, vocab):\n",
        "    indices = []\n",
        "    for shingle in shingles:\n",
        "        if shingle in vocab:\n",
        "            idx = vocab[shingle]\n",
        "            indices.append(idx)\n",
        "\n",
        "    indices = sorted(indices)  # Sort indices\n",
        "    values = [1.0] * len(indices)\n",
        "    return Vectors.sparse(len(vocab), indices, values)\n",
        "\n",
        "# Register the UDF to create sparse vectors for LSH\n",
        "sparse_vector_for_lsh_udf = udf(lambda shingles: create_sparse_vector_for_lsh(shingles, vocab), VectorUDT())\n",
        "\n",
        "# Apply the UDF to create sparse vectors directly suitable for MinHashLSH\n",
        "logs_sparse_vectors = logs_grouped_cleaned_with_shingles.withColumn(\"features\", sparse_vector_for_lsh_udf(col(\"shingles\")))\n",
        "\n",
        "# Show the resulting DataFrame with sparse vectors\n",
        "if VISUALIZATION:\n",
        "  logs_sparse_vectors.select(\"process_id\", \"features\").limit(1).show(truncate=False)"
      ]
    },
    {
      "cell_type": "markdown",
      "metadata": {
        "id": "5yE937uXBxWx"
      },
      "source": [
        "## Step 2. MinHash and LSH with pyspark's MinHashLSH"
      ]
    },
    {
      "cell_type": "markdown",
      "metadata": {
        "id": "KBhmKuIJBxWx"
      },
      "source": [
        "### 2.1. Create MinHashLSH model and fit it with the 'features' column of the 'logs_sparse_vectors' dataframe"
      ]
    },
    {
      "cell_type": "code",
      "execution_count": 16,
      "metadata": {
        "colab": {
          "base_uri": "https://localhost:8080/"
        },
        "id": "gVfgolfSBxWx",
        "outputId": "7023e3e3-c862-43a7-8573-f29eb6373d38"
      },
      "outputs": [
        {
          "output_type": "stream",
          "name": "stdout",
          "text": [
            "+----------+----------------------------------------------------------------------------------------------------------------------------------------------------------------------------------------------------------------------------------------------------------------------------------------------------------------------------------------------------------------------------------------------------------+\n",
            "|process_id|hashes                                                                                                                                                                                                                                                                                                                                                                                                    |\n",
            "+----------+----------------------------------------------------------------------------------------------------------------------------------------------------------------------------------------------------------------------------------------------------------------------------------------------------------------------------------------------------------------------------------------------------------+\n",
            "|1         |[[973116.0], [3758271.0], [2348276.0], [7263313.0], [1179714.0], [1202572.0], [3089106.0], [628949.0], [6335436.0], [4063642.0], [5871152.0], [5692242.0], [2987192.0], [7670403.0], [892431.0], [2.6261551E7], [5942853.0], [5366464.0], [774503.0], [4572659.0], [826231.0], [6154017.0], [249436.0], [2.9649119E7], [4635654.0], [2131854.0], [4825454.0], [2.2891114E7], [1.0015956E7], [1.5521283E7]]|\n",
            "+----------+----------------------------------------------------------------------------------------------------------------------------------------------------------------------------------------------------------------------------------------------------------------------------------------------------------------------------------------------------------------------------------------------------------+\n",
            "\n"
          ]
        }
      ],
      "source": [
        "# Initialize MinHashLSH\n",
        "'''\n",
        ":inputCol: The column of our dataframe that is going to be used for hashing\n",
        ":outputCol: The new solumn that will be created that includes the hashes\n",
        ":numHashTables: Number of MinHash functions\n",
        ":seed: Seed for reproducibility\n",
        "\n",
        "'''\n",
        "mh = MinHashLSH(inputCol=\"features\", outputCol=\"hashes\", numHashTables=30, seed=12345)\n",
        "\n",
        "# Fit the model\n",
        "model = mh.fit(logs_sparse_vectors)\n",
        "\n",
        "# Transform the data to include the hashes\n",
        "transformed_df = model.transform(logs_sparse_vectors)\n",
        "\n",
        "# Show the resulting DataFrame with hashes\n",
        "if VISUALIZATION:\n",
        "  transformed_df.select(\"process_id\", \"hashes\").limit(1).show(truncate=False)"
      ]
    },
    {
      "cell_type": "markdown",
      "metadata": {
        "id": "SlRniUKaBxWx"
      },
      "source": [
        "### 2.2. Find pairs with Jaccard distance < threshold"
      ]
    },
    {
      "cell_type": "code",
      "execution_count": 17,
      "metadata": {
        "id": "46Uj0cQzBxWx",
        "colab": {
          "base_uri": "https://localhost:8080/"
        },
        "outputId": "553ad6a8-c1a0-4ff2-fc9e-ecc9bf8265b1"
      },
      "outputs": [
        {
          "output_type": "stream",
          "name": "stdout",
          "text": [
            "+-------+-------------------+\n",
            "|summary|    JaccardDistance|\n",
            "+-------+-------------------+\n",
            "|  count|                 28|\n",
            "|   mean| 0.3800040551652983|\n",
            "| stddev|0.04401692958640622|\n",
            "|    min| 0.2635135135135135|\n",
            "|    max|0.42494226327944573|\n",
            "+-------+-------------------+\n",
            "\n",
            "+------------+------------+-------------------+\n",
            "|process_id_1|process_id_2|    JaccardDistance|\n",
            "+------------+------------+-------------------+\n",
            "|          15|          11| 0.4221453287197232|\n",
            "|          16|          20|0.38928571428571423|\n",
            "|          10|           9| 0.2635135135135135|\n",
            "|           1|           5|0.31773399014778325|\n",
            "|           5|           1|0.31773399014778325|\n",
            "|          18|          16|0.40072202166064985|\n",
            "|          18|          17| 0.3713235294117647|\n",
            "|           3|           5| 0.3878504672897196|\n",
            "|          11|          14| 0.4046822742474916|\n",
            "|          11|          13| 0.4119601328903655|\n",
            "|          20|          18| 0.4140350877192982|\n",
            "|          14|          11| 0.4046822742474916|\n",
            "|          11|          15| 0.4221453287197232|\n",
            "|          13|          14|  0.342560553633218|\n",
            "|          14|          13|  0.342560553633218|\n",
            "|          18|          20| 0.4140350877192982|\n",
            "|           5|           3| 0.3878504672897196|\n",
            "|          16|          18|0.40072202166064985|\n",
            "|          13|          11| 0.4119601328903655|\n",
            "|           1|           2|0.42494226327944573|\n",
            "+------------+------------+-------------------+\n",
            "only showing top 20 rows\n",
            "\n"
          ]
        }
      ],
      "source": [
        "# Find similar pairs with Jaccard similarity above a threshold\n",
        "max_distance_threshold = 0.425\n",
        "similar_pairs_df = model.approxSimilarityJoin(transformed_df, transformed_df, max_distance_threshold, distCol=\"JaccardDistance\") \\\n",
        "    .select(col(\"datasetA.process_id\").alias(\"process_id_1\"),\n",
        "            col(\"datasetB.process_id\").alias(\"process_id_2\"),\n",
        "            col(\"JaccardDistance\"))\n",
        "\n",
        "# Filter out rows where process_id_1 is equal to process_id_2\n",
        "filtered_pairs_df = similar_pairs_df.filter(col(\"process_id_1\") != col(\"process_id_2\"))\n",
        "\n",
        "if VISUALIZATION:\n",
        "  filtered_pairs_df.select(\"JaccardDistance\").describe().show()\n",
        "  filtered_pairs_df.show()"
      ]
    },
    {
      "cell_type": "markdown",
      "source": [
        "## Step 3. Group similar processes with connected components in graph and update dataset"
      ],
      "metadata": {
        "id": "paIsZEippLTI"
      }
    },
    {
      "cell_type": "markdown",
      "source": [
        "### 3.1. Construct graph using similarities between nodes as edges and find connected components"
      ],
      "metadata": {
        "id": "XpDb_PWen4Y3"
      }
    },
    {
      "cell_type": "code",
      "source": [
        "# Create GraphFrame\n",
        "edges = filtered_pairs_df.select(col(\"process_id_1\").alias(\"src\"),\n",
        "                                col(\"process_id_2\").alias(\"dst\"),\n",
        "                                col(\"JaccardDistance\").alias(\"weight\"))\n",
        "vertices = edges.selectExpr(\"src as id\").union(edges.selectExpr(\"dst as id\")).distinct()\n",
        "graph = GraphFrame(vertices, edges)\n",
        "\n",
        "# Find Connected Components\n",
        "connected_components = graph.connectedComponents()"
      ],
      "metadata": {
        "id": "z7yy7xiesmMg",
        "colab": {
          "base_uri": "https://localhost:8080/"
        },
        "outputId": "e669f5a1-8e4f-4c98-bc2b-53213210dbd1"
      },
      "execution_count": 18,
      "outputs": [
        {
          "output_type": "stream",
          "name": "stderr",
          "text": [
            "/usr/local/lib/python3.10/dist-packages/pyspark/sql/dataframe.py:168: UserWarning: DataFrame.sql_ctx is an internal property, and will be removed in future releases. Use DataFrame.sparkSession instead.\n",
            "  warnings.warn(\n",
            "/usr/local/lib/python3.10/dist-packages/pyspark/sql/dataframe.py:147: UserWarning: DataFrame constructor is internal. Do not directly use it.\n",
            "  warnings.warn(\"DataFrame constructor is internal. Do not directly use it.\")\n"
          ]
        }
      ]
    },
    {
      "cell_type": "code",
      "source": [
        "# Construct NetworkX graph\n",
        "if VISUALIZATION:\n",
        "  nx_graph = nx.Graph()\n",
        "  for row in graph.edges.collect():\n",
        "      nx_graph.add_edge(row['src'], row['dst'])\n",
        "\n",
        "  # Visualize using matplotlib\n",
        "  pos = nx.spring_layout(nx_graph)\n",
        "  nx.draw(nx_graph, pos, with_labels=True, node_color='skyblue', node_size=500,\n",
        "          edge_color='#909090', width=0.5, font_size=8, font_color='#7c7c7c',\n",
        "          font_weight='bold')\n",
        "  plt.show()\n",
        "\n",
        "  print()\n",
        "\n",
        "  pos = nx.fruchterman_reingold_layout(nx_graph)\n",
        "  nx.draw(nx_graph, pos, with_labels=True, node_color='skyblue', node_size=500,\n",
        "          edge_color='#909090', width=0.5, font_size=8, font_color='#7c7c7c',\n",
        "          font_weight='bold')\n",
        "  plt.show()"
      ],
      "metadata": {
        "colab": {
          "base_uri": "https://localhost:8080/",
          "height": 1000
        },
        "id": "EjnBIBCsx_yc",
        "outputId": "525cc84a-6ab8-4765-8d37-96be702bce09"
      },
      "execution_count": 19,
      "outputs": [
        {
          "output_type": "display_data",
          "data": {
            "text/plain": [
              "<Figure size 640x480 with 1 Axes>"
            ],
            "image/png": "[encoded data removed]"
          },
          "metadata": {}
        },
        {
          "output_type": "stream",
          "name": "stdout",
          "text": [
            "\n"
          ]
        },
        {
          "output_type": "display_data",
          "data": {
            "text/plain": [
              "<Figure size 640x480 with 1 Axes>"
            ],
            "image/png": "[encoded data removed]"
          },
          "metadata": {}
        }
      ]
    },
    {
      "cell_type": "markdown",
      "source": [
        "### 3.2. Keep only one out of each group of similar processes and create the final filtered dateset"
      ],
      "metadata": {
        "id": "OwmZdQiPnjok"
      }
    },
    {
      "cell_type": "code",
      "source": [
        "# Define the window specification for collecting members\n",
        "window_spec_collect = Window.partitionBy(\"component\")\n",
        "\n",
        "# Define the window specification for ordering by id\n",
        "window_spec_representative = Window.partitionBy(\"component\").orderBy(\"id\")\n",
        "\n",
        "# Use row_number to get the representative\n",
        "representatives_with_row_num = connected_components \\\n",
        "    .withColumn(\"row_num\", row_number().over(window_spec_representative))\n",
        "\n",
        "# Collect all ids of the connected components into a list, excluding the representative\n",
        "connected_components_with_list = representatives_with_row_num \\\n",
        "    .withColumn(\"members\", collect_list(\n",
        "        when(col(\"row_num\") != 1, col(\"id\"))\n",
        "    ).over(window_spec_collect))\n",
        "\n",
        "# Filter for the representative and select the required columns\n",
        "groups_with_members = connected_components_with_list \\\n",
        "    .where(col(\"row_num\") == 1) \\\n",
        "    .select(\"id\", \"members\")\n",
        "\n",
        "if VISUALIZATION:\n",
        "  groups_with_members.show()"
      ],
      "metadata": {
        "id": "9VsWiEgyt69g",
        "colab": {
          "base_uri": "https://localhost:8080/"
        },
        "outputId": "c0e179d6-8256-4ef3-c660-d8c080b621ed"
      },
      "execution_count": 20,
      "outputs": [
        {
          "output_type": "stream",
          "name": "stdout",
          "text": [
            "+---+----------------+\n",
            "| id|         members|\n",
            "+---+----------------+\n",
            "|  1|       [2, 3, 5]|\n",
            "|  9|            [10]|\n",
            "| 11|[12, 13, 14, 15]|\n",
            "| 16|    [17, 18, 20]|\n",
            "+---+----------------+\n",
            "\n"
          ]
        }
      ]
    },
    {
      "cell_type": "code",
      "source": [
        "# Collect all the member lists into a single list\n",
        "member_lists = groups_with_members.select(\"members\").rdd.flatMap(lambda x: x).collect()\n",
        "\n",
        "# Flatten the list of lists into a single list\n",
        "ids_to_drop = list(chain.from_iterable(member_lists))\n",
        "\n",
        "if VISUALIZATION:\n",
        "  print(ids_to_drop)"
      ],
      "metadata": {
        "colab": {
          "base_uri": "https://localhost:8080/"
        },
        "id": "-uRAdqCskcVL",
        "outputId": "c5fd923a-b6d8-4be3-913f-209cb6a1a4b3"
      },
      "execution_count": 21,
      "outputs": [
        {
          "output_type": "stream",
          "name": "stdout",
          "text": [
            "[2, 3, 5, 10, 12, 13, 14, 15, 17, 18, 20]\n"
          ]
        }
      ]
    },
    {
      "cell_type": "code",
      "source": [
        "# Delete grouped processes\n",
        "filtered_df = logs_grouped_not_sorted.filter(~col(\"process_id\").isin(ids_to_drop))\n",
        "\n",
        "filtered_df_strings = filtered_df.select(\n",
        "    col(\"process_id\"),\n",
        "    concat(lit(\"[\"), concat_ws(\",\", col(\"from_servers\")), lit(\"]\")).alias(\"from_servers\"),\n",
        "    concat(lit(\"[\"), concat_ws(\",\", col(\"to_servers\")), lit(\"]\")).alias(\"to_servers\"),\n",
        "    concat(lit(\"[\"), concat_ws(\",\", col(\"times\")), lit(\"]\")).alias(\"times\"),\n",
        "    concat(lit(\"[\"), concat_ws(\",\", col(\"actions\")), lit(\"]\")).alias(\"actions\")\n",
        ")\n",
        "\n",
        "if VISUALIZATION:\n",
        "  filtered_df_strings.show(1, truncate=False)"
      ],
      "metadata": {
        "id": "tYAcSYqJXF0t",
        "colab": {
          "base_uri": "https://localhost:8080/"
        },
        "outputId": "dec6dae4-3d98-4dba-fb71-fbe41c0db41a"
      },
      "execution_count": 22,
      "outputs": [
        {
          "output_type": "stream",
          "name": "stdout",
          "text": [
            "+----------+------------------------------------------------------------------------------------------------------------------------------------------------------------------------------------------------------------------------------------------------------------------------------------------------------------------------------------------------------------------------------------------------------------------------------------------------------------------------------------------------------------------------------------------------------------------------------------------------------------------------------------------------------------------------------------------------------------------------------------------------------------------------------------------------------------------------------------------------------------------------------------------------------------------------------------------------------------------------------------------------------------------------------------------------------------------------------------------------------------------------------------------------------------------------------------------------------------------------------------------------------------------------------------------------------------------------------------------------------------------------------------------------------------------------------------+-------------------------------------------------------------------------------------------------------------------------------------------------------------------------------------------------------------------------------------------------------------------------------------------------------------------------------------------------------------------------------------------------------------------------------------------------------------------------------------------------------------------------------------------------------------------------------------------------------------------------------------------------------------------------------------------------------------------------------------------------------------------------------------------------------------------------------------------------------------------------------------------------------------------------------------------------------------------------------------------------------------------------------------------------------------------------------------------------------------------------------------------------------------------------------------------------------------------------------------------------------------------------------------------------------------------------------------------------------------------------------------------------------------------------------------------+--------------------------------------------------------------------------------------------------------------------------------------------------------------------------------------------------------------------------------------------+-----------------------------------------------------------------------------------------------------------------------------------------------------------------------------------------------------------------------------------------------------------------------------------------------------------------------------------------------------------------------------------------------------------------------------------------------------------------------------------------------------+\n",
            "|process_id|from_servers                                                                                                                                                                                                                                                                                                                                                                                                                                                                                                                                                                                                                                                                                                                                                                                                                                                                                                                                                                                                                                                                                                                                                                                                                                                                                                                                                                                                                        |to_servers                                                                                                                                                                                                                                                                                                                                                                                                                                                                                                                                                                                                                                                                                                                                                                                                                                                                                                                                                                                                                                                                                                                                                                                                                                                                                                                                                                                                                                 |times                                                                                                                                                                                                                                       |actions                                                                                                                                                                                                                                                                                                                                                                                                                                                                                              |\n",
            "+----------+------------------------------------------------------------------------------------------------------------------------------------------------------------------------------------------------------------------------------------------------------------------------------------------------------------------------------------------------------------------------------------------------------------------------------------------------------------------------------------------------------------------------------------------------------------------------------------------------------------------------------------------------------------------------------------------------------------------------------------------------------------------------------------------------------------------------------------------------------------------------------------------------------------------------------------------------------------------------------------------------------------------------------------------------------------------------------------------------------------------------------------------------------------------------------------------------------------------------------------------------------------------------------------------------------------------------------------------------------------------------------------------------------------------------------------+-------------------------------------------------------------------------------------------------------------------------------------------------------------------------------------------------------------------------------------------------------------------------------------------------------------------------------------------------------------------------------------------------------------------------------------------------------------------------------------------------------------------------------------------------------------------------------------------------------------------------------------------------------------------------------------------------------------------------------------------------------------------------------------------------------------------------------------------------------------------------------------------------------------------------------------------------------------------------------------------------------------------------------------------------------------------------------------------------------------------------------------------------------------------------------------------------------------------------------------------------------------------------------------------------------------------------------------------------------------------------------------------------------------------------------------------+--------------------------------------------------------------------------------------------------------------------------------------------------------------------------------------------------------------------------------------------+-----------------------------------------------------------------------------------------------------------------------------------------------------------------------------------------------------------------------------------------------------------------------------------------------------------------------------------------------------------------------------------------------------------------------------------------------------------------------------------------------------+\n",
            "|1         |[user,ui_server_2,purchase_book_server_5,discount_server_1,gift_wrap_server_1,book_availability_server_3,external_inventory_server_2,second_hand_market_server_2,bundle_offer_server_2,user_credentials_server_3,user_history_server_2,card_check_server_7,visa_server_4,limit_check_visa_server_4,fraud_check_visa_server_1,currency_conversion_server_3,shipping_options_server_1,shipping_insurance_server_1,express_delivery_server_1,inventory_update_server_16,supplier_notification_server_2,seasonal_adjustments_server_1,review_server_3,review_verification_server_1,review_analysis_server_2,automatic_response_server_4,ad_server_1,customer_support_server_9,customer_history_access_server_1,premium_customer_check_server_1,customer_history_access_server_1,customer_support_server_9,ad_server_1,automatic_response_server_4,review_analysis_server_2,review_verification_server_1,review_server_3,seasonal_adjustments_server_1,supplier_notification_server_2,inventory_update_server_16,express_delivery_server_1,shipping_insurance_server_1,shipping_options_server_1,currency_conversion_server_3,fraud_check_visa_server_1,limit_check_visa_server_4,visa_server_4,card_check_server_7,user_history_server_2,user_credentials_server_3,bundle_offer_server_2,second_hand_market_server_2,external_inventory_server_2,book_availability_server_3,gift_wrap_server_1,discount_server_1,purchase_book_server_5]|[ui_server_2,purchase_book_server_5,discount_server_1,gift_wrap_server_1,book_availability_server_3,external_inventory_server_2,second_hand_market_server_2,bundle_offer_server_2,user_credentials_server_3,user_history_server_2,card_check_server_7,visa_server_4,limit_check_visa_server_4,fraud_check_visa_server_1,currency_conversion_server_3,shipping_options_server_1,shipping_insurance_server_1,express_delivery_server_1,inventory_update_server_16,supplier_notification_server_2,seasonal_adjustments_server_1,review_server_3,review_verification_server_1,review_analysis_server_2,automatic_response_server_4,ad_server_1,customer_support_server_9,customer_history_access_server_1,premium_customer_check_server_1,customer_history_access_server_1,customer_support_server_9,ad_server_1,automatic_response_server_4,review_analysis_server_2,review_verification_server_1,review_server_3,seasonal_adjustments_server_1,supplier_notification_server_2,inventory_update_server_16,express_delivery_server_1,shipping_insurance_server_1,shipping_options_server_1,currency_conversion_server_3,fraud_check_visa_server_1,limit_check_visa_server_4,visa_server_4,card_check_server_7,user_history_server_2,user_credentials_server_3,bundle_offer_server_2,second_hand_market_server_2,external_inventory_server_2,book_availability_server_3,gift_wrap_server_1,discount_server_1,purchase_book_server_5,ui_server_2]|[372,375,383,389,391,407,411,438,445,448,456,462,480,510,520,523,527,531,537,562,576,602,626,635,653,661,674,694,712,732,750,770,783,791,809,818,842,868,882,907,913,917,921,924,934,964,982,988,996,999,1006,1033,1037,1053,1055,1061,1069]|[Request,Request,Request,Request,Request,Request,Request,Request,Request,Request,Request,Request,Request,Request,Request,Request,Request,Request,Request,Request,Request,Request,Request,Request,Request,Request,Request,Request,Request,Response,Response,Response,Response,Response,Response,Response,Response,Response,Response,Response,Response,Response,Response,Response,Response,Response,Response,Response,Response,Response,Response,Response,Response,Response,Response,Response,Response]|\n",
            "+----------+------------------------------------------------------------------------------------------------------------------------------------------------------------------------------------------------------------------------------------------------------------------------------------------------------------------------------------------------------------------------------------------------------------------------------------------------------------------------------------------------------------------------------------------------------------------------------------------------------------------------------------------------------------------------------------------------------------------------------------------------------------------------------------------------------------------------------------------------------------------------------------------------------------------------------------------------------------------------------------------------------------------------------------------------------------------------------------------------------------------------------------------------------------------------------------------------------------------------------------------------------------------------------------------------------------------------------------------------------------------------------------------------------------------------------------+-------------------------------------------------------------------------------------------------------------------------------------------------------------------------------------------------------------------------------------------------------------------------------------------------------------------------------------------------------------------------------------------------------------------------------------------------------------------------------------------------------------------------------------------------------------------------------------------------------------------------------------------------------------------------------------------------------------------------------------------------------------------------------------------------------------------------------------------------------------------------------------------------------------------------------------------------------------------------------------------------------------------------------------------------------------------------------------------------------------------------------------------------------------------------------------------------------------------------------------------------------------------------------------------------------------------------------------------------------------------------------------------------------------------------------------------+--------------------------------------------------------------------------------------------------------------------------------------------------------------------------------------------------------------------------------------------+-----------------------------------------------------------------------------------------------------------------------------------------------------------------------------------------------------------------------------------------------------------------------------------------------------------------------------------------------------------------------------------------------------------------------------------------------------------------------------------------------------+\n",
            "only showing top 1 row\n",
            "\n"
          ]
        }
      ]
    },
    {
      "cell_type": "markdown",
      "source": [
        "## Step 4. Export part1Output.txt & part1Observations.txt"
      ],
      "metadata": {
        "id": "SE2gORKRCACr"
      }
    },
    {
      "cell_type": "code",
      "source": [
        "with open(\"part1Observations.txt\", \"w\") as f:\n",
        "    grouped = []\n",
        "    for row in groups_with_members.collect():\n",
        "        representative_id = row[\"id\"]\n",
        "        member_ids = row[\"members\"]\n",
        "        group_ids = [representative_id] + member_ids\n",
        "        grouped = grouped + group_ids\n",
        "\n",
        "        f.write(f\"Group: {set(group_ids)}\\n\")\n",
        "        for process_id in group_ids:\n",
        "            f.write(f\"{process_id}:\\n\")\n",
        "            # Filter logs directly for the current process_id\n",
        "            process_logs = logs_grouped_not_sorted.filter(col(\"process_id\") == process_id).collect()\n",
        "            for log in process_logs:\n",
        "                from_servers = log['from_servers']\n",
        "                to_servers = log['to_servers']\n",
        "                times = log['times']\n",
        "                actions = log['actions']\n",
        "                process_id_val = log['process_id']\n",
        "\n",
        "                # Iterate through the lists and create log entries\n",
        "                for from_server, to_server, time, action in zip(from_servers, to_servers, times, actions):\n",
        "                    log_str = f\"<{from_server}, {to_server}, {time}, {action}, {process_id_val}>\"\n",
        "                    f.write(f\"\\t\\t\\t{log_str}\\n\")\n",
        "\n",
        "        f.write(\"\\n\")\n",
        "\n",
        "    ungrouped_df = logs_grouped_not_sorted.filter(~col(\"process_id\").isin(grouped))\n",
        "    for row in ungrouped_df.collect():\n",
        "        process_id_val = row['process_id']\n",
        "        from_servers = row['from_servers']\n",
        "        to_servers = row['to_servers']\n",
        "        times = row['times']\n",
        "        actions = row['actions']\n",
        "\n",
        "        f.write(f\"Group: {{{process_id_val}}}\\n\")\n",
        "        f.write(f\"{process_id_val}:\\n\")\n",
        "        # Iterate through the lists and create log entries\n",
        "        for from_server, to_server, time, action in zip(from_servers, to_servers, times, actions):\n",
        "            log_str = f\"<{from_server}, {to_server}, {time}, {action}, {process_id_val}>\"\n",
        "            f.write(f\"\\t\\t\\t{log_str}\\n\")"
      ],
      "metadata": {
        "id": "avDBNm-j6Hh6"
      },
      "execution_count": 23,
      "outputs": []
    },
    {
      "cell_type": "code",
      "source": [
        "with open(\"part1Output.txt\", \"w\") as f:\n",
        "    for row in filtered_df.collect():\n",
        "        process_id_val = row['process_id']\n",
        "        from_servers = row['from_servers']\n",
        "        to_servers = row['to_servers']\n",
        "        times = row['times']\n",
        "        actions = row['actions']\n",
        "\n",
        "        # Iterate through the lists and create log entries\n",
        "        for from_server, to_server, time, action in zip(from_servers, to_servers, times, actions):\n",
        "            log_str = f\"<{from_server}, {to_server}, {time}, {action}, {process_id_val}>\"\n",
        "            f.write(f\"{log_str}\\n\")"
      ],
      "metadata": {
        "id": "trHfgJ_h9wKK"
      },
      "execution_count": 24,
      "outputs": []
    },
    {
      "cell_type": "code",
      "source": [
        "print(f'The original dataset had: {logs_grouped.count()} processes and we kept: {filtered_df.count()}')\n",
        "print(f'Groups created: {groups_with_members.count()}')"
      ],
      "metadata": {
        "colab": {
          "base_uri": "https://localhost:8080/"
        },
        "id": "5Jcbq0QPX1BV",
        "outputId": "927901e1-9bcc-4510-8d14-c7e9e7e2493e"
      },
      "execution_count": 25,
      "outputs": [
        {
          "output_type": "stream",
          "name": "stdout",
          "text": [
            "The original dataset had: 20 processes and we kept: 9\n",
            "Groups created: 4\n"
          ]
        }
      ]
    },
    {
      "cell_type": "markdown",
      "source": [
        "# Part 2: \"Categorization\""
      ],
      "metadata": {
        "id": "gaHT9hOSCi1p"
      }
    },
    {
      "cell_type": "markdown",
      "source": [
        "## Import & format data from Part 1"
      ],
      "metadata": {
        "id": "cdkE0AirDYdc"
      }
    },
    {
      "cell_type": "code",
      "source": [
        "logs_txt = spark.sparkContext.textFile(\"part1Output.txt\")\n",
        "logs = logs_txt.map(lambda x: (x, )).toDF([\"Logs\"])\n",
        "\n",
        "logs_splitted = logs \\\n",
        "    .withColumn(\"from_server\", regexp_replace(split(col(\"Logs\"), \", \").getItem(0), \"[<>]\", \"\")) \\\n",
        "    .withColumn(\"to_server\", split(col(\"Logs\"), \", \").getItem(1)) \\\n",
        "    .withColumn(\"time\", split(col(\"Logs\"), \", \").getItem(2)) \\\n",
        "    .withColumn(\"action\", split(col(\"Logs\"), \", \").getItem(3)) \\\n",
        "    .withColumn(\"process_id\", regexp_replace(split(col(\"Logs\"), \", \").getItem(4), \"[<>]\", \"\")) \\\n",
        "    .drop(\"Logs\")\n",
        "\n",
        "# Cast the \"time\" and \"process_id\" columns to integers\n",
        "logs_casted = logs_splitted \\\n",
        "    .withColumn(\"time\", col(\"time\").cast(\"integer\")) \\\n",
        "    .withColumn(\"process_id\", col(\"process_id\").cast(\"integer\"))\n",
        "\n",
        "# Group\n",
        "logs_grouped = logs_casted.groupBy(\"process_id\").agg(\n",
        "    collect_list(\"from_server\").alias(\"from_servers\"),\n",
        "    collect_list(\"to_server\").alias(\"to_servers\"),\n",
        "    collect_list(\"time\").alias(\"times\"),\n",
        "    collect_list(\"action\").alias(\"actions\")\n",
        ")\n",
        "logs_grouped_not_sorted = logs_grouped\n",
        "\n",
        "# Define the schema for the sorted columns\n",
        "sorted_lists_schema = StructType([\n",
        "    StructField(\"times\", ArrayType(LongType()), nullable=True),\n",
        "    StructField(\"from_servers\", ArrayType(StringType()), nullable=True),\n",
        "    StructField(\"to_servers\", ArrayType(StringType()), nullable=True),\n",
        "    StructField(\"actions\", ArrayType(StringType()), nullable=True)\n",
        "])\n",
        "\n",
        "# Register the function as a UDF\n",
        "sort_lists_udf = udf(sort_lists_from_server, sorted_lists_schema)\n",
        "\n",
        "# Apply the UDF to sort the lists based on the \"times\" column\n",
        "logs_grouped = logs_grouped.withColumn(\"sorted_lists\", sort_lists_udf(\"times\", \"from_servers\", \"to_servers\", \"actions\"))\n",
        "\n",
        "# Split the sorted lists into separate columns\n",
        "logs_grouped = logs_grouped.withColumn(\"times\", col(\"sorted_lists.times\")) \\\n",
        "                           .withColumn(\"from_servers\", col(\"sorted_lists.from_servers\")) \\\n",
        "                           .withColumn(\"to_servers\", col(\"sorted_lists.to_servers\")) \\\n",
        "                           .withColumn(\"actions\", col(\"sorted_lists.actions\")) \\\n",
        "                           .drop(\"sorted_lists\")\n",
        "\n",
        "logs = logs_grouped.dropDuplicates(['process_id'])\n",
        "logs = logs_grouped.drop(*['to_servers', 'actions'])\n",
        "\n",
        "if VISUALIZATION:\n",
        "  logs.limit(5).show(truncate=False)"
      ],
      "metadata": {
        "id": "_CiqTon6Cu72",
        "colab": {
          "base_uri": "https://localhost:8080/"
        },
        "outputId": "83b52a07-b0fc-4344-d240-9d9c52fa7e38"
      },
      "execution_count": 26,
      "outputs": [
        {
          "output_type": "stream",
          "name": "stdout",
          "text": [
            "+----------+-----------------------------------------------------------------------------------------------------------------------------------------------------------------------------------------------------------------------------------------------------------------------------------------------------------------------------------------------------------------------------------------------------------------------------------------------------------------------------------------------------------------------------------------------------------------------------------------------------------------------------------------------------------------------------------------------------------+-----------------------------------------------------------------------------------------------------------------------------------------------------------------+\n",
            "|process_id|from_servers                                                                                                                                                                                                                                                                                                                                                                                                                                                                                                                                                                                                                                                                                               |times                                                                                                                                                            |\n",
            "+----------+-----------------------------------------------------------------------------------------------------------------------------------------------------------------------------------------------------------------------------------------------------------------------------------------------------------------------------------------------------------------------------------------------------------------------------------------------------------------------------------------------------------------------------------------------------------------------------------------------------------------------------------------------------------------------------------------------------------+-----------------------------------------------------------------------------------------------------------------------------------------------------------------+\n",
            "|1         |[ad_server_1, automatic_response_server_4, book_availability_server_3, bundle_offer_server_2, card_check_server_7, currency_conversion_server_3, customer_support_server_9, discount_server_1, express_delivery_server_1, external_inventory_server_2, fraud_check_visa_server_1, gift_wrap_server_1, inventory_update_server_16, limit_check_visa_server_4, purchase_book_server_5, review_analysis_server_2, review_server_3, review_verification_server_1, seasonal_adjustments_server_1, second_hand_market_server_2, shipping_insurance_server_1, shipping_options_server_1, supplier_notification_server_2, ui_server_2, user, user_credentials_server_3, user_history_server_2, visa_server_4]      |[674, 661, 407, 445, 462, 523, 694, 389, 537, 411, 520, 391, 562, 510, 383, 653, 626, 635, 602, 438, 531, 527, 576, 375, 372, 448, 456, 480]                     |\n",
            "|6         |[book_availability_server_2, card_check_server_5, currency_conversion_server_2, inventory_update_server_1, mastercard_server_2, purchase_book_server_2, review_server_4, seasonal_adjustments_server_2, shipping_options_server_1, ui_server_8, user, user_credentials_server_3]                                                                                                                                                                                                                                                                                                                                                                                                                           |[143, 154, 172, 209, 169, 130, 260, 239, 180, 126, 120, 145]                                                                                                     |\n",
            "|9         |[book_availability_server_6, card_check_server_9, currency_conversion_server_1, inventory_update_server_8, mastercard_server_3, purchase_book_server_7, review_server_1, shipping_options_server_2, ui_server_11, user, user_credentials_server_7]                                                                                                                                                                                                                                                                                                                                                                                                                                                         |[688, 699, 717, 753, 714, 670, 779, 721, 662, 658, 691]                                                                                                          |\n",
            "|4         |[ad_server_4, book_availability_server_4, bundle_offer_server_2, card_check_server_4, currency_conversion_server_1, customer_history_access_server_1, customer_support_server_7, discount_server_3, express_delivery_server_1, external_inventory_server_1, fraud_check_visa_server_2, gift_wrap_server_1, inventory_update_server_14, limit_check_visa_server_5, purchase_book_server_10, review_analysis_server_4, review_server_3, review_verification_server_1, seasonal_adjustments_server_2, second_hand_market_server_1, shipping_insurance_server_1, shipping_options_server_1, supplier_notification_server_1, ui_server_7, user, user_credentials_server_6, user_history_server_5, visa_server_1]|[1224, 974, 1009, 1025, 1079, 1250, 1236, 961, 1099, 981, 1078, 962, 1131, 1069, 957, 1211, 1179, 1195, 1160, 1003, 1091, 1085, 1141, 947, 945, 1011, 1017, 1043]|\n",
            "|8         |[book_availability_server_4, card_check_server_10, currency_conversion_server_2, fraud_check_mastercard_server_4, inventory_update_server_12, mastercard_server_3, purchase_book_server_1, review_server_4, shipping_options_server_1, ui_server_7, user, user_credentials_server_7]                                                                                                                                                                                                                                                                                                                                                                                                                       |[756, 768, 796, 795, 823, 786, 739, 849, 800, 731, 726, 758]                                                                                                     |\n",
            "+----------+-----------------------------------------------------------------------------------------------------------------------------------------------------------------------------------------------------------------------------------------------------------------------------------------------------------------------------------------------------------------------------------------------------------------------------------------------------------------------------------------------------------------------------------------------------------------------------------------------------------------------------------------------------------------------------------------------------------+-----------------------------------------------------------------------------------------------------------------------------------------------------------------+\n",
            "\n"
          ]
        }
      ]
    },
    {
      "cell_type": "markdown",
      "source": [
        "## Step 1. Create features for clustering"
      ],
      "metadata": {
        "id": "K1C_oSeDDveN"
      }
    },
    {
      "cell_type": "markdown",
      "source": [
        "### 1.1 Create total and average time taken features"
      ],
      "metadata": {
        "id": "q9AQYlQLZMV8"
      }
    },
    {
      "cell_type": "code",
      "source": [
        "# Get total time taken\n",
        "logs = logs.withColumn('sum_times', F.expr(\"aggregate(times, CAST(0 AS bigint), (acc, x) -> acc + x)\"))\n",
        "\n",
        "# Get average time taken for each server\n",
        "logs = logs.withColumn('avg_times', F.expr(\"sum_times / size(times)\"))\n",
        "\n",
        "logs = logs.drop(\"times\")\n",
        "\n",
        "if VISUALIZATION:\n",
        "  logs.limit(5).show(truncate=False)"
      ],
      "metadata": {
        "id": "_Bp2Esb2Cu2B",
        "colab": {
          "base_uri": "https://localhost:8080/"
        },
        "outputId": "f9ffe33b-f520-486c-cda0-86479d54cd46"
      },
      "execution_count": 27,
      "outputs": [
        {
          "output_type": "stream",
          "name": "stdout",
          "text": [
            "+----------+-----------------------------------------------------------------------------------------------------------------------------------------------------------------------------------------------------------------------------------------------------------------------------------------------------------------------------------------------------------------------------------------------------------------------------------------------------------------------------------------------------------------------------------------------------------------------------------------------------------------------------------------------------------------------------------------------------------+---------+------------------+\n",
            "|process_id|from_servers                                                                                                                                                                                                                                                                                                                                                                                                                                                                                                                                                                                                                                                                                               |sum_times|avg_times         |\n",
            "+----------+-----------------------------------------------------------------------------------------------------------------------------------------------------------------------------------------------------------------------------------------------------------------------------------------------------------------------------------------------------------------------------------------------------------------------------------------------------------------------------------------------------------------------------------------------------------------------------------------------------------------------------------------------------------------------------------------------------------+---------+------------------+\n",
            "|1         |[ad_server_1, automatic_response_server_4, book_availability_server_3, bundle_offer_server_2, card_check_server_7, currency_conversion_server_3, customer_support_server_9, discount_server_1, express_delivery_server_1, external_inventory_server_2, fraud_check_visa_server_1, gift_wrap_server_1, inventory_update_server_16, limit_check_visa_server_4, purchase_book_server_5, review_analysis_server_2, review_server_3, review_verification_server_1, seasonal_adjustments_server_1, second_hand_market_server_2, shipping_insurance_server_1, shipping_options_server_1, supplier_notification_server_2, ui_server_2, user, user_credentials_server_3, user_history_server_2, visa_server_4]      |14288    |510.2857142857143 |\n",
            "|6         |[book_availability_server_2, card_check_server_5, currency_conversion_server_2, inventory_update_server_1, mastercard_server_2, purchase_book_server_2, review_server_4, seasonal_adjustments_server_2, shipping_options_server_1, ui_server_8, user, user_credentials_server_3]                                                                                                                                                                                                                                                                                                                                                                                                                           |2047     |170.58333333333334|\n",
            "|9         |[book_availability_server_6, card_check_server_9, currency_conversion_server_1, inventory_update_server_8, mastercard_server_3, purchase_book_server_7, review_server_1, shipping_options_server_2, ui_server_11, user, user_credentials_server_7]                                                                                                                                                                                                                                                                                                                                                                                                                                                         |7752     |704.7272727272727 |\n",
            "|4         |[ad_server_4, book_availability_server_4, bundle_offer_server_2, card_check_server_4, currency_conversion_server_1, customer_history_access_server_1, customer_support_server_7, discount_server_3, express_delivery_server_1, external_inventory_server_1, fraud_check_visa_server_2, gift_wrap_server_1, inventory_update_server_14, limit_check_visa_server_5, purchase_book_server_10, review_analysis_server_4, review_server_3, review_verification_server_1, seasonal_adjustments_server_2, second_hand_market_server_1, shipping_insurance_server_1, shipping_options_server_1, supplier_notification_server_1, ui_server_7, user, user_credentials_server_6, user_history_server_5, visa_server_1]|30063    |1073.6785714285713|\n",
            "|8         |[book_availability_server_4, card_check_server_10, currency_conversion_server_2, fraud_check_mastercard_server_4, inventory_update_server_12, mastercard_server_3, purchase_book_server_1, review_server_4, shipping_options_server_1, ui_server_7, user, user_credentials_server_7]                                                                                                                                                                                                                                                                                                                                                                                                                       |9327     |777.25            |\n",
            "+----------+-----------------------------------------------------------------------------------------------------------------------------------------------------------------------------------------------------------------------------------------------------------------------------------------------------------------------------------------------------------------------------------------------------------------------------------------------------------------------------------------------------------------------------------------------------------------------------------------------------------------------------------------------------------------------------------------------------------+---------+------------------+\n",
            "\n"
          ]
        }
      ]
    },
    {
      "cell_type": "markdown",
      "source": [
        "### 1.2 Create server hops and base server names as one hot encoding features"
      ],
      "metadata": {
        "id": "_RzTGliAZaeo"
      }
    },
    {
      "cell_type": "code",
      "source": [
        "# Get server hops\n",
        "logs = logs.withColumn('server_hops', F.size(F.col('from_servers')))\n",
        "\n",
        "\"\"\"\n",
        "# Get unique server names\n",
        "unique_servers = logs.select(F.explode('from_servers').alias('server')).distinct()\n",
        "\n",
        "# Pivot to create one-hot encoded columns for servers\n",
        "logs = logs.join(unique_servers, F.array_contains(logs['from_servers'], unique_servers['server']), 'left_outer') \\\n",
        "           .groupBy(logs.columns) \\\n",
        "           .pivot('server') \\\n",
        "           .agg(F.lit(1).alias('dummy')) \\\n",
        "           .na.fill(0)\n",
        "\"\"\"\n",
        "\n",
        "# Remove numbers to get base server names, filter out base servers that are also in from_servers\n",
        "logs = logs.withColumn('base_servers', F.expr(\"transform(from_servers, x -> regexp_replace(x, '[0-9]+', ''))\"))\n",
        "logs = logs.withColumn('base_servers', F.array_except('base_servers', 'from_servers'))\n",
        "logs = logs.drop('from_servers')\n",
        "\n",
        "# Get unique base server names\n",
        "unique_base_servers = logs.select(F.explode('base_servers').alias('base_server')).distinct()\n",
        "\n",
        "# Pivot to create one-hot encoded columns for base servers\n",
        "logs = logs.join(unique_base_servers, F.array_contains(logs['base_servers'], unique_base_servers['base_server']), 'left_outer') \\\n",
        "           .groupBy(logs.columns) \\\n",
        "           .pivot('base_server') \\\n",
        "           .agg(F.lit(1).alias('dummy')) \\\n",
        "           .na.fill(0)\n",
        "\n",
        "logs = logs.drop('base_servers')\n",
        "\n",
        "if VISUALIZATION:\n",
        "  logs.limit(5).show(truncate=False)"
      ],
      "metadata": {
        "id": "bi0csSDhCuzv",
        "colab": {
          "base_uri": "https://localhost:8080/"
        },
        "outputId": "7879114a-a71b-4c85-c1fd-a2a98e52c1b4"
      },
      "execution_count": 28,
      "outputs": [
        {
          "output_type": "stream",
          "name": "stdout",
          "text": [
            "+----------+---------+------------------+-----------+----------+------------------------+--------------------------+-------------------------+--------------------+------------------+---------------------------+-------------------------------+------------------------+----------------+------------------------+--------------------------+------------------------------------+------------------------------+------------------------+-----------------+------------------------+------------------------+------------------+---------------------+-----------------------+--------------+---------------------------+----------------------------+--------------------------+--------------------------+------------------------+-----------------------------+----------+------------------------+--------------------+------------+\n",
            "|process_id|sum_times|avg_times         |server_hops|ad_server_|american_express_server_|automatic_response_server_|book_availability_server_|bundle_offer_server_|card_check_server_|currency_conversion_server_|customer_history_access_server_|customer_support_server_|discount_server_|express_delivery_server_|external_inventory_server_|fraud_check_american_express_server_|fraud_check_mastercard_server_|fraud_check_visa_server_|gift_wrap_server_|inventory_update_server_|limit_check_visa_server_|mastercard_server_|purchase_book_server_|review_analysis_server_|review_server_|review_verification_server_|seasonal_adjustments_server_|second_hand_market_server_|shipping_insurance_server_|shipping_options_server_|supplier_notification_server_|ui_server_|user_credentials_server_|user_history_server_|visa_server_|\n",
            "+----------+---------+------------------+-----------+----------+------------------------+--------------------------+-------------------------+--------------------+------------------+---------------------------+-------------------------------+------------------------+----------------+------------------------+--------------------------+------------------------------------+------------------------------+------------------------+-----------------+------------------------+------------------------+------------------+---------------------+-----------------------+--------------+---------------------------+----------------------------+--------------------------+--------------------------+------------------------+-----------------------------+----------+------------------------+--------------------+------------+\n",
            "|9         |7752     |704.7272727272727 |11         |0         |0                       |0                         |1                        |0                   |1                 |1                          |0                              |0                       |0               |0                       |0                         |0                                   |0                             |0                       |0                |1                       |0                       |1                 |1                    |0                      |1             |0                          |0                           |0                         |0                         |1                       |0                            |1         |1                       |0                   |0           |\n",
            "|16        |10343    |574.6111111111111 |18         |1         |0                       |0                         |1                        |0                   |1                 |1                          |0                              |1                       |0               |0                       |0                         |0                                   |0                             |0                       |0                |1                       |1                       |0                 |1                    |1                      |1             |1                          |1                           |0                         |0                         |1                       |1                            |1         |1                       |0                   |1           |\n",
            "|4         |30063    |1073.6785714285713|28         |1         |0                       |0                         |1                        |1                   |1                 |1                          |1                              |1                       |1               |1                       |1                         |0                                   |0                             |1                       |1                |1                       |1                       |0                 |1                    |1                      |1             |1                          |1                           |1                         |1                         |1                       |1                            |1         |1                       |1                   |1           |\n",
            "|1         |14288    |510.2857142857143 |28         |1         |0                       |1                         |1                        |1                   |1                 |1                          |0                              |1                       |1               |1                       |1                         |0                                   |0                             |1                       |1                |1                       |1                       |0                 |1                    |1                      |1             |1                          |1                           |1                         |1                         |1                       |1                            |1         |1                       |1                   |1           |\n",
            "|8         |9327     |777.25            |12         |0         |0                       |0                         |1                        |0                   |1                 |1                          |0                              |0                       |0               |0                       |0                         |0                                   |1                             |0                       |0                |1                       |0                       |1                 |1                    |0                      |1             |0                          |0                           |0                         |0                         |1                       |0                            |1         |1                       |0                   |0           |\n",
            "+----------+---------+------------------+-----------+----------+------------------------+--------------------------+-------------------------+--------------------+------------------+---------------------------+-------------------------------+------------------------+----------------+------------------------+--------------------------+------------------------------------+------------------------------+------------------------+-----------------+------------------------+------------------------+------------------+---------------------+-----------------------+--------------+---------------------------+----------------------------+--------------------------+--------------------------+------------------------+-----------------------------+----------+------------------------+--------------------+------------+\n",
            "\n"
          ]
        }
      ]
    },
    {
      "cell_type": "markdown",
      "source": [
        "### 1.3. Scale features that aren't one hot encoded and vectorize"
      ],
      "metadata": {
        "id": "7II3nJ2PZ2pQ"
      }
    },
    {
      "cell_type": "code",
      "source": [
        "# Scale features\n",
        "assembler = VectorAssembler(inputCols=['sum_times', 'avg_times', 'server_hops'], outputCol='features_to_scale')\n",
        "feature_logs = assembler.transform(logs)\n",
        "scaler = MinMaxScaler(inputCol='features_to_scale', outputCol='scaled_features')\n",
        "scaler_model = scaler.fit(feature_logs)\n",
        "feature_logs = scaler_model.transform(feature_logs)\n",
        "\"\"\"\n",
        "scaler = StandardScaler(inputCol='features_to_scale', outputCol='scaled_features', withMean=True, withStd=True)\n",
        "scaler_model = scaler.fit(feature_logs)\n",
        "feature_logs = scaler_model.transform(feature_logs)\n",
        "scaler = RobustScaler(inputCol='features_to_scale', outputCol='scaled_features')\n",
        "scaler_model = scaler.fit(feature_logs)\n",
        "feature_logs = scaler_model.transform(feature_logs)\n",
        "\"\"\"\n",
        "feature_logs = feature_logs.drop(*['sum_times', 'avg_times', 'server_hops', 'features_to_scale'])\n",
        "\n",
        "# Assemble features into a single vector column\n",
        "assembler = VectorAssembler(inputCols=[col for col in feature_logs.columns if col != 'process_id'], outputCol='features')\n",
        "feature_logs = assembler.transform(feature_logs)\n",
        "\n",
        "if VISUALIZATION:\n",
        "  feature_logs.limit(5).show(truncate=False)"
      ],
      "metadata": {
        "id": "N1b3xA4FDg55",
        "colab": {
          "base_uri": "https://localhost:8080/"
        },
        "outputId": "d93ab956-c307-4959-9f86-c3dbff242239"
      },
      "execution_count": 29,
      "outputs": [
        {
          "output_type": "stream",
          "name": "stdout",
          "text": [
            "+----------+----------+------------------------+--------------------------+-------------------------+--------------------+------------------+---------------------------+-------------------------------+------------------------+----------------+------------------------+--------------------------+------------------------------------+------------------------------+------------------------+-----------------+------------------------+------------------------+------------------+---------------------+-----------------------+--------------+---------------------------+----------------------------+--------------------------+--------------------------+------------------------+-----------------------------+----------+------------------------+--------------------+------------+-------------------------------------------------------------+---------------------------------------------------------------------------------------------------------------------------------------------------------------------------------------------+\n",
            "|process_id|ad_server_|american_express_server_|automatic_response_server_|book_availability_server_|bundle_offer_server_|card_check_server_|currency_conversion_server_|customer_history_access_server_|customer_support_server_|discount_server_|express_delivery_server_|external_inventory_server_|fraud_check_american_express_server_|fraud_check_mastercard_server_|fraud_check_visa_server_|gift_wrap_server_|inventory_update_server_|limit_check_visa_server_|mastercard_server_|purchase_book_server_|review_analysis_server_|review_server_|review_verification_server_|seasonal_adjustments_server_|second_hand_market_server_|shipping_insurance_server_|shipping_options_server_|supplier_notification_server_|ui_server_|user_credentials_server_|user_history_server_|visa_server_|scaled_features                                              |features                                                                                                                                                                                     |\n",
            "+----------+----------+------------------------+--------------------------+-------------------------+--------------------+------------------+---------------------------+-------------------------------+------------------------+----------------+------------------------+--------------------------+------------------------------------+------------------------------+------------------------+-----------------+------------------------+------------------------+------------------+---------------------+-----------------------+--------------+---------------------------+----------------------------+--------------------------+--------------------------+------------------------+-----------------------------+----------+------------------------+--------------------+------------+-------------------------------------------------------------+---------------------------------------------------------------------------------------------------------------------------------------------------------------------------------------------+\n",
            "|9         |0         |0                       |0                         |1                        |0                   |1                 |1                          |0                              |0                       |0               |0                       |0                         |0                                   |0                             |0                       |0                |1                       |0                       |1                 |1                    |0                      |1             |0                          |0                           |0                         |0                         |1                       |0                            |1         |1                       |0                   |0           |[0.20363363792118788,0.5914591472329411,0.0]                 |(35,[3,5,6,16,18,19,21,26,28,29,32,33],[1.0,1.0,1.0,1.0,1.0,1.0,1.0,1.0,1.0,1.0,0.20363363792118788,0.5914591472329411])                                                                     |\n",
            "|16        |1         |0                       |0                         |1                        |0                   |1                 |1                          |0                              |1                       |0               |0                       |0                         |0                                   |0                             |0                       |0                |1                       |1                       |0                 |1                    |1                      |1             |1                          |1                           |0                         |0                         |1                       |1                            |1         |1                       |0                   |1           |[0.2961165048543689,0.44738114069777657,0.4117647058823529]  |(35,[0,3,5,6,8,16,17,19,20,21,22,23,26,27,28,29,31,32,33,34],[1.0,1.0,1.0,1.0,1.0,1.0,1.0,1.0,1.0,1.0,1.0,1.0,1.0,1.0,1.0,1.0,1.0,0.2961165048543689,0.44738114069777657,0.4117647058823529])|\n",
            "|4         |1         |0                       |0                         |1                        |1                   |1                 |1                          |1                              |1                       |1               |1                       |1                         |0                                   |0                             |1                       |1                |1                       |1                       |0                 |1                    |1                      |1             |1                          |1                           |1                         |1                         |1                       |1                            |1         |1                       |1                   |1           |[1.0,0.9999999999999999,1.0]                                 |[1.0,0.0,0.0,1.0,1.0,1.0,1.0,1.0,1.0,1.0,1.0,1.0,0.0,0.0,1.0,1.0,1.0,1.0,0.0,1.0,1.0,1.0,1.0,1.0,1.0,1.0,1.0,1.0,1.0,1.0,1.0,1.0,1.0,0.9999999999999999,1.0]                                 |\n",
            "|1         |1         |0                       |1                         |1                        |1                   |1                 |1                          |0                              |1                       |1               |1                       |1                         |0                                   |0                             |1                       |1                |1                       |1                       |0                 |1                    |1                      |1             |1                          |1                           |1                         |1                         |1                       |1                            |1         |1                       |1                   |1           |[0.43692889777270133,0.3761534405483786,1.0]                 |[1.0,0.0,1.0,1.0,1.0,1.0,1.0,0.0,1.0,1.0,1.0,1.0,0.0,0.0,1.0,1.0,1.0,1.0,0.0,1.0,1.0,1.0,1.0,1.0,1.0,1.0,1.0,1.0,1.0,1.0,1.0,1.0,0.43692889777270133,0.3761534405483786,1.0]                 |\n",
            "|8         |0         |0                       |0                         |1                        |0                   |1                 |1                          |0                              |0                       |0               |0                       |0                         |0                                   |1                             |0                       |0                |1                       |0                       |1                 |1                    |0                      |1             |0                          |0                           |0                         |0                         |1                       |0                            |1         |1                       |0                   |0           |[0.25985151342090235,0.6717637753756921,0.058823529411764705]|(35,[3,5,6,13,16,18,19,21,26,28,29,32,33,34],[1.0,1.0,1.0,1.0,1.0,1.0,1.0,1.0,1.0,1.0,1.0,0.25985151342090235,0.6717637753756921,0.058823529411764705])                                      |\n",
            "+----------+----------+------------------------+--------------------------+-------------------------+--------------------+------------------+---------------------------+-------------------------------+------------------------+----------------+------------------------+--------------------------+------------------------------------+------------------------------+------------------------+-----------------+------------------------+------------------------+------------------+---------------------+-----------------------+--------------+---------------------------+----------------------------+--------------------------+--------------------------+------------------------+-----------------------------+----------+------------------------+--------------------+------------+-------------------------------------------------------------+---------------------------------------------------------------------------------------------------------------------------------------------------------------------------------------------+\n",
            "\n"
          ]
        }
      ]
    },
    {
      "cell_type": "markdown",
      "source": [
        "### 1.4 Reduce features to 2D using PCA"
      ],
      "metadata": {
        "id": "bpwvleAYwU2e"
      }
    },
    {
      "cell_type": "code",
      "source": [
        "  pca = PCA_Spark(k=2, inputCol='features', outputCol='pca_features')\n",
        "  pca_model = pca.fit(feature_logs)\n",
        "  feature_logs = pca_model.transform(feature_logs)\n",
        "\n",
        "  if VISUALIZATION:\n",
        "    feature_logs.limit(5).show(truncate=False)"
      ],
      "metadata": {
        "colab": {
          "base_uri": "https://localhost:8080/"
        },
        "id": "fLyyDOMJuUo5",
        "outputId": "fbd413cf-5910-4c2d-9a86-5db1a6732feb"
      },
      "execution_count": 30,
      "outputs": [
        {
          "output_type": "stream",
          "name": "stdout",
          "text": [
            "+----------+----------+------------------------+--------------------------+-------------------------+--------------------+------------------+---------------------------+-------------------------------+------------------------+----------------+------------------------+--------------------------+------------------------------------+------------------------------+------------------------+-----------------+------------------------+------------------------+------------------+---------------------+-----------------------+--------------+---------------------------+----------------------------+--------------------------+--------------------------+------------------------+-----------------------------+----------+------------------------+--------------------+------------+-------------------------------------------------------------+---------------------------------------------------------------------------------------------------------------------------------------------------------------------------------------------+------------------------------------------+\n",
            "|process_id|ad_server_|american_express_server_|automatic_response_server_|book_availability_server_|bundle_offer_server_|card_check_server_|currency_conversion_server_|customer_history_access_server_|customer_support_server_|discount_server_|express_delivery_server_|external_inventory_server_|fraud_check_american_express_server_|fraud_check_mastercard_server_|fraud_check_visa_server_|gift_wrap_server_|inventory_update_server_|limit_check_visa_server_|mastercard_server_|purchase_book_server_|review_analysis_server_|review_server_|review_verification_server_|seasonal_adjustments_server_|second_hand_market_server_|shipping_insurance_server_|shipping_options_server_|supplier_notification_server_|ui_server_|user_credentials_server_|user_history_server_|visa_server_|scaled_features                                              |features                                                                                                                                                                                     |pca_features                              |\n",
            "+----------+----------+------------------------+--------------------------+-------------------------+--------------------+------------------+---------------------------+-------------------------------+------------------------+----------------+------------------------+--------------------------+------------------------------------+------------------------------+------------------------+-----------------+------------------------+------------------------+------------------+---------------------+-----------------------+--------------+---------------------------+----------------------------+--------------------------+--------------------------+------------------------+-----------------------------+----------+------------------------+--------------------+------------+-------------------------------------------------------------+---------------------------------------------------------------------------------------------------------------------------------------------------------------------------------------------+------------------------------------------+\n",
            "|9         |0         |0                       |0                         |1                        |0                   |1                 |1                          |0                              |0                       |0               |0                       |0                         |0                                   |0                             |0                       |0                |1                       |0                       |1                 |1                    |0                      |1             |0                          |0                           |0                         |0                         |1                       |0                            |1         |1                       |0                   |0           |[0.20363363792118788,0.5914591472329411,0.0]                 |(35,[3,5,6,16,18,19,21,26,28,29,32,33],[1.0,1.0,1.0,1.0,1.0,1.0,1.0,1.0,1.0,1.0,0.20363363792118788,0.5914591472329411])                                                                     |[0.17737723863561508,-0.02883933794743747]|\n",
            "|16        |1         |0                       |0                         |1                        |0                   |1                 |1                          |0                              |1                       |0               |0                       |0                         |0                                   |0                             |0                       |0                |1                       |1                       |0                 |1                    |1                      |1             |1                          |1                           |0                         |0                         |1                       |1                            |1         |1                       |0                   |1           |[0.2961165048543689,0.44738114069777657,0.4117647058823529]  |(35,[0,3,5,6,8,16,17,19,20,21,22,23,26,27,28,29,31,32,33,34],[1.0,1.0,1.0,1.0,1.0,1.0,1.0,1.0,1.0,1.0,1.0,1.0,1.0,1.0,1.0,1.0,1.0,0.2961165048543689,0.44738114069777657,0.4117647058823529])|[-2.1515442696340297,1.5952457744581376]  |\n",
            "|4         |1         |0                       |0                         |1                        |1                   |1                 |1                          |1                              |1                       |1               |1                       |1                         |0                                   |0                             |1                       |1                |1                       |1                       |0                 |1                    |1                      |1             |1                          |1                           |1                         |1                         |1                       |1                            |1         |1                       |1                   |1           |[1.0,0.9999999999999999,1.0]                                 |[1.0,0.0,0.0,1.0,1.0,1.0,1.0,1.0,1.0,1.0,1.0,1.0,0.0,0.0,1.0,1.0,1.0,1.0,0.0,1.0,1.0,1.0,1.0,1.0,1.0,1.0,1.0,1.0,1.0,1.0,1.0,1.0,1.0,0.9999999999999999,1.0]                                 |[-4.268360480523161,-0.4175644675792162]  |\n",
            "|1         |1         |0                       |1                         |1                        |1                   |1                 |1                          |0                              |1                       |1               |1                       |1                         |0                                   |0                             |1                       |1                |1                       |1                       |0                 |1                    |1                      |1             |1                          |1                           |1                         |1                         |1                       |1                            |1         |1                       |1                   |1           |[0.43692889777270133,0.3761534405483786,1.0]                 |[1.0,0.0,1.0,1.0,1.0,1.0,1.0,0.0,1.0,1.0,1.0,1.0,0.0,0.0,1.0,1.0,1.0,1.0,0.0,1.0,1.0,1.0,1.0,1.0,1.0,1.0,1.0,1.0,1.0,1.0,1.0,1.0,0.43692889777270133,0.3761534405483786,1.0]                 |[-4.133561457785324,-0.5872042051504008]  |\n",
            "|8         |0         |0                       |0                         |1                        |0                   |1                 |1                          |0                              |0                       |0               |0                       |0                         |0                                   |1                             |0                       |0                |1                       |0                       |1                 |1                    |0                      |1             |0                          |0                           |0                         |0                         |1                       |0                            |1         |1                       |0                   |0           |[0.25985151342090235,0.6717637753756921,0.058823529411764705]|(35,[3,5,6,13,16,18,19,21,26,28,29,32,33,34],[1.0,1.0,1.0,1.0,1.0,1.0,1.0,1.0,1.0,1.0,1.0,0.25985151342090235,0.6717637753756921,0.058823529411764705])                                      |[0.21736090977157158,-0.03618311916949985]|\n",
            "+----------+----------+------------------------+--------------------------+-------------------------+--------------------+------------------+---------------------------+-------------------------------+------------------------+----------------+------------------------+--------------------------+------------------------------------+------------------------------+------------------------+-----------------+------------------------+------------------------+------------------+---------------------+-----------------------+--------------+---------------------------+----------------------------+--------------------------+--------------------------+------------------------+-----------------------------+----------+------------------------+--------------------+------------+-------------------------------------------------------------+---------------------------------------------------------------------------------------------------------------------------------------------------------------------------------------------+------------------------------------------+\n",
            "\n"
          ]
        }
      ]
    },
    {
      "cell_type": "markdown",
      "source": [
        "## Step 2. Cluster using Bisecting K-means"
      ],
      "metadata": {
        "id": "4Gvhk_KvbZHU"
      }
    },
    {
      "cell_type": "markdown",
      "source": [
        "### 2.1 Cluster features several times with batches to find optimal k with Elbow method"
      ],
      "metadata": {
        "id": "mwfD9kn-aAFb"
      }
    },
    {
      "cell_type": "code",
      "source": [
        "# Define the range of k values to test\n",
        "batch_size = 10\n",
        "min_k = 2\n",
        "max_k = logs.count()\n",
        "# Ensure batch size of k for correct elbow method results\n",
        "k_values = list(range(min_k, max(max_k + 1, min_k + batch_size)))\n",
        "print(f'Search for k: {k_values}')\n",
        "\n",
        "# Function to run the clustering in batches\n",
        "def run_batches(k_values, batch_size, features='features'):\n",
        "    wssse_values = []\n",
        "    previous_optimal_k = None\n",
        "    while k_values:\n",
        "        batch_k = k_values[:batch_size]\n",
        "        k_values = k_values[batch_size:]\n",
        "\n",
        "        for k in batch_k:\n",
        "            kmeans = BisectingKMeans(k=k, seed=50, featuresCol=features)\n",
        "            model = kmeans.fit(feature_logs)\n",
        "            wssse = model.summary.trainingCost\n",
        "            wssse_values.append((k, wssse))\n",
        "\n",
        "        # Extract K and WSSSE values\n",
        "        k_vals, wssse_vals = zip(*wssse_values)\n",
        "\n",
        "        # Use the Kneedle algorithm to find the elbow point\n",
        "        kneedle = KneeLocator(k_vals, wssse_vals, curve='convex', direction='decreasing')\n",
        "        optimal_k = kneedle.knee\n",
        "\n",
        "        if optimal_k == previous_optimal_k:\n",
        "            break\n",
        "        previous_optimal_k = optimal_k\n",
        "\n",
        "    return optimal_k, k_vals, wssse_vals\n",
        "\n",
        "# Run the clustering in batches\n",
        "optimal_k_nonpca, k_vals_nonpca, wssse_vals_nonpca = run_batches(k_values, batch_size)\n",
        "print(f'The optimal number of clusters with normal features is: {optimal_k_nonpca}')\n",
        "\n",
        "if VISUALIZATION:\n",
        "  # Plot the WSSSE values against the k values\n",
        "  plt.figure(figsize=(8, 6))\n",
        "  plt.plot(k_vals_nonpca, wssse_vals_nonpca, 'bx-')\n",
        "  plt.xlabel('Number of clusters (k)')\n",
        "  plt.xticks(k_vals_nonpca)\n",
        "  plt.ylabel('WSSSE')\n",
        "  plt.title('Elbow Method For Optimal k')\n",
        "  plt.show()"
      ],
      "metadata": {
        "id": "xDG50SVQDg4K",
        "colab": {
          "base_uri": "https://localhost:8080/",
          "height": 599
        },
        "outputId": "40a6f0f4-e1cf-40bf-acd5-178a48cae870"
      },
      "execution_count": 31,
      "outputs": [
        {
          "output_type": "stream",
          "name": "stdout",
          "text": [
            "Search for k: [2, 3, 4, 5, 6, 7, 8, 9, 10, 11]\n",
            "The optimal number of clusters with normal features is: 5\n"
          ]
        },
        {
          "output_type": "display_data",
          "data": {
            "text/plain": [
              "<Figure size 800x600 with 1 Axes>"
            ],
            "image/png": "[encoded data removed]"
          },
          "metadata": {}
        }
      ]
    },
    {
      "cell_type": "markdown",
      "source": [
        "### 2.2 Cluster PCA features several times with batches to find optimal k with Elbow method"
      ],
      "metadata": {
        "id": "WLkdpv4KyIIO"
      }
    },
    {
      "cell_type": "code",
      "source": [
        "# Ensure batch size of k for correct elbow method results\n",
        "k_values = list(range(min_k, max(max_k + 1, min_k + batch_size)))\n",
        "print(f'Search for k: {k_values}')\n",
        "\n",
        "# Run the clustering in batches\n",
        "optimal_k_pca, k_vals_pca, wssse_vals_pca = run_batches(k_values, batch_size, features=\"pca_features\")\n",
        "print(f'The optimal number of clusters with 2D PCA features is: {optimal_k_pca}')\n",
        "\n",
        "if VISUALIZATION:\n",
        "  # Plot the WSSSE values against the k values\n",
        "  plt.figure(figsize=(8, 6))\n",
        "  plt.plot(k_vals_pca, wssse_vals_pca, 'bx-')\n",
        "  plt.xlabel('Number of clusters (k)')\n",
        "  plt.xticks(k_vals_pca)\n",
        "  plt.ylabel('WSSSE')\n",
        "  plt.title('Elbow Method For Optimal k with 2D PCA features')\n",
        "  plt.show()"
      ],
      "metadata": {
        "colab": {
          "base_uri": "https://localhost:8080/",
          "height": 599
        },
        "id": "dJj7ZLERwtiS",
        "outputId": "62478447-4e7b-41a7-98b4-beb6c7fbdbc4"
      },
      "execution_count": 32,
      "outputs": [
        {
          "output_type": "stream",
          "name": "stdout",
          "text": [
            "Search for k: [2, 3, 4, 5, 6, 7, 8, 9, 10, 11]\n",
            "The optimal number of clusters with 2D PCA features is: 4\n"
          ]
        },
        {
          "output_type": "display_data",
          "data": {
            "text/plain": [
              "<Figure size 800x600 with 1 Axes>"
            ],
            "image/png": "[encoded data removed]"
          },
          "metadata": {}
        }
      ]
    },
    {
      "cell_type": "markdown",
      "source": [
        "### 2.3 Choose optimal k and best features"
      ],
      "metadata": {
        "id": "N8hUtjMpySS0"
      }
    },
    {
      "cell_type": "code",
      "source": [
        "# Smaller k and less error preferred\n",
        "k_idx_nonpca = k_vals_nonpca.index(optimal_k_nonpca)\n",
        "k_idx_pca = k_vals_pca.index(optimal_k_pca)\n",
        "if optimal_k_nonpca <= optimal_k_pca and wssse_vals_nonpca[k_idx_nonpca] <= wssse_vals_pca[k_idx_pca]:\n",
        "  optimal_k = optimal_k_nonpca\n",
        "  features = 'features'\n",
        "  print(f'The optimal number of clusters is {optimal_k_nonpca} and uses normal features')\n",
        "else:\n",
        "  optimal_k = optimal_k_pca\n",
        "  features = 'pca_features'\n",
        "  print(f'The optimal number of clusters is {optimal_k_pca} and uses 2D PCA features')"
      ],
      "metadata": {
        "colab": {
          "base_uri": "https://localhost:8080/"
        },
        "id": "mANwo_jizE08",
        "outputId": "a4f4608c-be44-4bbc-91a8-37e2569e16dc"
      },
      "execution_count": 33,
      "outputs": [
        {
          "output_type": "stream",
          "name": "stdout",
          "text": [
            "The optimal number of clusters is 4 and uses 2D PCA features\n"
          ]
        }
      ]
    },
    {
      "cell_type": "markdown",
      "source": [
        "### 2.4 Cluster with optimal k and best features"
      ],
      "metadata": {
        "id": "_q3uke22bu9T"
      }
    },
    {
      "cell_type": "code",
      "source": [
        "# Train the final model using the optimal k\n",
        "kmeans = BisectingKMeans(k=optimal_k, seed=123, featuresCol=features)\n",
        "model = kmeans.fit(feature_logs)\n",
        "\n",
        "# Make predictions\n",
        "predictions = model.transform(feature_logs)\n",
        "\n",
        "# Show cluster centers\n",
        "\"\"\"\n",
        "print(\"Cluster Centers:\")\n",
        "centers = model.clusterCenters()\n",
        "for idx, center in enumerate(centers):\n",
        "    print(f\"Cluster {idx}: {center}\")\n",
        "\"\"\"\n",
        "\n",
        "# Group predictions\n",
        "grouped_predictions = predictions.groupBy('prediction').agg(collect_list('process_id').alias('process_ids')).orderBy('prediction', ascending=True)\n",
        "\n",
        "# Show predictions\n",
        "if VISUALIZATION:\n",
        "  predictions.select('process_id', 'prediction').show()\n",
        "  grouped_predictions.show(truncate=False)"
      ],
      "metadata": {
        "id": "JVyzfIj_Dg1u",
        "colab": {
          "base_uri": "https://localhost:8080/"
        },
        "outputId": "211d13ff-be4a-4052-8ddd-784ae086d233"
      },
      "execution_count": 34,
      "outputs": [
        {
          "output_type": "stream",
          "name": "stdout",
          "text": [
            "+----------+----------+\n",
            "|process_id|prediction|\n",
            "+----------+----------+\n",
            "|         9|         2|\n",
            "|        16|         3|\n",
            "|         4|         0|\n",
            "|         1|         0|\n",
            "|         8|         2|\n",
            "|        19|         3|\n",
            "|         6|         2|\n",
            "|        11|         1|\n",
            "|         7|         2|\n",
            "+----------+----------+\n",
            "\n",
            "+----------+------------+\n",
            "|prediction|process_ids |\n",
            "+----------+------------+\n",
            "|0         |[4, 1]      |\n",
            "|1         |[11]        |\n",
            "|2         |[9, 8, 6, 7]|\n",
            "|3         |[16, 19]    |\n",
            "+----------+------------+\n",
            "\n"
          ]
        }
      ]
    },
    {
      "cell_type": "code",
      "source": [
        "if VISUALIZATION:\n",
        "  # Extract the PCA result and cluster assignments\n",
        "  pca_features = predictions.select('pca_features').rdd.map(lambda row: row[0]).collect()\n",
        "  pca_features = np.array(pca_features)\n",
        "  cluster_assignments = predictions.select('prediction').rdd.map(lambda row: row[0]).collect()\n",
        "\n",
        "  # Plot the PCA result in 2D\n",
        "  plt.figure(figsize=(10, 7))\n",
        "  clusters = np.unique(cluster_assignments)\n",
        "  for cluster in clusters:\n",
        "      cluster_indices = np.where(np.array(cluster_assignments) == cluster)\n",
        "      plt.scatter(pca_features[cluster_indices, 0], pca_features[cluster_indices, 1], label=f'Cluster {cluster}')\n",
        "  plt.xlabel('PCA Component 1')\n",
        "  plt.ylabel('PCA Component 2')\n",
        "  plt.title('PCA of Clustered Data in 2D')\n",
        "  plt.legend()\n",
        "  plt.show()"
      ],
      "metadata": {
        "id": "igjqYTxaDgzi",
        "colab": {
          "base_uri": "https://localhost:8080/",
          "height": 641
        },
        "outputId": "21164ae7-f7bb-4b38-ed81-31d398716402"
      },
      "execution_count": 35,
      "outputs": [
        {
          "output_type": "display_data",
          "data": {
            "text/plain": [
              "<Figure size 1000x700 with 1 Axes>"
            ],
            "image/png": "[encoded data removed]"
          },
          "metadata": {}
        }
      ]
    },
    {
      "cell_type": "markdown",
      "source": [
        "## Step 3. Export part2Observations.txt"
      ],
      "metadata": {
        "id": "4ZUMhUBWcuzH"
      }
    },
    {
      "cell_type": "code",
      "source": [
        "with open(\"part2Observations.txt\", \"w\") as f:\n",
        "    grouped = []\n",
        "    for row in grouped_predictions.collect():\n",
        "        representative_id = row[\"prediction\"]\n",
        "        group_ids = sorted(row[\"process_ids\"])\n",
        "\n",
        "        f.write(f\"Group: {set(group_ids)}\\n\")\n",
        "        for process_id in group_ids:\n",
        "            f.write(f\"{process_id}:\\n\")\n",
        "            # Filter logs directly for the current process_id\n",
        "            process_logs = logs_grouped_not_sorted.filter(col(\"process_id\") == process_id).collect()\n",
        "            for log in process_logs:\n",
        "                from_servers = log['from_servers']\n",
        "                to_servers = log['to_servers']\n",
        "                times = log['times']\n",
        "                actions = log['actions']\n",
        "                process_id_val = log['process_id']\n",
        "\n",
        "                # Iterate through the lists and create log entries\n",
        "                for from_server, to_server, time, action in zip(from_servers, to_servers, times, actions):\n",
        "                    log_str = f\"<{from_server}, {to_server}, {time}, {action}, {process_id_val}>\"\n",
        "                    f.write(f\"\\t\\t\\t{log_str}\\n\")\n",
        "\n",
        "        f.write(\"\\n\")"
      ],
      "metadata": {
        "id": "A_A6xNaPGPpl"
      },
      "execution_count": 36,
      "outputs": []
    }
  ],
  "metadata": {
    "kernelspec": {
      "display_name": "Python 3",
      "language": "python",
      "name": "python3"
    },
    "language_info": {
      "codemirror_mode": {
        "name": "ipython",
        "version": 3
      },
      "file_extension": ".py",
      "mimetype": "text/x-python",
      "name": "python",
      "nbconvert_exporter": "python",
      "pygments_lexer": "ipython3",
      "version": "3.11.0"
    },
    "colab": {
      "provenance": []
    }
  },
  "nbformat": 4,
  "nbformat_minor": 0
}